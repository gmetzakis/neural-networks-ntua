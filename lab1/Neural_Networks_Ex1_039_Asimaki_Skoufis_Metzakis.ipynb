{
  "nbformat": 4,
  "nbformat_minor": 0,
  "metadata": {
    "colab": {
      "name": "Neural_Networks_Ex1_039_Asimaki_Skoufis_Metzakis.ipynb",
      "provenance": [],
      "collapsed_sections": [],
      "toc_visible": true
    },
    "kernelspec": {
      "name": "python3",
      "display_name": "Python 3"
    }
  },
  "cells": [
    {
      "cell_type": "markdown",
      "metadata": {
        "id": "lpiFSkVttg8N"
      },
      "source": [
        "# Στοιχεία Ομάδας"
      ]
    },
    {
      "cell_type": "markdown",
      "metadata": {
        "id": "-apb8lyKtpkr"
      },
      "source": [
        "Α/Α ομάδας: 39\n",
        "\n",
        "Ασημάκη Γεωργία Γρηγορία -- 03116197\n",
        "\n",
        "Μετζάκης Ιωάννης -- 03116202\n",
        "\n",
        "Σκούφης Πέτρος -- 03116141\n",
        "\n",
        "Μικρό Dataset (S12)\n",
        "Μεγάλο Dataset (B06)"
      ]
    },
    {
      "cell_type": "code",
      "metadata": {
        "id": "6taB3ZVxtIsJ"
      },
      "source": [
        "## Μικρό dataset (S12)\n",
        "## Μεγάλο dataset (B06)\n",
        "## Α/Α ομάδας: 39\n",
        "## Ασημάκη Γεωργία Γρηγορία -- 03116197\n",
        "## Μετζάκης Ιωάννης -- 03116202\n",
        "## Σκούφης Πέτρος -- 03116141"
      ],
      "execution_count": 1,
      "outputs": []
    },
    {
      "cell_type": "markdown",
      "metadata": {
        "id": "7eBngFHHuCeP"
      },
      "source": [
        "# S12"
      ]
    },
    {
      "cell_type": "code",
      "metadata": {
        "id": "-HKsmvd1tIsW"
      },
      "source": [
        "import pandas\n",
        "import csv\n",
        "import numpy as np\n",
        "import sklearn\n",
        "import seaborn as sns\n",
        "import matplotlib as mat"
      ],
      "execution_count": null,
      "outputs": []
    },
    {
      "cell_type": "code",
      "metadata": {
        "scrolled": true,
        "id": "7_sywPQrtIsX",
        "outputId": "6791b1b0-a0cf-4c27-c2e1-d76118f2a006"
      },
      "source": [
        "lsvt = pandas.read_csv('LSVT_voice_rehabilitation.csv')\n",
        "lsvt"
      ],
      "execution_count": null,
      "outputs": [
        {
          "output_type": "execute_result",
          "data": {
            "text/html": [
              "<div>\n",
              "<style scoped>\n",
              "    .dataframe tbody tr th:only-of-type {\n",
              "        vertical-align: middle;\n",
              "    }\n",
              "\n",
              "    .dataframe tbody tr th {\n",
              "        vertical-align: top;\n",
              "    }\n",
              "\n",
              "    .dataframe thead th {\n",
              "        text-align: right;\n",
              "    }\n",
              "</style>\n",
              "<table border=\"1\" class=\"dataframe\">\n",
              "  <thead>\n",
              "    <tr style=\"text-align: right;\">\n",
              "      <th></th>\n",
              "      <th>Binary class 1=acceptable, 2=unacceptable</th>\n",
              "      <th>Jitter-&gt;F0_abs_dif</th>\n",
              "      <th>Jitter-&gt;F0_dif_percent</th>\n",
              "      <th>Jitter-&gt;F0_PQ5_classical_Schoentgen</th>\n",
              "      <th>Jitter-&gt;F0_PQ5_classical_Baken</th>\n",
              "      <th>Jitter-&gt;F0_PQ5_generalised_Schoentgen</th>\n",
              "      <th>Jitter-&gt;F0_abs0th_perturb</th>\n",
              "      <th>Jitter-&gt;F0_CV</th>\n",
              "      <th>Jitter-&gt;F0_TKEO_mean</th>\n",
              "      <th>Jitter-&gt;F0_TKEO_std</th>\n",
              "      <th>...</th>\n",
              "      <th>det_TKEO_std4_1_coef</th>\n",
              "      <th>det_TKEO_std4_2_coef</th>\n",
              "      <th>det_TKEO_std4_3_coef</th>\n",
              "      <th>det_TKEO_std4_4_coef</th>\n",
              "      <th>det_TKEO_std4_5_coef</th>\n",
              "      <th>det_TKEO_std4_6_coef</th>\n",
              "      <th>det_TKEO_std4_7_coef</th>\n",
              "      <th>det_TKEO_std4_8_coef</th>\n",
              "      <th>det_TKEO_std4_9_coef</th>\n",
              "      <th>det_TKEO_std4_10_coef</th>\n",
              "    </tr>\n",
              "  </thead>\n",
              "  <tbody>\n",
              "    <tr>\n",
              "      <th>0</th>\n",
              "      <td>1</td>\n",
              "      <td>0.088112</td>\n",
              "      <td>0.041697</td>\n",
              "      <td>0.000480</td>\n",
              "      <td>-3.723304e-06</td>\n",
              "      <td>0.000422</td>\n",
              "      <td>2.458381</td>\n",
              "      <td>6.332164e-07</td>\n",
              "      <td>47.021079</td>\n",
              "      <td>1366.430390</td>\n",
              "      <td>...</td>\n",
              "      <td>2.527583</td>\n",
              "      <td>7.088978</td>\n",
              "      <td>19.753255</td>\n",
              "      <td>54.335046</td>\n",
              "      <td>145.528630</td>\n",
              "      <td>375.097397</td>\n",
              "      <td>921.296579</td>\n",
              "      <td>2137.079844</td>\n",
              "      <td>4697.131077</td>\n",
              "      <td>9931.208257</td>\n",
              "    </tr>\n",
              "    <tr>\n",
              "      <th>1</th>\n",
              "      <td>2</td>\n",
              "      <td>0.161798</td>\n",
              "      <td>0.057364</td>\n",
              "      <td>0.000677</td>\n",
              "      <td>5.466365e-06</td>\n",
              "      <td>0.000206</td>\n",
              "      <td>2.592066</td>\n",
              "      <td>7.228518e-07</td>\n",
              "      <td>93.557936</td>\n",
              "      <td>2582.922776</td>\n",
              "      <td>...</td>\n",
              "      <td>2.841881</td>\n",
              "      <td>7.977363</td>\n",
              "      <td>22.203504</td>\n",
              "      <td>60.993338</td>\n",
              "      <td>163.560972</td>\n",
              "      <td>421.010306</td>\n",
              "      <td>1036.092589</td>\n",
              "      <td>2404.072562</td>\n",
              "      <td>5284.082128</td>\n",
              "      <td>11165.095662</td>\n",
              "    </tr>\n",
              "    <tr>\n",
              "      <th>2</th>\n",
              "      <td>2</td>\n",
              "      <td>0.554508</td>\n",
              "      <td>0.642913</td>\n",
              "      <td>0.007576</td>\n",
              "      <td>-7.443871e-07</td>\n",
              "      <td>0.006488</td>\n",
              "      <td>12.691326</td>\n",
              "      <td>6.946246e-04</td>\n",
              "      <td>52.988422</td>\n",
              "      <td>466.682635</td>\n",
              "      <td>...</td>\n",
              "      <td>1.806103</td>\n",
              "      <td>5.078616</td>\n",
              "      <td>14.135923</td>\n",
              "      <td>38.641654</td>\n",
              "      <td>103.466808</td>\n",
              "      <td>264.654626</td>\n",
              "      <td>649.657090</td>\n",
              "      <td>1507.384591</td>\n",
              "      <td>3315.804236</td>\n",
              "      <td>6974.600636</td>\n",
              "    </tr>\n",
              "    <tr>\n",
              "      <th>3</th>\n",
              "      <td>1</td>\n",
              "      <td>0.031089</td>\n",
              "      <td>0.027108</td>\n",
              "      <td>0.000314</td>\n",
              "      <td>-2.214722e-07</td>\n",
              "      <td>0.000216</td>\n",
              "      <td>0.754288</td>\n",
              "      <td>1.868647e-07</td>\n",
              "      <td>13.982754</td>\n",
              "      <td>417.217249</td>\n",
              "      <td>...</td>\n",
              "      <td>1.999637</td>\n",
              "      <td>5.610448</td>\n",
              "      <td>15.626164</td>\n",
              "      <td>42.943275</td>\n",
              "      <td>115.014975</td>\n",
              "      <td>296.320795</td>\n",
              "      <td>728.284936</td>\n",
              "      <td>1689.586636</td>\n",
              "      <td>3713.818933</td>\n",
              "      <td>7851.139360</td>\n",
              "    </tr>\n",
              "    <tr>\n",
              "      <th>4</th>\n",
              "      <td>2</td>\n",
              "      <td>0.076177</td>\n",
              "      <td>0.039071</td>\n",
              "      <td>0.000302</td>\n",
              "      <td>2.732106e-05</td>\n",
              "      <td>0.001102</td>\n",
              "      <td>1.270034</td>\n",
              "      <td>4.918186e-05</td>\n",
              "      <td>56.373996</td>\n",
              "      <td>1608.317410</td>\n",
              "      <td>...</td>\n",
              "      <td>2.453087</td>\n",
              "      <td>6.902199</td>\n",
              "      <td>19.117609</td>\n",
              "      <td>52.715873</td>\n",
              "      <td>141.113865</td>\n",
              "      <td>363.511021</td>\n",
              "      <td>893.246151</td>\n",
              "      <td>2071.625622</td>\n",
              "      <td>4554.204815</td>\n",
              "      <td>9623.566242</td>\n",
              "    </tr>\n",
              "    <tr>\n",
              "      <th>...</th>\n",
              "      <td>...</td>\n",
              "      <td>...</td>\n",
              "      <td>...</td>\n",
              "      <td>...</td>\n",
              "      <td>...</td>\n",
              "      <td>...</td>\n",
              "      <td>...</td>\n",
              "      <td>...</td>\n",
              "      <td>...</td>\n",
              "      <td>...</td>\n",
              "      <td>...</td>\n",
              "      <td>...</td>\n",
              "      <td>...</td>\n",
              "      <td>...</td>\n",
              "      <td>...</td>\n",
              "      <td>...</td>\n",
              "      <td>...</td>\n",
              "      <td>...</td>\n",
              "      <td>...</td>\n",
              "      <td>...</td>\n",
              "      <td>...</td>\n",
              "    </tr>\n",
              "    <tr>\n",
              "      <th>121</th>\n",
              "      <td>2</td>\n",
              "      <td>0.116214</td>\n",
              "      <td>0.070546</td>\n",
              "      <td>0.000837</td>\n",
              "      <td>2.765074e-06</td>\n",
              "      <td>0.000333</td>\n",
              "      <td>1.890006</td>\n",
              "      <td>9.844257e-07</td>\n",
              "      <td>34.083311</td>\n",
              "      <td>896.672947</td>\n",
              "      <td>...</td>\n",
              "      <td>2.322612</td>\n",
              "      <td>6.527285</td>\n",
              "      <td>18.210931</td>\n",
              "      <td>50.085484</td>\n",
              "      <td>134.123291</td>\n",
              "      <td>345.396264</td>\n",
              "      <td>850.942761</td>\n",
              "      <td>1973.383824</td>\n",
              "      <td>4336.099395</td>\n",
              "      <td>9158.984652</td>\n",
              "    </tr>\n",
              "    <tr>\n",
              "      <th>122</th>\n",
              "      <td>2</td>\n",
              "      <td>0.700258</td>\n",
              "      <td>0.334397</td>\n",
              "      <td>0.003959</td>\n",
              "      <td>8.297261e-06</td>\n",
              "      <td>0.001516</td>\n",
              "      <td>4.557797</td>\n",
              "      <td>1.581899e-05</td>\n",
              "      <td>104.648435</td>\n",
              "      <td>1583.166169</td>\n",
              "      <td>...</td>\n",
              "      <td>2.545596</td>\n",
              "      <td>7.160142</td>\n",
              "      <td>20.081389</td>\n",
              "      <td>55.178858</td>\n",
              "      <td>147.584708</td>\n",
              "      <td>379.897760</td>\n",
              "      <td>935.982559</td>\n",
              "      <td>2166.960428</td>\n",
              "      <td>4769.956102</td>\n",
              "      <td>10067.750435</td>\n",
              "    </tr>\n",
              "    <tr>\n",
              "      <th>123</th>\n",
              "      <td>1</td>\n",
              "      <td>0.072635</td>\n",
              "      <td>0.050743</td>\n",
              "      <td>0.000597</td>\n",
              "      <td>-5.277518e-06</td>\n",
              "      <td>0.000434</td>\n",
              "      <td>6.984651</td>\n",
              "      <td>4.993260e-07</td>\n",
              "      <td>21.859427</td>\n",
              "      <td>625.288493</td>\n",
              "      <td>...</td>\n",
              "      <td>2.189909</td>\n",
              "      <td>6.141876</td>\n",
              "      <td>17.095325</td>\n",
              "      <td>46.893015</td>\n",
              "      <td>125.687344</td>\n",
              "      <td>323.728298</td>\n",
              "      <td>795.715774</td>\n",
              "      <td>1845.609006</td>\n",
              "      <td>4056.256338</td>\n",
              "      <td>8583.121863</td>\n",
              "    </tr>\n",
              "    <tr>\n",
              "      <th>124</th>\n",
              "      <td>2</td>\n",
              "      <td>0.111362</td>\n",
              "      <td>0.054237</td>\n",
              "      <td>0.000646</td>\n",
              "      <td>-1.546671e-06</td>\n",
              "      <td>0.000277</td>\n",
              "      <td>1.935398</td>\n",
              "      <td>4.398078e-07</td>\n",
              "      <td>47.870508</td>\n",
              "      <td>1367.843467</td>\n",
              "      <td>...</td>\n",
              "      <td>2.539158</td>\n",
              "      <td>7.125849</td>\n",
              "      <td>19.849347</td>\n",
              "      <td>54.508453</td>\n",
              "      <td>146.094711</td>\n",
              "      <td>376.377835</td>\n",
              "      <td>926.435019</td>\n",
              "      <td>2147.499571</td>\n",
              "      <td>4717.270683</td>\n",
              "      <td>9966.759379</td>\n",
              "    </tr>\n",
              "    <tr>\n",
              "      <th>125</th>\n",
              "      <td>2</td>\n",
              "      <td>0.256953</td>\n",
              "      <td>0.132694</td>\n",
              "      <td>0.001576</td>\n",
              "      <td>2.252403e-06</td>\n",
              "      <td>0.000708</td>\n",
              "      <td>2.339807</td>\n",
              "      <td>3.050831e-06</td>\n",
              "      <td>52.103851</td>\n",
              "      <td>1124.445571</td>\n",
              "      <td>...</td>\n",
              "      <td>2.441592</td>\n",
              "      <td>6.853709</td>\n",
              "      <td>19.071984</td>\n",
              "      <td>52.318080</td>\n",
              "      <td>140.093685</td>\n",
              "      <td>360.725864</td>\n",
              "      <td>885.933217</td>\n",
              "      <td>2052.423390</td>\n",
              "      <td>4511.560376</td>\n",
              "      <td>9542.064446</td>\n",
              "    </tr>\n",
              "  </tbody>\n",
              "</table>\n",
              "<p>126 rows × 311 columns</p>\n",
              "</div>"
            ],
            "text/plain": [
              "     Binary class 1=acceptable, 2=unacceptable  Jitter->F0_abs_dif  \\\n",
              "0                                            1            0.088112   \n",
              "1                                            2            0.161798   \n",
              "2                                            2            0.554508   \n",
              "3                                            1            0.031089   \n",
              "4                                            2            0.076177   \n",
              "..                                         ...                 ...   \n",
              "121                                          2            0.116214   \n",
              "122                                          2            0.700258   \n",
              "123                                          1            0.072635   \n",
              "124                                          2            0.111362   \n",
              "125                                          2            0.256953   \n",
              "\n",
              "     Jitter->F0_dif_percent  Jitter->F0_PQ5_classical_Schoentgen  \\\n",
              "0                  0.041697                             0.000480   \n",
              "1                  0.057364                             0.000677   \n",
              "2                  0.642913                             0.007576   \n",
              "3                  0.027108                             0.000314   \n",
              "4                  0.039071                             0.000302   \n",
              "..                      ...                                  ...   \n",
              "121                0.070546                             0.000837   \n",
              "122                0.334397                             0.003959   \n",
              "123                0.050743                             0.000597   \n",
              "124                0.054237                             0.000646   \n",
              "125                0.132694                             0.001576   \n",
              "\n",
              "     Jitter->F0_PQ5_classical_Baken  Jitter->F0_PQ5_generalised_Schoentgen  \\\n",
              "0                     -3.723304e-06                               0.000422   \n",
              "1                      5.466365e-06                               0.000206   \n",
              "2                     -7.443871e-07                               0.006488   \n",
              "3                     -2.214722e-07                               0.000216   \n",
              "4                      2.732106e-05                               0.001102   \n",
              "..                              ...                                    ...   \n",
              "121                    2.765074e-06                               0.000333   \n",
              "122                    8.297261e-06                               0.001516   \n",
              "123                   -5.277518e-06                               0.000434   \n",
              "124                   -1.546671e-06                               0.000277   \n",
              "125                    2.252403e-06                               0.000708   \n",
              "\n",
              "     Jitter->F0_abs0th_perturb  Jitter->F0_CV  Jitter->F0_TKEO_mean  \\\n",
              "0                     2.458381   6.332164e-07             47.021079   \n",
              "1                     2.592066   7.228518e-07             93.557936   \n",
              "2                    12.691326   6.946246e-04             52.988422   \n",
              "3                     0.754288   1.868647e-07             13.982754   \n",
              "4                     1.270034   4.918186e-05             56.373996   \n",
              "..                         ...            ...                   ...   \n",
              "121                   1.890006   9.844257e-07             34.083311   \n",
              "122                   4.557797   1.581899e-05            104.648435   \n",
              "123                   6.984651   4.993260e-07             21.859427   \n",
              "124                   1.935398   4.398078e-07             47.870508   \n",
              "125                   2.339807   3.050831e-06             52.103851   \n",
              "\n",
              "     Jitter->F0_TKEO_std  ...  det_TKEO_std4_1_coef  det_TKEO_std4_2_coef  \\\n",
              "0            1366.430390  ...              2.527583              7.088978   \n",
              "1            2582.922776  ...              2.841881              7.977363   \n",
              "2             466.682635  ...              1.806103              5.078616   \n",
              "3             417.217249  ...              1.999637              5.610448   \n",
              "4            1608.317410  ...              2.453087              6.902199   \n",
              "..                   ...  ...                   ...                   ...   \n",
              "121           896.672947  ...              2.322612              6.527285   \n",
              "122          1583.166169  ...              2.545596              7.160142   \n",
              "123           625.288493  ...              2.189909              6.141876   \n",
              "124          1367.843467  ...              2.539158              7.125849   \n",
              "125          1124.445571  ...              2.441592              6.853709   \n",
              "\n",
              "     det_TKEO_std4_3_coef  det_TKEO_std4_4_coef  det_TKEO_std4_5_coef  \\\n",
              "0               19.753255             54.335046            145.528630   \n",
              "1               22.203504             60.993338            163.560972   \n",
              "2               14.135923             38.641654            103.466808   \n",
              "3               15.626164             42.943275            115.014975   \n",
              "4               19.117609             52.715873            141.113865   \n",
              "..                    ...                   ...                   ...   \n",
              "121             18.210931             50.085484            134.123291   \n",
              "122             20.081389             55.178858            147.584708   \n",
              "123             17.095325             46.893015            125.687344   \n",
              "124             19.849347             54.508453            146.094711   \n",
              "125             19.071984             52.318080            140.093685   \n",
              "\n",
              "     det_TKEO_std4_6_coef  det_TKEO_std4_7_coef  det_TKEO_std4_8_coef  \\\n",
              "0              375.097397            921.296579           2137.079844   \n",
              "1              421.010306           1036.092589           2404.072562   \n",
              "2              264.654626            649.657090           1507.384591   \n",
              "3              296.320795            728.284936           1689.586636   \n",
              "4              363.511021            893.246151           2071.625622   \n",
              "..                    ...                   ...                   ...   \n",
              "121            345.396264            850.942761           1973.383824   \n",
              "122            379.897760            935.982559           2166.960428   \n",
              "123            323.728298            795.715774           1845.609006   \n",
              "124            376.377835            926.435019           2147.499571   \n",
              "125            360.725864            885.933217           2052.423390   \n",
              "\n",
              "     det_TKEO_std4_9_coef  det_TKEO_std4_10_coef  \n",
              "0             4697.131077            9931.208257  \n",
              "1             5284.082128           11165.095662  \n",
              "2             3315.804236            6974.600636  \n",
              "3             3713.818933            7851.139360  \n",
              "4             4554.204815            9623.566242  \n",
              "..                    ...                    ...  \n",
              "121           4336.099395            9158.984652  \n",
              "122           4769.956102           10067.750435  \n",
              "123           4056.256338            8583.121863  \n",
              "124           4717.270683            9966.759379  \n",
              "125           4511.560376            9542.064446  \n",
              "\n",
              "[126 rows x 311 columns]"
            ]
          },
          "metadata": {
            "tags": []
          },
          "execution_count": 2
        }
      ]
    },
    {
      "cell_type": "code",
      "metadata": {
        "id": "fTDhBW2dtIsZ",
        "outputId": "9138f7b1-bcf2-4990-e978-2c5e8088285c"
      },
      "source": [
        "print(lsvt.isnull().any().sum())"
      ],
      "execution_count": null,
      "outputs": [
        {
          "output_type": "stream",
          "text": [
            "0\n"
          ],
          "name": "stdout"
        }
      ]
    },
    {
      "cell_type": "code",
      "metadata": {
        "id": "mbGhZqvNtIsa",
        "outputId": "92583973-63b8-42f2-abae-979be8849ea5"
      },
      "source": [
        "print(np.bincount(lsvt['Binary class 1=acceptable, 2=unacceptable']))"
      ],
      "execution_count": null,
      "outputs": [
        {
          "output_type": "stream",
          "text": [
            "[ 0 42 84]\n"
          ],
          "name": "stdout"
        }
      ]
    },
    {
      "cell_type": "markdown",
      "metadata": {
        "id": "fXXpDjU5tIsb"
      },
      "source": [
        "# LSVT_voice_rehabilitation dataset\n",
        "\n",
        "\n",
        "* Το συγκεκριμένο dataset αξιολογεί εάν η θεραπεία αποκατάστασης φωνής οδηγεί σε αποδεκτά ή μη, φωνητικά αποτελέσματα (acceptable, unacceptable). Κάθε χαρακτηριστικό αντιστοιχεί στην εφαρμογή ενός αλγορίθμου επεξεργασίας σήματος ομιλίας που προσπαθεί να χαρακτηρίσει το σήμα. Οι αλγόριθμοι αυτοί περιλαμβάνουν τυπικές μεθόδους ανάλυσης διαταραχών, wavelet-based και frequency-based χαρακτηριστικά, καθώς επίσης και εργαλεία εξαγωγής μη γραμμικών σειρών.\n",
        "\n",
        "\n",
        "* Το dataset αποτελείται από 128 δείγματα, και 310 ποσοτικά χαρακτηριστικά.\n",
        "\n",
        "* Υπάρχουν επικεφαλίδες για κάθε κολόνα, δηλαδή για κάθε χαρακτηριστικό.\n",
        "\n",
        "* Οι ετικέτες των κλάσεων είναι οι '1,2', ενώ βρίσκονται στην 1η κολόνα με επικεφαλίδα \"Binary class 1=acceptable, 2=unacceptable\".\n",
        "\n",
        "* Στο xcel αρχείο που περιείχε το dataset χρειάστηκε να ενώσουμε το sheet των κλάσεων με αυτό των χαρακτηριστικών, και στη συνέχεια να το κάνουμε export to csv.\n",
        "\n",
        "* Δεν υπάρχουν απουσιάζουσες τιμές στο dataset, αφού η ***'lsvt.isnull().any().sum())'*** επιστρέφει 0 (όπου \"lvst\" το dataset).\n",
        "\n",
        "* Από την ***'np.bincount(lsvt['Binary class 1=acceptable, 2=unacceptable'])'*** βλέπουμε πως έχουμε 2 κλάσεις, όπου 42 δείγματα ανήκουν στην κλάση 1, ενώ 84 δείγματα ανήκουν στην κλάση 2. Συνεπώς το dataset είναι μη ισορροπημένο, αφού η κλάση 2 είναι 2 φορές πιο συχνή από την κλάση 1."
      ]
    },
    {
      "cell_type": "code",
      "metadata": {
        "id": "90iDaSQ5tIsb"
      },
      "source": [
        "features_names = (lsvt.columns[1:].to_list())\n",
        "features = lsvt.iloc[:,1:].to_numpy()\n",
        "label_names = ['acceptable','unacceptable']\n",
        "labels = lsvt['Binary class 1=acceptable, 2=unacceptable']"
      ],
      "execution_count": null,
      "outputs": []
    },
    {
      "cell_type": "markdown",
      "metadata": {
        "id": "CKXV5AC1tIsc"
      },
      "source": [
        "Επεξεργαζόμαστε κατάλληλα τις γραμμές και στήλες του dataset, και στη συνέχεια το χωρίζουμε σε train και test set, με μέγεθος test set 20%.\n",
        "\n",
        "Για την ταξινόμηση θα εξετάσουμε τους ταξινομητές **dummy, Gaussian Naive Bayes, kNN**, ενώ για την επιλογή του μοντέλου θα χρησιμοποιήσουμε τις μετρικές **f1_micro** και **f1_macro**."
      ]
    },
    {
      "cell_type": "code",
      "metadata": {
        "id": "02lHDMkvtIsc"
      },
      "source": [
        "from sklearn.model_selection import train_test_split\n",
        "\n",
        "X_train, X_test, y_train, y_test = train_test_split(features, labels, test_size=0.2, random_state=2)"
      ],
      "execution_count": null,
      "outputs": []
    },
    {
      "cell_type": "markdown",
      "metadata": {
        "id": "vZ37AtXrtIsf"
      },
      "source": [
        "Αρχικά θα εξετάσουμε τον **dummy** ταξινομητή.\n",
        "\n",
        "Ο ταξινομητής dummy δεν επιδέχεται βελτίωσης, καθώς δεν μπορεί να αντλήσει πληροφορίες από τα χαρακτηριστικά του dataset. Παρ' όλα αυτά, δέχεται διάφορες τακτικές ταξινόμησης. Για αυτό το λόγο, θα κάνουμε cross validation για να βρούμε ποιά είναι η βέλτιστη για κάθε μετρική, και θα τη χρησιμοποιήσουμε για τους υπολογισμούς μας."
      ]
    },
    {
      "cell_type": "code",
      "metadata": {
        "id": "9C0YkCgPtIsf",
        "outputId": "b3f95e1f-9c74-45fd-f592-6a0a2fc9a0a1"
      },
      "source": [
        "from sklearn.dummy import DummyClassifier\n",
        "from sklearn.metrics import confusion_matrix, accuracy_score, f1_score\n",
        "from sklearn.metrics import classification_report\n",
        "from sklearn.model_selection import cross_val_score\n",
        "\n",
        "dc_uniform = DummyClassifier(strategy=\"uniform\")\n",
        "dc_constant_1 = DummyClassifier(strategy=\"constant\", constant=1)\n",
        "dc_constant_2 = DummyClassifier(strategy=\"constant\", constant=2)\n",
        "dc_most_frequent = DummyClassifier(strategy=\"most_frequent\")\n",
        "dc_stratified = DummyClassifier(strategy=\"stratified\")\n",
        "\n",
        "tactics = [dc_uniform, dc_constant_1, dc_constant_2, dc_most_frequent, dc_stratified]\n",
        "metrics = ['f1_micro', 'f1_macro']\n",
        "average_f1 = ['micro','macro']\n",
        "f1_score_dummy = []\n",
        "\n",
        "for j in range(0,2):\n",
        "    cv_score = []\n",
        "    for i in tactics:\n",
        "        score = cross_val_score(i,X_train,y_train,cv=10, scoring=metrics[j]).mean()\n",
        "        cv_score.append(score)\n",
        "\n",
        "    ideal = tactics[cv_score.index(max(cv_score))]\n",
        "\n",
        "\n",
        "    ideal.fit(X_train,y_train)\n",
        "    preds = ideal.predict(X_test)\n",
        "    cnf_matrix = confusion_matrix(y_test, preds)\n",
        "    f1_score_dummy.append(f1_score(y_test,preds,average=average_f1[j]))\n",
        "\n",
        "    print(\"Βέλτιστη τεχνική με χρήση μετρικής '%s': \" %metrics[j],ideal)\n",
        "    print(\"\\nΠίνακας Σύγχησης:\", '\\n',cnf_matrix)\n",
        "    print(\"\\n%s average: \" %metrics[j], f1_score_dummy[j])\n",
        "    print('\\n',classification_report(y_test, preds, target_names=label_names))\n",
        "    print('\\n\\n')\n"
      ],
      "execution_count": null,
      "outputs": [
        {
          "output_type": "stream",
          "text": [
            "Βέλτιστη τεχνική με χρήση μετρικής 'f1_micro':  DummyClassifier(constant=2, strategy='constant')\n",
            "\n",
            "Πίνακας Σύγχησης: \n",
            " [[ 0 10]\n",
            " [ 0 16]]\n",
            "\n",
            "f1_micro average:  0.6153846153846154\n",
            "\n",
            "               precision    recall  f1-score   support\n",
            "\n",
            "  acceptable       0.00      0.00      0.00        10\n",
            "unacceptable       0.62      1.00      0.76        16\n",
            "\n",
            "    accuracy                           0.62        26\n",
            "   macro avg       0.31      0.50      0.38        26\n",
            "weighted avg       0.38      0.62      0.47        26\n",
            "\n",
            "\n",
            "\n",
            "\n",
            "Βέλτιστη τεχνική με χρήση μετρικής 'f1_macro':  DummyClassifier(strategy='stratified')\n",
            "\n",
            "Πίνακας Σύγχησης: \n",
            " [[ 3  7]\n",
            " [ 6 10]]\n",
            "\n",
            "f1_macro average:  0.4609250398724083\n",
            "\n",
            "               precision    recall  f1-score   support\n",
            "\n",
            "  acceptable       0.33      0.30      0.32        10\n",
            "unacceptable       0.59      0.62      0.61        16\n",
            "\n",
            "    accuracy                           0.50        26\n",
            "   macro avg       0.46      0.46      0.46        26\n",
            "weighted avg       0.49      0.50      0.49        26\n",
            "\n",
            "\n",
            "\n",
            "\n"
          ],
          "name": "stdout"
        },
        {
          "output_type": "stream",
          "text": [
            "/home/giannismetz/anaconda3/lib/python3.8/site-packages/sklearn/metrics/_classification.py:1221: UndefinedMetricWarning: Precision and F-score are ill-defined and being set to 0.0 in labels with no predicted samples. Use `zero_division` parameter to control this behavior.\n",
            "  _warn_prf(average, modifier, msg_start, len(result))\n"
          ],
          "name": "stderr"
        }
      ]
    },
    {
      "cell_type": "markdown",
      "metadata": {
        "id": "eLjkqqTMtIsg"
      },
      "source": [
        "## Λίγα σχόλια\n",
        "\n",
        "Για την πρώτη στρατηγική (constant 2) έχουμε μηδενικά precision και recall στην κλάση 1, πράγμα απόλυτως λογικό αφού ο ταξινομητής προβέπει αποκλεισιτκά από την κλάση 2. Επομένως, έτσι εξηγείται και το recall = 1 της κλάσης 2, αφού λόγω της πρόβλεψης αποκλειστικά από την κλάση 2, δεν υπάρχουν false negatives.\n",
        "\n",
        "Παρατηρούμε γενικότερα πως, όπως αναμέναμε, ο dummy ταξινομητής έχει αρκετά χαμηλή απόδοση.\n"
      ]
    },
    {
      "cell_type": "markdown",
      "metadata": {
        "id": "M5SmkONhtIsh"
      },
      "source": [
        "Στη συνέχεια εξετάζουμε τους ταξινομητές **Gaussian Naive Bayes** και **kNN**.\n",
        "\n",
        "Αρχικά φορτώνουμε όλες τις απαραίτητες βιβλιοθήκες και ορίζουμε τους προς εξέταση μετασχηματιστές για την προεπεξεργασία (όπως δίνονται στα notebooks του εργαστηρίου)."
      ]
    },
    {
      "cell_type": "code",
      "metadata": {
        "id": "lm63CIVWtIsj"
      },
      "source": [
        "#from sklearn.pipeline import Pipeline\n",
        "from imblearn.pipeline import Pipeline\n",
        "from sklearn.naive_bayes import GaussianNB\n",
        "from sklearn.neighbors import KNeighborsClassifier\n",
        "import time\n",
        "\n",
        "\n",
        "# φέρνουμε τις γνωστές μας κλάσεις για preprocessing\n",
        "from sklearn.feature_selection import VarianceThreshold\n",
        "from sklearn.preprocessing import StandardScaler # φέρνουμε τον StandarScaler ως transformer που έχει .transform kai ΄όχι ως scale()\n",
        "from sklearn.preprocessing import MinMaxScaler\n",
        "from imblearn.over_sampling import RandomOverSampler\n",
        "from sklearn.decomposition import PCA\n",
        "from sklearn.model_selection import GridSearchCV\n",
        "\n",
        "# αρχικοποιούμε τον εκτιμητή (ταξινομητής) και τους μετασχηματιστές χωρίς υπερ-παραμέτρους\n",
        "selector = VarianceThreshold()\n",
        "#scaler = StandardScaler()\n",
        "scaler = MinMaxScaler()\n",
        "ros = RandomOverSampler()\n",
        "pca = PCA()\n",
        "gnb = GaussianNB()\n",
        "clf = KNeighborsClassifier(n_jobs=-1)"
      ],
      "execution_count": null,
      "outputs": []
    },
    {
      "cell_type": "markdown",
      "metadata": {
        "id": "tBwD4qTftIsj"
      },
      "source": [
        "Και για τους 2 ταξινομητές θα χρησιμοποίησουμε απαραίτητα τον RandomOverSampler, καθώς έχουμε μη ισορροπημένο dataset, ενώ δεν έχουμε αρκετά δείγματα ώστε να είναι δυνατή η αφαίρεση κάποιων δειγμάτων από την συχνότερη κλάση.\n",
        "\n",
        "Επίσης, θα κάνουμε κανονικοποίηση των χαρακτηριστικών με χρήση του MinMaxScaler, καθώς βλέπουμε πολύ υψηλές τιμές στο variance, πράγμα που καθιστά δυσκολότερη την εκπαίδευση του εκτιμητή.                       \n",
        "Συγκεκριμένα, η ***np.mean(X_train.var(axis=0))*** επιστρέφει 8.867086483933294e+17."
      ]
    },
    {
      "cell_type": "markdown",
      "metadata": {
        "id": "oAIw4W3ZtIsm"
      },
      "source": [
        "\n",
        "# Βελτιστοποίηση υπερπαραμέτρων\n",
        "\n",
        "Για τους 2 εκτιμητές, υπολογίσαμε την επίδοσή τους πριν και μετά τη βελτιστοποίηση των παραμέτρων είτε των ταξινομητών (kNN), είτε των μετασχηματιστών (scaler, selector, pca). \n",
        "\n",
        "Για τη βελτιστοποίηση των παραπάνω παραμέτρων κάναμε χρήση της GridSearchCV, όπου ξεκινώντας από ένα ευρύ φάσμα τιμών για κάθε υπερπαράμετρο, εστιάζαμε επαναληπτικά στο βέλτιστο κάθε φορά υποσύνολο, περιορίζοντας έτσι την αναζήτηση, έως ότου δε βλέπαμε καμία βελτίωση. \n",
        "\n",
        "Για την εύρεση των βέλτιστων υπερπαραμέτρων και του ιδανικού συνδιασμού μετασχηματιστών μέσω της GridSearchCV, χρησιμοποιήσαμε 10-fold cross-validation.\n",
        "\n",
        "Οι αρχικές τιμές που δοκιμάσαμε ήταν οι εξής:\n",
        "\n",
        "* vthreshold = [0.01, 0.02, 0.03, 0.04, 0.05]\n",
        "* n_components = [10, 20, 30, 40, 50, 60]\n",
        "* k = [1, 6, 11, 21, 31, 41]\n",
        "\n",
        "To block κώδικα που τρέχαμε επαναληπτικά είναι το παρακάτω:"
      ]
    },
    {
      "cell_type": "code",
      "metadata": {
        "id": "WjlIWGVMtIsm"
      },
      "source": [
        "'''\n",
        "vthreshold = [0.01, 0.02, 0.03, 0.04, 0.05]\n",
        "n_components = [10, 20, 30, 40, 50, 60]\n",
        "k = [1, 6, 11, 21, 31, 41]\n",
        "\n",
        "estimator = GridSearchCV(pipe, dict(selector__threshold=vthreshold, pca__n_components = n_components, kNN__n_neighbors=k), cv=10, scoring='f1_micro', n_jobs=-1)\n",
        "\n",
        "\n",
        "import time\n",
        "start_time = time.time()\n",
        "estimator.fit(X_train, y_train)\n",
        "preds = estimator.predict(X_test)\n",
        "print(\"Συνολικός χρόνος fit και predict: %s seconds\" % (time.time() - start_time))\n",
        "print(classification_report(y_test, preds))\n",
        "print(estimator.best_estimator_)\n",
        "print(estimator.best_params_)\n",
        "''';"
      ],
      "execution_count": null,
      "outputs": []
    },
    {
      "cell_type": "markdown",
      "metadata": {
        "id": "f5Jy1YL5tIsn"
      },
      "source": [
        "Όπου ανάλογα με τη μετρική απόδοσης που χρησιμοποιούσαμε, όριζαμε αντίστοιχα την παράμετρο \"scoring\" της GridSearchCV.\n",
        "\n",
        "Έπειτα, προσαρμόζαμε το διάστημα αναζήτησης στις τιμές που επέστρεφε η ***estimator.best_params_*** και επαναλαμβάναμε.\n",
        "\n",
        "Παρακάτω παρουσιάζονται οι τελικές βέλτιστες τιμές των υπερπαραμέτρων αυτών για κάθε εκτιμητή όπως αυτές προέκυψαν πειραματικά, οι επιδόσεις τους πριν και μετά τη βελτιστοποίηση τους, καθώς και οι χρόνοι εκτέλεσης του τελικού fit και predict.                \n",
        "\n",
        "Βέβαια, ο χρόνος εκτέλεσης αυξάνεται όσο αυξάνονται οι τιμές των υπερπαραμέτρων προς εξέταση, κάτι που δε θα φανεί παρακάτω καθώς παρουσιάζουμε μόνο την τελευταία  χρονικά αναζήτηση, όπου έχουμε ήδη περιορίσει το πεδίο τιμών των υπερπαραμέτρων.\n",
        "\n",
        "\n",
        "# Gaussian Naive Bayes"
      ]
    },
    {
      "cell_type": "code",
      "metadata": {
        "id": "fmfsVDAztIso",
        "outputId": "c8ed93b8-df83-49c0-8a3e-e6914421c375"
      },
      "source": [
        "pipe = Pipeline(steps=[('scaler', scaler), ('selector', selector), ('sampler', ros), ('gnb', gnb)])\n",
        "\n",
        "print('\\033[1m' + \"Πριν τη βελτιστοποίηση υπερπαραμέτρων: \" + '\\033[0m', '\\n')\n",
        "pipe.fit(X_train,y_train)\n",
        "preds = pipe.predict(X_test)\n",
        "acc_gnb_before = accuracy_score(y_test,preds)\n",
        "conf_gnb_before = confusion_matrix(y_test, preds)\n",
        "print(classification_report(y_test, preds))\n",
        "print(\"Πίνακας Σύγχησης:\", '\\n',conf_gnb_before)\n",
        "\n",
        "\n",
        "\n",
        "print('\\n\\n\\n','\\033[1m' + \"Μετά τη βελτιστοποίηση υπερπαραμέτρων με χρήση της 'f1_micro': \" + '\\033[0m','\\n')\n",
        "vthreshold = [0.042]\n",
        "estimator = GridSearchCV(pipe, dict(selector__threshold=vthreshold), cv=10, scoring='f1_micro', n_jobs=-1)\n",
        "\n",
        "start_time = time.time()\n",
        "estimator.fit(X_train, y_train)\n",
        "preds = estimator.predict(X_test)\n",
        "conf_gnb_f1_micro = confusion_matrix(y_test, preds)\n",
        "acc_gnb_f1_micro = accuracy_score(y_test,preds)\n",
        "gnb_f1_micro_score = f1_score(y_test, preds, average='micro')\n",
        "time_gnb_f1_micro = (time.time() - start_time)\n",
        "print(\"Συνολικός χρόνος fit και predict: %s seconds\" % time_gnb_f1_micro)\n",
        "print(classification_report(y_test, preds))\n",
        "print(\"Πίνακας Σύγχησης:\", '\\n',conf_gnb_f1_micro)\n",
        "print(\"\\nf1-micro average: \", gnb_f1_micro_score)\n",
        "print('\\n',estimator.best_estimator_)\n",
        "print(estimator.best_params_)\n",
        "\n",
        "\n",
        "\n",
        "print('\\n\\n\\n','\\033[1m' + \"Μετά τη βελτιστοποίηση υπερπαραμέτρων με χρήση της 'f1_macro': \" + '\\033[0m','\\n')\n",
        "vthreshold = [0.04]\n",
        "estimator = GridSearchCV(pipe, dict(selector__threshold=vthreshold), cv=10, scoring='f1_macro', n_jobs=-1)\n",
        "\n",
        "start_time = time.time()\n",
        "estimator.fit(X_train, y_train)\n",
        "preds = estimator.predict(X_test)\n",
        "conf_gnb_f1_macro = confusion_matrix(y_test, preds)\n",
        "acc_gnb_f1_macro = accuracy_score(y_test,preds)\n",
        "gnb_f1_macro_score = f1_score(y_test, preds, average='macro')\n",
        "time_gnb_f1_macro = (time.time() - start_time)\n",
        "print(\"Συνολικός χρόνος fit και predict: %s seconds\" % time_gnb_f1_macro)\n",
        "print(classification_report(y_test, preds))\n",
        "print(\"Πίνακας Σύγχησης:\", '\\n',conf_gnb_f1_macro)\n",
        "print(\"\\nf1-macro average: \", gnb_f1_macro_score)\n",
        "print('\\n', estimator.best_estimator_)\n",
        "print(estimator.best_params_)"
      ],
      "execution_count": null,
      "outputs": [
        {
          "output_type": "stream",
          "text": [
            "\u001b[1mΠριν τη βελτιστοποίηση υπερπαραμέτρων: \u001b[0m \n",
            "\n",
            "              precision    recall  f1-score   support\n",
            "\n",
            "           1       0.48      1.00      0.65        10\n",
            "           2       1.00      0.31      0.48        16\n",
            "\n",
            "    accuracy                           0.58        26\n",
            "   macro avg       0.74      0.66      0.56        26\n",
            "weighted avg       0.80      0.58      0.54        26\n",
            "\n",
            "Πίνακας Σύγχησης: \n",
            " [[10  0]\n",
            " [11  5]]\n",
            "\n",
            "\n",
            "\n",
            " \u001b[1mΜετά τη βελτιστοποίηση υπερπαραμέτρων με χρήση της 'f1_micro': \u001b[0m \n",
            "\n",
            "Συνολικός χρόνος fit και predict: 0.11365509033203125 seconds\n",
            "              precision    recall  f1-score   support\n",
            "\n",
            "           1       0.77      1.00      0.87        10\n",
            "           2       1.00      0.81      0.90        16\n",
            "\n",
            "    accuracy                           0.88        26\n",
            "   macro avg       0.88      0.91      0.88        26\n",
            "weighted avg       0.91      0.88      0.89        26\n",
            "\n",
            "Πίνακας Σύγχησης: \n",
            " [[10  0]\n",
            " [ 3 13]]\n",
            "\n",
            "f1-micro average:  0.8846153846153846\n",
            "\n",
            " Pipeline(steps=[('scaler', MinMaxScaler()),\n",
            "                ('selector', VarianceThreshold(threshold=0.042)),\n",
            "                ('sampler', RandomOverSampler()), ('gnb', GaussianNB())])\n",
            "{'selector__threshold': 0.042}\n",
            "\n",
            "\n",
            "\n",
            " \u001b[1mΜετά τη βελτιστοποίηση υπερπαραμέτρων με χρήση της 'f1_macro': \u001b[0m \n",
            "\n",
            "Συνολικός χρόνος fit και predict: 0.10727596282958984 seconds\n",
            "              precision    recall  f1-score   support\n",
            "\n",
            "           1       0.71      1.00      0.83        10\n",
            "           2       1.00      0.75      0.86        16\n",
            "\n",
            "    accuracy                           0.85        26\n",
            "   macro avg       0.86      0.88      0.85        26\n",
            "weighted avg       0.89      0.85      0.85        26\n",
            "\n",
            "Πίνακας Σύγχησης: \n",
            " [[10  0]\n",
            " [ 4 12]]\n",
            "\n",
            "f1-macro average:  0.8452380952380951\n",
            "\n",
            " Pipeline(steps=[('scaler', MinMaxScaler()),\n",
            "                ('selector', VarianceThreshold(threshold=0.04)),\n",
            "                ('sampler', RandomOverSampler()), ('gnb', GaussianNB())])\n",
            "{'selector__threshold': 0.04}\n"
          ],
          "name": "stdout"
        }
      ]
    },
    {
      "cell_type": "markdown",
      "metadata": {
        "id": "TFYmJS_HtIsp"
      },
      "source": [
        "## Λίγα σχόλια\n",
        "\n",
        "Παρατηρούμε πως υπάρχει μεγάλη αύξηση στην επίδοση του ταξινομητή μετά τη βελτιστοποίηση των υπερπαραμέτρων, γεγονός που οφείλεται στη σημαντική μείωση των false positive για την κλάση 1, άρα ταυτόχρονα μείωση των false negative για την κλάση 2. Αυτό αποτυπώνεται και στις τιμές των precision και recall για τις κλάσεις 1 και 2 αντίστοιχα, όπου παρουσιάζουν σημαντική αύξηση."
      ]
    },
    {
      "cell_type": "markdown",
      "metadata": {
        "id": "HpPUbTyetIsq"
      },
      "source": [
        "# kNN"
      ]
    },
    {
      "cell_type": "code",
      "metadata": {
        "id": "7HmF9jP2tIss",
        "outputId": "1aa818d2-0d04-4370-9d22-b2a22e3d12a4"
      },
      "source": [
        "pipe = Pipeline(steps=[('scaler', scaler), ('selector', selector), ('sampler', ros), ('pca', pca), ('kNN', clf)])\n",
        "\n",
        "print('\\033[1m' + \"Πριν τη βελτιστοποίηση υπερπαραμέτρων: \" + '\\033[0m', '\\n')\n",
        "pipe.fit(X_train,y_train)\n",
        "preds = pipe.predict(X_test)\n",
        "conf_kNN_before = confusion_matrix(y_test, preds)\n",
        "acc_kNN_before = accuracy_score(y_test,preds)\n",
        "print(classification_report(y_test, preds))\n",
        "print(\"Πίνακας Σύγχησης:\", '\\n',conf_kNN_before)\n",
        "\n",
        "\n",
        "\n",
        "print('\\n\\n\\n','\\033[1m' + \"Μετά τη βελτιστοποίηση υπερπαραμέτρων με χρήση της 'f1_micro': \" + '\\033[0m','\\n')\n",
        "vthreshold = [0.019]\n",
        "n_components = [20]\n",
        "k = [1]\n",
        "estimator = GridSearchCV(pipe, dict(selector__threshold=vthreshold, pca__n_components=n_components, kNN__n_neighbors=k), cv=10, scoring='f1_micro', n_jobs=-1)\n",
        "\n",
        "start_time = time.time()\n",
        "estimator.fit(X_train, y_train)\n",
        "preds = estimator.predict(X_test)\n",
        "conf_kNN_f1_micro = confusion_matrix(y_test, preds)\n",
        "acc_kNN_f1_micro = accuracy_score(y_test,preds)\n",
        "kNN_f1_micro_score = f1_score(y_test, preds, average='micro')\n",
        "time_kNN_f1_micro = (time.time() - start_time)\n",
        "print(\"Συνολικός χρόνος fit και predict: %s seconds\" % time_kNN_f1_micro)\n",
        "print(classification_report(y_test, preds))\n",
        "print(\"Πίνακας Σύγχησης:\", '\\n',conf_kNN_f1_micro)\n",
        "print(\"\\nf1-micro average: \", kNN_f1_micro_score)\n",
        "print('\\n',estimator.best_estimator_)\n",
        "print(estimator.best_params_)\n",
        "\n",
        "\n",
        "\n",
        "print('\\n\\n\\n','\\033[1m' + \"Μετά τη βελτιστοποίηση υπερπαραμέτρων με χρήση της 'f1_macro': \" + '\\033[0m','\\n')\n",
        "vthreshold = [0.022]\n",
        "n_components = [38]\n",
        "k = [1]\n",
        "estimator = GridSearchCV(pipe, dict(selector__threshold=vthreshold, pca__n_components=n_components, kNN__n_neighbors=k), cv=10, scoring='f1_macro', n_jobs=-1)\n",
        "\n",
        "start_time = time.time()\n",
        "estimator.fit(X_train, y_train)\n",
        "preds = estimator.predict(X_test)\n",
        "conf_kNN_f1_macro = confusion_matrix(y_test, preds)\n",
        "acc_kNN_f1_macro = accuracy_score(y_test,preds)\n",
        "kNN_f1_macro_score = f1_score(y_test, preds, average='macro')\n",
        "time_kNN_f1_macro = (time.time() - start_time)\n",
        "print(\"Συνολικός χρόνος fit και predict: %s seconds\" % time_kNN_f1_macro)\n",
        "print(classification_report(y_test, preds))\n",
        "print(\"Πίνακας Σύγχησης:\", '\\n',conf_kNN_f1_macro)\n",
        "print(\"\\nf1-macro average: \", kNN_f1_macro_score)\n",
        "print('\\n',estimator.best_estimator_)\n",
        "print(estimator.best_params_)"
      ],
      "execution_count": null,
      "outputs": [
        {
          "output_type": "stream",
          "text": [
            "\u001b[1mΠριν τη βελτιστοποίηση υπερπαραμέτρων: \u001b[0m \n",
            "\n",
            "              precision    recall  f1-score   support\n",
            "\n",
            "           1       0.59      1.00      0.74        10\n",
            "           2       1.00      0.56      0.72        16\n",
            "\n",
            "    accuracy                           0.73        26\n",
            "   macro avg       0.79      0.78      0.73        26\n",
            "weighted avg       0.84      0.73      0.73        26\n",
            "\n",
            "Πίνακας Σύγχησης: \n",
            " [[10  0]\n",
            " [ 7  9]]\n",
            "\n",
            "\n",
            "\n",
            " \u001b[1mΜετά τη βελτιστοποίηση υπερπαραμέτρων με χρήση της 'f1_micro': \u001b[0m \n",
            "\n",
            "Συνολικός χρόνος fit και predict: 0.2598288059234619 seconds\n",
            "              precision    recall  f1-score   support\n",
            "\n",
            "           1       0.90      0.90      0.90        10\n",
            "           2       0.94      0.94      0.94        16\n",
            "\n",
            "    accuracy                           0.92        26\n",
            "   macro avg       0.92      0.92      0.92        26\n",
            "weighted avg       0.92      0.92      0.92        26\n",
            "\n",
            "Πίνακας Σύγχησης: \n",
            " [[ 9  1]\n",
            " [ 1 15]]\n",
            "\n",
            "f1-micro average:  0.9230769230769231\n",
            "\n",
            " Pipeline(steps=[('scaler', MinMaxScaler()),\n",
            "                ('selector', VarianceThreshold(threshold=0.019)),\n",
            "                ('sampler', RandomOverSampler()), ('pca', PCA(n_components=20)),\n",
            "                ('kNN', KNeighborsClassifier(n_jobs=-1, n_neighbors=1))])\n",
            "{'kNN__n_neighbors': 1, 'pca__n_components': 20, 'selector__threshold': 0.019}\n",
            "\n",
            "\n",
            "\n",
            " \u001b[1mΜετά τη βελτιστοποίηση υπερπαραμέτρων με χρήση της 'f1_macro': \u001b[0m \n",
            "\n",
            "Συνολικός χρόνος fit και predict: 0.23519420623779297 seconds\n",
            "              precision    recall  f1-score   support\n",
            "\n",
            "           1       0.82      0.90      0.86        10\n",
            "           2       0.93      0.88      0.90        16\n",
            "\n",
            "    accuracy                           0.88        26\n",
            "   macro avg       0.88      0.89      0.88        26\n",
            "weighted avg       0.89      0.88      0.89        26\n",
            "\n",
            "Πίνακας Σύγχησης: \n",
            " [[ 9  1]\n",
            " [ 2 14]]\n",
            "\n",
            "f1-macro average:  0.8801843317972351\n",
            "\n",
            " Pipeline(steps=[('scaler', MinMaxScaler()),\n",
            "                ('selector', VarianceThreshold(threshold=0.022)),\n",
            "                ('sampler', RandomOverSampler()), ('pca', PCA(n_components=38)),\n",
            "                ('kNN', KNeighborsClassifier(n_jobs=-1, n_neighbors=1))])\n",
            "{'kNN__n_neighbors': 1, 'pca__n_components': 38, 'selector__threshold': 0.022}\n"
          ],
          "name": "stdout"
        }
      ]
    },
    {
      "cell_type": "markdown",
      "metadata": {
        "id": "wcJF-tN0tIst"
      },
      "source": [
        "## Λίγα σχόλια\n",
        "\n",
        "Όπως και στον gnb ταξινομητή, η βελτίωση που παρατηρούμε οφείλεται στην αύξηση των σωστών προβλέψεων για την κλάση 2, αφού η κλάση 1 δεν είχε εξαρχής false negative. \n",
        "\n",
        "Επίσης, είναι σημαντικό να αναφέρουμε πως η GridSearchCV επέστρεψε ως βέλτιστη υπερπαράμετρο για n_neighbors την τιμή 1. Αυτό μπορεί να έχει ως αποτέλεσμα ένα πιθανό overfitting, καθώς για το συγκεκριμένο train-test μπορεί να έχουμε υψηλή επίδοση, ωστόσο για διαφορετικό train-test split, είναι πιθανό να προκύψουν διαφορετικά αποτελέσματα."
      ]
    },
    {
      "cell_type": "markdown",
      "metadata": {
        "id": "IMpJgUEbtIst"
      },
      "source": [
        "# Συγκεντρωμένα αποτελέσματα"
      ]
    },
    {
      "cell_type": "code",
      "metadata": {
        "id": "uwv276kXtIsu",
        "outputId": "1db95153-2759-4666-e3c9-bef9e2c3c692"
      },
      "source": [
        "print('\\033[1m' + \"Χρόνοι εκτέλεσης: \" + '\\033[0m', '\\n')\n",
        "print(\"gnb:\")\n",
        "print(\"     'f1_micro': \", time_gnb_f1_micro, \"sec\")\n",
        "print(\"     'f1_macro': \", time_gnb_f1_macro, 'sec\\n')\n",
        "\n",
        "print(\"kNN:\")\n",
        "print(\"     'f1_micro': \", time_kNN_f1_micro, \"sec\")\n",
        "print(\"     'f1_macro': \", time_kNN_f1_macro, 'sec\\n\\n\\n')\n",
        "\n",
        "\n",
        "\n",
        "\n",
        "print('\\033[1m' + \"Μεταβολή επίδοσης: \" + '\\033[0m','\\n')\n",
        "print(\"gnb:\")\n",
        "print(\"     Accuracy πριν τη βελτιστοποίηση: \", round(acc_gnb_before*100,1),\"%\")\n",
        "print(\"     Accuracy μετά τη βελτιστοποίηση με 'f1_micro': \", round(acc_gnb_f1_micro*100,1),\"%\")\n",
        "print(\"     Accuracy μετά τη βελτιστοποίηση με 'f1_macro': \", round(acc_gnb_f1_macro*100,1),'%\\n')\n",
        "print(\"     Βελτίωση με χρήση της 'f1_micro': \", round((acc_gnb_f1_micro-acc_gnb_before)*100,1),\"%\")\n",
        "print(\"     Βελτίωση με χρήση της 'f1_macro': \", round((acc_gnb_f1_macro-acc_gnb_before)*100,1),\"%\\n\")\n",
        "\n",
        "\n",
        "print(\"kNN:\")\n",
        "print(\"     Accuracy πριν τη βελτιστοποίηση: \", round(acc_kNN_before*100,1),\"%\")\n",
        "print(\"     Accuracy μετά τη βελτιστοποίηση με 'f1_micro': \", round(acc_kNN_f1_micro*100,1),\"%\")\n",
        "print(\"     Accuracy μετά τη βελτιστοποίηση με 'f1_macro': \", round(acc_kNN_f1_macro*100,1),'%\\n')\n",
        "print(\"     Βελτίωση με χρήση της 'f1_micro': \", round((acc_kNN_f1_micro-acc_kNN_before)*100,1),\"%\")\n",
        "print(\"     Βελτίωση με χρήση της 'f1_macro': \", round((acc_kNN_f1_macro-acc_kNN_before)*100,1),\"%\\n\\n\\n\")\n",
        "\n",
        "\n",
        "\n",
        "\n",
        "print('\\033[1m' + \"Σύγκριση ταξινομητών ανά μετρική: \" + '\\033[0m','\\n')\n",
        "data = {'dummy': [f1_score_dummy[0], f1_score_dummy[1]],\n",
        "        'gnb': [gnb_f1_micro_score, gnb_f1_macro_score],\n",
        "        'kNN': [kNN_f1_micro_score, kNN_f1_macro_score],\n",
        "        'metric': ['f1_micro','f1_macro']}\n",
        "dataframe = pandas.DataFrame(data, columns = ['dummy','gnb','kNN','metric'])\n",
        "df = pandas.melt(dataframe, id_vars=\"metric\", var_name=\"Classifier\", value_name=\"score\")\n",
        "sns.barplot(x='metric', y='score', hue='Classifier', data=df);"
      ],
      "execution_count": null,
      "outputs": [
        {
          "output_type": "stream",
          "text": [
            "\u001b[1mΧρόνοι εκτέλεσης: \u001b[0m \n",
            "\n",
            "gnb:\n",
            "     'f1_micro':  0.11365509033203125 sec\n",
            "     'f1_macro':  0.10727596282958984 sec\n",
            "\n",
            "kNN:\n",
            "     'f1_micro':  0.2598288059234619 sec\n",
            "     'f1_macro':  0.23519420623779297 sec\n",
            "\n",
            "\n",
            "\n",
            "\u001b[1mΜεταβολή επίδοσης: \u001b[0m \n",
            "\n",
            "gnb:\n",
            "     Accuracy πριν τη βελτιστοποίηση:  57.7 %\n",
            "     Accuracy μετά τη βελτιστοποίηση με 'f1_micro':  88.5 %\n",
            "     Accuracy μετά τη βελτιστοποίηση με 'f1_macro':  84.6 %\n",
            "\n",
            "     Βελτίωση με χρήση της 'f1_micro':  30.8 %\n",
            "     Βελτίωση με χρήση της 'f1_macro':  26.9 %\n",
            "\n",
            "kNN:\n",
            "     Accuracy πριν τη βελτιστοποίηση:  73.1 %\n",
            "     Accuracy μετά τη βελτιστοποίηση με 'f1_micro':  92.3 %\n",
            "     Accuracy μετά τη βελτιστοποίηση με 'f1_macro':  88.5 %\n",
            "\n",
            "     Βελτίωση με χρήση της 'f1_micro':  19.2 %\n",
            "     Βελτίωση με χρήση της 'f1_macro':  15.4 %\n",
            "\n",
            "\n",
            "\n",
            "\u001b[1mΣύγκριση ταξινομητών ανά μετρική: \u001b[0m \n",
            "\n"
          ],
          "name": "stdout"
        },
        {
          "output_type": "display_data",
          "data": {
            "image/png": "[encoded data removed]",
            "text/plain": [
              "<Figure size 432x288 with 1 Axes>"
            ]
          },
          "metadata": {
            "tags": [],
            "needs_background": "light"
          }
        }
      ]
    },
    {
      "cell_type": "markdown",
      "metadata": {
        "id": "ZHZoy5YotIsu"
      },
      "source": [
        "## Λίγα σχόλια\n",
        "\n",
        "* Σχετικά με τους χρόνους εκτέλεσης fit και predict, παρατηρούμε πως ο ταξινομητής kNN χρειάζεται υπερδιπλάσιο χρόνο, γεγονός που οφείλεται στον μεγαλύτερο αριθμό υπερπαραμέτρων προς βελτιστοποίηση.\n",
        "\n",
        "* Σχετικά με τη βελτίωση της επίδοσης των 2 ταξινομητών, βλέπουμε πως ο gnb παρουσιάζει μεγαλύτερη σε σχέση με τον kNN, κυρίως λόγω της αρκετά χαμηλής του απόδοσης πριν τη βελτιστοποίση του, αφού οι τελικές τους επιδόσεις δεν διαφέρουν σημαντικά.\n",
        "\n",
        "* Τέλος, σχετικά με τη σύγκριση των μετρικών f1_micro και f1_macro, μπορούμε να πούμε πως σε γενικές γραμμές παρουσιάζουν αντίστοιχη αύξηση για κάθε ταξινομητή, με την f1_micro ωστόσο να πετυχαίνει υψηλότερα αποτελέσματα σε κάθε περίπτωση."
      ]
    },
    {
      "cell_type": "markdown",
      "metadata": {
        "id": "iY4xwESiu1SW"
      },
      "source": [
        "#B06"
      ]
    },
    {
      "cell_type": "markdown",
      "metadata": {
        "id": "_hAMdd7Yb_Ju"
      },
      "source": [
        "# Imports and Drive setup"
      ]
    },
    {
      "cell_type": "code",
      "metadata": {
        "id": "zB6fWaPFf_Dz"
      },
      "source": [
        "import numpy as np\n",
        "import matplotlib.pyplot as plt\n",
        "import pandas as pd \n",
        "import random \n",
        "from sklearn.metrics import accuracy_score, confusion_matrix, classification_report, f1_score\n",
        "from sklearn.model_selection import cross_val_score, learning_curve, cross_validate, GridSearchCV\n",
        "from sklearn.pipeline import Pipeline\n",
        "import matplotlib.cm as cm\n",
        "from sklearn.preprocessing import StandardScaler # φέρνουμε τον StandarScaler ως transformer που έχει .transform kai ΄όχι ως scale()\n",
        "from sklearn.decomposition import PCA\n",
        "# use seaborn plotting defaults\n",
        "import seaborn as sns; sns.set()\n",
        "import time"
      ],
      "execution_count": null,
      "outputs": []
    },
    {
      "cell_type": "code",
      "metadata": {
        "id": "Yh4TL77aZoR6",
        "colab": {
          "base_uri": "https://localhost:8080/"
        },
        "outputId": "24780627-80e3-439f-b54f-a285bdfcbba0"
      },
      "source": [
        "# Do not execute if you are not using Drive\n",
        "from google.colab import drive\n",
        "drive.mount('/content/drive')"
      ],
      "execution_count": null,
      "outputs": [
        {
          "output_type": "stream",
          "text": [
            "Mounted at /content/drive\n"
          ],
          "name": "stdout"
        }
      ]
    },
    {
      "cell_type": "code",
      "metadata": {
        "id": "tbVYq3koZuCv",
        "colab": {
          "base_uri": "https://localhost:8080/"
        },
        "outputId": "fbba811c-34cf-4641-c370-b8af1cd416b7"
      },
      "source": [
        "#%cd \"drive/My Drive/Neural_Networks/Lab1\"      "
      ],
      "execution_count": null,
      "outputs": [
        {
          "output_type": "stream",
          "text": [
            "/content/drive/My Drive/Neural_Networks/Lab1\n"
          ],
          "name": "stdout"
        }
      ]
    },
    {
      "cell_type": "code",
      "metadata": {
        "id": "EjZQZ53paPjQ",
        "colab": {
          "base_uri": "https://localhost:8080/"
        },
        "outputId": "a0aba3f8-979b-4f2a-bc40-f081d502fa63"
      },
      "source": [
        "#!ls"
      ],
      "execution_count": null,
      "outputs": [
        {
          "output_type": "stream",
          "text": [
            "semeion.data  tmp\n"
          ],
          "name": "stdout"
        }
      ]
    },
    {
      "cell_type": "markdown",
      "metadata": {
        "id": "RanAu3YJcGx7"
      },
      "source": [
        "# Data imports and basic preprocessing"
      ]
    },
    {
      "cell_type": "markdown",
      "metadata": {
        "id": "Q_0A2f1Ls1jx"
      },
      "source": [
        "### Λίγα πράγματα για το dataset"
      ]
    },
    {
      "cell_type": "markdown",
      "metadata": {
        "id": "ypPqwujAtIgV"
      },
      "source": [
        "Το dataset που καλούμαστε να εξετάσουμε σε αυτό το notebook είναι το Semeion Handwritten Digit Data Dataset, το οποίο περιλαμβάνει 1593 δείγματα σκαναρισμένων εικόνων που απεικονίζουν ψηφία (0-9) γραμμένα στο χέρι από 80 περίπου διαφορετικούς ανθρώπους.\n",
        "\n",
        "Το κάθε χειρόγραφο δείγμα σαρώθηκε σε ένα κουτί 16X16 pixels σε κλίμακα του γκρι με 256 τιμές. Έπειτα με κατωφλιοποίηση ανατέθηκε σε κάθε pixel τιμή 0|1 ανάλογα με την ένταση που είχε το γκρι στο συγκεκριμένο pixel."
      ]
    },
    {
      "cell_type": "code",
      "metadata": {
        "id": "RR-6FCAzbDBL"
      },
      "source": [
        "# Φορτώνουμε το dataset το οποίο βρίσκεται στον τρέχοντα φάκελο\n",
        "# Τα data δεν έχουν header\n",
        "data = pd.read_csv('semeion.data', sep=' ',header=None)"
      ],
      "execution_count": null,
      "outputs": []
    },
    {
      "cell_type": "code",
      "metadata": {
        "id": "qfpvUTpncvuN",
        "colab": {
          "base_uri": "https://localhost:8080/",
          "height": 439
        },
        "outputId": "6b565d77-e7cf-4c48-e180-e5f7652f5c6f"
      },
      "source": [
        "data"
      ],
      "execution_count": null,
      "outputs": [
        {
          "output_type": "execute_result",
          "data": {
            "text/html": [
              "<div>\n",
              "<style scoped>\n",
              "    .dataframe tbody tr th:only-of-type {\n",
              "        vertical-align: middle;\n",
              "    }\n",
              "\n",
              "    .dataframe tbody tr th {\n",
              "        vertical-align: top;\n",
              "    }\n",
              "\n",
              "    .dataframe thead th {\n",
              "        text-align: right;\n",
              "    }\n",
              "</style>\n",
              "<table border=\"1\" class=\"dataframe\">\n",
              "  <thead>\n",
              "    <tr style=\"text-align: right;\">\n",
              "      <th></th>\n",
              "      <th>0</th>\n",
              "      <th>1</th>\n",
              "      <th>2</th>\n",
              "      <th>3</th>\n",
              "      <th>4</th>\n",
              "      <th>5</th>\n",
              "      <th>6</th>\n",
              "      <th>7</th>\n",
              "      <th>8</th>\n",
              "      <th>9</th>\n",
              "      <th>10</th>\n",
              "      <th>11</th>\n",
              "      <th>12</th>\n",
              "      <th>13</th>\n",
              "      <th>14</th>\n",
              "      <th>15</th>\n",
              "      <th>16</th>\n",
              "      <th>17</th>\n",
              "      <th>18</th>\n",
              "      <th>19</th>\n",
              "      <th>20</th>\n",
              "      <th>21</th>\n",
              "      <th>22</th>\n",
              "      <th>23</th>\n",
              "      <th>24</th>\n",
              "      <th>25</th>\n",
              "      <th>26</th>\n",
              "      <th>27</th>\n",
              "      <th>28</th>\n",
              "      <th>29</th>\n",
              "      <th>30</th>\n",
              "      <th>31</th>\n",
              "      <th>32</th>\n",
              "      <th>33</th>\n",
              "      <th>34</th>\n",
              "      <th>35</th>\n",
              "      <th>36</th>\n",
              "      <th>37</th>\n",
              "      <th>38</th>\n",
              "      <th>39</th>\n",
              "      <th>...</th>\n",
              "      <th>227</th>\n",
              "      <th>228</th>\n",
              "      <th>229</th>\n",
              "      <th>230</th>\n",
              "      <th>231</th>\n",
              "      <th>232</th>\n",
              "      <th>233</th>\n",
              "      <th>234</th>\n",
              "      <th>235</th>\n",
              "      <th>236</th>\n",
              "      <th>237</th>\n",
              "      <th>238</th>\n",
              "      <th>239</th>\n",
              "      <th>240</th>\n",
              "      <th>241</th>\n",
              "      <th>242</th>\n",
              "      <th>243</th>\n",
              "      <th>244</th>\n",
              "      <th>245</th>\n",
              "      <th>246</th>\n",
              "      <th>247</th>\n",
              "      <th>248</th>\n",
              "      <th>249</th>\n",
              "      <th>250</th>\n",
              "      <th>251</th>\n",
              "      <th>252</th>\n",
              "      <th>253</th>\n",
              "      <th>254</th>\n",
              "      <th>255</th>\n",
              "      <th>256</th>\n",
              "      <th>257</th>\n",
              "      <th>258</th>\n",
              "      <th>259</th>\n",
              "      <th>260</th>\n",
              "      <th>261</th>\n",
              "      <th>262</th>\n",
              "      <th>263</th>\n",
              "      <th>264</th>\n",
              "      <th>265</th>\n",
              "      <th>266</th>\n",
              "    </tr>\n",
              "  </thead>\n",
              "  <tbody>\n",
              "    <tr>\n",
              "      <th>0</th>\n",
              "      <td>0.0</td>\n",
              "      <td>0.0</td>\n",
              "      <td>0.0</td>\n",
              "      <td>0.0</td>\n",
              "      <td>0.0</td>\n",
              "      <td>0.0</td>\n",
              "      <td>1.0</td>\n",
              "      <td>1.0</td>\n",
              "      <td>1.0</td>\n",
              "      <td>1.0</td>\n",
              "      <td>1.0</td>\n",
              "      <td>1.0</td>\n",
              "      <td>1.0</td>\n",
              "      <td>1.0</td>\n",
              "      <td>0.0</td>\n",
              "      <td>0.0</td>\n",
              "      <td>0.0</td>\n",
              "      <td>0.0</td>\n",
              "      <td>0.0</td>\n",
              "      <td>0.0</td>\n",
              "      <td>0.0</td>\n",
              "      <td>1.0</td>\n",
              "      <td>1.0</td>\n",
              "      <td>1.0</td>\n",
              "      <td>1.0</td>\n",
              "      <td>1.0</td>\n",
              "      <td>1.0</td>\n",
              "      <td>0.0</td>\n",
              "      <td>1.0</td>\n",
              "      <td>1.0</td>\n",
              "      <td>0.0</td>\n",
              "      <td>0.0</td>\n",
              "      <td>0.0</td>\n",
              "      <td>0.0</td>\n",
              "      <td>0.0</td>\n",
              "      <td>0.0</td>\n",
              "      <td>1.0</td>\n",
              "      <td>1.0</td>\n",
              "      <td>1.0</td>\n",
              "      <td>1.0</td>\n",
              "      <td>...</td>\n",
              "      <td>1.0</td>\n",
              "      <td>1.0</td>\n",
              "      <td>1.0</td>\n",
              "      <td>1.0</td>\n",
              "      <td>1.0</td>\n",
              "      <td>1.0</td>\n",
              "      <td>0.0</td>\n",
              "      <td>0.0</td>\n",
              "      <td>0.0</td>\n",
              "      <td>0.0</td>\n",
              "      <td>0.0</td>\n",
              "      <td>0.0</td>\n",
              "      <td>0.0</td>\n",
              "      <td>0.0</td>\n",
              "      <td>0.0</td>\n",
              "      <td>0.0</td>\n",
              "      <td>1.0</td>\n",
              "      <td>1.0</td>\n",
              "      <td>1.0</td>\n",
              "      <td>1.0</td>\n",
              "      <td>0.0</td>\n",
              "      <td>0.0</td>\n",
              "      <td>0.0</td>\n",
              "      <td>0.0</td>\n",
              "      <td>0.0</td>\n",
              "      <td>0.0</td>\n",
              "      <td>0.0</td>\n",
              "      <td>0.0</td>\n",
              "      <td>0.0</td>\n",
              "      <td>1</td>\n",
              "      <td>0</td>\n",
              "      <td>0</td>\n",
              "      <td>0</td>\n",
              "      <td>0</td>\n",
              "      <td>0</td>\n",
              "      <td>0</td>\n",
              "      <td>0</td>\n",
              "      <td>0</td>\n",
              "      <td>0</td>\n",
              "      <td>NaN</td>\n",
              "    </tr>\n",
              "    <tr>\n",
              "      <th>1</th>\n",
              "      <td>0.0</td>\n",
              "      <td>0.0</td>\n",
              "      <td>0.0</td>\n",
              "      <td>0.0</td>\n",
              "      <td>0.0</td>\n",
              "      <td>1.0</td>\n",
              "      <td>1.0</td>\n",
              "      <td>1.0</td>\n",
              "      <td>1.0</td>\n",
              "      <td>1.0</td>\n",
              "      <td>1.0</td>\n",
              "      <td>1.0</td>\n",
              "      <td>1.0</td>\n",
              "      <td>0.0</td>\n",
              "      <td>0.0</td>\n",
              "      <td>0.0</td>\n",
              "      <td>0.0</td>\n",
              "      <td>0.0</td>\n",
              "      <td>0.0</td>\n",
              "      <td>1.0</td>\n",
              "      <td>1.0</td>\n",
              "      <td>1.0</td>\n",
              "      <td>1.0</td>\n",
              "      <td>0.0</td>\n",
              "      <td>0.0</td>\n",
              "      <td>0.0</td>\n",
              "      <td>0.0</td>\n",
              "      <td>0.0</td>\n",
              "      <td>1.0</td>\n",
              "      <td>1.0</td>\n",
              "      <td>0.0</td>\n",
              "      <td>0.0</td>\n",
              "      <td>0.0</td>\n",
              "      <td>0.0</td>\n",
              "      <td>1.0</td>\n",
              "      <td>1.0</td>\n",
              "      <td>1.0</td>\n",
              "      <td>1.0</td>\n",
              "      <td>1.0</td>\n",
              "      <td>0.0</td>\n",
              "      <td>...</td>\n",
              "      <td>1.0</td>\n",
              "      <td>0.0</td>\n",
              "      <td>0.0</td>\n",
              "      <td>0.0</td>\n",
              "      <td>0.0</td>\n",
              "      <td>0.0</td>\n",
              "      <td>0.0</td>\n",
              "      <td>0.0</td>\n",
              "      <td>1.0</td>\n",
              "      <td>1.0</td>\n",
              "      <td>0.0</td>\n",
              "      <td>0.0</td>\n",
              "      <td>0.0</td>\n",
              "      <td>0.0</td>\n",
              "      <td>0.0</td>\n",
              "      <td>0.0</td>\n",
              "      <td>1.0</td>\n",
              "      <td>1.0</td>\n",
              "      <td>1.0</td>\n",
              "      <td>1.0</td>\n",
              "      <td>1.0</td>\n",
              "      <td>1.0</td>\n",
              "      <td>1.0</td>\n",
              "      <td>1.0</td>\n",
              "      <td>0.0</td>\n",
              "      <td>0.0</td>\n",
              "      <td>0.0</td>\n",
              "      <td>0.0</td>\n",
              "      <td>0.0</td>\n",
              "      <td>1</td>\n",
              "      <td>0</td>\n",
              "      <td>0</td>\n",
              "      <td>0</td>\n",
              "      <td>0</td>\n",
              "      <td>0</td>\n",
              "      <td>0</td>\n",
              "      <td>0</td>\n",
              "      <td>0</td>\n",
              "      <td>0</td>\n",
              "      <td>NaN</td>\n",
              "    </tr>\n",
              "    <tr>\n",
              "      <th>2</th>\n",
              "      <td>0.0</td>\n",
              "      <td>0.0</td>\n",
              "      <td>0.0</td>\n",
              "      <td>0.0</td>\n",
              "      <td>0.0</td>\n",
              "      <td>0.0</td>\n",
              "      <td>0.0</td>\n",
              "      <td>0.0</td>\n",
              "      <td>0.0</td>\n",
              "      <td>1.0</td>\n",
              "      <td>1.0</td>\n",
              "      <td>1.0</td>\n",
              "      <td>1.0</td>\n",
              "      <td>1.0</td>\n",
              "      <td>0.0</td>\n",
              "      <td>0.0</td>\n",
              "      <td>0.0</td>\n",
              "      <td>0.0</td>\n",
              "      <td>0.0</td>\n",
              "      <td>0.0</td>\n",
              "      <td>0.0</td>\n",
              "      <td>0.0</td>\n",
              "      <td>0.0</td>\n",
              "      <td>0.0</td>\n",
              "      <td>0.0</td>\n",
              "      <td>0.0</td>\n",
              "      <td>0.0</td>\n",
              "      <td>0.0</td>\n",
              "      <td>0.0</td>\n",
              "      <td>1.0</td>\n",
              "      <td>1.0</td>\n",
              "      <td>0.0</td>\n",
              "      <td>0.0</td>\n",
              "      <td>0.0</td>\n",
              "      <td>0.0</td>\n",
              "      <td>0.0</td>\n",
              "      <td>0.0</td>\n",
              "      <td>0.0</td>\n",
              "      <td>0.0</td>\n",
              "      <td>0.0</td>\n",
              "      <td>...</td>\n",
              "      <td>1.0</td>\n",
              "      <td>1.0</td>\n",
              "      <td>1.0</td>\n",
              "      <td>1.0</td>\n",
              "      <td>1.0</td>\n",
              "      <td>1.0</td>\n",
              "      <td>0.0</td>\n",
              "      <td>0.0</td>\n",
              "      <td>0.0</td>\n",
              "      <td>0.0</td>\n",
              "      <td>0.0</td>\n",
              "      <td>0.0</td>\n",
              "      <td>0.0</td>\n",
              "      <td>0.0</td>\n",
              "      <td>0.0</td>\n",
              "      <td>1.0</td>\n",
              "      <td>1.0</td>\n",
              "      <td>1.0</td>\n",
              "      <td>1.0</td>\n",
              "      <td>1.0</td>\n",
              "      <td>0.0</td>\n",
              "      <td>0.0</td>\n",
              "      <td>0.0</td>\n",
              "      <td>0.0</td>\n",
              "      <td>0.0</td>\n",
              "      <td>0.0</td>\n",
              "      <td>0.0</td>\n",
              "      <td>0.0</td>\n",
              "      <td>0.0</td>\n",
              "      <td>1</td>\n",
              "      <td>0</td>\n",
              "      <td>0</td>\n",
              "      <td>0</td>\n",
              "      <td>0</td>\n",
              "      <td>0</td>\n",
              "      <td>0</td>\n",
              "      <td>0</td>\n",
              "      <td>0</td>\n",
              "      <td>0</td>\n",
              "      <td>NaN</td>\n",
              "    </tr>\n",
              "    <tr>\n",
              "      <th>3</th>\n",
              "      <td>0.0</td>\n",
              "      <td>0.0</td>\n",
              "      <td>0.0</td>\n",
              "      <td>0.0</td>\n",
              "      <td>0.0</td>\n",
              "      <td>0.0</td>\n",
              "      <td>1.0</td>\n",
              "      <td>1.0</td>\n",
              "      <td>1.0</td>\n",
              "      <td>1.0</td>\n",
              "      <td>1.0</td>\n",
              "      <td>1.0</td>\n",
              "      <td>1.0</td>\n",
              "      <td>1.0</td>\n",
              "      <td>1.0</td>\n",
              "      <td>1.0</td>\n",
              "      <td>0.0</td>\n",
              "      <td>0.0</td>\n",
              "      <td>0.0</td>\n",
              "      <td>0.0</td>\n",
              "      <td>0.0</td>\n",
              "      <td>1.0</td>\n",
              "      <td>1.0</td>\n",
              "      <td>0.0</td>\n",
              "      <td>0.0</td>\n",
              "      <td>0.0</td>\n",
              "      <td>0.0</td>\n",
              "      <td>0.0</td>\n",
              "      <td>0.0</td>\n",
              "      <td>0.0</td>\n",
              "      <td>1.0</td>\n",
              "      <td>1.0</td>\n",
              "      <td>0.0</td>\n",
              "      <td>0.0</td>\n",
              "      <td>0.0</td>\n",
              "      <td>0.0</td>\n",
              "      <td>1.0</td>\n",
              "      <td>1.0</td>\n",
              "      <td>0.0</td>\n",
              "      <td>0.0</td>\n",
              "      <td>...</td>\n",
              "      <td>1.0</td>\n",
              "      <td>1.0</td>\n",
              "      <td>1.0</td>\n",
              "      <td>1.0</td>\n",
              "      <td>0.0</td>\n",
              "      <td>0.0</td>\n",
              "      <td>0.0</td>\n",
              "      <td>0.0</td>\n",
              "      <td>0.0</td>\n",
              "      <td>0.0</td>\n",
              "      <td>0.0</td>\n",
              "      <td>0.0</td>\n",
              "      <td>0.0</td>\n",
              "      <td>0.0</td>\n",
              "      <td>0.0</td>\n",
              "      <td>0.0</td>\n",
              "      <td>1.0</td>\n",
              "      <td>1.0</td>\n",
              "      <td>0.0</td>\n",
              "      <td>0.0</td>\n",
              "      <td>0.0</td>\n",
              "      <td>0.0</td>\n",
              "      <td>0.0</td>\n",
              "      <td>0.0</td>\n",
              "      <td>0.0</td>\n",
              "      <td>0.0</td>\n",
              "      <td>0.0</td>\n",
              "      <td>0.0</td>\n",
              "      <td>0.0</td>\n",
              "      <td>1</td>\n",
              "      <td>0</td>\n",
              "      <td>0</td>\n",
              "      <td>0</td>\n",
              "      <td>0</td>\n",
              "      <td>0</td>\n",
              "      <td>0</td>\n",
              "      <td>0</td>\n",
              "      <td>0</td>\n",
              "      <td>0</td>\n",
              "      <td>NaN</td>\n",
              "    </tr>\n",
              "    <tr>\n",
              "      <th>4</th>\n",
              "      <td>0.0</td>\n",
              "      <td>0.0</td>\n",
              "      <td>0.0</td>\n",
              "      <td>0.0</td>\n",
              "      <td>0.0</td>\n",
              "      <td>0.0</td>\n",
              "      <td>0.0</td>\n",
              "      <td>0.0</td>\n",
              "      <td>0.0</td>\n",
              "      <td>1.0</td>\n",
              "      <td>1.0</td>\n",
              "      <td>1.0</td>\n",
              "      <td>1.0</td>\n",
              "      <td>1.0</td>\n",
              "      <td>1.0</td>\n",
              "      <td>0.0</td>\n",
              "      <td>0.0</td>\n",
              "      <td>0.0</td>\n",
              "      <td>0.0</td>\n",
              "      <td>0.0</td>\n",
              "      <td>0.0</td>\n",
              "      <td>0.0</td>\n",
              "      <td>0.0</td>\n",
              "      <td>1.0</td>\n",
              "      <td>1.0</td>\n",
              "      <td>1.0</td>\n",
              "      <td>1.0</td>\n",
              "      <td>1.0</td>\n",
              "      <td>1.0</td>\n",
              "      <td>1.0</td>\n",
              "      <td>1.0</td>\n",
              "      <td>0.0</td>\n",
              "      <td>0.0</td>\n",
              "      <td>0.0</td>\n",
              "      <td>0.0</td>\n",
              "      <td>0.0</td>\n",
              "      <td>0.0</td>\n",
              "      <td>0.0</td>\n",
              "      <td>1.0</td>\n",
              "      <td>1.0</td>\n",
              "      <td>...</td>\n",
              "      <td>1.0</td>\n",
              "      <td>1.0</td>\n",
              "      <td>1.0</td>\n",
              "      <td>1.0</td>\n",
              "      <td>1.0</td>\n",
              "      <td>1.0</td>\n",
              "      <td>0.0</td>\n",
              "      <td>0.0</td>\n",
              "      <td>0.0</td>\n",
              "      <td>0.0</td>\n",
              "      <td>0.0</td>\n",
              "      <td>0.0</td>\n",
              "      <td>0.0</td>\n",
              "      <td>0.0</td>\n",
              "      <td>0.0</td>\n",
              "      <td>1.0</td>\n",
              "      <td>1.0</td>\n",
              "      <td>1.0</td>\n",
              "      <td>1.0</td>\n",
              "      <td>0.0</td>\n",
              "      <td>0.0</td>\n",
              "      <td>0.0</td>\n",
              "      <td>0.0</td>\n",
              "      <td>0.0</td>\n",
              "      <td>0.0</td>\n",
              "      <td>0.0</td>\n",
              "      <td>0.0</td>\n",
              "      <td>0.0</td>\n",
              "      <td>0.0</td>\n",
              "      <td>1</td>\n",
              "      <td>0</td>\n",
              "      <td>0</td>\n",
              "      <td>0</td>\n",
              "      <td>0</td>\n",
              "      <td>0</td>\n",
              "      <td>0</td>\n",
              "      <td>0</td>\n",
              "      <td>0</td>\n",
              "      <td>0</td>\n",
              "      <td>NaN</td>\n",
              "    </tr>\n",
              "    <tr>\n",
              "      <th>...</th>\n",
              "      <td>...</td>\n",
              "      <td>...</td>\n",
              "      <td>...</td>\n",
              "      <td>...</td>\n",
              "      <td>...</td>\n",
              "      <td>...</td>\n",
              "      <td>...</td>\n",
              "      <td>...</td>\n",
              "      <td>...</td>\n",
              "      <td>...</td>\n",
              "      <td>...</td>\n",
              "      <td>...</td>\n",
              "      <td>...</td>\n",
              "      <td>...</td>\n",
              "      <td>...</td>\n",
              "      <td>...</td>\n",
              "      <td>...</td>\n",
              "      <td>...</td>\n",
              "      <td>...</td>\n",
              "      <td>...</td>\n",
              "      <td>...</td>\n",
              "      <td>...</td>\n",
              "      <td>...</td>\n",
              "      <td>...</td>\n",
              "      <td>...</td>\n",
              "      <td>...</td>\n",
              "      <td>...</td>\n",
              "      <td>...</td>\n",
              "      <td>...</td>\n",
              "      <td>...</td>\n",
              "      <td>...</td>\n",
              "      <td>...</td>\n",
              "      <td>...</td>\n",
              "      <td>...</td>\n",
              "      <td>...</td>\n",
              "      <td>...</td>\n",
              "      <td>...</td>\n",
              "      <td>...</td>\n",
              "      <td>...</td>\n",
              "      <td>...</td>\n",
              "      <td>...</td>\n",
              "      <td>...</td>\n",
              "      <td>...</td>\n",
              "      <td>...</td>\n",
              "      <td>...</td>\n",
              "      <td>...</td>\n",
              "      <td>...</td>\n",
              "      <td>...</td>\n",
              "      <td>...</td>\n",
              "      <td>...</td>\n",
              "      <td>...</td>\n",
              "      <td>...</td>\n",
              "      <td>...</td>\n",
              "      <td>...</td>\n",
              "      <td>...</td>\n",
              "      <td>...</td>\n",
              "      <td>...</td>\n",
              "      <td>...</td>\n",
              "      <td>...</td>\n",
              "      <td>...</td>\n",
              "      <td>...</td>\n",
              "      <td>...</td>\n",
              "      <td>...</td>\n",
              "      <td>...</td>\n",
              "      <td>...</td>\n",
              "      <td>...</td>\n",
              "      <td>...</td>\n",
              "      <td>...</td>\n",
              "      <td>...</td>\n",
              "      <td>...</td>\n",
              "      <td>...</td>\n",
              "      <td>...</td>\n",
              "      <td>...</td>\n",
              "      <td>...</td>\n",
              "      <td>...</td>\n",
              "      <td>...</td>\n",
              "      <td>...</td>\n",
              "      <td>...</td>\n",
              "      <td>...</td>\n",
              "      <td>...</td>\n",
              "      <td>...</td>\n",
              "    </tr>\n",
              "    <tr>\n",
              "      <th>1588</th>\n",
              "      <td>0.0</td>\n",
              "      <td>0.0</td>\n",
              "      <td>0.0</td>\n",
              "      <td>1.0</td>\n",
              "      <td>1.0</td>\n",
              "      <td>1.0</td>\n",
              "      <td>1.0</td>\n",
              "      <td>1.0</td>\n",
              "      <td>1.0</td>\n",
              "      <td>1.0</td>\n",
              "      <td>1.0</td>\n",
              "      <td>1.0</td>\n",
              "      <td>1.0</td>\n",
              "      <td>1.0</td>\n",
              "      <td>0.0</td>\n",
              "      <td>0.0</td>\n",
              "      <td>1.0</td>\n",
              "      <td>1.0</td>\n",
              "      <td>1.0</td>\n",
              "      <td>1.0</td>\n",
              "      <td>0.0</td>\n",
              "      <td>0.0</td>\n",
              "      <td>0.0</td>\n",
              "      <td>0.0</td>\n",
              "      <td>0.0</td>\n",
              "      <td>0.0</td>\n",
              "      <td>0.0</td>\n",
              "      <td>0.0</td>\n",
              "      <td>0.0</td>\n",
              "      <td>0.0</td>\n",
              "      <td>1.0</td>\n",
              "      <td>1.0</td>\n",
              "      <td>1.0</td>\n",
              "      <td>1.0</td>\n",
              "      <td>0.0</td>\n",
              "      <td>0.0</td>\n",
              "      <td>0.0</td>\n",
              "      <td>0.0</td>\n",
              "      <td>0.0</td>\n",
              "      <td>0.0</td>\n",
              "      <td>...</td>\n",
              "      <td>0.0</td>\n",
              "      <td>0.0</td>\n",
              "      <td>0.0</td>\n",
              "      <td>0.0</td>\n",
              "      <td>0.0</td>\n",
              "      <td>0.0</td>\n",
              "      <td>0.0</td>\n",
              "      <td>0.0</td>\n",
              "      <td>0.0</td>\n",
              "      <td>0.0</td>\n",
              "      <td>1.0</td>\n",
              "      <td>1.0</td>\n",
              "      <td>0.0</td>\n",
              "      <td>0.0</td>\n",
              "      <td>0.0</td>\n",
              "      <td>0.0</td>\n",
              "      <td>0.0</td>\n",
              "      <td>0.0</td>\n",
              "      <td>0.0</td>\n",
              "      <td>0.0</td>\n",
              "      <td>0.0</td>\n",
              "      <td>0.0</td>\n",
              "      <td>0.0</td>\n",
              "      <td>0.0</td>\n",
              "      <td>0.0</td>\n",
              "      <td>0.0</td>\n",
              "      <td>1.0</td>\n",
              "      <td>1.0</td>\n",
              "      <td>0.0</td>\n",
              "      <td>0</td>\n",
              "      <td>0</td>\n",
              "      <td>0</td>\n",
              "      <td>0</td>\n",
              "      <td>0</td>\n",
              "      <td>0</td>\n",
              "      <td>0</td>\n",
              "      <td>0</td>\n",
              "      <td>0</td>\n",
              "      <td>1</td>\n",
              "      <td>NaN</td>\n",
              "    </tr>\n",
              "    <tr>\n",
              "      <th>1589</th>\n",
              "      <td>0.0</td>\n",
              "      <td>0.0</td>\n",
              "      <td>0.0</td>\n",
              "      <td>1.0</td>\n",
              "      <td>1.0</td>\n",
              "      <td>1.0</td>\n",
              "      <td>1.0</td>\n",
              "      <td>1.0</td>\n",
              "      <td>1.0</td>\n",
              "      <td>1.0</td>\n",
              "      <td>1.0</td>\n",
              "      <td>0.0</td>\n",
              "      <td>0.0</td>\n",
              "      <td>0.0</td>\n",
              "      <td>0.0</td>\n",
              "      <td>0.0</td>\n",
              "      <td>0.0</td>\n",
              "      <td>0.0</td>\n",
              "      <td>1.0</td>\n",
              "      <td>1.0</td>\n",
              "      <td>0.0</td>\n",
              "      <td>0.0</td>\n",
              "      <td>0.0</td>\n",
              "      <td>0.0</td>\n",
              "      <td>0.0</td>\n",
              "      <td>0.0</td>\n",
              "      <td>1.0</td>\n",
              "      <td>1.0</td>\n",
              "      <td>0.0</td>\n",
              "      <td>0.0</td>\n",
              "      <td>0.0</td>\n",
              "      <td>0.0</td>\n",
              "      <td>0.0</td>\n",
              "      <td>1.0</td>\n",
              "      <td>1.0</td>\n",
              "      <td>0.0</td>\n",
              "      <td>0.0</td>\n",
              "      <td>0.0</td>\n",
              "      <td>0.0</td>\n",
              "      <td>0.0</td>\n",
              "      <td>...</td>\n",
              "      <td>1.0</td>\n",
              "      <td>1.0</td>\n",
              "      <td>1.0</td>\n",
              "      <td>1.0</td>\n",
              "      <td>0.0</td>\n",
              "      <td>0.0</td>\n",
              "      <td>1.0</td>\n",
              "      <td>1.0</td>\n",
              "      <td>1.0</td>\n",
              "      <td>1.0</td>\n",
              "      <td>1.0</td>\n",
              "      <td>1.0</td>\n",
              "      <td>0.0</td>\n",
              "      <td>0.0</td>\n",
              "      <td>0.0</td>\n",
              "      <td>0.0</td>\n",
              "      <td>1.0</td>\n",
              "      <td>1.0</td>\n",
              "      <td>1.0</td>\n",
              "      <td>1.0</td>\n",
              "      <td>1.0</td>\n",
              "      <td>1.0</td>\n",
              "      <td>1.0</td>\n",
              "      <td>1.0</td>\n",
              "      <td>1.0</td>\n",
              "      <td>1.0</td>\n",
              "      <td>0.0</td>\n",
              "      <td>0.0</td>\n",
              "      <td>0.0</td>\n",
              "      <td>0</td>\n",
              "      <td>0</td>\n",
              "      <td>0</td>\n",
              "      <td>0</td>\n",
              "      <td>0</td>\n",
              "      <td>0</td>\n",
              "      <td>0</td>\n",
              "      <td>0</td>\n",
              "      <td>0</td>\n",
              "      <td>1</td>\n",
              "      <td>NaN</td>\n",
              "    </tr>\n",
              "    <tr>\n",
              "      <th>1590</th>\n",
              "      <td>0.0</td>\n",
              "      <td>0.0</td>\n",
              "      <td>1.0</td>\n",
              "      <td>1.0</td>\n",
              "      <td>1.0</td>\n",
              "      <td>1.0</td>\n",
              "      <td>1.0</td>\n",
              "      <td>1.0</td>\n",
              "      <td>1.0</td>\n",
              "      <td>1.0</td>\n",
              "      <td>0.0</td>\n",
              "      <td>0.0</td>\n",
              "      <td>0.0</td>\n",
              "      <td>0.0</td>\n",
              "      <td>0.0</td>\n",
              "      <td>0.0</td>\n",
              "      <td>0.0</td>\n",
              "      <td>1.0</td>\n",
              "      <td>1.0</td>\n",
              "      <td>1.0</td>\n",
              "      <td>0.0</td>\n",
              "      <td>0.0</td>\n",
              "      <td>0.0</td>\n",
              "      <td>0.0</td>\n",
              "      <td>0.0</td>\n",
              "      <td>0.0</td>\n",
              "      <td>1.0</td>\n",
              "      <td>1.0</td>\n",
              "      <td>1.0</td>\n",
              "      <td>0.0</td>\n",
              "      <td>0.0</td>\n",
              "      <td>0.0</td>\n",
              "      <td>1.0</td>\n",
              "      <td>1.0</td>\n",
              "      <td>0.0</td>\n",
              "      <td>0.0</td>\n",
              "      <td>0.0</td>\n",
              "      <td>0.0</td>\n",
              "      <td>0.0</td>\n",
              "      <td>0.0</td>\n",
              "      <td>...</td>\n",
              "      <td>0.0</td>\n",
              "      <td>1.0</td>\n",
              "      <td>1.0</td>\n",
              "      <td>1.0</td>\n",
              "      <td>1.0</td>\n",
              "      <td>1.0</td>\n",
              "      <td>1.0</td>\n",
              "      <td>1.0</td>\n",
              "      <td>1.0</td>\n",
              "      <td>1.0</td>\n",
              "      <td>1.0</td>\n",
              "      <td>1.0</td>\n",
              "      <td>0.0</td>\n",
              "      <td>0.0</td>\n",
              "      <td>0.0</td>\n",
              "      <td>0.0</td>\n",
              "      <td>0.0</td>\n",
              "      <td>0.0</td>\n",
              "      <td>0.0</td>\n",
              "      <td>0.0</td>\n",
              "      <td>0.0</td>\n",
              "      <td>0.0</td>\n",
              "      <td>1.0</td>\n",
              "      <td>1.0</td>\n",
              "      <td>0.0</td>\n",
              "      <td>0.0</td>\n",
              "      <td>0.0</td>\n",
              "      <td>0.0</td>\n",
              "      <td>0.0</td>\n",
              "      <td>0</td>\n",
              "      <td>0</td>\n",
              "      <td>0</td>\n",
              "      <td>0</td>\n",
              "      <td>0</td>\n",
              "      <td>0</td>\n",
              "      <td>0</td>\n",
              "      <td>0</td>\n",
              "      <td>0</td>\n",
              "      <td>1</td>\n",
              "      <td>NaN</td>\n",
              "    </tr>\n",
              "    <tr>\n",
              "      <th>1591</th>\n",
              "      <td>0.0</td>\n",
              "      <td>1.0</td>\n",
              "      <td>1.0</td>\n",
              "      <td>1.0</td>\n",
              "      <td>1.0</td>\n",
              "      <td>1.0</td>\n",
              "      <td>1.0</td>\n",
              "      <td>1.0</td>\n",
              "      <td>1.0</td>\n",
              "      <td>1.0</td>\n",
              "      <td>0.0</td>\n",
              "      <td>0.0</td>\n",
              "      <td>0.0</td>\n",
              "      <td>0.0</td>\n",
              "      <td>0.0</td>\n",
              "      <td>0.0</td>\n",
              "      <td>1.0</td>\n",
              "      <td>1.0</td>\n",
              "      <td>1.0</td>\n",
              "      <td>1.0</td>\n",
              "      <td>0.0</td>\n",
              "      <td>0.0</td>\n",
              "      <td>0.0</td>\n",
              "      <td>0.0</td>\n",
              "      <td>1.0</td>\n",
              "      <td>1.0</td>\n",
              "      <td>1.0</td>\n",
              "      <td>1.0</td>\n",
              "      <td>1.0</td>\n",
              "      <td>1.0</td>\n",
              "      <td>0.0</td>\n",
              "      <td>0.0</td>\n",
              "      <td>1.0</td>\n",
              "      <td>1.0</td>\n",
              "      <td>1.0</td>\n",
              "      <td>0.0</td>\n",
              "      <td>0.0</td>\n",
              "      <td>0.0</td>\n",
              "      <td>0.0</td>\n",
              "      <td>0.0</td>\n",
              "      <td>...</td>\n",
              "      <td>0.0</td>\n",
              "      <td>0.0</td>\n",
              "      <td>0.0</td>\n",
              "      <td>0.0</td>\n",
              "      <td>0.0</td>\n",
              "      <td>0.0</td>\n",
              "      <td>1.0</td>\n",
              "      <td>1.0</td>\n",
              "      <td>0.0</td>\n",
              "      <td>0.0</td>\n",
              "      <td>0.0</td>\n",
              "      <td>0.0</td>\n",
              "      <td>0.0</td>\n",
              "      <td>0.0</td>\n",
              "      <td>0.0</td>\n",
              "      <td>0.0</td>\n",
              "      <td>0.0</td>\n",
              "      <td>0.0</td>\n",
              "      <td>0.0</td>\n",
              "      <td>0.0</td>\n",
              "      <td>0.0</td>\n",
              "      <td>0.0</td>\n",
              "      <td>1.0</td>\n",
              "      <td>1.0</td>\n",
              "      <td>0.0</td>\n",
              "      <td>0.0</td>\n",
              "      <td>0.0</td>\n",
              "      <td>0.0</td>\n",
              "      <td>0.0</td>\n",
              "      <td>0</td>\n",
              "      <td>0</td>\n",
              "      <td>0</td>\n",
              "      <td>0</td>\n",
              "      <td>0</td>\n",
              "      <td>0</td>\n",
              "      <td>0</td>\n",
              "      <td>0</td>\n",
              "      <td>0</td>\n",
              "      <td>1</td>\n",
              "      <td>NaN</td>\n",
              "    </tr>\n",
              "    <tr>\n",
              "      <th>1592</th>\n",
              "      <td>0.0</td>\n",
              "      <td>0.0</td>\n",
              "      <td>0.0</td>\n",
              "      <td>0.0</td>\n",
              "      <td>0.0</td>\n",
              "      <td>0.0</td>\n",
              "      <td>1.0</td>\n",
              "      <td>1.0</td>\n",
              "      <td>1.0</td>\n",
              "      <td>1.0</td>\n",
              "      <td>1.0</td>\n",
              "      <td>1.0</td>\n",
              "      <td>1.0</td>\n",
              "      <td>1.0</td>\n",
              "      <td>1.0</td>\n",
              "      <td>1.0</td>\n",
              "      <td>0.0</td>\n",
              "      <td>0.0</td>\n",
              "      <td>0.0</td>\n",
              "      <td>0.0</td>\n",
              "      <td>1.0</td>\n",
              "      <td>1.0</td>\n",
              "      <td>1.0</td>\n",
              "      <td>1.0</td>\n",
              "      <td>1.0</td>\n",
              "      <td>1.0</td>\n",
              "      <td>1.0</td>\n",
              "      <td>0.0</td>\n",
              "      <td>1.0</td>\n",
              "      <td>1.0</td>\n",
              "      <td>1.0</td>\n",
              "      <td>1.0</td>\n",
              "      <td>0.0</td>\n",
              "      <td>0.0</td>\n",
              "      <td>0.0</td>\n",
              "      <td>0.0</td>\n",
              "      <td>1.0</td>\n",
              "      <td>1.0</td>\n",
              "      <td>1.0</td>\n",
              "      <td>0.0</td>\n",
              "      <td>...</td>\n",
              "      <td>1.0</td>\n",
              "      <td>1.0</td>\n",
              "      <td>1.0</td>\n",
              "      <td>1.0</td>\n",
              "      <td>1.0</td>\n",
              "      <td>1.0</td>\n",
              "      <td>0.0</td>\n",
              "      <td>0.0</td>\n",
              "      <td>0.0</td>\n",
              "      <td>0.0</td>\n",
              "      <td>0.0</td>\n",
              "      <td>0.0</td>\n",
              "      <td>0.0</td>\n",
              "      <td>0.0</td>\n",
              "      <td>0.0</td>\n",
              "      <td>0.0</td>\n",
              "      <td>1.0</td>\n",
              "      <td>1.0</td>\n",
              "      <td>1.0</td>\n",
              "      <td>1.0</td>\n",
              "      <td>0.0</td>\n",
              "      <td>0.0</td>\n",
              "      <td>0.0</td>\n",
              "      <td>0.0</td>\n",
              "      <td>0.0</td>\n",
              "      <td>0.0</td>\n",
              "      <td>0.0</td>\n",
              "      <td>0.0</td>\n",
              "      <td>0.0</td>\n",
              "      <td>0</td>\n",
              "      <td>0</td>\n",
              "      <td>0</td>\n",
              "      <td>0</td>\n",
              "      <td>0</td>\n",
              "      <td>0</td>\n",
              "      <td>0</td>\n",
              "      <td>0</td>\n",
              "      <td>0</td>\n",
              "      <td>1</td>\n",
              "      <td>NaN</td>\n",
              "    </tr>\n",
              "  </tbody>\n",
              "</table>\n",
              "<p>1593 rows × 267 columns</p>\n",
              "</div>"
            ],
            "text/plain": [
              "      0    1    2    3    4    5    6    ...  260  261  262  263  264  265  266\n",
              "0     0.0  0.0  0.0  0.0  0.0  0.0  1.0  ...    0    0    0    0    0    0  NaN\n",
              "1     0.0  0.0  0.0  0.0  0.0  1.0  1.0  ...    0    0    0    0    0    0  NaN\n",
              "2     0.0  0.0  0.0  0.0  0.0  0.0  0.0  ...    0    0    0    0    0    0  NaN\n",
              "3     0.0  0.0  0.0  0.0  0.0  0.0  1.0  ...    0    0    0    0    0    0  NaN\n",
              "4     0.0  0.0  0.0  0.0  0.0  0.0  0.0  ...    0    0    0    0    0    0  NaN\n",
              "...   ...  ...  ...  ...  ...  ...  ...  ...  ...  ...  ...  ...  ...  ...  ...\n",
              "1588  0.0  0.0  0.0  1.0  1.0  1.0  1.0  ...    0    0    0    0    0    1  NaN\n",
              "1589  0.0  0.0  0.0  1.0  1.0  1.0  1.0  ...    0    0    0    0    0    1  NaN\n",
              "1590  0.0  0.0  1.0  1.0  1.0  1.0  1.0  ...    0    0    0    0    0    1  NaN\n",
              "1591  0.0  1.0  1.0  1.0  1.0  1.0  1.0  ...    0    0    0    0    0    1  NaN\n",
              "1592  0.0  0.0  0.0  0.0  0.0  0.0  1.0  ...    0    0    0    0    0    1  NaN\n",
              "\n",
              "[1593 rows x 267 columns]"
            ]
          },
          "metadata": {
            "tags": []
          },
          "execution_count": 7
        }
      ]
    },
    {
      "cell_type": "markdown",
      "metadata": {
        "id": "OnQrOwoLv7TQ"
      },
      "source": [
        "Φορτώνοντας το dataset και κάνοντας ένα preview παρατηρούμε τα εξής:\n",
        "\n",
        "* Υπάρχουν συνολικά 1593 δείγματα καθένα από τα οποία αντιστοιχεί και σε μία σειρά (row) του Dataframe\n",
        "* Κάθε δείγμα έχει 256 χαρακτηριστικά, το καθένα από τα οποία αντιστοιχεί και σε ένα pixel της σκαναρισμένης εικόνας. Τα pixel βρίσκονται στις πρώτες 256 στήλες του Dataframe. Οι τιμές τους έχουν προκύψει από κατωφλιοποίηση και για αυτό είναι binary (0|1).\n",
        "* Δεν υπάρχουν επικεφαλίδες στα δεδομένα ούτε αρίθμηση.\n",
        "* Το dataset ειναι multiclass και οι ετικέτες των κλασεων εισάγονται ως 10 binary χαρακτηριστικά, καθένα από τα οποία αντιστοιχεί και σε μία κλάση-ψηφίο. Η ύπαρξη της τιμής 1 στο χαρακτηριστικό, υποδεικνύει πως το δείγμα ανήκει στη συγκεκριμένη κλάση. Κάθε δείγμα ανήκει σε μόνο μία κλάση.\n",
        "* Δεν υπάρχουν απουσιάζουσες τιμές με εξαίρεση μία ολόκληρη κολώνα (την τελευταία), η οποία περιέχει μόνο **NaN** και την αγνοήσαμε\n"
      ]
    },
    {
      "cell_type": "code",
      "metadata": {
        "id": "bPdvgpG3bexG",
        "colab": {
          "base_uri": "https://localhost:8080/"
        },
        "outputId": "70c11e7f-e408-4326-9378-310e82c22aa7"
      },
      "source": [
        "# Φορτώνουμε τα 256 πρώτα χαρακτηριστικά στη μεταβλητή X_train και τις επιθυμητές εξόδους - ετικέτες στην y_train\n",
        "X_train, y_train = data.iloc[:, :256].values, data.iloc[:, 256:266].values   #save train_data into numpy.ndarray type\n",
        "print('X_train shape: {} /// y_train shape: {}'.format(X_train.shape, y_train.shape))\n",
        "print('')"
      ],
      "execution_count": null,
      "outputs": [
        {
          "output_type": "stream",
          "text": [
            "X_train shape: (1593, 256) /// y_train shape: (1593, 10)\n",
            "\n"
          ],
          "name": "stdout"
        }
      ]
    },
    {
      "cell_type": "markdown",
      "metadata": {
        "id": "tw8L3lX4pm6w"
      },
      "source": [
        "Τα δεδομένα μας είναι χωρισμένα σε κλάσεις με περίπου ίσο αριθμό δειγμάτων η καθεμία. Έχουμε δηλαδή ένα balanced dataset όπως φαίνεται και παρακάτω.\n",
        "\n"
      ]
    },
    {
      "cell_type": "code",
      "metadata": {
        "colab": {
          "base_uri": "https://localhost:8080/"
        },
        "id": "K8GQtzvTnKDq",
        "outputId": "6287fa70-5e6c-4dc2-8b6c-e8c880373b98"
      },
      "source": [
        "print(np.sum(y_train, axis=0))"
      ],
      "execution_count": null,
      "outputs": [
        {
          "output_type": "stream",
          "text": [
            "[161 162 159 159 161 159 161 158 155 158]\n"
          ],
          "name": "stdout"
        }
      ]
    },
    {
      "cell_type": "markdown",
      "metadata": {
        "id": "6FrY_bwnqBXB"
      },
      "source": [
        "Παρακάτω κατασκευάζουμε μια απλή συνάρτηση, η οποία δέχεται ως όρισμα τον πίνακα με τις τιμές των χαρακτηριστικών και το index ενός συγκεκριμένου στοιχείου-εικόνας και μετατρέποντας το vector με τις τιμές των 256 pixels σε έναν πίνακα 16 X 16 το plotάρει δίνοντάς μας και οπτικό αποτέλεσμα. \n",
        "\n",
        "Το βήμα αυτό απλά μας βοηθά να επιβεβαιώσουμε πως κατανoήσαμε σωστά το dataset."
      ]
    },
    {
      "cell_type": "code",
      "metadata": {
        "colab": {
          "base_uri": "https://localhost:8080/",
          "height": 285
        },
        "id": "-fsdSq6HcD2Q",
        "outputId": "c8d897ae-7977-4995-9f47-e72c2863f230"
      },
      "source": [
        "def show_sample(X, index):\n",
        "  plt.imshow((np.reshape((X[index,:]), (16,16))))   #reshape the 256 feautures of the specified index into an (16,16) array \n",
        " \n",
        "#lib.show_sample(X_train,130)\n",
        "show_sample(X_train,587)\n",
        "print(y_train[587]) #verification"
      ],
      "execution_count": null,
      "outputs": [
        {
          "output_type": "stream",
          "text": [
            "[0 0 0 0 0 0 0 0 0 1]\n"
          ],
          "name": "stdout"
        },
        {
          "output_type": "display_data",
          "data": {
            "image/png": "[encoded data removed]",
            "text/plain": [
              "<Figure size 432x288 with 1 Axes>"
            ]
          },
          "metadata": {
            "tags": []
          }
        }
      ]
    },
    {
      "cell_type": "markdown",
      "metadata": {
        "id": "_QyQZAiXrhDj"
      },
      "source": [
        "Παρακάτω φαίνεται πως οι 10 κλάσεις που αντιστοιχούν στα 10 ψηφία εμφανίζονται σχεδόν με την ίδια συχνότητα στο dataset, δηλαδή περίπου 10%."
      ]
    },
    {
      "cell_type": "code",
      "metadata": {
        "colab": {
          "base_uri": "https://localhost:8080/"
        },
        "id": "29QeBtoudXrr",
        "outputId": "890a7a55-2211-42cd-d4b5-c2bbd1bbf70c"
      },
      "source": [
        "np.sum(y_train, axis=0)/np.sum(y_train)"
      ],
      "execution_count": null,
      "outputs": [
        {
          "output_type": "execute_result",
          "data": {
            "text/plain": [
              "array([0.10106717, 0.10169492, 0.09981168, 0.09981168, 0.10106717,\n",
              "       0.09981168, 0.10106717, 0.09918393, 0.09730069, 0.09918393])"
            ]
          },
          "metadata": {
            "tags": []
          },
          "execution_count": 10
        }
      ]
    },
    {
      "cell_type": "markdown",
      "metadata": {
        "id": "ZCnk35zpALeA"
      },
      "source": [
        "Παρακάτω πρόκειται να εκτελέσουμε το διαχωρισμό των δεδομένων σε train και test sets, κρατώντας ένα ποσοστό 30% των συνολικών δεδομένων ως test set. Θα χρησιμοποιήσουμε μία random state, ώστε να μπορούμε να αναπαράγουμε τον \"τυχαίο\" καθορισμό του train και test set σε περίπτωση που το χρειαστούμε."
      ]
    },
    {
      "cell_type": "code",
      "metadata": {
        "id": "u2OPq2ZErdKq"
      },
      "source": [
        "from sklearn.model_selection import train_test_split\n",
        "# Split our data\n",
        "train, test, train_labels, test_labels = train_test_split(X_train, y_train, test_size=0.3, random_state = 451)"
      ],
      "execution_count": null,
      "outputs": []
    },
    {
      "cell_type": "markdown",
      "metadata": {
        "id": "7yZ13Tl9NdyS"
      },
      "source": [
        "Ελέγχουμε πως και το train set που δημιουργήσαμε έχει μια σχετική ισορροπία μεταξύ των κλάσεων, ώστε να υπάρχουν αρκετά δεδομένα για την εκπαίδευση των ταξινομητών για όλες τις κλάσεις."
      ]
    },
    {
      "cell_type": "code",
      "metadata": {
        "colab": {
          "base_uri": "https://localhost:8080/"
        },
        "id": "wDfqW_ElBIrT",
        "outputId": "a8aa9528-316b-4252-b1b1-23c866608911"
      },
      "source": [
        "print(np.sum(train_labels, axis=0)/np.sum(train_labels))"
      ],
      "execution_count": null,
      "outputs": [
        {
          "output_type": "stream",
          "text": [
            "[0.09955157 0.10044843 0.09596413 0.09147982 0.10134529 0.09327354\n",
            " 0.10852018 0.10224215 0.09865471 0.10852018]\n"
          ],
          "name": "stdout"
        }
      ]
    },
    {
      "cell_type": "markdown",
      "metadata": {
        "id": "iZfpdqBa4k0d"
      },
      "source": [
        "Παρατηρήσαμε προηγουμένως πως οι ετικέτες του dataset δίνονταν σε μορφή binary labels, αλλά για να είναι πιο εύκολη η διαχείρισή τους θα της ενώσουμε σε ένα label το οποίο λαμβάνει τιμές από 0 έως 9, καθεμία από τις οποίες αντιστοιχεί και στην κάση του συγκεκριμένου ψηφίου.\n",
        "\n",
        "Για να το κάνουμε αυτό θα χρησιμοποιήσουμε γινόμενο πινάκων πολλαπλασιάζοντας τον πίνακα των κλάσεων με τον πίνακα [0 1 2 3 4 5 6 7 8 9] των ετικετών.\n",
        "\n",
        "Εναλλακτικά μπορούμε να χρησιμοποιήσουμε transformers αλλά είχαμε γράψει μεγάλο μέρος του Notebook όταν το καταλάβαμε και επιλέξαμε να μην το αλλάξουμε."
      ]
    },
    {
      "cell_type": "code",
      "metadata": {
        "id": "aZgnXIB7nSCl"
      },
      "source": [
        "classes = range(0,10)\n",
        "unbin_train_labels = train_labels.dot(classes)\n",
        "unbin_test_labels = test_labels.dot(classes)"
      ],
      "execution_count": null,
      "outputs": []
    },
    {
      "cell_type": "markdown",
      "metadata": {
        "id": "Pj795ELAFkLH"
      },
      "source": [
        "# Data pre-processing"
      ]
    },
    {
      "cell_type": "markdown",
      "metadata": {
        "id": "JL8cKqTPPbnA"
      },
      "source": [
        "Στο σημείο αυτό θα ελέγξουμε τα χαρακτηριστικά του dataset ώστε να δούμε ποια είδη προεπεξεργασίας θα μπορούσαν να φανούν χρήσιμα. "
      ]
    },
    {
      "cell_type": "code",
      "metadata": {
        "id": "dEiGBdKpFnw9"
      },
      "source": [
        "from sklearn.feature_selection import VarianceThreshold\n",
        "from sklearn.decomposition import PCA"
      ],
      "execution_count": null,
      "outputs": []
    },
    {
      "cell_type": "code",
      "metadata": {
        "id": "YsQHdYHIG_UR"
      },
      "source": [
        "var = np.var(train, axis=0)"
      ],
      "execution_count": null,
      "outputs": []
    },
    {
      "cell_type": "code",
      "metadata": {
        "colab": {
          "base_uri": "https://localhost:8080/"
        },
        "id": "GTjrH4KLHcuD",
        "outputId": "aedd2302-f1e6-4120-cb9c-056df4814f89"
      },
      "source": [
        "print(var)"
      ],
      "execution_count": null,
      "outputs": [
        {
          "output_type": "stream",
          "text": [
            "[0.08530234 0.13108327 0.17639607 0.20946007 0.23501297 0.24810795\n",
            " 0.24886887 0.24425667 0.23320477 0.23250015 0.23104748 0.24017857\n",
            " 0.24685797 0.24997567 0.23812584 0.19625088 0.11968871 0.17195118\n",
            " 0.20873454 0.22379376 0.23544893 0.23889481 0.24341209 0.23926964\n",
            " 0.2455356  0.2455356  0.24685797 0.24675662 0.24611474 0.24577208\n",
            " 0.23945464 0.1768819  0.13046391 0.19287257 0.21229785 0.21701623\n",
            " 0.22172173 0.21668966 0.21017917 0.19541595 0.20386173 0.20032898\n",
            " 0.20501036 0.21401918 0.22849766 0.23671821 0.23812584 0.18580707\n",
            " 0.13108327 0.20072795 0.20763418 0.20501036 0.20424621 0.1937268\n",
            " 0.17736612 0.15728931 0.17245149 0.17639607 0.18983209 0.20946007\n",
            " 0.21536729 0.23004685 0.22979268 0.16993384 0.16160711 0.21401918\n",
            " 0.22578697 0.21264534 0.19912244 0.1885049  0.18118201 0.17784874\n",
            " 0.18983209 0.20689256 0.20726417 0.21401918 0.22141929 0.22379376\n",
            " 0.21264534 0.1413662  0.17639607 0.2229154  0.22770134 0.22172173\n",
            " 0.21435862 0.20726417 0.21053631 0.21089183 0.22437129 0.22606527\n",
            " 0.22634197 0.21734119 0.21089183 0.19707937 0.18761206 0.1190404\n",
            " 0.18805928 0.23079973 0.23104748 0.22927949 0.23202236 0.23651069\n",
            " 0.23692413 0.24035553 0.24341209 0.24203664 0.23501297 0.22437129\n",
            " 0.20800257 0.18305134 0.17094573 0.12033542 0.1974912  0.23079973\n",
            " 0.22661706 0.21766454 0.22202256 0.22716242 0.23870498 0.24281687\n",
            " 0.24465724 0.24341209 0.23753222 0.22350258 0.20909811 0.1889489\n",
            " 0.17976312 0.12481731 0.21469645 0.24203664 0.23029942 0.22823383\n",
            " 0.23055038 0.23523176 0.23851354 0.24171329 0.24588791 0.24541495\n",
            " 0.24370005 0.23908303 0.24       0.23544893 0.22379376 0.14834483\n",
            " 0.2226194  0.2415492  0.22408333 0.20873454 0.21017917 0.21159806\n",
            " 0.21734119 0.22494239 0.23055038 0.22408333 0.22202256 0.22689055\n",
            " 0.24296809 0.24644292 0.23908303 0.16319974 0.22796839 0.24203664\n",
            " 0.22202256 0.20230771 0.19666593 0.1974912  0.1893913  0.19244304\n",
            " 0.19287257 0.1920119  0.20032898 0.21194876 0.23412174 0.24516881\n",
            " 0.24053088 0.18258642 0.23029942 0.24565465 0.22634197 0.19952623\n",
            " 0.17832975 0.1637274  0.15892055 0.15286855 0.16425345 0.16582195\n",
            " 0.18671278 0.20152104 0.22550705 0.23457057 0.2356645  0.17590862\n",
            " 0.22927949 0.24644292 0.23501297 0.20651933 0.18165175 0.1545384\n",
            " 0.15230871 0.15118422 0.17443665 0.18071065 0.20386173 0.21701623\n",
            " 0.23630155 0.23945464 0.22902049 0.15837841 0.20726417 0.24281687\n",
            " 0.24425667 0.23609081 0.2232098  0.20689256 0.19871705 0.20501036\n",
            " 0.21333548 0.22379376 0.23609081 0.2413835  0.24588791 0.24121619\n",
            " 0.20763418 0.121624   0.18165175 0.23773171 0.24962818 0.24633514\n",
            " 0.24070462 0.23609081 0.22823383 0.23651069 0.23692413 0.24370005\n",
            " 0.24826077 0.2493917  0.24171329 0.21798629 0.17195118 0.09533592\n",
            " 0.09533592 0.13354461 0.18211989 0.21536729 0.2413835  0.24685797\n",
            " 0.24892839 0.24665366 0.24600213 0.22661706 0.19952623 0.16993384\n",
            " 0.14777212 0.11708581 0.08457359 0.03872992]\n"
          ],
          "name": "stdout"
        }
      ]
    },
    {
      "cell_type": "markdown",
      "metadata": {
        "id": "3LHTQ1D7nIT5"
      },
      "source": [
        "Παρατηρούμε πως αν και τα χαρακτηριστικά παίρνουν τιμές 0 ή 1 οι διασπορές τους κυμαίνονται μεταξύ του μηδενός και της μονάδας. Υποψιαζόμαστε, λοιπόν, πως θα αποδώσει η προεπεξεργασία με StandardScaler. \n",
        "\n",
        "Επίσης έχουμε πολλά χαρακτηριστικά καθένα από τα οποία έχει ένα μικρό κομμάτι μόνο της συνολικής πληροφορίας. Θα χρησιμποιήσουμε PCA, ώστε να μειώσουμε τις διαστάσεις και να αυξήσουμε την πληροφορία που περιέχει καθεμία από αυτές. Θα μπορούσαμε εναλλακτικά να ομαδοποιήσουμε τα pixels σε blocks, τεχνική που συναντάται συχνά στην επεξεργασία εικόνας, αλλά δε θα το κάνουμε καθώς ξεφεύγει από τα όρια και την ουσία της εργασίας.\n"
      ]
    },
    {
      "cell_type": "markdown",
      "metadata": {
        "id": "TPNnG7thBkd4"
      },
      "source": [
        "# Dummy Classifier"
      ]
    },
    {
      "cell_type": "code",
      "metadata": {
        "id": "q3zxPZDxBPqQ"
      },
      "source": [
        "from sklearn.dummy import DummyClassifier\n",
        "\n",
        "dc_uniform = DummyClassifier(strategy=\"uniform\")\n",
        "dc_constant_1 = DummyClassifier(strategy=\"constant\", constant=1)\n",
        "dc_constant_5 = DummyClassifier(strategy=\"constant\", constant=5)\n",
        "dc_most_frequent = DummyClassifier(strategy=\"most_frequent\")\n",
        "dc_stratified = DummyClassifier(strategy=\"stratified\")"
      ],
      "execution_count": null,
      "outputs": []
    },
    {
      "cell_type": "code",
      "metadata": {
        "id": "TbKzw0VEFSzd"
      },
      "source": [
        "#με τη μέθοδο fit \"εκπαιδεύουμε\" τον ταξινομητή στο σύνολο εκπαίδευσης (τα χαρακτηριστικά και τις ετικέτες τους)\n",
        "model = dc_uniform.fit(train, unbin_train_labels)"
      ],
      "execution_count": null,
      "outputs": []
    },
    {
      "cell_type": "code",
      "metadata": {
        "id": "4wf-RQqdFTfB"
      },
      "source": [
        "#με τη μέθοδο predict παράγουμε προβλέψεις για τα δεδομένα ελέγχου (είσοδος τα χαρακτηριστικά μόνο)\n",
        "preds = dc_uniform.predict(test)"
      ],
      "execution_count": null,
      "outputs": []
    },
    {
      "cell_type": "code",
      "metadata": {
        "id": "l4yVZFnAFb2V"
      },
      "source": [
        "dummy_accuracy = dc_uniform.score(test, unbin_test_labels) "
      ],
      "execution_count": null,
      "outputs": []
    },
    {
      "cell_type": "code",
      "metadata": {
        "colab": {
          "base_uri": "https://localhost:8080/"
        },
        "id": "LPRw9UIXSSK8",
        "outputId": "87286ba1-b9d9-4d64-e00f-35038b024078"
      },
      "source": [
        "print(dummy_accuracy)"
      ],
      "execution_count": null,
      "outputs": [
        {
          "output_type": "stream",
          "text": [
            "0.08577405857740586\n"
          ],
          "name": "stdout"
        }
      ]
    },
    {
      "cell_type": "code",
      "metadata": {
        "colab": {
          "base_uri": "https://localhost:8080/"
        },
        "id": "66SLzuHWvgih",
        "outputId": "958028d6-f78b-471f-f528-472bf2e08d53"
      },
      "source": [
        "model = dc_constant_1.fit(train, unbin_train_labels)\n",
        "preds = dc_constant_1.predict(test)\n",
        "dummy_accuracy = dc_constant_1.score(test, unbin_test_labels) \n",
        "print(dummy_accuracy)"
      ],
      "execution_count": null,
      "outputs": [
        {
          "output_type": "stream",
          "text": [
            "0.11506276150627615\n"
          ],
          "name": "stdout"
        }
      ]
    },
    {
      "cell_type": "code",
      "metadata": {
        "colab": {
          "base_uri": "https://localhost:8080/"
        },
        "id": "H8XuVlFJv4yO",
        "outputId": "4dbd859f-aeb2-4b3f-e75a-1c0dbf21c82b"
      },
      "source": [
        "model = dc_most_frequent.fit(train, unbin_train_labels)\n",
        "preds = dc_most_frequent.predict(test)\n",
        "dummy_accuracy = dc_most_frequent.score(test, unbin_test_labels) \n",
        "print(dummy_accuracy)"
      ],
      "execution_count": null,
      "outputs": [
        {
          "output_type": "stream",
          "text": [
            "0.08368200836820083\n"
          ],
          "name": "stdout"
        }
      ]
    },
    {
      "cell_type": "code",
      "metadata": {
        "colab": {
          "base_uri": "https://localhost:8080/"
        },
        "id": "ROgmEt3YwBAN",
        "outputId": "04fb4d05-142d-40e9-d1c5-2edcb4314acc"
      },
      "source": [
        "dc_stratified = DummyClassifier(strategy=\"stratified\")\n",
        "model = dc_stratified.fit(train, unbin_train_labels)\n",
        "preds = dc_stratified.predict(test)\n",
        "dummy_accuracy = dc_stratified.score(test, unbin_test_labels) \n",
        "print(dummy_accuracy)"
      ],
      "execution_count": null,
      "outputs": [
        {
          "output_type": "stream",
          "text": [
            "0.0899581589958159\n"
          ],
          "name": "stdout"
        }
      ]
    },
    {
      "cell_type": "markdown",
      "metadata": {
        "id": "a7fQSoYrSpQM"
      },
      "source": [
        "Σε γενικές γραμμές παρατηρούμε πως οι Dummy Classifiers δεν έχουν καμία δυνατότητα να εξάγουν πληροφορία από τα χαρακτηριστικά του dataset με αποτέλεσμα να μην έχουν καμία τύχη σε balanced multi-class datasets, όπως το dataset που εξετάζουμε αυτή τη στιγμή. Δεν θα αναλωθούμε σε περισσότερη αναζήτηση για «καλούς» Dummy ταξινομητές και θα περάσουμε αμέσως σε ταξινομητές οι οποίοι μπορούν να μας δώσουν ενδιαφέροντα αποτελέσματα."
      ]
    },
    {
      "cell_type": "markdown",
      "metadata": {
        "id": "B0LnybmmN5mM"
      },
      "source": [
        "# Gaussian Naive Bayes"
      ]
    },
    {
      "cell_type": "markdown",
      "metadata": {
        "id": "ztYv0pRNE6uq"
      },
      "source": [
        "## Ορισμός απλόυ GNB ως benchmark"
      ]
    },
    {
      "cell_type": "markdown",
      "metadata": {
        "id": "bAfX1z4NWBhC"
      },
      "source": [
        "Αρχικά θα δοκιμάσουμε τον default ταξινομητή Gaussian Naive Bayes χωρίς να κάνουμε κάποιο pre-processing στα δεδομένα μας, και θα χρησιμοποιήσουμε τα αποτελέσματα ως benchmark για τα αποτελέσματα της παραμετροποίησης."
      ]
    },
    {
      "cell_type": "code",
      "metadata": {
        "id": "Md7eWNQcN7zB"
      },
      "source": [
        "from sklearn.naive_bayes import GaussianNB\n",
        "gnb_clf = GaussianNB()"
      ],
      "execution_count": null,
      "outputs": []
    },
    {
      "cell_type": "code",
      "metadata": {
        "colab": {
          "base_uri": "https://localhost:8080/"
        },
        "id": "3C02yVrZO9rD",
        "outputId": "6fd66475-f596-4230-8b88-a7930455da51"
      },
      "source": [
        "gnb_clf.fit(train,unbin_train_labels)"
      ],
      "execution_count": null,
      "outputs": [
        {
          "output_type": "execute_result",
          "data": {
            "text/plain": [
              "GaussianNB(priors=None, var_smoothing=1e-09)"
            ]
          },
          "metadata": {
            "tags": []
          },
          "execution_count": 26
        }
      ]
    },
    {
      "cell_type": "code",
      "metadata": {
        "id": "FFqb11l5PICk"
      },
      "source": [
        "gnb_preds = gnb_clf.predict(test)"
      ],
      "execution_count": null,
      "outputs": []
    },
    {
      "cell_type": "code",
      "metadata": {
        "id": "YUhwI3CKSOVv"
      },
      "source": [
        "gnb_accuracy = gnb_clf.score(test, unbin_test_labels) "
      ],
      "execution_count": null,
      "outputs": []
    },
    {
      "cell_type": "code",
      "metadata": {
        "colab": {
          "base_uri": "https://localhost:8080/"
        },
        "id": "J3VmSvaCMp2E",
        "outputId": "515aa1e7-124e-41ea-b1ee-76cbc3ed5f84"
      },
      "source": [
        "print(gnb_accuracy)"
      ],
      "execution_count": null,
      "outputs": [
        {
          "output_type": "stream",
          "text": [
            "0.7384937238493724\n"
          ],
          "name": "stdout"
        }
      ]
    },
    {
      "cell_type": "markdown",
      "metadata": {
        "id": "C-ROmlYdFEPq"
      },
      "source": [
        "## Εύρεση βέλτιστων υπερπαραμέτρων με GridSearch"
      ]
    },
    {
      "cell_type": "markdown",
      "metadata": {
        "id": "25y33YGEWf9s"
      },
      "source": [
        "Στο σημείο αυτό θα εισάγουμε pre-processing στα δεδομένα, προχωρόντας σε μείωση της διαστατικότητας του dataset χρησιμοποιώντας τον αλγόριθμο PCA για εξαγωγωγή των κύριων συνιστωσών. Θα χρησιμοποιήσουμε τη GridSearch, με σκοπό να ελέγξουμε την απόδοση του ταξινομητή Gaussian Naive Bayes ως προς f1-micro και f1-macro για διάφορους συνδυασμούς κύριων συνιστωσών στην PCA. "
      ]
    },
    {
      "cell_type": "code",
      "metadata": {
        "id": "jEzh51ZJQ7JW"
      },
      "source": [
        "gnb_gs = GaussianNB()"
      ],
      "execution_count": null,
      "outputs": []
    },
    {
      "cell_type": "code",
      "metadata": {
        "id": "24srXIcUPUeh"
      },
      "source": [
        "pca = PCA()\n",
        "pipe = Pipeline(steps=[ ('pca', pca), ('GNB', gnb_gs)], memory = 'tmp')"
      ],
      "execution_count": null,
      "outputs": []
    },
    {
      "cell_type": "code",
      "metadata": {
        "id": "qUk4_-dRSNud"
      },
      "source": [
        "n_components = [10, 25, 50, 90, 140, 200]\n",
        "#n_components = [40,45,50,55,60]\n",
        "#n_components = range(46,54)"
      ],
      "execution_count": null,
      "outputs": []
    },
    {
      "cell_type": "code",
      "metadata": {
        "id": "BIlz9y0sSZuD"
      },
      "source": [
        "estimator = GridSearchCV(pipe, dict(pca__n_components=n_components), cv=5, scoring='f1_macro', n_jobs=-1)"
      ],
      "execution_count": null,
      "outputs": []
    },
    {
      "cell_type": "code",
      "metadata": {
        "colab": {
          "base_uri": "https://localhost:8080/"
        },
        "id": "g2YGZsOKS7S8",
        "outputId": "88f71d89-109e-43b8-9c88-ed2e8a6c855d"
      },
      "source": [
        "start_time = time.time()\n",
        "estimator.fit(train, unbin_train_labels)\n",
        "preds = estimator.predict(test)\n",
        "print(\"Συνολικός χρόνος fit και predict: %s seconds\" % (time.time() - start_time))\n",
        "print(classification_report(unbin_test_labels, preds))"
      ],
      "execution_count": null,
      "outputs": [
        {
          "output_type": "stream",
          "text": [
            "Συνολικός χρόνος fit και predict: 5.776782274246216 seconds\n",
            "              precision    recall  f1-score   support\n",
            "\n",
            "           0       1.00      0.82      0.90        50\n",
            "           1       0.91      0.86      0.89        50\n",
            "           2       0.96      0.88      0.92        52\n",
            "           3       0.93      0.91      0.92        57\n",
            "           4       0.81      0.88      0.84        48\n",
            "           5       0.94      0.93      0.94        55\n",
            "           6       0.86      0.93      0.89        40\n",
            "           7       0.87      0.89      0.88        44\n",
            "           8       0.79      0.84      0.82        45\n",
            "           9       0.68      0.81      0.74        37\n",
            "\n",
            "    accuracy                           0.88       478\n",
            "   macro avg       0.88      0.87      0.87       478\n",
            "weighted avg       0.88      0.88      0.88       478\n",
            "\n"
          ],
          "name": "stdout"
        }
      ]
    },
    {
      "cell_type": "code",
      "metadata": {
        "colab": {
          "base_uri": "https://localhost:8080/"
        },
        "id": "FKI2r8gFSpGt",
        "outputId": "5e24d6e6-bf48-4eb5-b1b7-67e43d3b70eb"
      },
      "source": [
        "print(estimator.best_estimator_)\n",
        "print(estimator.best_params_)"
      ],
      "execution_count": null,
      "outputs": [
        {
          "output_type": "stream",
          "text": [
            "Pipeline(memory='tmp',\n",
            "         steps=[('pca',\n",
            "                 PCA(copy=True, iterated_power='auto', n_components=90,\n",
            "                     random_state=None, svd_solver='auto', tol=0.0,\n",
            "                     whiten=False)),\n",
            "                ('GNB', GaussianNB(priors=None, var_smoothing=1e-09))],\n",
            "         verbose=False)\n",
            "{'pca__n_components': 90}\n"
          ],
          "name": "stdout"
        }
      ]
    },
    {
      "cell_type": "code",
      "metadata": {
        "id": "Xa9yCpl9Uf7f"
      },
      "source": [
        "estimator = GridSearchCV(pipe, dict(pca__n_components=n_components), cv=5, scoring='f1_micro', n_jobs=-1)"
      ],
      "execution_count": null,
      "outputs": []
    },
    {
      "cell_type": "code",
      "metadata": {
        "colab": {
          "base_uri": "https://localhost:8080/"
        },
        "id": "UOacdSKvVjnU",
        "outputId": "ec7975bc-f387-4b2c-cce7-5d6c88f95fc7"
      },
      "source": [
        "start_time = time.time()\n",
        "estimator.fit(train, unbin_train_labels)\n",
        "preds = estimator.predict(test)\n",
        "print(\"Συνολικός χρόνος fit και predict: %s seconds\" % (time.time() - start_time))\n",
        "print(classification_report(unbin_test_labels, preds))"
      ],
      "execution_count": null,
      "outputs": [
        {
          "output_type": "stream",
          "text": [
            "Συνολικός χρόνος fit και predict: 0.6121683120727539 seconds\n",
            "              precision    recall  f1-score   support\n",
            "\n",
            "           0       1.00      0.82      0.90        50\n",
            "           1       0.91      0.86      0.89        50\n",
            "           2       0.96      0.88      0.92        52\n",
            "           3       0.93      0.91      0.92        57\n",
            "           4       0.81      0.88      0.84        48\n",
            "           5       0.94      0.93      0.94        55\n",
            "           6       0.86      0.93      0.89        40\n",
            "           7       0.87      0.89      0.88        44\n",
            "           8       0.79      0.84      0.82        45\n",
            "           9       0.68      0.81      0.74        37\n",
            "\n",
            "    accuracy                           0.88       478\n",
            "   macro avg       0.88      0.87      0.87       478\n",
            "weighted avg       0.88      0.88      0.88       478\n",
            "\n"
          ],
          "name": "stdout"
        }
      ]
    },
    {
      "cell_type": "code",
      "metadata": {
        "colab": {
          "base_uri": "https://localhost:8080/"
        },
        "id": "LMThRwH4VnMG",
        "outputId": "0fb95fef-9756-4ddd-ed4c-77ac1050ca77"
      },
      "source": [
        "print(estimator.best_estimator_)\n",
        "print(estimator.best_params_)"
      ],
      "execution_count": null,
      "outputs": [
        {
          "output_type": "stream",
          "text": [
            "Pipeline(memory='tmp',\n",
            "         steps=[('pca',\n",
            "                 PCA(copy=True, iterated_power='auto', n_components=90,\n",
            "                     random_state=None, svd_solver='auto', tol=0.0,\n",
            "                     whiten=False)),\n",
            "                ('GNB', GaussianNB(priors=None, var_smoothing=1e-09))],\n",
            "         verbose=False)\n",
            "{'pca__n_components': 90}\n"
          ],
          "name": "stdout"
        }
      ]
    },
    {
      "cell_type": "markdown",
      "metadata": {
        "id": "Vkk1I0xZYcTh"
      },
      "source": [
        "Αφού βρήκαμε τον αριθμό κύριων συνιστωσών [n_components] της PCA, κοντά στον οποίο βρίσκεται η βέλτιστη λύση ως προς τις δύο μετρικές θα προσπαθήσουμε να επαναλάβουμε τη GridSearch μειώνοντας σε έκταση το διάστημα αναζήτησης των βέλτιστων παραμέτρων του pre-processing με σκοπό αυτή τη φορά να προσδιορίσουμε με ακόμα μεγαλύτερη ακρίβεια τις παραμέτρους του βέλτιστου ταξινομητή."
      ]
    },
    {
      "cell_type": "code",
      "metadata": {
        "colab": {
          "base_uri": "https://localhost:8080/"
        },
        "id": "CzALSK3ZVLUV",
        "outputId": "994b9359-b428-457b-fdf3-e1d781e2b4c0"
      },
      "source": [
        "n_components = [70, 80, 90, 100 , 110]\n",
        "estimator = GridSearchCV(pipe, dict(pca__n_components=n_components), cv=5, scoring='f1_macro', n_jobs=-1)\n",
        "start_time = time.time()\n",
        "estimator.fit(train, unbin_train_labels)\n",
        "preds = estimator.predict(test)\n",
        "print(\"Συνολικός χρόνος fit και predict: %s seconds\" % (time.time() - start_time))\n",
        "print(classification_report(unbin_test_labels, preds))\n",
        "print(estimator.best_estimator_)\n",
        "print(estimator.best_params_)"
      ],
      "execution_count": null,
      "outputs": [
        {
          "output_type": "stream",
          "text": [
            "Συνολικός χρόνος fit και predict: 1.852954387664795 seconds\n",
            "              precision    recall  f1-score   support\n",
            "\n",
            "           0       1.00      0.82      0.90        50\n",
            "           1       0.91      0.84      0.87        50\n",
            "           2       0.92      0.88      0.90        52\n",
            "           3       0.93      0.91      0.92        57\n",
            "           4       0.88      0.88      0.88        48\n",
            "           5       0.94      0.93      0.94        55\n",
            "           6       0.84      0.93      0.88        40\n",
            "           7       0.87      0.93      0.90        44\n",
            "           8       0.76      0.84      0.80        45\n",
            "           9       0.74      0.84      0.78        37\n",
            "\n",
            "    accuracy                           0.88       478\n",
            "   macro avg       0.88      0.88      0.88       478\n",
            "weighted avg       0.89      0.88      0.88       478\n",
            "\n",
            "Pipeline(memory='tmp',\n",
            "         steps=[('pca',\n",
            "                 PCA(copy=True, iterated_power='auto', n_components=110,\n",
            "                     random_state=None, svd_solver='auto', tol=0.0,\n",
            "                     whiten=False)),\n",
            "                ('GNB', GaussianNB(priors=None, var_smoothing=1e-09))],\n",
            "         verbose=False)\n",
            "{'pca__n_components': 110}\n"
          ],
          "name": "stdout"
        }
      ]
    },
    {
      "cell_type": "code",
      "metadata": {
        "colab": {
          "base_uri": "https://localhost:8080/"
        },
        "id": "jzsGcmHlVkbN",
        "outputId": "148a0c7c-a561-4a82-e094-925633de90e3"
      },
      "source": [
        "n_components = [70, 80, 90, 100 , 110]\n",
        "estimator = GridSearchCV(pipe, dict(pca__n_components=n_components), cv=5, scoring='f1_micro', n_jobs=-1)\n",
        "start_time = time.time()\n",
        "estimator.fit(train, unbin_train_labels)\n",
        "preds = estimator.predict(test)\n",
        "print(\"Συνολικός χρόνος fit και predict: %s seconds\" % (time.time() - start_time))\n",
        "print(classification_report(unbin_test_labels, preds))\n",
        "print(estimator.best_estimator_)\n",
        "print(estimator.best_params_)"
      ],
      "execution_count": null,
      "outputs": [
        {
          "output_type": "stream",
          "text": [
            "Συνολικός χρόνος fit και predict: 0.5357465744018555 seconds\n",
            "              precision    recall  f1-score   support\n",
            "\n",
            "           0       1.00      0.82      0.90        50\n",
            "           1       0.91      0.86      0.89        50\n",
            "           2       0.96      0.88      0.92        52\n",
            "           3       0.93      0.91      0.92        57\n",
            "           4       0.81      0.88      0.84        48\n",
            "           5       0.94      0.93      0.94        55\n",
            "           6       0.86      0.93      0.89        40\n",
            "           7       0.87      0.89      0.88        44\n",
            "           8       0.79      0.84      0.82        45\n",
            "           9       0.68      0.81      0.74        37\n",
            "\n",
            "    accuracy                           0.88       478\n",
            "   macro avg       0.88      0.87      0.87       478\n",
            "weighted avg       0.88      0.88      0.88       478\n",
            "\n",
            "Pipeline(memory='tmp',\n",
            "         steps=[('pca',\n",
            "                 PCA(copy=True, iterated_power='auto', n_components=90,\n",
            "                     random_state=None, svd_solver='auto', tol=0.0,\n",
            "                     whiten=False)),\n",
            "                ('GNB', GaussianNB(priors=None, var_smoothing=1e-09))],\n",
            "         verbose=False)\n",
            "{'pca__n_components': 90}\n"
          ],
          "name": "stdout"
        }
      ]
    },
    {
      "cell_type": "code",
      "metadata": {
        "colab": {
          "base_uri": "https://localhost:8080/"
        },
        "id": "JHjciuVxWlU4",
        "outputId": "7d16559c-0528-46ed-dac5-94e34e18824f"
      },
      "source": [
        "n_components = [110,120,130,140]\n",
        "estimator = GridSearchCV(pipe, dict(pca__n_components=n_components), cv=5, scoring='f1_macro', n_jobs=-1)\n",
        "start_time = time.time()\n",
        "estimator.fit(train, unbin_train_labels)\n",
        "preds = estimator.predict(test)\n",
        "print(\"Συνολικός χρόνος fit και predict: %s seconds\" % (time.time() - start_time))\n",
        "print(classification_report(unbin_test_labels, preds))\n",
        "print(estimator.best_estimator_)\n",
        "print(estimator.best_params_)"
      ],
      "execution_count": null,
      "outputs": [
        {
          "output_type": "stream",
          "text": [
            "Συνολικός χρόνος fit και predict: 1.3624935150146484 seconds\n",
            "              precision    recall  f1-score   support\n",
            "\n",
            "           0       1.00      0.82      0.90        50\n",
            "           1       0.93      0.80      0.86        50\n",
            "           2       0.87      0.90      0.89        52\n",
            "           3       0.96      0.89      0.93        57\n",
            "           4       0.84      0.85      0.85        48\n",
            "           5       0.93      0.91      0.92        55\n",
            "           6       0.84      0.93      0.88        40\n",
            "           7       0.91      0.91      0.91        44\n",
            "           8       0.74      0.82      0.78        45\n",
            "           9       0.70      0.86      0.77        37\n",
            "\n",
            "    accuracy                           0.87       478\n",
            "   macro avg       0.87      0.87      0.87       478\n",
            "weighted avg       0.88      0.87      0.87       478\n",
            "\n",
            "Pipeline(memory='tmp',\n",
            "         steps=[('pca',\n",
            "                 PCA(copy=True, iterated_power='auto', n_components=120,\n",
            "                     random_state=None, svd_solver='auto', tol=0.0,\n",
            "                     whiten=False)),\n",
            "                ('GNB', GaussianNB(priors=None, var_smoothing=1e-09))],\n",
            "         verbose=False)\n",
            "{'pca__n_components': 120}\n"
          ],
          "name": "stdout"
        }
      ]
    },
    {
      "cell_type": "markdown",
      "metadata": {
        "id": "wayY1IHsZH94"
      },
      "source": [
        "Έχοντας βρει τις βέλτιστες παραμέτρους για τη συγκεκριμένη προεπεξεργασία θα δοκιμάσουμε να εισάγουμε άλλα δύο στάδια προεπεξεργασίας προεπεξεργασίας. Συγκεκριμένα εισάγουμε έναν Selector με Variance Threshold με σκοπό να μη λάβουμε υπόψιν μας χαρακτριστικά με χαμηλή τιμή διασποράς και έπειτα έναν Standard Scaler. \n",
        "\n",
        "Αρχικά θεωρήσαμε πως τα δεδομένα μας ήταν σε αρκετά καλή μορφή ως προς του δύο παράγοντες και πως δε θα πετυχαίναμε μεγάλη διαφορά αλλά όπως φαίνεται παρακάτω τα νέα επίπεδα προεπεξεργασίας, βελτιώνουν έστυω και οριακά την επίδοση του ταξινομητή.\n",
        "\n"
      ]
    },
    {
      "cell_type": "code",
      "metadata": {
        "colab": {
          "base_uri": "https://localhost:8080/"
        },
        "id": "pA8Z0IoBW2M2",
        "outputId": "e5e24681-5e1a-4362-ad4a-291705194c38"
      },
      "source": [
        "selector = VarianceThreshold()\n",
        "scaler = StandardScaler()\n",
        "pipe2 = Pipeline(steps=[('selector', selector), ('scaler', scaler), ('pca', pca), ('GNB', gnb_gs)], memory = 'tmp')\n",
        "n_components = [10, 25, 50, 90, 140, 200]\n",
        "estimator = GridSearchCV(pipe2, dict(pca__n_components=n_components), cv=5, scoring='f1_macro', n_jobs=-1)\n",
        "start_time = time.time()\n",
        "estimator.fit(train, unbin_train_labels)\n",
        "preds = estimator.predict(test)\n",
        "print(\"Συνολικός χρόνος fit και predict: %s seconds\" % (time.time() - start_time))\n",
        "print(classification_report(unbin_test_labels, preds))\n",
        "print(estimator.best_estimator_)\n",
        "print(estimator.best_params_)"
      ],
      "execution_count": null,
      "outputs": [
        {
          "output_type": "stream",
          "text": [
            "Συνολικός χρόνος fit και predict: 3.5277271270751953 seconds\n",
            "              precision    recall  f1-score   support\n",
            "\n",
            "           0       1.00      0.80      0.89        50\n",
            "           1       0.87      0.82      0.85        50\n",
            "           2       0.94      0.92      0.93        52\n",
            "           3       0.94      0.89      0.92        57\n",
            "           4       0.84      0.85      0.85        48\n",
            "           5       0.95      0.95      0.95        55\n",
            "           6       0.90      0.93      0.91        40\n",
            "           7       0.85      0.91      0.88        44\n",
            "           8       0.81      0.87      0.84        45\n",
            "           9       0.67      0.84      0.75        37\n",
            "\n",
            "    accuracy                           0.88       478\n",
            "   macro avg       0.88      0.88      0.88       478\n",
            "weighted avg       0.89      0.88      0.88       478\n",
            "\n",
            "Pipeline(memory='tmp',\n",
            "         steps=[('selector', VarianceThreshold(threshold=0.0)),\n",
            "                ('scaler',\n",
            "                 StandardScaler(copy=True, with_mean=True, with_std=True)),\n",
            "                ('pca',\n",
            "                 PCA(copy=True, iterated_power='auto', n_components=50,\n",
            "                     random_state=None, svd_solver='auto', tol=0.0,\n",
            "                     whiten=False)),\n",
            "                ('GNB', GaussianNB(priors=None, var_smoothing=1e-09))],\n",
            "         verbose=False)\n",
            "{'pca__n_components': 50}\n"
          ],
          "name": "stdout"
        }
      ]
    },
    {
      "cell_type": "code",
      "metadata": {
        "colab": {
          "base_uri": "https://localhost:8080/"
        },
        "id": "rd2Oult9uYM5",
        "outputId": "1fad121e-176c-401c-9b57-e9e697feee61"
      },
      "source": [
        "estimator = GridSearchCV(pipe2, dict(pca__n_components=n_components), cv=5, scoring='f1_micro', n_jobs=-1)\n",
        "start_time = time.time()\n",
        "estimator.fit(train, unbin_train_labels)\n",
        "preds = estimator.predict(test)\n",
        "print(\"Συνολικός χρόνος fit και predict: %s seconds\" % (time.time() - start_time))\n",
        "print(classification_report(unbin_test_labels, preds))\n",
        "print(estimator.best_estimator_)\n",
        "print(estimator.best_params_)"
      ],
      "execution_count": null,
      "outputs": [
        {
          "output_type": "stream",
          "text": [
            "Συνολικός χρόνος fit και predict: 2.0924930572509766 seconds\n",
            "              precision    recall  f1-score   support\n",
            "\n",
            "           0       1.00      0.80      0.89        50\n",
            "           1       0.87      0.82      0.85        50\n",
            "           2       0.94      0.92      0.93        52\n",
            "           3       0.94      0.89      0.92        57\n",
            "           4       0.84      0.85      0.85        48\n",
            "           5       0.95      0.95      0.95        55\n",
            "           6       0.90      0.93      0.91        40\n",
            "           7       0.85      0.91      0.88        44\n",
            "           8       0.81      0.87      0.84        45\n",
            "           9       0.67      0.84      0.75        37\n",
            "\n",
            "    accuracy                           0.88       478\n",
            "   macro avg       0.88      0.88      0.88       478\n",
            "weighted avg       0.89      0.88      0.88       478\n",
            "\n",
            "Pipeline(memory='tmp',\n",
            "         steps=[('selector', VarianceThreshold(threshold=0.0)),\n",
            "                ('scaler',\n",
            "                 StandardScaler(copy=True, with_mean=True, with_std=True)),\n",
            "                ('pca',\n",
            "                 PCA(copy=True, iterated_power='auto', n_components=50,\n",
            "                     random_state=None, svd_solver='auto', tol=0.0,\n",
            "                     whiten=False)),\n",
            "                ('GNB', GaussianNB(priors=None, var_smoothing=1e-09))],\n",
            "         verbose=False)\n",
            "{'pca__n_components': 50}\n"
          ],
          "name": "stdout"
        }
      ]
    },
    {
      "cell_type": "markdown",
      "metadata": {
        "id": "MhAcXHlmuikN"
      },
      "source": [
        "Παρατηρούμε επίσης πως η βέλτιστη παράμετρος για την PCA άλλαξε οπότε θα επανλάβουμε την αναζήτηση κοντά σε αυτό το διάστημα."
      ]
    },
    {
      "cell_type": "code",
      "metadata": {
        "colab": {
          "base_uri": "https://localhost:8080/"
        },
        "id": "2grrcR-Eu0Kd",
        "outputId": "10d8e3bb-9cd1-4de7-8756-1ee88892b9cd"
      },
      "source": [
        "selector = VarianceThreshold()\n",
        "scaler = StandardScaler()\n",
        "pipe2 = Pipeline(steps=[('selector', selector), ('scaler', scaler), ('pca', pca), ('GNB', gnb_gs)], memory = 'tmp')\n",
        "n_components = [40, 45, 50, 55, 60, 65, 70, 75, 80]\n",
        "estimator = GridSearchCV(pipe2, dict(pca__n_components=n_components), cv=5, scoring='f1_macro', n_jobs=-1)\n",
        "start_time = time.time()\n",
        "estimator.fit(train, unbin_train_labels)\n",
        "preds = estimator.predict(test)\n",
        "print(\"Συνολικός χρόνος fit και predict: %s seconds\" % (time.time() - start_time))\n",
        "print(classification_report(unbin_test_labels, preds))\n",
        "print(estimator.best_estimator_)\n",
        "print(estimator.best_params_)"
      ],
      "execution_count": null,
      "outputs": [
        {
          "output_type": "stream",
          "text": [
            "Συνολικός χρόνος fit και predict: 2.177452564239502 seconds\n",
            "              precision    recall  f1-score   support\n",
            "\n",
            "           0       1.00      0.80      0.89        50\n",
            "           1       0.92      0.88      0.90        50\n",
            "           2       0.89      0.94      0.92        52\n",
            "           3       0.94      0.88      0.91        57\n",
            "           4       0.89      0.88      0.88        48\n",
            "           5       0.91      0.89      0.90        55\n",
            "           6       0.93      0.93      0.93        40\n",
            "           7       0.89      0.93      0.91        44\n",
            "           8       0.80      0.87      0.83        45\n",
            "           9       0.63      0.78      0.70        37\n",
            "\n",
            "    accuracy                           0.88       478\n",
            "   macro avg       0.88      0.88      0.88       478\n",
            "weighted avg       0.89      0.88      0.88       478\n",
            "\n",
            "Pipeline(memory='tmp',\n",
            "         steps=[('selector', VarianceThreshold(threshold=0.0)),\n",
            "                ('scaler',\n",
            "                 StandardScaler(copy=True, with_mean=True, with_std=True)),\n",
            "                ('pca',\n",
            "                 PCA(copy=True, iterated_power='auto', n_components=70,\n",
            "                     random_state=None, svd_solver='auto', tol=0.0,\n",
            "                     whiten=False)),\n",
            "                ('GNB', GaussianNB(priors=None, var_smoothing=1e-09))],\n",
            "         verbose=False)\n",
            "{'pca__n_components': 70}\n"
          ],
          "name": "stdout"
        }
      ]
    },
    {
      "cell_type": "code",
      "metadata": {
        "colab": {
          "base_uri": "https://localhost:8080/"
        },
        "id": "6rPKV2z5vRKv",
        "outputId": "520c0f67-74bf-431d-ed33-25346287f770"
      },
      "source": [
        "estimator = GridSearchCV(pipe2, dict(pca__n_components=n_components), cv=5, scoring='f1_micro', n_jobs=-1)\n",
        "start_time = time.time()\n",
        "estimator.fit(train, unbin_train_labels)\n",
        "preds = estimator.predict(test)\n",
        "print(\"Συνολικός χρόνος fit και predict: %s seconds\" % (time.time() - start_time))\n",
        "print(classification_report(unbin_test_labels, preds))\n",
        "print(estimator.best_estimator_)\n",
        "print(estimator.best_params_)"
      ],
      "execution_count": null,
      "outputs": [
        {
          "output_type": "stream",
          "text": [
            "Συνολικός χρόνος fit και predict: 1.5764105319976807 seconds\n",
            "              precision    recall  f1-score   support\n",
            "\n",
            "           0       1.00      0.80      0.89        50\n",
            "           1       0.92      0.88      0.90        50\n",
            "           2       0.89      0.94      0.92        52\n",
            "           3       0.94      0.88      0.91        57\n",
            "           4       0.89      0.88      0.88        48\n",
            "           5       0.91      0.89      0.90        55\n",
            "           6       0.93      0.93      0.93        40\n",
            "           7       0.89      0.93      0.91        44\n",
            "           8       0.80      0.87      0.83        45\n",
            "           9       0.63      0.78      0.70        37\n",
            "\n",
            "    accuracy                           0.88       478\n",
            "   macro avg       0.88      0.88      0.88       478\n",
            "weighted avg       0.89      0.88      0.88       478\n",
            "\n",
            "Pipeline(memory='tmp',\n",
            "         steps=[('selector', VarianceThreshold(threshold=0.0)),\n",
            "                ('scaler',\n",
            "                 StandardScaler(copy=True, with_mean=True, with_std=True)),\n",
            "                ('pca',\n",
            "                 PCA(copy=True, iterated_power='auto', n_components=70,\n",
            "                     random_state=None, svd_solver='auto', tol=0.0,\n",
            "                     whiten=False)),\n",
            "                ('GNB', GaussianNB(priors=None, var_smoothing=1e-09))],\n",
            "         verbose=False)\n",
            "{'pca__n_components': 70}\n"
          ],
          "name": "stdout"
        }
      ]
    },
    {
      "cell_type": "markdown",
      "metadata": {
        "id": "vl6RmtP1Elm9"
      },
      "source": [
        "## Γενικά συμπεράσματα για την GridSearch στον GNB"
      ]
    },
    {
      "cell_type": "markdown",
      "metadata": {
        "id": "20B3CVETFQM5"
      },
      "source": [
        "Παρατηρούμε πως η εισαγωγή προεπεξεργασίας και η μείωση της διαστατικότητας αποδίδει πολύ καλά στον GNB βελτιώνοντας αισθητά την απόδοση. Κάνοντας χρήση της GridSearch και περιρίζοντας σταδιακά το διάστημα στο οποίο κινείται, η μόνη ελέυθερη παράμεάτρος του συστήματος προεπεξεργασίας-ταξινομητή, ο αριθμός των συνιστωσών της PCA καταφέρνουμε να προσεγγίσουμε σε ικανοποιητικό βαθμό το συνδυασμό υπερπαραμέτρων στον οποίο θεωρούμε πως συναντάται η μέγιστη απόδοση ως προς f1-macro και f1-micro.\n",
        "\n",
        "Ενδιαφέρον λεπττέροεμια αποτελεί το γεγονός πως η βέλτιστη τιμή των **n_components** της PCA είναι και για την f1-micro και για την f1-macro ίση με 70. "
      ]
    },
    {
      "cell_type": "markdown",
      "metadata": {
        "id": "Uu4iZ2mTNdCk"
      },
      "source": [
        "# KNN"
      ]
    },
    {
      "cell_type": "markdown",
      "metadata": {
        "id": "xHkGleOQwSx7"
      },
      "source": [
        "Σε αυτή την ενότητα θα προσπαθήσουμε να κατασκευάσουμε το βέλτιστο KNN ταξινομητή, χρησιμοποιώντας την GridSearch με σκοπό να προσδιορίσουμε πάλι όπως νωρίτερα το βέλτιστο συνδυασμό παραμέτρων ταξινομητή και προεπεξεργασίας.\n"
      ]
    },
    {
      "cell_type": "markdown",
      "metadata": {
        "id": "u644SPy2K-EI"
      },
      "source": [
        "## Ορισμός απλού KNN ως benchmark\n",
        "\n",
        "Αρχικά εκπαιδεύουμε έναν ταξινομητή KNN στα δεδομένα, χωρίς καμία προεπεξεργασία και χωρίς να πειράξουμε τις υπερπαραμέτρους με σκοπό να χρησιμοποιηθεί πάλι ως benchmark."
      ]
    },
    {
      "cell_type": "code",
      "metadata": {
        "id": "AXJ85VyZNf7S"
      },
      "source": [
        "from sklearn.neighbors import KNeighborsClassifier "
      ],
      "execution_count": null,
      "outputs": []
    },
    {
      "cell_type": "code",
      "metadata": {
        "id": "GwFyr5EWQ6kT"
      },
      "source": [
        "knn_clf = KNeighborsClassifier().fit(train, unbin_train_labels) "
      ],
      "execution_count": null,
      "outputs": []
    },
    {
      "cell_type": "code",
      "metadata": {
        "colab": {
          "base_uri": "https://localhost:8080/"
        },
        "id": "JMHBmEFaRHnm",
        "outputId": "052e5863-d40d-4f46-aebd-ba6bfded61b2"
      },
      "source": [
        "knn_accuracy = knn_clf.score(test, unbin_test_labels) \n",
        "print(knn_accuracy)"
      ],
      "execution_count": null,
      "outputs": [
        {
          "output_type": "stream",
          "text": [
            "0.9037656903765691\n"
          ],
          "name": "stdout"
        }
      ]
    },
    {
      "cell_type": "code",
      "metadata": {
        "colab": {
          "base_uri": "https://localhost:8080/"
        },
        "id": "KAKzWw4bVggf",
        "outputId": "567cf6e0-8f5b-4135-a8cd-6ddaf699fb17"
      },
      "source": [
        "print(classification_report(unbin_test_labels, knn_preds))"
      ],
      "execution_count": null,
      "outputs": [
        {
          "output_type": "stream",
          "text": [
            "              precision    recall  f1-score   support\n",
            "\n",
            "           0       0.96      0.96      0.96        50\n",
            "           1       0.82      0.92      0.87        50\n",
            "           2       0.86      0.96      0.91        52\n",
            "           3       0.93      0.93      0.93        57\n",
            "           4       0.92      0.96      0.94        48\n",
            "           5       0.87      0.96      0.91        55\n",
            "           6       0.95      0.95      0.95        40\n",
            "           7       0.87      0.89      0.88        44\n",
            "           8       0.95      0.80      0.87        45\n",
            "           9       1.00      0.62      0.77        37\n",
            "\n",
            "    accuracy                           0.90       478\n",
            "   macro avg       0.91      0.90      0.90       478\n",
            "weighted avg       0.91      0.90      0.90       478\n",
            "\n"
          ],
          "name": "stdout"
        }
      ]
    },
    {
      "cell_type": "markdown",
      "metadata": {
        "id": "uNJlUlAGxdi5"
      },
      "source": [
        "Παρατηρούμε πως ακόμα και χωρίς καμία παραμετροποίηση, ο KNN καταφέρνει να προβλέψει σωστά με ακρίβεια 90%, πράγμα το οποίο αποτελεί βελτίωση συγκρτικά με την προηγούμενη μέθοδο. Το μόνο που μένει τώρα είναι να δούμε πόσο μπορούμε να βελτιώσουμε αυτό το score προσθέτοντας προεπεξεργασία και μεταβάλλοντας τις υπερπαραμέτρους του ταξινομητή.\n",
        "\n"
      ]
    },
    {
      "cell_type": "markdown",
      "metadata": {
        "id": "-3d12fhkLha8"
      },
      "source": [
        "## Εύρεση βέλτιστων υπερπαραμέτρων με GridSearch"
      ]
    },
    {
      "cell_type": "markdown",
      "metadata": {
        "id": "DbsTh3qaLYJp"
      },
      "source": [
        "Και σε αυτό το παράδειγμα θα πειραματιστούμε με διάφορα επίπεδα προεπεξεργασίας (Selector-Scaler-PCA) καθώς και με τις παρακάτω παραμέτρους του KNN:\n",
        "* distance\n",
        "* weights\n",
        "* number of neighbors \n",
        "* n_components (PCA)"
      ]
    },
    {
      "cell_type": "code",
      "metadata": {
        "id": "rRv16UzZWYBa"
      },
      "source": [
        "knn_gs = KNeighborsClassifier(n_jobs=-1)"
      ],
      "execution_count": null,
      "outputs": []
    },
    {
      "cell_type": "code",
      "metadata": {
        "id": "7zwaZ21pWR-P"
      },
      "source": [
        "pipe = Pipeline(steps=[('pca', pca), ('kNN', knn_gs)])"
      ],
      "execution_count": null,
      "outputs": []
    },
    {
      "cell_type": "code",
      "metadata": {
        "id": "S_KxdOmoYFkn"
      },
      "source": [
        "n_components = [10, 25, 50, 90, 140, 200]\n",
        "distance = ['euclidean', 'manhattan', 'chebysev','minkowski']\n",
        "w = ['uniform','distance']\n",
        "k = [1, 6, 11, 21, 31, 41] # η υπερπαράμετρος του ταξινομητή"
      ],
      "execution_count": null,
      "outputs": []
    },
    {
      "cell_type": "code",
      "metadata": {
        "id": "eX7Y3BJCYDDX"
      },
      "source": [
        "estimator = GridSearchCV(pipe, dict(pca__n_components=n_components, kNN__n_neighbors=k, kNN__metric=distance, kNN__weights = w), cv=5, scoring='f1_macro', n_jobs=-1)"
      ],
      "execution_count": null,
      "outputs": []
    },
    {
      "cell_type": "code",
      "metadata": {
        "colab": {
          "base_uri": "https://localhost:8080/"
        },
        "id": "lx42mBZgWKmy",
        "outputId": "887875fa-0a9a-4b63-c76c-deb24d9d80cf"
      },
      "source": [
        "start_time = time.time()\n",
        "estimator.fit(train, unbin_train_labels)\n",
        "preds = estimator.predict(test)\n",
        "print(\"Συνολικός χρόνος fit και predict: %s seconds\" % (time.time() - start_time))\n",
        "print(classification_report(unbin_test_labels, preds))\n",
        "print(estimator.best_estimator_)\n",
        "print(estimator.best_params_)"
      ],
      "execution_count": null,
      "outputs": [
        {
          "output_type": "stream",
          "text": [
            "Συνολικός χρόνος fit και predict: 116.31548023223877 seconds\n",
            "              precision    recall  f1-score   support\n",
            "\n",
            "           0       0.98      0.96      0.97        50\n",
            "           1       0.89      0.96      0.92        50\n",
            "           2       0.88      0.98      0.93        52\n",
            "           3       0.93      0.88      0.90        57\n",
            "           4       0.96      0.96      0.96        48\n",
            "           5       0.93      0.95      0.94        55\n",
            "           6       0.93      0.95      0.94        40\n",
            "           7       0.95      0.95      0.95        44\n",
            "           8       0.95      0.82      0.88        45\n",
            "           9       0.80      0.76      0.78        37\n",
            "\n",
            "    accuracy                           0.92       478\n",
            "   macro avg       0.92      0.92      0.92       478\n",
            "weighted avg       0.92      0.92      0.92       478\n",
            "\n",
            "Pipeline(memory=None,\n",
            "         steps=[('pca',\n",
            "                 PCA(copy=True, iterated_power='auto', n_components=50,\n",
            "                     random_state=None, svd_solver='auto', tol=0.0,\n",
            "                     whiten=False)),\n",
            "                ('kNN',\n",
            "                 KNeighborsClassifier(algorithm='auto', leaf_size=30,\n",
            "                                      metric='minkowski', metric_params=None,\n",
            "                                      n_jobs=-1, n_neighbors=1, p=2,\n",
            "                                      weights='distance'))],\n",
            "         verbose=False)\n",
            "{'kNN__metric': 'minkowski', 'kNN__n_neighbors': 1, 'kNN__weights': 'distance', 'pca__n_components': 50}\n"
          ],
          "name": "stdout"
        }
      ]
    },
    {
      "cell_type": "code",
      "metadata": {
        "colab": {
          "base_uri": "https://localhost:8080/"
        },
        "id": "LugN9ufaYqLp",
        "outputId": "7e9f4781-14ba-4adc-c414-4d7299cbe963"
      },
      "source": [
        "n_components = [35, 45, 50, 55, 65, 140, 200]\n",
        "distance = ['euclidean', 'manhattan', 'chebysev','minkowski']\n",
        "w = ['uniform','distance']\n",
        "k = [1, 2 , 3, 4, 5] # η υπερπαράμετρος του ταξινομητή\n",
        "estimator = GridSearchCV(pipe, dict(pca__n_components=n_components, kNN__n_neighbors=k, kNN__metric=distance, kNN__weights = w), cv=5, scoring='f1_macro', n_jobs=-1)\n",
        "start_time = time.time()\n",
        "estimator.fit(train, unbin_train_labels)\n",
        "preds = estimator.predict(test)\n",
        "print(\"Συνολικός χρόνος fit και predict: %s seconds\" % (time.time() - start_time))\n",
        "print(classification_report(unbin_test_labels, preds))\n",
        "print(estimator.best_estimator_)\n",
        "print(estimator.best_params_)"
      ],
      "execution_count": null,
      "outputs": [
        {
          "output_type": "stream",
          "text": [
            "Συνολικός χρόνος fit και predict: 107.40551590919495 seconds\n",
            "              precision    recall  f1-score   support\n",
            "\n",
            "           0       0.98      0.96      0.97        50\n",
            "           1       0.89      0.96      0.92        50\n",
            "           2       0.93      0.96      0.94        52\n",
            "           3       0.92      0.95      0.93        57\n",
            "           4       0.94      0.96      0.95        48\n",
            "           5       0.95      0.96      0.95        55\n",
            "           6       0.95      0.95      0.95        40\n",
            "           7       0.91      0.93      0.92        44\n",
            "           8       0.89      0.89      0.89        45\n",
            "           9       0.93      0.68      0.78        37\n",
            "\n",
            "    accuracy                           0.93       478\n",
            "   macro avg       0.93      0.92      0.92       478\n",
            "weighted avg       0.93      0.93      0.93       478\n",
            "\n",
            "Pipeline(memory=None,\n",
            "         steps=[('pca',\n",
            "                 PCA(copy=True, iterated_power='auto', n_components=35,\n",
            "                     random_state=None, svd_solver='auto', tol=0.0,\n",
            "                     whiten=False)),\n",
            "                ('kNN',\n",
            "                 KNeighborsClassifier(algorithm='auto', leaf_size=30,\n",
            "                                      metric='euclidean', metric_params=None,\n",
            "                                      n_jobs=-1, n_neighbors=4, p=2,\n",
            "                                      weights='distance'))],\n",
            "         verbose=False)\n",
            "{'kNN__metric': 'euclidean', 'kNN__n_neighbors': 4, 'kNN__weights': 'distance', 'pca__n_components': 35}\n"
          ],
          "name": "stdout"
        }
      ]
    },
    {
      "cell_type": "code",
      "metadata": {
        "colab": {
          "base_uri": "https://localhost:8080/"
        },
        "id": "IavP6-vxDYsL",
        "outputId": "693cfff7-4033-4d64-d610-31141ec098a5"
      },
      "source": [
        "n_components = range(30,40,2)\n",
        "distance = ['euclidean']\n",
        "w = ['distance']\n",
        "k = [ 4] # η υπερπαράμετρος του ταξινομητή\n",
        "estimator = GridSearchCV(pipe, dict(pca__n_components=n_components, kNN__n_neighbors=k, kNN__metric=distance, kNN__weights = w), cv=5, scoring='f1_macro', n_jobs=-1)\n",
        "start_time = time.time()\n",
        "estimator.fit(train, unbin_train_labels)\n",
        "preds = estimator.predict(test)\n",
        "print(\"Συνολικός χρόνος fit και predict: %s seconds\" % (time.time() - start_time))\n",
        "print(classification_report(unbin_test_labels, preds))\n",
        "print(estimator.best_estimator_)\n",
        "print(estimator.best_params_)"
      ],
      "execution_count": null,
      "outputs": [
        {
          "output_type": "stream",
          "text": [
            "Συνολικός χρόνος fit και predict: 1.9877293109893799 seconds\n",
            "              precision    recall  f1-score   support\n",
            "\n",
            "           0       0.96      0.96      0.96        50\n",
            "           1       0.91      0.96      0.93        50\n",
            "           2       0.94      0.98      0.96        52\n",
            "           3       0.95      0.95      0.95        57\n",
            "           4       0.94      0.96      0.95        48\n",
            "           5       0.95      0.95      0.95        55\n",
            "           6       0.95      0.95      0.95        40\n",
            "           7       0.91      0.95      0.93        44\n",
            "           8       0.89      0.89      0.89        45\n",
            "           9       0.93      0.73      0.82        37\n",
            "\n",
            "    accuracy                           0.93       478\n",
            "   macro avg       0.93      0.93      0.93       478\n",
            "weighted avg       0.93      0.93      0.93       478\n",
            "\n",
            "Pipeline(memory=None,\n",
            "         steps=[('pca',\n",
            "                 PCA(copy=True, iterated_power='auto', n_components=34,\n",
            "                     random_state=None, svd_solver='auto', tol=0.0,\n",
            "                     whiten=False)),\n",
            "                ('kNN',\n",
            "                 KNeighborsClassifier(algorithm='auto', leaf_size=30,\n",
            "                                      metric='euclidean', metric_params=None,\n",
            "                                      n_jobs=-1, n_neighbors=4, p=2,\n",
            "                                      weights='distance'))],\n",
            "         verbose=False)\n",
            "{'kNN__metric': 'euclidean', 'kNN__n_neighbors': 4, 'kNN__weights': 'distance', 'pca__n_components': 34}\n"
          ],
          "name": "stdout"
        }
      ]
    },
    {
      "cell_type": "markdown",
      "metadata": {
        "id": "RPT9ShcLDz0Q"
      },
      "source": [
        "Παρατηρούμε, λοιπόν πως για τον KNN ως προς το f1-macro οι βέλτιστες παράμετροι είναι για το pre-processing, όταν αυτό αποτελείται μόνο από PCA είναι η χρήση 34 συνιστωσών. Επίσης για τις υπερπαραμέτρους του ταξινομητή βέλτιστη μετρική για υπολογισμό είναι η Εκλείδεια απόσταση, με αριθμό γειτόνων 4 και βάρη ως συνάρτηση της απόστασης."
      ]
    },
    {
      "cell_type": "code",
      "metadata": {
        "colab": {
          "base_uri": "https://localhost:8080/"
        },
        "id": "A0__T-gzIiuT",
        "outputId": "2cc3d695-e5c9-45f3-cfad-83af27382272"
      },
      "source": [
        "n_components = [10, 25, 50, 90, 140, 200]\n",
        "distance = ['euclidean', 'manhattan', 'chebysev','minkowski']\n",
        "w = ['uniform','distance']\n",
        "k = [1, 6, 11, 21, 31, 41] # η υπερπαράμετρος του ταξινομητή\n",
        "estimator = GridSearchCV(pipe, dict(pca__n_components=n_components, kNN__n_neighbors=k, kNN__metric=distance, kNN__weights = w), cv=5, scoring='f1_micro', n_jobs=-1)\n",
        "start_time = time.time()\n",
        "estimator.fit(train, unbin_train_labels)\n",
        "preds = estimator.predict(test)\n",
        "print(\"Συνολικός χρόνος fit και predict: %s seconds\" % (time.time() - start_time))\n",
        "print(classification_report(unbin_test_labels, preds))\n",
        "print(estimator.best_estimator_)\n",
        "print(estimator.best_params_)"
      ],
      "execution_count": null,
      "outputs": [
        {
          "output_type": "stream",
          "text": [
            "Συνολικός χρόνος fit και predict: 116.6817615032196 seconds\n",
            "              precision    recall  f1-score   support\n",
            "\n",
            "           0       0.98      0.96      0.97        50\n",
            "           1       0.90      0.94      0.92        50\n",
            "           2       0.96      0.96      0.96        52\n",
            "           3       0.91      0.93      0.92        57\n",
            "           4       0.98      0.98      0.98        48\n",
            "           5       0.93      0.98      0.96        55\n",
            "           6       0.93      0.97      0.95        40\n",
            "           7       0.93      0.95      0.94        44\n",
            "           8       0.89      0.89      0.89        45\n",
            "           9       0.93      0.73      0.82        37\n",
            "\n",
            "    accuracy                           0.94       478\n",
            "   macro avg       0.94      0.93      0.93       478\n",
            "weighted avg       0.94      0.94      0.93       478\n",
            "\n",
            "Pipeline(memory=None,\n",
            "         steps=[('pca',\n",
            "                 PCA(copy=True, iterated_power='auto', n_components=25,\n",
            "                     random_state=None, svd_solver='auto', tol=0.0,\n",
            "                     whiten=False)),\n",
            "                ('kNN',\n",
            "                 KNeighborsClassifier(algorithm='auto', leaf_size=30,\n",
            "                                      metric='euclidean', metric_params=None,\n",
            "                                      n_jobs=-1, n_neighbors=6, p=2,\n",
            "                                      weights='distance'))],\n",
            "         verbose=False)\n",
            "{'kNN__metric': 'euclidean', 'kNN__n_neighbors': 6, 'kNN__weights': 'distance', 'pca__n_components': 25}\n"
          ],
          "name": "stdout"
        }
      ]
    },
    {
      "cell_type": "code",
      "metadata": {
        "colab": {
          "base_uri": "https://localhost:8080/"
        },
        "id": "H9P6l7RiJ7VI",
        "outputId": "f7c02131-fe03-4552-dc6f-09d6545d5dfb"
      },
      "source": [
        "n_components = range(20,36,2)\n",
        "distance = ['euclidean']\n",
        "w = ['distance']\n",
        "k = range(3,9) # η υπερπαράμετρος του ταξινομητή\n",
        "estimator = GridSearchCV(pipe, dict(pca__n_components=n_components, kNN__n_neighbors=k, kNN__metric=distance, kNN__weights = w), cv=5, scoring='f1_micro', n_jobs=-1)\n",
        "start_time = time.time()\n",
        "estimator.fit(train, unbin_train_labels)\n",
        "preds = estimator.predict(test)\n",
        "print(\"Συνολικός χρόνος fit και predict: %s seconds\" % (time.time() - start_time))\n",
        "print(classification_report(unbin_test_labels, preds))\n",
        "print(estimator.best_estimator_)\n",
        "print(estimator.best_params_)"
      ],
      "execution_count": null,
      "outputs": [
        {
          "output_type": "stream",
          "text": [
            "Συνολικός χρόνος fit και predict: 15.809751749038696 seconds\n",
            "              precision    recall  f1-score   support\n",
            "\n",
            "           0       0.96      0.96      0.96        50\n",
            "           1       0.91      0.96      0.93        50\n",
            "           2       0.94      0.98      0.96        52\n",
            "           3       0.95      0.95      0.95        57\n",
            "           4       0.94      0.96      0.95        48\n",
            "           5       0.95      0.96      0.95        55\n",
            "           6       0.95      0.95      0.95        40\n",
            "           7       0.93      0.95      0.94        44\n",
            "           8       0.89      0.89      0.89        45\n",
            "           9       0.93      0.73      0.82        37\n",
            "\n",
            "    accuracy                           0.94       478\n",
            "   macro avg       0.93      0.93      0.93       478\n",
            "weighted avg       0.94      0.94      0.93       478\n",
            "\n",
            "Pipeline(memory=None,\n",
            "         steps=[('pca',\n",
            "                 PCA(copy=True, iterated_power='auto', n_components=34,\n",
            "                     random_state=None, svd_solver='auto', tol=0.0,\n",
            "                     whiten=False)),\n",
            "                ('kNN',\n",
            "                 KNeighborsClassifier(algorithm='auto', leaf_size=30,\n",
            "                                      metric='euclidean', metric_params=None,\n",
            "                                      n_jobs=-1, n_neighbors=4, p=2,\n",
            "                                      weights='distance'))],\n",
            "         verbose=False)\n",
            "{'kNN__metric': 'euclidean', 'kNN__n_neighbors': 4, 'kNN__weights': 'distance', 'pca__n_components': 34}\n"
          ],
          "name": "stdout"
        }
      ]
    },
    {
      "cell_type": "markdown",
      "metadata": {
        "id": "KMbKGqFyKZ-d"
      },
      "source": [
        "Στη συγκεκριμένη περίπτωση μάλιστα παρατηρούμε πως και ως προς f1-micro έχουμε τις ίδες βέλτιστες υπερπαραμέτρους."
      ]
    },
    {
      "cell_type": "code",
      "metadata": {
        "colab": {
          "base_uri": "https://localhost:8080/"
        },
        "id": "_BjMvAxjaC7u",
        "outputId": "80f63b56-6c50-43d2-b85d-4ead9d982c0d"
      },
      "source": [
        "knn_gs = KNeighborsClassifier(n_jobs=-1)\n",
        "pipe = Pipeline(steps=[ ('pca', pca), ('kNN', knn_gs)])\n",
        "n_components = [30, 40, 50, 60, 70]\n",
        "distance = ['euclidean', 'manhattan', 'chebysev']\n",
        "w = ['uniform','distance']\n",
        "k = [4,5,6,7,8,9] # η υπερπαράμετρος του ταξινομητή\n",
        "estimator = GridSearchCV(pipe, dict(pca__n_components=n_components, kNN__n_neighbors=k, kNN__metric=distance, kNN__weights = w), cv=5, scoring='f1_macro', n_jobs=-1)\n",
        "start_time = time.time()\n",
        "estimator.fit(train, unbin_train_labels)\n",
        "preds = estimator.predict(test)\n",
        "print(\"Συνολικός χρόνος fit και predict: %s seconds\" % (time.time() - start_time))\n",
        "print(classification_report(unbin_test_labels, preds))"
      ],
      "execution_count": null,
      "outputs": [
        {
          "output_type": "stream",
          "text": [
            "Συνολικός χρόνος fit και predict: 49.43948745727539 seconds\n",
            "              precision    recall  f1-score   support\n",
            "\n",
            "           0       0.96      0.96      0.96        50\n",
            "           1       0.87      0.92      0.89        50\n",
            "           2       0.91      0.96      0.93        52\n",
            "           3       0.91      0.93      0.92        57\n",
            "           4       0.94      0.96      0.95        48\n",
            "           5       0.95      0.95      0.95        55\n",
            "           6       0.93      0.95      0.94        40\n",
            "           7       0.93      0.95      0.94        44\n",
            "           8       0.93      0.87      0.90        45\n",
            "           9       0.90      0.73      0.81        37\n",
            "\n",
            "    accuracy                           0.92       478\n",
            "   macro avg       0.92      0.92      0.92       478\n",
            "weighted avg       0.92      0.92      0.92       478\n",
            "\n"
          ],
          "name": "stdout"
        }
      ]
    },
    {
      "cell_type": "code",
      "metadata": {
        "colab": {
          "base_uri": "https://localhost:8080/"
        },
        "id": "czDBZnAra_PF",
        "outputId": "7263b8ab-a023-476b-a64d-1788f04ea23e"
      },
      "source": [
        "print(estimator.best_estimator_)\n",
        "print(estimator.best_params_)"
      ],
      "execution_count": null,
      "outputs": [
        {
          "output_type": "stream",
          "text": [
            "Pipeline(memory=None,\n",
            "         steps=[('pca',\n",
            "                 PCA(copy=True, iterated_power='auto', n_components=40,\n",
            "                     random_state=None, svd_solver='auto', tol=0.0,\n",
            "                     whiten=False)),\n",
            "                ('kNN',\n",
            "                 KNeighborsClassifier(algorithm='auto', leaf_size=30,\n",
            "                                      metric='euclidean', metric_params=None,\n",
            "                                      n_jobs=-1, n_neighbors=6, p=2,\n",
            "                                      weights='distance'))],\n",
            "         verbose=False)\n",
            "{'kNN__metric': 'euclidean', 'kNN__n_neighbors': 6, 'kNN__weights': 'distance', 'pca__n_components': 40}\n"
          ],
          "name": "stdout"
        }
      ]
    },
    {
      "cell_type": "markdown",
      "metadata": {
        "id": "jBChoy0lLKaj"
      },
      "source": [
        "Σε αυτό το σημείο, όπως και πριν θα προχωρήσουμε στην προσθήκη δύο ακόμα σταδίων στο pre-processing, ενός Selector και ενός Scaler και θα επαναλάβουμε την παραπάνω διαδικασία."
      ]
    },
    {
      "cell_type": "code",
      "metadata": {
        "colab": {
          "base_uri": "https://localhost:8080/"
        },
        "id": "oong3ntwbDfD",
        "outputId": "b3d69a79-9616-430e-8232-15dcceae3927"
      },
      "source": [
        "selector = VarianceThreshold()\n",
        "scaler = StandardScaler()\n",
        "knn_gs = KNeighborsClassifier(n_jobs=-1)\n",
        "pipe = Pipeline(steps=[('selector', selector), ('scaler', scaler), ('pca', pca), ('kNN', knn_gs)])\n",
        "n_components = [10, 25, 50, 90, 140, 200]\n",
        "distance = ['euclidean', 'manhattan', 'chebysev','minkowski']\n",
        "w = ['uniform','distance']\n",
        "k = [4,5,6,7,8,9] # η υπερπαράμετρος του ταξινομητή\n",
        "estimator = GridSearchCV(pipe, dict(pca__n_components=n_components, kNN__n_neighbors=k, kNN__metric=distance, kNN__weights = w), cv=5, scoring='f1_macro', n_jobs=-1)\n",
        "start_time = time.time()\n",
        "estimator.fit(train, unbin_train_labels)\n",
        "preds = estimator.predict(test)\n",
        "print(\"Συνολικός χρόνος fit και predict: %s seconds\" % (time.time() - start_time))\n",
        "print(classification_report(unbin_test_labels, preds))"
      ],
      "execution_count": null,
      "outputs": [
        {
          "output_type": "stream",
          "text": [
            "Συνολικός χρόνος fit και predict: 127.24039149284363 seconds\n",
            "              precision    recall  f1-score   support\n",
            "\n",
            "           0       0.98      0.96      0.97        50\n",
            "           1       0.87      0.96      0.91        50\n",
            "           2       0.96      0.94      0.95        52\n",
            "           3       0.93      0.95      0.94        57\n",
            "           4       0.96      0.98      0.97        48\n",
            "           5       0.93      0.98      0.96        55\n",
            "           6       0.95      0.97      0.96        40\n",
            "           7       0.95      0.95      0.95        44\n",
            "           8       0.93      0.93      0.93        45\n",
            "           9       0.93      0.70      0.80        37\n",
            "\n",
            "    accuracy                           0.94       478\n",
            "   macro avg       0.94      0.93      0.94       478\n",
            "weighted avg       0.94      0.94      0.94       478\n",
            "\n"
          ],
          "name": "stdout"
        }
      ]
    },
    {
      "cell_type": "code",
      "metadata": {
        "colab": {
          "base_uri": "https://localhost:8080/"
        },
        "id": "HZ8GtTyZbv9f",
        "outputId": "8a2e5a0a-ee04-40d6-b15d-5dca3f5bea0e"
      },
      "source": [
        "print(estimator.best_estimator_)\n",
        "print(estimator.best_params_)"
      ],
      "execution_count": null,
      "outputs": [
        {
          "output_type": "stream",
          "text": [
            "Pipeline(memory=None,\n",
            "         steps=[('selector', VarianceThreshold(threshold=0.0)),\n",
            "                ('scaler',\n",
            "                 StandardScaler(copy=True, with_mean=True, with_std=True)),\n",
            "                ('pca',\n",
            "                 PCA(copy=True, iterated_power='auto', n_components=50,\n",
            "                     random_state=None, svd_solver='auto', tol=0.0,\n",
            "                     whiten=False)),\n",
            "                ('kNN',\n",
            "                 KNeighborsClassifier(algorithm='auto', leaf_size=30,\n",
            "                                      metric='euclidean', metric_params=None,\n",
            "                                      n_jobs=-1, n_neighbors=4, p=2,\n",
            "                                      weights='distance'))],\n",
            "         verbose=False)\n",
            "{'kNN__metric': 'euclidean', 'kNN__n_neighbors': 4, 'kNN__weights': 'distance', 'pca__n_components': 50}\n"
          ],
          "name": "stdout"
        }
      ]
    },
    {
      "cell_type": "code",
      "metadata": {
        "colab": {
          "base_uri": "https://localhost:8080/"
        },
        "id": "SRyzM6BYNOgW",
        "outputId": "acfe78ac-64ea-448e-e3fe-46d8f2392609"
      },
      "source": [
        "n_components = range(20,40,4)\n",
        "distance = ['euclidean']\n",
        "w = ['distance']\n",
        "k = [3,4,5] # η υπερπαράμετρος του ταξινομητή\n",
        "estimator = GridSearchCV(pipe, dict(pca__n_components=n_components, kNN__n_neighbors=k, kNN__metric=distance, kNN__weights = w), cv=5, scoring='f1_macro', n_jobs=-1)\n",
        "start_time = time.time()\n",
        "estimator.fit(train, unbin_train_labels)\n",
        "preds = estimator.predict(test)\n",
        "print(\"Συνολικός χρόνος fit και predict: %s seconds\" % (time.time() - start_time))\n",
        "print(classification_report(unbin_test_labels, preds))"
      ],
      "execution_count": null,
      "outputs": [
        {
          "output_type": "stream",
          "text": [
            "Συνολικός χρόνος fit και predict: 5.661943674087524 seconds\n",
            "              precision    recall  f1-score   support\n",
            "\n",
            "           0       0.96      0.96      0.96        50\n",
            "           1       0.92      0.94      0.93        50\n",
            "           2       0.94      0.98      0.96        52\n",
            "           3       0.91      0.93      0.92        57\n",
            "           4       0.96      0.98      0.97        48\n",
            "           5       0.93      0.96      0.95        55\n",
            "           6       0.95      0.95      0.95        40\n",
            "           7       0.95      0.95      0.95        44\n",
            "           8       0.91      0.91      0.91        45\n",
            "           9       0.90      0.73      0.81        37\n",
            "\n",
            "    accuracy                           0.94       478\n",
            "   macro avg       0.93      0.93      0.93       478\n",
            "weighted avg       0.93      0.94      0.93       478\n",
            "\n"
          ],
          "name": "stdout"
        }
      ]
    },
    {
      "cell_type": "code",
      "metadata": {
        "colab": {
          "base_uri": "https://localhost:8080/"
        },
        "id": "fzqN0NmUNtPt",
        "outputId": "25a41f09-b862-4db2-bdc8-c3eefa619125"
      },
      "source": [
        "print(estimator.best_estimator_)\n",
        "print(estimator.best_params_)"
      ],
      "execution_count": null,
      "outputs": [
        {
          "output_type": "stream",
          "text": [
            "Pipeline(memory=None,\n",
            "         steps=[('selector', VarianceThreshold(threshold=0.0)),\n",
            "                ('scaler',\n",
            "                 StandardScaler(copy=True, with_mean=True, with_std=True)),\n",
            "                ('pca',\n",
            "                 PCA(copy=True, iterated_power='auto', n_components=36,\n",
            "                     random_state=None, svd_solver='auto', tol=0.0,\n",
            "                     whiten=False)),\n",
            "                ('kNN',\n",
            "                 KNeighborsClassifier(algorithm='auto', leaf_size=30,\n",
            "                                      metric='euclidean', metric_params=None,\n",
            "                                      n_jobs=-1, n_neighbors=5, p=2,\n",
            "                                      weights='distance'))],\n",
            "         verbose=False)\n",
            "{'kNN__metric': 'euclidean', 'kNN__n_neighbors': 5, 'kNN__weights': 'distance', 'pca__n_components': 36}\n"
          ],
          "name": "stdout"
        }
      ]
    },
    {
      "cell_type": "markdown",
      "metadata": {
        "id": "OIRlJYMDObLb"
      },
      "source": [
        "Και αντίστοιχα για f1-micro:"
      ]
    },
    {
      "cell_type": "code",
      "metadata": {
        "colab": {
          "base_uri": "https://localhost:8080/"
        },
        "id": "zAL95phqOVyQ",
        "outputId": "e340076f-36ad-4bb6-90dd-1ff28bfe4a98"
      },
      "source": [
        "n_components = [10, 25, 50, 90, 140, 200]\n",
        "distance = ['euclidean', 'manhattan', 'chebysev','minkowski']\n",
        "w = ['uniform','distance']\n",
        "k = [4,5,6,7,8,9] # η υπερπαράμετρος του ταξινομητή\n",
        "estimator = GridSearchCV(pipe, dict(pca__n_components=n_components, kNN__n_neighbors=k, kNN__metric=distance, kNN__weights = w), cv=5, scoring='f1_micro', n_jobs=-1)\n",
        "start_time = time.time()\n",
        "estimator.fit(train, unbin_train_labels)\n",
        "preds = estimator.predict(test)\n",
        "print(\"Συνολικός χρόνος fit και predict: %s seconds\" % (time.time() - start_time))\n",
        "print(classification_report(unbin_test_labels, preds))\n",
        "print(estimator.best_estimator_)\n",
        "print(estimator.best_params_)"
      ],
      "execution_count": null,
      "outputs": [
        {
          "output_type": "stream",
          "text": [
            "Συνολικός χρόνος fit και predict: 125.61994051933289 seconds\n",
            "              precision    recall  f1-score   support\n",
            "\n",
            "           0       0.98      0.96      0.97        50\n",
            "           1       0.90      0.94      0.92        50\n",
            "           2       0.96      0.96      0.96        52\n",
            "           3       0.93      0.91      0.92        57\n",
            "           4       0.96      0.98      0.97        48\n",
            "           5       0.91      0.96      0.94        55\n",
            "           6       0.95      0.97      0.96        40\n",
            "           7       0.91      0.93      0.92        44\n",
            "           8       0.93      0.93      0.93        45\n",
            "           9       0.84      0.70      0.76        37\n",
            "\n",
            "    accuracy                           0.93       478\n",
            "   macro avg       0.93      0.93      0.93       478\n",
            "weighted avg       0.93      0.93      0.93       478\n",
            "\n",
            "Pipeline(memory=None,\n",
            "         steps=[('selector', VarianceThreshold(threshold=0.0)),\n",
            "                ('scaler',\n",
            "                 StandardScaler(copy=True, with_mean=True, with_std=True)),\n",
            "                ('pca',\n",
            "                 PCA(copy=True, iterated_power='auto', n_components=25,\n",
            "                     random_state=None, svd_solver='auto', tol=0.0,\n",
            "                     whiten=False)),\n",
            "                ('kNN',\n",
            "                 KNeighborsClassifier(algorithm='auto', leaf_size=30,\n",
            "                                      metric='euclidean', metric_params=None,\n",
            "                                      n_jobs=-1, n_neighbors=6, p=2,\n",
            "                                      weights='distance'))],\n",
            "         verbose=False)\n",
            "{'kNN__metric': 'euclidean', 'kNN__n_neighbors': 6, 'kNN__weights': 'distance', 'pca__n_components': 25}\n"
          ],
          "name": "stdout"
        }
      ]
    },
    {
      "cell_type": "code",
      "metadata": {
        "colab": {
          "base_uri": "https://localhost:8080/"
        },
        "id": "hF_bMEhTPwFx",
        "outputId": "652d868e-48f1-4802-f9b7-53edeaa16d8d"
      },
      "source": [
        "n_components = range(20,40,2)\n",
        "distance = ['euclidean']\n",
        "w = ['distance']\n",
        "k = [4,5,6,7] # η υπερπαράμετρος του ταξινομητή\n",
        "estimator = GridSearchCV(pipe, dict(pca__n_components=n_components, kNN__n_neighbors=k, kNN__metric=distance, kNN__weights = w), cv=5, scoring='f1_micro', n_jobs=-1)\n",
        "start_time = time.time()\n",
        "estimator.fit(train, unbin_train_labels)\n",
        "preds = estimator.predict(test)\n",
        "print(\"Συνολικός χρόνος fit και predict: %s seconds\" % (time.time() - start_time))\n",
        "print(classification_report(unbin_test_labels, preds))\n",
        "print(estimator.best_estimator_)\n",
        "print(estimator.best_params_)"
      ],
      "execution_count": null,
      "outputs": [
        {
          "output_type": "stream",
          "text": [
            "Συνολικός χρόνος fit και predict: 14.504742860794067 seconds\n",
            "              precision    recall  f1-score   support\n",
            "\n",
            "           0       0.96      0.96      0.96        50\n",
            "           1       0.91      0.98      0.94        50\n",
            "           2       0.94      0.98      0.96        52\n",
            "           3       0.95      0.95      0.95        57\n",
            "           4       0.96      0.98      0.97        48\n",
            "           5       0.93      0.96      0.95        55\n",
            "           6       0.95      0.97      0.96        40\n",
            "           7       0.98      0.95      0.97        44\n",
            "           8       0.93      0.87      0.90        45\n",
            "           9       0.90      0.76      0.82        37\n",
            "\n",
            "    accuracy                           0.94       478\n",
            "   macro avg       0.94      0.94      0.94       478\n",
            "weighted avg       0.94      0.94      0.94       478\n",
            "\n",
            "Pipeline(memory=None,\n",
            "         steps=[('selector', VarianceThreshold(threshold=0.0)),\n",
            "                ('scaler',\n",
            "                 StandardScaler(copy=True, with_mean=True, with_std=True)),\n",
            "                ('pca',\n",
            "                 PCA(copy=True, iterated_power='auto', n_components=38,\n",
            "                     random_state=None, svd_solver='auto', tol=0.0,\n",
            "                     whiten=False)),\n",
            "                ('kNN',\n",
            "                 KNeighborsClassifier(algorithm='auto', leaf_size=30,\n",
            "                                      metric='euclidean', metric_params=None,\n",
            "                                      n_jobs=-1, n_neighbors=4, p=2,\n",
            "                                      weights='distance'))],\n",
            "         verbose=False)\n",
            "{'kNN__metric': 'euclidean', 'kNN__n_neighbors': 4, 'kNN__weights': 'distance', 'pca__n_components': 38}\n"
          ],
          "name": "stdout"
        }
      ]
    },
    {
      "cell_type": "markdown",
      "metadata": {
        "id": "tLHh96QlMBFu"
      },
      "source": [
        "## Γενικά συμπεράσματα για την GridSearch στον ΚΝΝ\n"
      ]
    },
    {
      "cell_type": "markdown",
      "metadata": {
        "id": "v5jifu00NCLB"
      },
      "source": [
        "Παρατηρούμε πως παρά τη μεγάλη αρχική ακρίβεια και καλή απόδοση του KNN υπάρχει δυνατότητα για βελτίωση με την κατάλληλη προεπεξεργασία. Η διαδικασία που ακολουθήσαμε και αυτή τη φορά, λόγω του υποφερτού ως προς το χρόνο κόστους του KNN και τον περιορισμένο αριθμό παραμέτρων που μπορούσαμε να βελτιστοποιήσουμε ήταν σταδιακή μείωση των διαστημάτων αναζήτησης, κρατώντας και εμβαθύνοντας σταδιακά στις παραμέτρους και τους συνδυασμούς που έδιναν τα καλύτερα αποτελέσματα.\n",
        "\n",
        "Συγκεκριμένα, αρχικά \"κλειδώσαμε\" την μετρική απόστασης σε \"euclidean\" και τα βάρη με βάση την απόσταση \"distance\". Έπειτα με αυτά ως σταθερά κάναμε σχεδόν εξαντλητική αναζήτηση για τις βέλτιστες τιμές των υπερπαραμέτρων \"n_components\" της PCA και n_neoghbors του KNN.\n",
        "\n",
        "Σημειώνεται εδώ πως η εξαντλητική αναζήτηση ως προς όλες τις παραμέτρους ήταν εφικτή στη συγκεκριμένη περίπτωση αλλά επιλέξαμε να μην την υλοποιήσουμε, καθώς θεωρήσαμε πως το πνεύμα της εργασίας είναι κυρίως να εξετάσουμε οι ίδιοι τα αποτελέσματα και να προσεγγίσουμε σταδιακά τη λύση ακόμα και αν δεν έχουμε τους πόρους για να προβούμε σε εξαντλητική αναζήτηση."
      ]
    },
    {
      "cell_type": "markdown",
      "metadata": {
        "id": "G93HESMyNiRg"
      },
      "source": [
        "# MLP"
      ]
    },
    {
      "cell_type": "markdown",
      "metadata": {
        "id": "YOATNU4FP1vv"
      },
      "source": [
        "Στην ενότητα αυτή θα υλοποιήσουμε έναν Multi Layer Perceptron ταξινομητή, με ένα μόνο επίπεδο κρυμμένων νευρώνων, ώστε να εκτελέσει την κατηγοριοποίηση των εικόνων των ψηφίων. "
      ]
    },
    {
      "cell_type": "markdown",
      "metadata": {
        "id": "fRDpOPQoQMvW"
      },
      "source": [
        "## Ορισμός απλού MLP ως benchmark"
      ]
    },
    {
      "cell_type": "markdown",
      "metadata": {
        "id": "MPOx7DSnXuwF"
      },
      "source": [
        "Σε αυτό το σημείο θα υλοποιήσουμε τον απλούστερο δυνατό MLP ταξινομητή, χωρίς καμία προ-επεξεργασία ή παραμετροποίηση, ώστε να τον χρησιμοποιήσουμε ως benchmark για τις μελλοντικές βελτιώσεις μας."
      ]
    },
    {
      "cell_type": "code",
      "metadata": {
        "id": "5x_miBOpRGzh"
      },
      "source": [
        "from sklearn.neural_network import MLPClassifier"
      ],
      "execution_count": null,
      "outputs": []
    },
    {
      "cell_type": "code",
      "metadata": {
        "colab": {
          "base_uri": "https://localhost:8080/"
        },
        "id": "jD142E0SNjSb",
        "outputId": "9164dca6-1b16-4cd9-9317-e8c07d744d80"
      },
      "source": [
        "mlp_clf = MLPClassifier()\n",
        "mlp_clf.fit(train, unbin_train_labels)"
      ],
      "execution_count": null,
      "outputs": [
        {
          "output_type": "execute_result",
          "data": {
            "text/plain": [
              "MLPClassifier(activation='relu', alpha=0.0001, batch_size='auto', beta_1=0.9,\n",
              "              beta_2=0.999, early_stopping=False, epsilon=1e-08,\n",
              "              hidden_layer_sizes=(100,), learning_rate='constant',\n",
              "              learning_rate_init=0.001, max_fun=15000, max_iter=200,\n",
              "              momentum=0.9, n_iter_no_change=10, nesterovs_momentum=True,\n",
              "              power_t=0.5, random_state=None, shuffle=True, solver='adam',\n",
              "              tol=0.0001, validation_fraction=0.1, verbose=False,\n",
              "              warm_start=False)"
            ]
          },
          "metadata": {
            "tags": []
          },
          "execution_count": 68
        }
      ]
    },
    {
      "cell_type": "code",
      "metadata": {
        "id": "knkWd7DLIfBO"
      },
      "source": [
        "mlp_acc = mlp_clf.score(test, unbin_test_labels)"
      ],
      "execution_count": null,
      "outputs": []
    },
    {
      "cell_type": "code",
      "metadata": {
        "colab": {
          "base_uri": "https://localhost:8080/"
        },
        "id": "yoxmkf_pIlNo",
        "outputId": "37bb7428-7440-40bf-f09e-514a6c08b75c"
      },
      "source": [
        "print(mlp_acc)"
      ],
      "execution_count": null,
      "outputs": [
        {
          "output_type": "stream",
          "text": [
            "0.9142259414225942\n"
          ],
          "name": "stdout"
        }
      ]
    },
    {
      "cell_type": "markdown",
      "metadata": {
        "id": "0BHPEYvIYTmt"
      },
      "source": [
        "## Εύρεση βέλτιστων υπερπαραμέτρων με GridSearch"
      ]
    },
    {
      "cell_type": "markdown",
      "metadata": {
        "id": "EOXLeZCjYemf"
      },
      "source": [
        "Στο σημείο αυτό θα προσπαθήσουμε να βελτιώσουμε την απόδοση του MLP ταξινομητή μας προσθέτοντας προεπεξεργασία και αλλάζοντας τις τιμές των υπερπαραμέτρων του. Οι παράμετροι που θα «πειράξουμε» είναι οι:\n",
        "\n",
        "•\thidden_layer \n",
        "\n",
        "•\tactivation \n",
        "\n",
        "•\tsolver \n",
        "\n",
        "•\tlearning_rate \n",
        "\n",
        "•\tmax_iter : \n",
        "\n",
        "•\talpha \n",
        "\n",
        "•\tn_components  (PCA)\n",
        "\n",
        "Παρατηρούμε, λοιπόν σχεδόν άμεσα πως υπάρχουν πάρα πολλοί πιθανοί συνδυασμοί αυτών των παραμέτρων, τόσοι που στην πραγματικότητα κάνουν την GridSearch χρονοβόρα και «μη βολική», ιδιαίτερα αν συμπεριλάβουμε σε αυτό και τον ήδη μεγάλο χρόνο εκτέλεσης του αλγορίθμου εκπαίδευσης του MLP ακόμα και για έναν συγκεκριμένο συνδυασμό παραμέτρων. \n",
        "\n",
        "Η διαδικασία που ακολουθήσαμε βασίστηκε στην εκτέλεση ελάχιστων μόνο συνδυασμών και στην προσπάθεια να αντιληφθούμε οι ίδιοι τάσεις στα δεδομένα, ώστε να προσεγγίσουμε ένα ικανοποιητικό μέγιστο με ταχύτητα μεγαλύτερη από αυτή της εξαντλητικής αναζήτησης. Για να το κάνουμε αυτό κάναμε αναζήτηση σε μεγάλα εύρη παραμέτρων και δεχθήκαμε πως οι βέλτιστες λύσεις θα βρίσκονται κάθε φορά κοντά σε αυτές που βρίσκαμε εμείς ως βέλτιστες με τις δεδομένες παραμέτρους που χρησιμποποιούσαμε κάθε φορά. Επίσης χωρίσαμε την αναζήτηση σε τρεις διακριτές αναζητήσεις, μία για κάθε solver.\n",
        "\n",
        "Το συγκεκριμένο τμήμα της εργασίας είναι πιθανό να παρουσιάζεται αρκετά μπερδεμένο αλλά αυτό οφείλεται στους συγκεκριμένους τρεις παράγοντες:\n",
        "•\tΤρέχαμε ταυτόχρονα blocks κώδικα σε διαφορετικά Colab Notebooks, από διαφορετικούς λογαριασμούς η τοπικά σε διαφορετικούς υπολογιστές για να ξεπεράσουμε τους περιορισμούς του Colabως προς τη χρήση, καθώς και τους περιορισμούς των μηχανημάτων που είχαμε στη διάθεσή μας (τα οποία δυστυχώς αυτό τον καιρό ταλαιπωρούνται από πολλά demanding tasks).\n",
        "•\tΗ διαδικασία δεν ήταν προκαθορισμένη και πολλές φορές λαμβάναμε την απόφαση για το επόμενο block που θα εκτελεστεί ανάλογα με την έκβαση του προηγούμενου.\n",
        "Προσπαθήσαμε να συγκεντρώσουμε όλη τη δουλειά που κάναμε σε ένα Notebook και σας παρουσιάζουμε τη δουλειά μας παρακάτω.\n"
      ]
    },
    {
      "cell_type": "markdown",
      "metadata": {
        "id": "g49-Hg4ilhzS"
      },
      "source": [
        "Εύρεση βέλτιστου 'lbfgs' MLP ως προς f1-macro"
      ]
    },
    {
      "cell_type": "code",
      "metadata": {
        "id": "vh3wxfz1kQD7",
        "outputId": "b3cb1be8-7ecc-4863-9be6-d0d0b47f084e"
      },
      "source": [
        "mlp_gs = MLPClassifier(solver = 'lbfgs')\n",
        "selector = VarianceThreshold()\n",
        "scaler = StandardScaler()\n",
        "h = [(40,),(80,),(120,),(200,),(400,)]\n",
        "activation = ['identity','logistic','tanh','relu']\n",
        "#solver = ['lbfgs','sgd','adam']\n",
        "learning_rate = ['constant','invscaling','adaptive']\n",
        "max_iter = [100,250,500,1000]\n",
        "n_components = [25, 50, 90, 140, 200]\n",
        "alpha = [1e-5,1e-4,1e-3]\n",
        "pipe = Pipeline(steps=[('selector',selector),('scaler',scaler),('pca', pca), ('mlp', mlp_gs)])\n",
        "estimator = GridSearchCV(pipe, dict(pca__n_components=n_components, mlp__hidden_layer_sizes=h,\n",
        "                                    mlp__activation=activation,\n",
        "                                    mlp__max_iter = max_iter, mlp__alpha = alpha), cv=5, scoring='f1_macro', n_jobs=2)\n",
        "start_time = time.time()\n",
        "estimator.fit(train, unbin_train_labels)\n",
        "preds = estimator.predict(test)\n",
        "print(\"Συνολικός χρόνος fit και predict: %s seconds\" % (time.time() - start_time))\n",
        "print(classification_report(unbin_test_labels, preds))"
      ],
      "execution_count": null,
      "outputs": [
        {
          "output_type": "stream",
          "text": [
            "Συνολικός χρόνος fit και predict: 718.284912109375 seconds\n",
            "             precision    recall  f1-score   support\n",
            "\n",
            "          0       0.98      0.90      0.94        50\n",
            "          1       0.87      0.96      0.91        50\n",
            "          2       0.91      0.94      0.92        52\n",
            "          3       0.96      0.89      0.93        57\n",
            "          4       0.96      0.90      0.92        48\n",
            "          5       0.93      0.91      0.92        55\n",
            "          6       0.97      0.97      0.97        40\n",
            "          7       0.87      0.89      0.88        44\n",
            "          8       0.96      0.96      0.96        45\n",
            "          9       0.80      0.89      0.85        37\n",
            "\n",
            "avg / total       0.92      0.92      0.92       478\n",
            "\n"
          ],
          "name": "stdout"
        }
      ]
    },
    {
      "cell_type": "code",
      "metadata": {
        "id": "zACcC8z0kQD7",
        "outputId": "65d7d381-4d35-4b3b-e003-015c57bd548f"
      },
      "source": [
        "print(estimator.best_estimator_)\n",
        "print(estimator.best_params_)"
      ],
      "execution_count": null,
      "outputs": [
        {
          "output_type": "stream",
          "text": [
            "Pipeline(memory=None,\n",
            "     steps=[('selector', VarianceThreshold(threshold=0.0)), ('scaler', StandardScaler(copy=True, with_mean=True, with_std=True)), ('pca', PCA(copy=True, iterated_power='auto', n_components=200, random_state=None,\n",
            "  svd_solver='auto', tol=0.0, whiten=False)), ('mlp', MLPClassifier(activation='relu', alpha...True, solver='lbfgs', tol=0.0001, validation_fraction=0.1,\n",
            "       verbose=False, warm_start=False))])\n",
            "{'mlp__activation': 'relu', 'mlp__alpha': 0.001, 'mlp__hidden_layer_sizes': (200,), 'mlp__max_iter': 100, 'pca__n_components': 200}\n"
          ],
          "name": "stdout"
        }
      ]
    },
    {
      "cell_type": "code",
      "metadata": {
        "id": "8O3JpJyxkQD8",
        "outputId": "981f3df3-a1d9-4306-bccf-4ae5a03527f4"
      },
      "source": [
        "mlp_gs = MLPClassifier(solver = 'lbfgs',activation='relu')\n",
        "selector = VarianceThreshold()\n",
        "scaler = StandardScaler()\n",
        "h = [(300,),(400,),(500,)]\n",
        "#activation = ['identity','logistic','tanh','relu']\n",
        "#solver = ['lbfgs','sgd','adam']\n",
        "learning_rate = ['constant']\n",
        "max_iter = [90,1000]\n",
        "n_components = [120, 140, 160]\n",
        "alpha = [5e-4,1e-3,5e-3]\n",
        "pipe = Pipeline(steps=[('selector',selector),('scaler',scaler),('pca', pca), ('mlp', mlp_gs)])\n",
        "estimator = GridSearchCV(pipe, dict(pca__n_components=n_components, mlp__hidden_layer_sizes=h,\n",
        "                                    mlp__max_iter = max_iter, mlp__alpha = alpha), cv=5, scoring='f1_macro', n_jobs=-1)\n",
        "start_time = time.time()\n",
        "estimator.fit(train, unbin_train_labels)\n",
        "preds = estimator.predict(test)\n",
        "print(\"Συνολικός χρόνος fit και predict: %s seconds\" % (time.time() - start_time))\n",
        "print(classification_report(unbin_test_labels, preds))"
      ],
      "execution_count": null,
      "outputs": [
        {
          "output_type": "stream",
          "text": [
            "Συνολικός χρόνος fit και predict: 60.766510009765625 seconds\n",
            "             precision    recall  f1-score   support\n",
            "\n",
            "          0       1.00      0.90      0.95        50\n",
            "          1       0.92      0.96      0.94        50\n",
            "          2       0.92      0.92      0.92        52\n",
            "          3       0.96      0.86      0.91        57\n",
            "          4       0.96      0.96      0.96        48\n",
            "          5       0.91      0.95      0.93        55\n",
            "          6       0.97      0.97      0.97        40\n",
            "          7       0.85      0.91      0.88        44\n",
            "          8       0.96      0.96      0.96        45\n",
            "          9       0.80      0.89      0.85        37\n",
            "\n",
            "avg / total       0.93      0.93      0.93       478\n",
            "\n"
          ],
          "name": "stdout"
        }
      ]
    },
    {
      "cell_type": "code",
      "metadata": {
        "id": "pINpFcvFkQD8",
        "outputId": "4fb36ed7-6090-4fc2-b94e-e2f0acf49113"
      },
      "source": [
        "print(estimator.best_estimator_)\n",
        "print(estimator.best_params_)"
      ],
      "execution_count": null,
      "outputs": [
        {
          "output_type": "stream",
          "text": [
            "Pipeline(memory=None,\n",
            "     steps=[('selector', VarianceThreshold(threshold=0.0)), ('scaler', StandardScaler(copy=True, with_mean=True, with_std=True)), ('pca', PCA(copy=True, iterated_power='auto', n_components=140, random_state=None,\n",
            "  svd_solver='auto', tol=0.0, whiten=False)), ('mlp', MLPClassifier(activation='relu', alpha...True, solver='lbfgs', tol=0.0001, validation_fraction=0.1,\n",
            "       verbose=False, warm_start=False))])\n",
            "{'mlp__alpha': 0.005, 'mlp__hidden_layer_sizes': (300,), 'mlp__max_iter': 1000, 'pca__n_components': 140}\n"
          ],
          "name": "stdout"
        }
      ]
    },
    {
      "cell_type": "code",
      "metadata": {
        "colab": {
          "base_uri": "https://localhost:8080/"
        },
        "id": "WaQ7TRp7odqO",
        "outputId": "5b3dcd96-4be0-49d0-9e4f-f28dc5a62e48"
      },
      "source": [
        "mlp_gs = MLPClassifier(solver = 'lbfgs')\n",
        "selector = VarianceThreshold()\n",
        "scaler = StandardScaler()\n",
        "h = [(100,),(200,),(400,)]\n",
        "activation = ['relu']\n",
        "#h = [(40,),(80,),(120,),(200,),(400,)]\n",
        "#activation = ['identity','logistic','tanh','relu']\n",
        "#solver = ['lbfgs','sgd','adam']\n",
        "learning_rate = ['constant','invscaling','adaptive']\n",
        "max_iter = [250,500,1000]\n",
        "n_components = [25, 50, 90, 140]\n",
        "alpha = [1e-5,1e-4,1e-3]\n",
        "pipe = Pipeline(steps=[('selector',selector),('scaler',scaler),('pca', pca), ('mlp', mlp_gs)])\n",
        "estimator = GridSearchCV(pipe, dict(pca__n_components=n_components, mlp__hidden_layer_sizes=h,\n",
        "                                    mlp__activation = activation, \n",
        "                                    mlp__max_iter = max_iter, mlp__alpha = alpha), cv=5, scoring='f1_macro', n_jobs=-1)\n",
        "start_time = time.time()\n",
        "estimator.fit(train, unbin_train_labels)\n",
        "preds = estimator.predict(test)\n",
        "print(\"Συνολικός χρόνος fit και predict: %s seconds\" % (time.time() - start_time))\n",
        "print(classification_report(unbin_test_labels, preds))\n",
        "print(estimator.best_estimator_)\n",
        "print(estimator.best_params_)"
      ],
      "execution_count": null,
      "outputs": [
        {
          "output_type": "stream",
          "text": [
            "Συνολικός χρόνος fit και predict: 103.34673070907593 seconds\n",
            "              precision    recall  f1-score   support\n",
            "\n",
            "           0       0.98      0.90      0.94        50\n",
            "           1       0.86      0.96      0.91        50\n",
            "           2       0.94      0.98      0.96        52\n",
            "           3       0.96      0.91      0.94        57\n",
            "           4       0.98      0.98      0.98        48\n",
            "           5       0.93      0.95      0.94        55\n",
            "           6       0.97      0.97      0.97        40\n",
            "           7       0.86      0.86      0.86        44\n",
            "           8       0.96      0.96      0.96        45\n",
            "           9       0.89      0.84      0.86        37\n",
            "\n",
            "    accuracy                           0.93       478\n",
            "   macro avg       0.93      0.93      0.93       478\n",
            "weighted avg       0.93      0.93      0.93       478\n",
            "\n",
            "Pipeline(memory=None,\n",
            "         steps=[('selector', VarianceThreshold(threshold=0.0)),\n",
            "                ('scaler',\n",
            "                 StandardScaler(copy=True, with_mean=True, with_std=True)),\n",
            "                ('pca',\n",
            "                 PCA(copy=True, iterated_power='auto', n_components=90,\n",
            "                     random_state=None, svd_solver='auto', tol=0.0,\n",
            "                     whiten=False)),\n",
            "                ('mlp',\n",
            "                 MLPClassifier(activation='relu', alpha=1e-05,\n",
            "                               batch_size='auto', beta_1=0.9, beta_2=0.999,\n",
            "                               early_stopping=False, epsilon=1e-08,\n",
            "                               hidden_layer_sizes=(400,),\n",
            "                               learning_rate='constant',\n",
            "                               learning_rate_init=0.001, max_fun=15000,\n",
            "                               max_iter=500, momentum=0.9, n_iter_no_change=10,\n",
            "                               nesterovs_momentum=True, power_t=0.5,\n",
            "                               random_state=None, shuffle=True, solver='lbfgs',\n",
            "                               tol=0.0001, validation_fraction=0.1,\n",
            "                               verbose=False, warm_start=False))],\n",
            "         verbose=False)\n",
            "{'mlp__activation': 'relu', 'mlp__alpha': 1e-05, 'mlp__hidden_layer_sizes': (400,), 'mlp__max_iter': 500, 'pca__n_components': 90}\n"
          ],
          "name": "stdout"
        }
      ]
    },
    {
      "cell_type": "code",
      "metadata": {
        "colab": {
          "base_uri": "https://localhost:8080/"
        },
        "id": "9VxVYxAtjEmF",
        "outputId": "95a1d2dc-916d-42ae-b556-b87204b6cda5"
      },
      "source": [
        "h = [(300,),(400,),(500,)]\n",
        "activation = ['relu']\n",
        "#h = [(40,),(80,),(120,),(200,),(400,)]\n",
        "#activation = ['identity','logistic','tanh','relu']\n",
        "#solver = ['lbfgs','sgd','adam']\n",
        "learning_rate = ['constant','invscaling','adaptive']\n",
        "max_iter = [400,500,600]\n",
        "n_components = [70, 90, 110]\n",
        "alpha = [1e-5,1e-4,1e-3]\n",
        "pipe = Pipeline(steps=[('selector',selector),('scaler',scaler),('pca', pca), ('mlp', mlp_gs)])\n",
        "estimator = GridSearchCV(pipe, dict(pca__n_components=n_components, mlp__hidden_layer_sizes=h,\n",
        "                                    mlp__activation = activation, \n",
        "                                    mlp__max_iter = max_iter, mlp__alpha = alpha), cv=5, scoring='f1_macro', n_jobs=-1)\n",
        "start_time = time.time()\n",
        "estimator.fit(train, unbin_train_labels)\n",
        "preds = estimator.predict(test)\n",
        "print(\"Συνολικός χρόνος fit και predict: %s seconds\" % (time.time() - start_time))\n",
        "print(classification_report(unbin_test_labels, preds))\n",
        "print(estimator.best_estimator_)\n",
        "print(estimator.best_params_)"
      ],
      "execution_count": null,
      "outputs": [
        {
          "output_type": "stream",
          "text": [
            "Συνολικός χρόνος fit και predict: 116.24454116821289 seconds\n",
            "              precision    recall  f1-score   support\n",
            "\n",
            "           0       0.98      0.90      0.94        50\n",
            "           1       0.94      0.98      0.96        50\n",
            "           2       0.94      0.98      0.96        52\n",
            "           3       0.96      0.86      0.91        57\n",
            "           4       0.96      0.96      0.96        48\n",
            "           5       0.87      0.96      0.91        55\n",
            "           6       0.95      0.97      0.96        40\n",
            "           7       0.89      0.89      0.89        44\n",
            "           8       0.93      0.93      0.93        45\n",
            "           9       0.92      0.89      0.90        37\n",
            "\n",
            "    accuracy                           0.93       478\n",
            "   macro avg       0.93      0.93      0.93       478\n",
            "weighted avg       0.93      0.93      0.93       478\n",
            "\n",
            "Pipeline(memory=None,\n",
            "         steps=[('selector', VarianceThreshold(threshold=0.0)),\n",
            "                ('scaler',\n",
            "                 StandardScaler(copy=True, with_mean=True, with_std=True)),\n",
            "                ('pca',\n",
            "                 PCA(copy=True, iterated_power='auto', n_components=110,\n",
            "                     random_state=None, svd_solver='auto', tol=0.0,\n",
            "                     whiten=False)),\n",
            "                ('mlp',\n",
            "                 MLPClassifier(activation='relu', alpha=0.0001,\n",
            "                               batch_size='auto', beta_1=0.9, beta_2=0.999,\n",
            "                               early_stopping=False, epsilon=1e-08,\n",
            "                               hidden_layer_sizes=(500,),\n",
            "                               learning_rate='constant',\n",
            "                               learning_rate_init=0.001, max_fun=15000,\n",
            "                               max_iter=500, momentum=0.9, n_iter_no_change=10,\n",
            "                               nesterovs_momentum=True, power_t=0.5,\n",
            "                               random_state=None, shuffle=True, solver='lbfgs',\n",
            "                               tol=0.0001, validation_fraction=0.1,\n",
            "                               verbose=False, warm_start=False))],\n",
            "         verbose=False)\n",
            "{'mlp__activation': 'relu', 'mlp__alpha': 0.0001, 'mlp__hidden_layer_sizes': (500,), 'mlp__max_iter': 500, 'pca__n_components': 110}\n"
          ],
          "name": "stdout"
        }
      ]
    },
    {
      "cell_type": "code",
      "metadata": {
        "colab": {
          "base_uri": "https://localhost:8080/"
        },
        "id": "omtCeePckBfj",
        "outputId": "1645c881-1f8e-4335-8777-5d28f343bd47"
      },
      "source": [
        "h = [(500,),(600,),(700,)]\n",
        "activation = ['relu']\n",
        "#h = [(40,),(80,),(120,),(200,),(400,)]\n",
        "#activation = ['identity','logistic','tanh','relu']\n",
        "#solver = ['lbfgs','sgd','adam']\n",
        "learning_rate = ['constant']\n",
        "max_iter = [500]\n",
        "n_components = [100, 110,120,140]\n",
        "alpha = [1e-5,1e-4,1e-3]\n",
        "pipe = Pipeline(steps=[('selector',selector),('scaler',scaler),('pca', pca), ('mlp', mlp_gs)])\n",
        "estimator = GridSearchCV(pipe, dict(pca__n_components=n_components, mlp__hidden_layer_sizes=h,\n",
        "                                    mlp__activation = activation, \n",
        "                                    mlp__max_iter = max_iter, mlp__alpha = alpha), cv=5, scoring='f1_macro', n_jobs=-1)\n",
        "start_time = time.time()\n",
        "estimator.fit(train, unbin_train_labels)\n",
        "preds = estimator.predict(test)\n",
        "print(\"Συνολικός χρόνος fit και predict: %s seconds\" % (time.time() - start_time))\n",
        "print(classification_report(unbin_test_labels, preds))\n",
        "print(estimator.best_estimator_)\n",
        "print(estimator.best_params_)"
      ],
      "execution_count": null,
      "outputs": [
        {
          "output_type": "stream",
          "text": [
            "Συνολικός χρόνος fit και predict: 80.65009665489197 seconds\n",
            "              precision    recall  f1-score   support\n",
            "\n",
            "           0       0.98      0.88      0.93        50\n",
            "           1       0.94      0.92      0.93        50\n",
            "           2       0.94      0.96      0.95        52\n",
            "           3       0.96      0.88      0.92        57\n",
            "           4       0.94      0.94      0.94        48\n",
            "           5       0.91      0.96      0.94        55\n",
            "           6       0.95      0.97      0.96        40\n",
            "           7       0.83      0.89      0.86        44\n",
            "           8       0.96      0.96      0.96        45\n",
            "           9       0.80      0.86      0.83        37\n",
            "\n",
            "    accuracy                           0.92       478\n",
            "   macro avg       0.92      0.92      0.92       478\n",
            "weighted avg       0.92      0.92      0.92       478\n",
            "\n",
            "Pipeline(memory=None,\n",
            "         steps=[('selector', VarianceThreshold(threshold=0.0)),\n",
            "                ('scaler',\n",
            "                 StandardScaler(copy=True, with_mean=True, with_std=True)),\n",
            "                ('pca',\n",
            "                 PCA(copy=True, iterated_power='auto', n_components=110,\n",
            "                     random_state=None, svd_solver='auto', tol=0.0,\n",
            "                     whiten=False)),\n",
            "                ('mlp',\n",
            "                 MLPClassifier(activation='relu', alpha=0.0001,\n",
            "                               batch_size='auto', beta_1=0.9, beta_2=0.999,\n",
            "                               early_stopping=False, epsilon=1e-08,\n",
            "                               hidden_layer_sizes=(500,),\n",
            "                               learning_rate='constant',\n",
            "                               learning_rate_init=0.001, max_fun=15000,\n",
            "                               max_iter=500, momentum=0.9, n_iter_no_change=10,\n",
            "                               nesterovs_momentum=True, power_t=0.5,\n",
            "                               random_state=None, shuffle=True, solver='lbfgs',\n",
            "                               tol=0.0001, validation_fraction=0.1,\n",
            "                               verbose=False, warm_start=False))],\n",
            "         verbose=False)\n",
            "{'mlp__activation': 'relu', 'mlp__alpha': 0.0001, 'mlp__hidden_layer_sizes': (500,), 'mlp__max_iter': 500, 'pca__n_components': 110}\n"
          ],
          "name": "stdout"
        }
      ]
    },
    {
      "cell_type": "markdown",
      "metadata": {
        "id": "aU0gLHlnlzvo"
      },
      "source": [
        "Εύρεση βέλτιστου 'lbfgs' MLP ως προς F1-Micro"
      ]
    },
    {
      "cell_type": "code",
      "metadata": {
        "id": "AI0IVoi1kQD8",
        "outputId": "b16a5416-564d-441a-9d0b-56c7843b0079"
      },
      "source": [
        "mlp_gs = MLPClassifier(solver = 'lbfgs')\n",
        "selector = VarianceThreshold()\n",
        "scaler = StandardScaler()\n",
        "h = [(80,),(120,),(200,),(400,),(500,)]\n",
        "activation = ['identity','logistic','tanh','relu']\n",
        "#solver = ['lbfgs','sgd','adam']\n",
        "learning_rate = ['constant','invscaling','adaptive']\n",
        "max_iter = [100,250,500,1000]\n",
        "n_components = [25, 50, 90, 140, 200]\n",
        "alpha = [1e-5,1e-4,1e-3]\n",
        "pipe = Pipeline(steps=[('selector',selector),('scaler',scaler),('pca', pca), ('mlp', mlp_gs)])\n",
        "estimator = GridSearchCV(pipe, dict(pca__n_components=n_components, mlp__hidden_layer_sizes=h,\n",
        "                                    mlp__activation=activation,\n",
        "                                    mlp__max_iter = max_iter, mlp__alpha = alpha), cv=5, scoring='f1_micro', n_jobs=2)\n",
        "start_time = time.time()\n",
        "estimator.fit(train, unbin_train_labels)\n",
        "preds = estimator.predict(test)\n",
        "print(\"Συνολικός χρόνος fit και predict: %s seconds\" % (time.time() - start_time))\n",
        "print(classification_report(unbin_test_labels, preds))\n",
        "print(estimator.best_estimator_)\n",
        "print(estimator.best_params_)"
      ],
      "execution_count": null,
      "outputs": [
        {
          "output_type": "stream",
          "text": [
            "Συνολικός χρόνος fit και predict: 926.8906371593475 seconds\n",
            "             precision    recall  f1-score   support\n",
            "\n",
            "          0       0.98      0.88      0.93        50\n",
            "          1       0.89      0.98      0.93        50\n",
            "          2       0.94      0.94      0.94        52\n",
            "          3       0.96      0.86      0.91        57\n",
            "          4       0.96      0.94      0.95        48\n",
            "          5       0.88      0.93      0.90        55\n",
            "          6       0.97      0.95      0.96        40\n",
            "          7       0.89      0.93      0.91        44\n",
            "          8       0.98      0.96      0.97        45\n",
            "          9       0.80      0.89      0.85        37\n",
            "\n",
            "avg / total       0.93      0.92      0.93       478\n",
            "\n",
            "Pipeline(memory=None,\n",
            "     steps=[('selector', VarianceThreshold(threshold=0.0)), ('scaler', StandardScaler(copy=True, with_mean=True, with_std=True)), ('pca', PCA(copy=True, iterated_power='auto', n_components=140, random_state=None,\n",
            "  svd_solver='auto', tol=0.0, whiten=False)), ('mlp', MLPClassifier(activation='relu', alpha...True, solver='lbfgs', tol=0.0001, validation_fraction=0.1,\n",
            "       verbose=False, warm_start=False))])\n",
            "{'mlp__activation': 'relu', 'mlp__alpha': 0.0001, 'mlp__hidden_layer_sizes': (500,), 'mlp__max_iter': 100, 'pca__n_components': 140}\n"
          ],
          "name": "stdout"
        }
      ]
    },
    {
      "cell_type": "code",
      "metadata": {
        "id": "dE8r8th1kQD8",
        "outputId": "3ecb1116-100a-4afb-8262-98f1146019a0"
      },
      "source": [
        "mlp_gs = MLPClassifier(solver = 'lbfgs',activation='relu')\n",
        "selector = VarianceThreshold()\n",
        "scaler = StandardScaler()\n",
        "h = [(400,),(500,),(600,)]\n",
        "#activation = ['identity','logistic','tanh','relu']\n",
        "#solver = ['lbfgs','sgd','adam']\n",
        "learning_rate = ['constant']\n",
        "max_iter = [80,100,150]\n",
        "n_components = [120, 140, 160]\n",
        "alpha = [5e-5,1e-4,5e-4]\n",
        "pipe = Pipeline(steps=[('selector',selector),('scaler',scaler),('pca', pca), ('mlp', mlp_gs)])\n",
        "estimator = GridSearchCV(pipe, dict(pca__n_components=n_components, mlp__hidden_layer_sizes=h,\n",
        "                                    mlp__max_iter = max_iter, mlp__alpha = alpha), cv=5, scoring='f1_micro', n_jobs=-1)\n",
        "start_time = time.time()\n",
        "estimator.fit(train, unbin_train_labels)\n",
        "preds = estimator.predict(test)\n",
        "print(\"Συνολικός χρόνος fit και predict: %s seconds\" % (time.time() - start_time))\n",
        "print(classification_report(unbin_test_labels, preds))"
      ],
      "execution_count": null,
      "outputs": [
        {
          "output_type": "stream",
          "text": [
            "Συνολικός χρόνος fit και predict: 101.27577900886536 seconds\n",
            "             precision    recall  f1-score   support\n",
            "\n",
            "          0       0.98      0.88      0.93        50\n",
            "          1       0.92      0.94      0.93        50\n",
            "          2       0.91      0.96      0.93        52\n",
            "          3       0.96      0.86      0.91        57\n",
            "          4       0.96      0.98      0.97        48\n",
            "          5       0.88      0.96      0.92        55\n",
            "          6       0.97      0.97      0.97        40\n",
            "          7       0.83      0.89      0.86        44\n",
            "          8       0.95      0.93      0.94        45\n",
            "          9       0.89      0.86      0.88        37\n",
            "\n",
            "avg / total       0.93      0.92      0.92       478\n",
            "\n"
          ],
          "name": "stdout"
        }
      ]
    },
    {
      "cell_type": "markdown",
      "metadata": {
        "id": "eRu7AEoHdQdP"
      },
      "source": [
        "Παρακάτω παρουσιάζεται η διαδικασία για solver τύπου “adam” και διάφορυς συνδυασμούς υπερπαραμέτρων."
      ]
    },
    {
      "cell_type": "code",
      "metadata": {
        "colab": {
          "base_uri": "https://localhost:8080/"
        },
        "id": "LRum99AToLP-",
        "outputId": "2ce5367b-fe1b-46b8-b292-aeb37b9a49e8"
      },
      "source": [
        "mlp_gs = MLPClassifier(solver = 'adam')\n",
        "selector = VarianceThreshold()\n",
        "scaler = StandardScaler()\n",
        "h = [(120,),(360,),(650,)]\n",
        "activation = ['identity','logistic','tanh','relu']\n",
        "#solver = ['lbfgs','sgd','adam']\n",
        "learning_rate = ['constant','invscaling','adaptive']\n",
        "max_iter = [700,1000]\n",
        "n_components = [ 40, 80,120]\n",
        "alpha = [1e-5,1e-4]\n",
        "pipe = Pipeline(steps=[('selector',selector),('scaler',scaler),('pca', pca), ('mlp', mlp_gs)])\n",
        "estimator = GridSearchCV(pipe, dict(pca__n_components=n_components, mlp__hidden_layer_sizes=h,\n",
        "                                    mlp__max_iter = max_iter,mlp__activation = activation, mlp__alpha = alpha), cv=5, scoring='f1_macro', n_jobs=-1)\n",
        "start_time = time.time()\n",
        "estimator.fit(train, unbin_train_labels)\n",
        "preds = estimator.predict(test)\n",
        "print(\"Συνολικός χρόνος fit και predict: %s seconds\" % (time.time() - start_time))\n",
        "print(classification_report(unbin_test_labels, preds))\n",
        "print(estimator.best_estimator_)\n",
        "print(estimator.best_params_)"
      ],
      "execution_count": null,
      "outputs": [
        {
          "output_type": "stream",
          "text": [
            "Συνολικός χρόνος fit και predict: 1548.5892086029053 seconds\n",
            "              precision    recall  f1-score   support\n",
            "\n",
            "           0       0.98      0.94      0.96        50\n",
            "           1       0.92      0.96      0.94        50\n",
            "           2       0.98      1.00      0.99        52\n",
            "           3       0.98      0.88      0.93        57\n",
            "           4       0.96      1.00      0.98        48\n",
            "           5       0.90      0.98      0.94        55\n",
            "           6       1.00      0.95      0.97        40\n",
            "           7       0.89      0.89      0.89        44\n",
            "           8       0.93      0.96      0.95        45\n",
            "           9       0.89      0.86      0.88        37\n",
            "\n",
            "    accuracy                           0.94       478\n",
            "   macro avg       0.94      0.94      0.94       478\n",
            "weighted avg       0.94      0.94      0.94       478\n",
            "\n",
            "Pipeline(memory=None,\n",
            "         steps=[('selector', VarianceThreshold(threshold=0.0)),\n",
            "                ('scaler',\n",
            "                 StandardScaler(copy=True, with_mean=True, with_std=True)),\n",
            "                ('pca',\n",
            "                 PCA(copy=True, iterated_power='auto', n_components=40,\n",
            "                     random_state=None, svd_solver='auto', tol=0.0,\n",
            "                     whiten=False)),\n",
            "                ('mlp',\n",
            "                 MLPClassifier(activation='relu', alpha=1e-05,\n",
            "                               batch_size='auto', beta_1=0.9, beta_2=0.999,\n",
            "                               early_stopping=False, epsilon=1e-08,\n",
            "                               hidden_layer_sizes=(360,),\n",
            "                               learning_rate='constant',\n",
            "                               learning_rate_init=0.001, max_fun=15000,\n",
            "                               max_iter=1000, momentum=0.9, n_iter_no_change=10,\n",
            "                               nesterovs_momentum=True, power_t=0.5,\n",
            "                               random_state=None, shuffle=True, solver='adam',\n",
            "                               tol=0.0001, validation_fraction=0.1,\n",
            "                               verbose=False, warm_start=False))],\n",
            "         verbose=False)\n",
            "{'mlp__activation': 'relu', 'mlp__alpha': 1e-05, 'mlp__hidden_layer_sizes': (360,), 'mlp__max_iter': 1000, 'pca__n_components': 40}\n"
          ],
          "name": "stdout"
        }
      ]
    },
    {
      "cell_type": "code",
      "metadata": {
        "colab": {
          "base_uri": "https://localhost:8080/"
        },
        "id": "3hurRDJyo2Qf",
        "outputId": "f0c19a76-fc81-46a4-90ff-a5e498bab465"
      },
      "source": [
        "mlp_gs = MLPClassifier(solver = 'adam')\n",
        "selector = VarianceThreshold()\n",
        "scaler = StandardScaler()\n",
        "h = [(120,),(360,),(650,)]\n",
        "activation = ['identity','logistic','tanh','relu']\n",
        "#solver = ['lbfgs','sgd','adam']\n",
        "learning_rate = ['constant','invscaling','adaptive']\n",
        "max_iter = [700,1000]\n",
        "n_components = [ 40, 80,120]\n",
        "alpha = [1e-5,1e-4]\n",
        "pipe = Pipeline(steps=[('selector',selector),('scaler',scaler),('pca', pca), ('mlp', mlp_gs)])\n",
        "estimator = GridSearchCV(pipe, dict(pca__n_components=n_components, mlp__hidden_layer_sizes=h,\n",
        "                                    mlp__max_iter = max_iter,mlp__activation = activation, mlp__alpha = alpha), cv=5, scoring='f1_micro', n_jobs=-1)\n",
        "start_time = time.time()\n",
        "estimator.fit(train, unbin_train_labels)\n",
        "preds = estimator.predict(test)\n",
        "print(\"Συνολικός χρόνος fit και predict: %s seconds\" % (time.time() - start_time))\n",
        "print(classification_report(unbin_test_labels, preds))\n",
        "print(estimator.best_estimator_)\n",
        "print(estimator.best_params_)"
      ],
      "execution_count": null,
      "outputs": [
        {
          "output_type": "stream",
          "text": [
            "Συνολικός χρόνος fit και predict: 1547.3559868335724 seconds\n",
            "              precision    recall  f1-score   support\n",
            "\n",
            "           0       0.98      0.92      0.95        50\n",
            "           1       0.91      1.00      0.95        50\n",
            "           2       0.98      0.96      0.97        52\n",
            "           3       0.96      0.86      0.91        57\n",
            "           4       0.92      1.00      0.96        48\n",
            "           5       0.90      0.98      0.94        55\n",
            "           6       1.00      0.95      0.97        40\n",
            "           7       0.93      0.86      0.89        44\n",
            "           8       0.93      0.96      0.95        45\n",
            "           9       0.86      0.86      0.86        37\n",
            "\n",
            "    accuracy                           0.94       478\n",
            "   macro avg       0.94      0.94      0.94       478\n",
            "weighted avg       0.94      0.94      0.94       478\n",
            "\n",
            "Pipeline(memory=None,\n",
            "         steps=[('selector', VarianceThreshold(threshold=0.0)),\n",
            "                ('scaler',\n",
            "                 StandardScaler(copy=True, with_mean=True, with_std=True)),\n",
            "                ('pca',\n",
            "                 PCA(copy=True, iterated_power='auto', n_components=40,\n",
            "                     random_state=None, svd_solver='auto', tol=0.0,\n",
            "                     whiten=False)),\n",
            "                ('mlp',\n",
            "                 MLPClassifier(activation='relu', alpha=0.0001,\n",
            "                               batch_size='auto', beta_1=0.9, beta_2=0.999,\n",
            "                               early_stopping=False, epsilon=1e-08,\n",
            "                               hidden_layer_sizes=(650,),\n",
            "                               learning_rate='constant',\n",
            "                               learning_rate_init=0.001, max_fun=15000,\n",
            "                               max_iter=1000, momentum=0.9, n_iter_no_change=10,\n",
            "                               nesterovs_momentum=True, power_t=0.5,\n",
            "                               random_state=None, shuffle=True, solver='adam',\n",
            "                               tol=0.0001, validation_fraction=0.1,\n",
            "                               verbose=False, warm_start=False))],\n",
            "         verbose=False)\n",
            "{'mlp__activation': 'relu', 'mlp__alpha': 0.0001, 'mlp__hidden_layer_sizes': (650,), 'mlp__max_iter': 1000, 'pca__n_components': 40}\n"
          ],
          "name": "stdout"
        }
      ]
    },
    {
      "cell_type": "code",
      "metadata": {
        "colab": {
          "base_uri": "https://localhost:8080/"
        },
        "id": "jgBZKIi1gN7b",
        "outputId": "f6cd4ca1-4feb-4a4c-9474-3dcd61fb65ac"
      },
      "source": [
        "mlp_gs = MLPClassifier(solver = 'adam')\n",
        "selector = VarianceThreshold()\n",
        "scaler = StandardScaler()\n",
        "h = [(240,),(360,),(480,)]\n",
        "activation = ['identity','logistic','tanh','relu']\n",
        "#solver = ['lbfgs','sgd','adam']\n",
        "learning_rate = ['constant']\n",
        "max_iter = [900,1000]\n",
        "n_components = [ 36,40,44]\n",
        "alpha = [1e-5,5e-5]\n",
        "pipe = Pipeline(steps=[('selector',selector),('scaler',scaler),('pca', pca), ('mlp', mlp_gs)])\n",
        "estimator = GridSearchCV(pipe, dict(pca__n_components=n_components, mlp__hidden_layer_sizes=h,\n",
        "                                    mlp__max_iter = max_iter,mlp__activation = activation, mlp__alpha = alpha), cv=5, scoring='f1_macro', n_jobs=-1)\n",
        "start_time = time.time()\n",
        "estimator.fit(train, unbin_train_labels)\n",
        "preds = estimator.predict(test)\n",
        "print(\"Συνολικός χρόνος fit και predict: %s seconds\" % (time.time() - start_time))\n",
        "print(classification_report(unbin_test_labels, preds))\n",
        "print(estimator.best_estimator_)\n",
        "print(estimator.best_params_)"
      ],
      "execution_count": null,
      "outputs": [
        {
          "output_type": "stream",
          "text": [
            "Συνολικός χρόνος fit και predict: 1590.3176186084747 seconds\n",
            "              precision    recall  f1-score   support\n",
            "\n",
            "           0       0.98      0.94      0.96        50\n",
            "           1       0.87      0.96      0.91        50\n",
            "           2       0.98      0.98      0.98        52\n",
            "           3       0.96      0.86      0.91        57\n",
            "           4       0.94      1.00      0.97        48\n",
            "           5       0.92      0.98      0.95        55\n",
            "           6       1.00      0.95      0.97        40\n",
            "           7       0.90      0.86      0.88        44\n",
            "           8       0.96      0.98      0.97        45\n",
            "           9       0.89      0.86      0.88        37\n",
            "\n",
            "    accuracy                           0.94       478\n",
            "   macro avg       0.94      0.94      0.94       478\n",
            "weighted avg       0.94      0.94      0.94       478\n",
            "\n",
            "Pipeline(memory=None,\n",
            "         steps=[('selector', VarianceThreshold(threshold=0.0)),\n",
            "                ('scaler',\n",
            "                 StandardScaler(copy=True, with_mean=True, with_std=True)),\n",
            "                ('pca',\n",
            "                 PCA(copy=True, iterated_power='auto', n_components=40,\n",
            "                     random_state=None, svd_solver='auto', tol=0.0,\n",
            "                     whiten=False)),\n",
            "                ('mlp',\n",
            "                 MLPClassifier(activation='relu', alpha=1e-05,\n",
            "                               batch_size='auto', beta_1=0.9, beta_2=0.999,\n",
            "                               early_stopping=False, epsilon=1e-08,\n",
            "                               hidden_layer_sizes=(480,),\n",
            "                               learning_rate='constant',\n",
            "                               learning_rate_init=0.001, max_fun=15000,\n",
            "                               max_iter=900, momentum=0.9, n_iter_no_change=10,\n",
            "                               nesterovs_momentum=True, power_t=0.5,\n",
            "                               random_state=None, shuffle=True, solver='adam',\n",
            "                               tol=0.0001, validation_fraction=0.1,\n",
            "                               verbose=False, warm_start=False))],\n",
            "         verbose=False)\n",
            "{'mlp__activation': 'relu', 'mlp__alpha': 1e-05, 'mlp__hidden_layer_sizes': (480,), 'mlp__max_iter': 900, 'pca__n_components': 40}\n"
          ],
          "name": "stdout"
        }
      ]
    },
    {
      "cell_type": "code",
      "metadata": {
        "colab": {
          "base_uri": "https://localhost:8080/"
        },
        "id": "QYiw7zcKhXYr",
        "outputId": "c5614517-40ea-4e5a-81f3-9575e58b998d"
      },
      "source": [
        "mlp_gs = MLPClassifier(solver = 'adam')\n",
        "selector = VarianceThreshold()\n",
        "scaler = StandardScaler()\n",
        "h = [(550,),(650,),(750,)]\n",
        "activation = ['relu']\n",
        "#solver = ['lbfgs','sgd','adam']\n",
        "learning_rate = ['constant']\n",
        "max_iter = [900,1000]\n",
        "n_components = [ 35,40,44]\n",
        "alpha = [5e-5,1e-4,5e-4]\n",
        "pipe = Pipeline(steps=[('selector',selector),('scaler',scaler),('pca', pca), ('mlp', mlp_gs)])\n",
        "estimator = GridSearchCV(pipe, dict(pca__n_components=n_components, mlp__hidden_layer_sizes=h,\n",
        "                                    mlp__max_iter = max_iter,mlp__activation = activation, mlp__alpha = alpha), cv=5, scoring='f1_micro', n_jobs=-1)\n",
        "start_time = time.time()\n",
        "estimator.fit(train, unbin_train_labels)\n",
        "preds = estimator.predict(test)\n",
        "print(\"Συνολικός χρόνος fit και predict: %s seconds\" % (time.time() - start_time))\n",
        "print(classification_report(unbin_test_labels, preds))\n",
        "print(estimator.best_estimator_)\n",
        "print(estimator.best_params_)"
      ],
      "execution_count": null,
      "outputs": [
        {
          "output_type": "stream",
          "text": [
            "Συνολικός χρόνος fit και predict: 485.3617181777954 seconds\n",
            "              precision    recall  f1-score   support\n",
            "\n",
            "           0       0.98      0.94      0.96        50\n",
            "           1       0.91      0.98      0.94        50\n",
            "           2       1.00      0.98      0.99        52\n",
            "           3       0.96      0.86      0.91        57\n",
            "           4       0.98      0.98      0.98        48\n",
            "           5       0.90      0.96      0.93        55\n",
            "           6       1.00      1.00      1.00        40\n",
            "           7       0.87      0.89      0.88        44\n",
            "           8       0.96      0.96      0.96        45\n",
            "           9       0.86      0.86      0.86        37\n",
            "\n",
            "    accuracy                           0.94       478\n",
            "   macro avg       0.94      0.94      0.94       478\n",
            "weighted avg       0.94      0.94      0.94       478\n",
            "\n",
            "Pipeline(memory=None,\n",
            "         steps=[('selector', VarianceThreshold(threshold=0.0)),\n",
            "                ('scaler',\n",
            "                 StandardScaler(copy=True, with_mean=True, with_std=True)),\n",
            "                ('pca',\n",
            "                 PCA(copy=True, iterated_power='auto', n_components=44,\n",
            "                     random_state=None, svd_solver='auto', tol=0.0,\n",
            "                     whiten=False)),\n",
            "                ('mlp',\n",
            "                 MLPClassifier(activation='relu', alpha=0.0001,\n",
            "                               batch_size='auto', beta_1=0.9, beta_2=0.999,\n",
            "                               early_stopping=False, epsilon=1e-08,\n",
            "                               hidden_layer_sizes=(650,),\n",
            "                               learning_rate='constant',\n",
            "                               learning_rate_init=0.001, max_fun=15000,\n",
            "                               max_iter=1000, momentum=0.9, n_iter_no_change=10,\n",
            "                               nesterovs_momentum=True, power_t=0.5,\n",
            "                               random_state=None, shuffle=True, solver='adam',\n",
            "                               tol=0.0001, validation_fraction=0.1,\n",
            "                               verbose=False, warm_start=False))],\n",
            "         verbose=False)\n",
            "{'mlp__activation': 'relu', 'mlp__alpha': 0.0001, 'mlp__hidden_layer_sizes': (650,), 'mlp__max_iter': 1000, 'pca__n_components': 44}\n"
          ],
          "name": "stdout"
        }
      ]
    },
    {
      "cell_type": "markdown",
      "metadata": {
        "id": "PdMFLsBIesil"
      },
      "source": [
        "Παρακάτω παρουσιάζεται η διαδικασία εύρεσης βέλτιστων υπερπαραμέτρων για solver τύπου \"sgd\"."
      ]
    },
    {
      "cell_type": "code",
      "metadata": {
        "colab": {
          "base_uri": "https://localhost:8080/"
        },
        "id": "K1dt3R0Mo7e8",
        "outputId": "9a166cbe-8066-4bbe-f179-5ef6df682c3e"
      },
      "source": [
        "mlp_gs = MLPClassifier(solver = 'sgd')\n",
        "selector = VarianceThreshold()\n",
        "scaler = StandardScaler()\n",
        "h = [(120,),(360,),(650,)]\n",
        "activation = ['identity','logistic','tanh','relu']\n",
        "#solver = ['lbfgs','sgd','adam']\n",
        "learning_rate = ['constant','invscaling','adaptive']\n",
        "max_iter = [700,1000]\n",
        "n_components = [ 40, 80,120]\n",
        "alpha = [1e-5,1e-4]\n",
        "pipe = Pipeline(steps=[('selector',selector),('scaler',scaler),('pca', pca), ('mlp', mlp_gs)])\n",
        "estimator = GridSearchCV(pipe, dict(pca__n_components=n_components, mlp__hidden_layer_sizes=h,\n",
        "                                    mlp__max_iter = max_iter,mlp__activation = activation, mlp__alpha = alpha), cv=5, scoring='f1_macro', n_jobs=-1)\n",
        "start_time = time.time()\n",
        "estimator.fit(train, unbin_train_labels)\n",
        "preds = estimator.predict(test)\n",
        "print(\"Συνολικός χρόνος fit και predict: %s seconds\" % (time.time() - start_time))\n",
        "print(classification_report(unbin_test_labels, preds))\n",
        "print(estimator.best_estimator_)\n",
        "print(estimator.best_params_)"
      ],
      "execution_count": null,
      "outputs": [
        {
          "output_type": "stream",
          "text": [
            "Συνολικός χρόνος fit και predict: 6454.613682508469 seconds\n",
            "              precision    recall  f1-score   support\n",
            "\n",
            "           0       0.98      0.92      0.95        50\n",
            "           1       0.87      0.96      0.91        50\n",
            "           2       0.94      0.96      0.95        52\n",
            "           3       0.94      0.86      0.90        57\n",
            "           4       0.96      0.94      0.95        48\n",
            "           5       0.87      0.95      0.90        55\n",
            "           6       1.00      0.97      0.99        40\n",
            "           7       0.88      0.86      0.87        44\n",
            "           8       0.95      0.93      0.94        45\n",
            "           9       0.82      0.84      0.83        37\n",
            "\n",
            "    accuracy                           0.92       478\n",
            "   macro avg       0.92      0.92      0.92       478\n",
            "weighted avg       0.92      0.92      0.92       478\n",
            "\n",
            "Pipeline(memory=None,\n",
            "         steps=[('selector', VarianceThreshold(threshold=0.0)),\n",
            "                ('scaler',\n",
            "                 StandardScaler(copy=True, with_mean=True, with_std=True)),\n",
            "                ('pca',\n",
            "                 PCA(copy=True, iterated_power='auto', n_components=120,\n",
            "                     random_state=None, svd_solver='auto', tol=0.0,\n",
            "                     whiten=False)),\n",
            "                ('mlp',\n",
            "                 MLPClassifier(activation='relu', alpha=0.0001,\n",
            "                               batch_size='auto', beta_1=0.9, beta_2=0.999,\n",
            "                               early_stopping=False, epsilon=1e-08,\n",
            "                               hidden_layer_sizes=(360,),\n",
            "                               learning_rate='constant',\n",
            "                               learning_rate_init=0.001, max_fun=15000,\n",
            "                               max_iter=1000, momentum=0.9, n_iter_no_change=10,\n",
            "                               nesterovs_momentum=True, power_t=0.5,\n",
            "                               random_state=None, shuffle=True, solver='sgd',\n",
            "                               tol=0.0001, validation_fraction=0.1,\n",
            "                               verbose=False, warm_start=False))],\n",
            "         verbose=False)\n",
            "{'mlp__activation': 'relu', 'mlp__alpha': 0.0001, 'mlp__hidden_layer_sizes': (360,), 'mlp__max_iter': 1000, 'pca__n_components': 120}\n"
          ],
          "name": "stdout"
        }
      ]
    },
    {
      "cell_type": "code",
      "metadata": {
        "colab": {
          "base_uri": "https://localhost:8080/"
        },
        "id": "SdN3OWyLo-_C",
        "outputId": "82914585-7ef3-4470-ad76-8a5771bba77a"
      },
      "source": [
        "mlp_gs = MLPClassifier(solver = 'sgd')\n",
        "selector = VarianceThreshold()\n",
        "scaler = StandardScaler()\n",
        "h = [(120,),(360,),(650,)]\n",
        "activation = ['identity','logistic','tanh','relu']\n",
        "#solver = ['lbfgs','sgd','adam']\n",
        "learning_rate = ['constant','invscaling','adaptive']\n",
        "max_iter = [700,1000]\n",
        "n_components = [ 40, 80,120]\n",
        "alpha = [1e-5,1e-4]\n",
        "pipe = Pipeline(steps=[('selector',selector),('scaler',scaler),('pca', pca), ('mlp', mlp_gs)])\n",
        "estimator = GridSearchCV(pipe, dict(pca__n_components=n_components, mlp__hidden_layer_sizes=h,\n",
        "                                    mlp__max_iter = max_iter,mlp__activation = activation, mlp__alpha = alpha), cv=5, scoring='f1_micro', n_jobs=-1)\n",
        "start_time = time.time()\n",
        "estimator.fit(train, unbin_train_labels)\n",
        "preds = estimator.predict(test)\n",
        "print(\"Συνολικός χρόνος fit και predict: %s seconds\" % (time.time() - start_time))\n",
        "print(classification_report(unbin_test_labels, preds))\n",
        "print(estimator.best_estimator_)\n",
        "print(estimator.best_params_)"
      ],
      "execution_count": null,
      "outputs": [
        {
          "output_type": "stream",
          "text": [
            "Συνολικός χρόνος fit και predict: 6448.585437297821 seconds\n",
            "              precision    recall  f1-score   support\n",
            "\n",
            "           0       0.98      0.92      0.95        50\n",
            "           1       0.87      0.94      0.90        50\n",
            "           2       1.00      0.96      0.98        52\n",
            "           3       0.96      0.91      0.94        57\n",
            "           4       0.96      0.96      0.96        48\n",
            "           5       0.93      0.95      0.94        55\n",
            "           6       0.93      0.97      0.95        40\n",
            "           7       0.89      0.89      0.89        44\n",
            "           8       0.98      0.98      0.98        45\n",
            "           9       0.87      0.89      0.88        37\n",
            "\n",
            "    accuracy                           0.94       478\n",
            "   macro avg       0.94      0.94      0.94       478\n",
            "weighted avg       0.94      0.94      0.94       478\n",
            "\n",
            "Pipeline(memory=None,\n",
            "         steps=[('selector', VarianceThreshold(threshold=0.0)),\n",
            "                ('scaler',\n",
            "                 StandardScaler(copy=True, with_mean=True, with_std=True)),\n",
            "                ('pca',\n",
            "                 PCA(copy=True, iterated_power='auto', n_components=80,\n",
            "                     random_state=None, svd_solver='auto', tol=0.0,\n",
            "                     whiten=False)),\n",
            "                ('mlp',\n",
            "                 MLPClassifier(activation='relu', alpha=0.0001,\n",
            "                               batch_size='auto', beta_1=0.9, beta_2=0.999,\n",
            "                               early_stopping=False, epsilon=1e-08,\n",
            "                               hidden_layer_sizes=(650,),\n",
            "                               learning_rate='constant',\n",
            "                               learning_rate_init=0.001, max_fun=15000,\n",
            "                               max_iter=700, momentum=0.9, n_iter_no_change=10,\n",
            "                               nesterovs_momentum=True, power_t=0.5,\n",
            "                               random_state=None, shuffle=True, solver='sgd',\n",
            "                               tol=0.0001, validation_fraction=0.1,\n",
            "                               verbose=False, warm_start=False))],\n",
            "         verbose=False)\n",
            "{'mlp__activation': 'relu', 'mlp__alpha': 0.0001, 'mlp__hidden_layer_sizes': (650,), 'mlp__max_iter': 700, 'pca__n_components': 80}\n"
          ],
          "name": "stdout"
        }
      ]
    },
    {
      "cell_type": "markdown",
      "metadata": {
        "id": "7FY-RvKmhlug"
      },
      "source": [
        "## Γενικά συμπεράσματα για τη GridSearch στον MLP"
      ]
    },
    {
      "cell_type": "markdown",
      "metadata": {
        "id": "drdaD-O_ilEu"
      },
      "source": [
        "Παρατηρούμε πως καταφέραμε να βελτιώσουμε σε έναν ικανοποιητικό βαθμό τον ταξινομητή MLP παρ’όλα αυτά οφείλουμε να αναφέρουμε πως δεν είμαστε βέβαιοι πως έχουμε πετύχει τα βέλτιστα αποτελέσματα για αυτόν τον ταξινομητή.  Και οι τρεις τύποι solver παρείχαν αποτελέσματα αρκετά κοντά μεταξύ τους και αφού η αναζήτησή μας δεν ήταν εξαντλητική μπορεί να αγνοήσαμε κάποιο συνδυασμό που να έκανε κάποιον από τους δύο solvers, “lbfgs” και “sgd”, να αποδίδουν καλύτερα από τον “adam”, ο οποίος στα πειράματά μας έδωσε τις δύο βέλτιστες λύσεις, ως προς f1-macro και f1-micro.\n",
        "\n",
        "Τονίζουμε εδώ άλλη μια φορά πως το μεγάλο πλήθος υπερπαραμέτρων ως προς βελτιστοποίηση κατέστησε την εξαντλητική αναζήτηση μέσω GridSearch τρομερά χρονικά απαιτητική διαδικασία."
      ]
    },
    {
      "cell_type": "markdown",
      "metadata": {
        "id": "W8vu2tNnNlkA"
      },
      "source": [
        "# SVM"
      ]
    },
    {
      "cell_type": "markdown",
      "metadata": {
        "id": "oIirM516Qo5K"
      },
      "source": [
        "Στο σημείο αυτό πρωτού παρουσιάσουμε τα συνολικά αποτελέσματα θα ελέγξουμε έναν τελευταίο τύπο ταξινομητή, τα δίκτυα SVM."
      ]
    },
    {
      "cell_type": "markdown",
      "metadata": {
        "id": "uIMrwlO_m0wA"
      },
      "source": [
        "## Ορισμός απλού SVM ως benchmark"
      ]
    },
    {
      "cell_type": "markdown",
      "metadata": {
        "id": "8GvLNKj6FNAd"
      },
      "source": [
        "Στην ενότητα αυτή πρέπει να λάβουμε υπόψιν μας πως υπάρχουν δύο διαφορετικές υλοποιήσεις για τον SVM, η LinearSVC που υλοποιεί SVM με γραμμικό τύπο πυρήνα, και η SVC που έχει τη δυνατότητα τόσο για γραμμικούς όσο και για ‘rbf’ και ‘poly’ πυρήνες. Θα εξετάσουμε και τις δύο υλοποιήσεις. Παρακάτω θα ορίσουμε έναν απλό ταξινομητή από κάθε κατηγορία ως benchmark."
      ]
    },
    {
      "cell_type": "code",
      "metadata": {
        "id": "ixQKHfo_Nm8m"
      },
      "source": [
        "from sklearn.svm import SVC \n",
        "from sklearn.svm import LinearSVC"
      ],
      "execution_count": null,
      "outputs": []
    },
    {
      "cell_type": "code",
      "metadata": {
        "id": "3aq-OxltN2Aa"
      },
      "source": [
        "svm_clf = SVC(class_weight='balanced', C = 1).fit(train, unbin_train_labels)\n",
        "svm_preds = svm_clf.predict(test)"
      ],
      "execution_count": null,
      "outputs": []
    },
    {
      "cell_type": "code",
      "metadata": {
        "id": "LjNtKbqeOmBt"
      },
      "source": [
        "svm_acc = svm_clf.score(test, unbin_test_labels)"
      ],
      "execution_count": null,
      "outputs": []
    },
    {
      "cell_type": "code",
      "metadata": {
        "colab": {
          "base_uri": "https://localhost:8080/"
        },
        "id": "xTL1qYWHOqPA",
        "outputId": "7a342485-6db9-47b2-c1cc-6eb54ad26e0d"
      },
      "source": [
        "print(svm_acc)"
      ],
      "execution_count": null,
      "outputs": [
        {
          "output_type": "stream",
          "text": [
            "0.9539748953974896\n"
          ],
          "name": "stdout"
        }
      ]
    },
    {
      "cell_type": "code",
      "metadata": {
        "colab": {
          "base_uri": "https://localhost:8080/"
        },
        "id": "V3pcWlVGdCj_",
        "outputId": "6116b26c-6e2f-47f2-ef3a-9bd7d5aa2d04"
      },
      "source": [
        "svm_clf = LinearSVC(class_weight='balanced').fit(train, unbin_train_labels)\n",
        "svm_preds = svm_clf.predict(test)\n",
        "svm_acc = svm_clf.score(test, unbin_test_labels)\n",
        "print(svm_acc)"
      ],
      "execution_count": null,
      "outputs": [
        {
          "output_type": "stream",
          "text": [
            "0.8598326359832636\n"
          ],
          "name": "stdout"
        },
        {
          "output_type": "stream",
          "text": [
            "/usr/local/lib/python3.6/dist-packages/sklearn/svm/_base.py:947: ConvergenceWarning: Liblinear failed to converge, increase the number of iterations.\n",
            "  \"the number of iterations.\", ConvergenceWarning)\n"
          ],
          "name": "stderr"
        }
      ]
    },
    {
      "cell_type": "markdown",
      "metadata": {
        "id": "pgf8SbaKFhBP"
      },
      "source": [
        "## Εύρεση βέλτιστων υπερπαραμέτρων με GridSearch"
      ]
    },
    {
      "cell_type": "markdown",
      "metadata": {
        "id": "vJS_HxruG91-"
      },
      "source": [
        "Παρακάτω παρουσιάζεται η διαδικασία αναζήτησης βέλτιστων υπερπαραμέτρων και προεπεξεργασίας. Θα ερευνήσουμε ως προς τις παρακάτω παραμέτρους:\n",
        "\n",
        "•\tloss (linear)\n",
        "•\ttol\n",
        "•\tC\n",
        "•\tn_components (PCA)\n",
        "•\tgamma (non-linear)\n",
        "•\tdegree (poly)\n",
        "\n",
        "Σημειώνεται εδώ πως σπάσαμε τη GridSearch σε τμήματα, ανάλογα με τον τύπο πυρήνα και την υλοποίηση που χρησιμοποιήσαμε, ώστε να αποκλείσουμε γρηγορότερα τις υλοποιήσεις που δε δίνουν βέλτιστα αποτελέσματα και να εστιάσουμε την αναζήτηση στους συνδυασμούς με την καλύτερη επίδοση.\n"
      ]
    },
    {
      "cell_type": "markdown",
      "metadata": {
        "id": "Ll1HY99oRqOo"
      },
      "source": [
        "Αρχικά θα ελέγξουμε την υλοποίηση LinearSVC ως προς f1-macro."
      ]
    },
    {
      "cell_type": "code",
      "metadata": {
        "id": "4LfCZacAm7IF",
        "colab": {
          "base_uri": "https://localhost:8080/"
        },
        "outputId": "f666d180-ed21-4c60-9a6f-4bbe2e0b427b"
      },
      "source": [
        "selector = VarianceThreshold()\n",
        "scaler = StandardScaler()\n",
        "svm_gs = LinearSVC(class_weight='balanced')\n",
        "n_components = [10, 25, 50, 90, 140, 200]\n",
        "c = [0.25, 0.5, 1,5,10,50]\n",
        "tol = [1e-5,1e-4,1e-3]\n",
        "loss = ['hinge', 'squared_hinge']\n",
        "pipe = Pipeline(steps=[('selector', selector), ('scaler', scaler),('pca', pca), ('svc', svm_gs)])\n",
        "estimator = GridSearchCV(pipe, dict(pca__n_components=n_components,  svc__C = c, svc__tol = tol, svc__loss = loss),\n",
        "                         cv=5, scoring='f1_macro', n_jobs=-1)\n",
        "start_time = time.time()\n",
        "estimator.fit(train, unbin_train_labels)\n",
        "preds = estimator.predict(test)\n",
        "print(\"Συνολικός χρόνος fit και predict: %s seconds\" % (time.time() - start_time))\n",
        "print(classification_report(unbin_test_labels, preds))\n",
        "print(estimator.best_estimator_)\n",
        "print(estimator.best_params_)"
      ],
      "execution_count": null,
      "outputs": [
        {
          "output_type": "stream",
          "text": [
            "Συνολικός χρόνος fit και predict: 320.92948389053345 seconds\n",
            "              precision    recall  f1-score   support\n",
            "\n",
            "           0       0.90      0.92      0.91        50\n",
            "           1       0.89      0.94      0.91        50\n",
            "           2       0.89      0.94      0.92        52\n",
            "           3       0.98      0.84      0.91        57\n",
            "           4       0.92      0.92      0.92        48\n",
            "           5       0.88      0.96      0.92        55\n",
            "           6       0.97      0.97      0.97        40\n",
            "           7       0.86      0.86      0.86        44\n",
            "           8       0.93      0.91      0.92        45\n",
            "           9       0.88      0.81      0.85        37\n",
            "\n",
            "    accuracy                           0.91       478\n",
            "   macro avg       0.91      0.91      0.91       478\n",
            "weighted avg       0.91      0.91      0.91       478\n",
            "\n",
            "Pipeline(memory=None,\n",
            "         steps=[('selector', VarianceThreshold(threshold=0.0)),\n",
            "                ('scaler',\n",
            "                 StandardScaler(copy=True, with_mean=True, with_std=True)),\n",
            "                ('pca',\n",
            "                 PCA(copy=True, iterated_power='auto', n_components=50,\n",
            "                     random_state=None, svd_solver='auto', tol=0.0,\n",
            "                     whiten=False)),\n",
            "                ('svc',\n",
            "                 LinearSVC(C=0.25, class_weight='balanced', dual=True,\n",
            "                           fit_intercept=True, intercept_scaling=1,\n",
            "                           loss='hinge', max_iter=1000, multi_class='ovr',\n",
            "                           penalty='l2', random_state=None, tol=1e-05,\n",
            "                           verbose=0))],\n",
            "         verbose=False)\n",
            "{'pca__n_components': 50, 'svc__C': 0.25, 'svc__loss': 'hinge', 'svc__tol': 1e-05}\n"
          ],
          "name": "stdout"
        },
        {
          "output_type": "stream",
          "text": [
            "/usr/local/lib/python3.6/dist-packages/sklearn/svm/_base.py:947: ConvergenceWarning: Liblinear failed to converge, increase the number of iterations.\n",
            "  \"the number of iterations.\", ConvergenceWarning)\n"
          ],
          "name": "stderr"
        }
      ]
    },
    {
      "cell_type": "code",
      "metadata": {
        "colab": {
          "base_uri": "https://localhost:8080/"
        },
        "id": "_CY4bU4uUluN",
        "outputId": "a5389082-e9d8-46af-a997-8d41a2ffe552"
      },
      "source": [
        "n_components = [35, 50, 65]\n",
        "c = [0.1,0.25, 0.5, ]\n",
        "tol = [1e-5,1e-4]\n",
        "loss = ['hinge', 'squared_hinge']\n",
        "pipe = Pipeline(steps=[('selector', selector), ('scaler', scaler),('pca', pca), ('svc', svm_gs)])\n",
        "estimator = GridSearchCV(pipe, dict(pca__n_components=n_components,  svc__C = c, svc__tol = tol, svc__loss = loss),\n",
        "                         cv=5, scoring='f1_macro', n_jobs=-1)\n",
        "start_time = time.time()\n",
        "estimator.fit(train, unbin_train_labels)\n",
        "preds = estimator.predict(test)\n",
        "print(\"Συνολικός χρόνος fit και predict: %s seconds\" % (time.time() - start_time))\n",
        "print(classification_report(unbin_test_labels, preds))\n",
        "print(estimator.best_estimator_)\n",
        "print(estimator.best_params_)"
      ],
      "execution_count": null,
      "outputs": [
        {
          "output_type": "stream",
          "text": [
            "Συνολικός χρόνος fit και predict: 25.41142511367798 seconds\n",
            "              precision    recall  f1-score   support\n",
            "\n",
            "           0       0.92      0.94      0.93        50\n",
            "           1       0.87      0.94      0.90        50\n",
            "           2       0.98      0.92      0.95        52\n",
            "           3       0.94      0.84      0.89        57\n",
            "           4       0.94      0.92      0.93        48\n",
            "           5       0.90      0.96      0.93        55\n",
            "           6       1.00      0.97      0.99        40\n",
            "           7       0.83      0.89      0.86        44\n",
            "           8       0.93      0.93      0.93        45\n",
            "           9       0.86      0.84      0.85        37\n",
            "\n",
            "    accuracy                           0.92       478\n",
            "   macro avg       0.92      0.92      0.92       478\n",
            "weighted avg       0.92      0.92      0.92       478\n",
            "\n",
            "Pipeline(memory=None,\n",
            "         steps=[('selector', VarianceThreshold(threshold=0.0)),\n",
            "                ('scaler',\n",
            "                 StandardScaler(copy=True, with_mean=True, with_std=True)),\n",
            "                ('pca',\n",
            "                 PCA(copy=True, iterated_power='auto', n_components=50,\n",
            "                     random_state=None, svd_solver='auto', tol=0.0,\n",
            "                     whiten=False)),\n",
            "                ('svc',\n",
            "                 LinearSVC(C=0.1, class_weight='balanced', dual=True,\n",
            "                           fit_intercept=True, intercept_scaling=1,\n",
            "                           loss='squared_hinge', max_iter=1000,\n",
            "                           multi_class='ovr', penalty='l2', random_state=None,\n",
            "                           tol=1e-05, verbose=0))],\n",
            "         verbose=False)\n",
            "{'pca__n_components': 50, 'svc__C': 0.1, 'svc__loss': 'squared_hinge', 'svc__tol': 1e-05}\n"
          ],
          "name": "stdout"
        }
      ]
    },
    {
      "cell_type": "code",
      "metadata": {
        "colab": {
          "base_uri": "https://localhost:8080/"
        },
        "id": "bWoLvwvQU_Tq",
        "outputId": "1943b539-47ac-40b6-fd96-4ec2456e4b59"
      },
      "source": [
        "n_components = [45, 50,55]\n",
        "c = [0.05, 0.1,0.2]\n",
        "tol = [1e-5,1e-4]\n",
        "loss = ['hinge', 'squared_hinge']\n",
        "pipe = Pipeline(steps=[('selector', selector), ('scaler', scaler),('pca', pca), ('svc', svm_gs)])\n",
        "estimator = GridSearchCV(pipe, dict(pca__n_components=n_components,  svc__C = c, svc__tol = tol, svc__loss = loss),\n",
        "                         cv=5, scoring='f1_macro', n_jobs=-1)\n",
        "start_time = time.time()\n",
        "estimator.fit(train, unbin_train_labels)\n",
        "preds = estimator.predict(test)\n",
        "print(\"Συνολικός χρόνος fit και predict: %s seconds\" % (time.time() - start_time))\n",
        "print(classification_report(unbin_test_labels, preds))\n",
        "print(estimator.best_estimator_)\n",
        "print(estimator.best_params_)"
      ],
      "execution_count": null,
      "outputs": [
        {
          "output_type": "stream",
          "text": [
            "Συνολικός χρόνος fit και predict: 22.218698263168335 seconds\n",
            "              precision    recall  f1-score   support\n",
            "\n",
            "           0       0.96      0.96      0.96        50\n",
            "           1       0.90      0.94      0.92        50\n",
            "           2       0.96      0.92      0.94        52\n",
            "           3       0.96      0.84      0.90        57\n",
            "           4       0.94      0.92      0.93        48\n",
            "           5       0.92      0.98      0.95        55\n",
            "           6       0.97      0.97      0.97        40\n",
            "           7       0.81      0.89      0.85        44\n",
            "           8       0.91      0.96      0.93        45\n",
            "           9       0.86      0.81      0.83        37\n",
            "\n",
            "    accuracy                           0.92       478\n",
            "   macro avg       0.92      0.92      0.92       478\n",
            "weighted avg       0.92      0.92      0.92       478\n",
            "\n",
            "Pipeline(memory=None,\n",
            "         steps=[('selector', VarianceThreshold(threshold=0.0)),\n",
            "                ('scaler',\n",
            "                 StandardScaler(copy=True, with_mean=True, with_std=True)),\n",
            "                ('pca',\n",
            "                 PCA(copy=True, iterated_power='auto', n_components=45,\n",
            "                     random_state=None, svd_solver='auto', tol=0.0,\n",
            "                     whiten=False)),\n",
            "                ('svc',\n",
            "                 LinearSVC(C=0.05, class_weight='balanced', dual=True,\n",
            "                           fit_intercept=True, intercept_scaling=1,\n",
            "                           loss='squared_hinge', max_iter=1000,\n",
            "                           multi_class='ovr', penalty='l2', random_state=None,\n",
            "                           tol=0.0001, verbose=0))],\n",
            "         verbose=False)\n",
            "{'pca__n_components': 45, 'svc__C': 0.05, 'svc__loss': 'squared_hinge', 'svc__tol': 0.0001}\n"
          ],
          "name": "stdout"
        }
      ]
    },
    {
      "cell_type": "code",
      "metadata": {
        "colab": {
          "base_uri": "https://localhost:8080/"
        },
        "id": "beVPf7dCV3IV",
        "outputId": "f866ad3c-a15b-4310-ccdb-a7e26d11e4e3"
      },
      "source": [
        "n_components = [40, 45]\n",
        "c = [0.01, 0.05, 0.1]\n",
        "tol = [1e-5,1e-4]\n",
        "loss = ['hinge', 'squared_hinge']\n",
        "pipe = Pipeline(steps=[('selector', selector), ('scaler', scaler),('pca', pca), ('svc', svm_gs)])\n",
        "estimator = GridSearchCV(pipe, dict(pca__n_components=n_components,  svc__C = c, svc__tol = tol, svc__loss = loss),\n",
        "                         cv=5, scoring='f1_macro', n_jobs=-1)\n",
        "start_time = time.time()\n",
        "estimator.fit(train, unbin_train_labels)\n",
        "preds = estimator.predict(test)\n",
        "print(\"Συνολικός χρόνος fit και predict: %s seconds\" % (time.time() - start_time))\n",
        "print(classification_report(unbin_test_labels, preds))\n",
        "print(estimator.best_estimator_)\n",
        "print(estimator.best_params_)"
      ],
      "execution_count": null,
      "outputs": [
        {
          "output_type": "stream",
          "text": [
            "Συνολικός χρόνος fit και predict: 10.894820213317871 seconds\n",
            "              precision    recall  f1-score   support\n",
            "\n",
            "           0       0.94      0.96      0.95        50\n",
            "           1       0.88      0.92      0.90        50\n",
            "           2       0.94      0.92      0.93        52\n",
            "           3       0.96      0.86      0.91        57\n",
            "           4       0.94      0.92      0.93        48\n",
            "           5       0.91      0.96      0.94        55\n",
            "           6       0.97      0.97      0.97        40\n",
            "           7       0.81      0.89      0.85        44\n",
            "           8       0.91      0.91      0.91        45\n",
            "           9       0.86      0.81      0.83        37\n",
            "\n",
            "    accuracy                           0.91       478\n",
            "   macro avg       0.91      0.91      0.91       478\n",
            "weighted avg       0.92      0.91      0.91       478\n",
            "\n",
            "Pipeline(memory=None,\n",
            "         steps=[('selector', VarianceThreshold(threshold=0.0)),\n",
            "                ('scaler',\n",
            "                 StandardScaler(copy=True, with_mean=True, with_std=True)),\n",
            "                ('pca',\n",
            "                 PCA(copy=True, iterated_power='auto', n_components=45,\n",
            "                     random_state=None, svd_solver='auto', tol=0.0,\n",
            "                     whiten=False)),\n",
            "                ('svc',\n",
            "                 LinearSVC(C=0.05, class_weight='balanced', dual=True,\n",
            "                           fit_intercept=True, intercept_scaling=1,\n",
            "                           loss='squared_hinge', max_iter=1000,\n",
            "                           multi_class='ovr', penalty='l2', random_state=None,\n",
            "                           tol=0.0001, verbose=0))],\n",
            "         verbose=False)\n",
            "{'pca__n_components': 45, 'svc__C': 0.05, 'svc__loss': 'squared_hinge', 'svc__tol': 0.0001}\n"
          ],
          "name": "stdout"
        }
      ]
    },
    {
      "cell_type": "markdown",
      "metadata": {
        "id": "W_WetB9UWGbJ"
      },
      "source": [
        "Ο παραπάνω αποτελεί το βέλτιστο LinearSVC() ταξινομητή ως προς f1-macro. \n",
        "Θα ακολουθήσουμε την ίδια διαδικασία και για f1-micro. Ήδη υποψιαζόμαστε πως η υλοποίηση της LinearSVC υστερεί της SVC στο συγκεκριμένο dataset, όπως παρατηρήσαμε από τα πρώτα κιόλας benchmarks."
      ]
    },
    {
      "cell_type": "code",
      "metadata": {
        "colab": {
          "base_uri": "https://localhost:8080/"
        },
        "id": "YY66hzYZWn1W",
        "outputId": "2a220021-57ab-4878-c21d-598c3ba4594b"
      },
      "source": [
        "n_components = [10, 25, 50, 90, 140]\n",
        "c = [0.25, 0.5, 1,5,10]\n",
        "tol = [1e-5,1e-4]\n",
        "loss = ['hinge', 'squared_hinge']\n",
        "pipe = Pipeline(steps=[('selector', selector), ('scaler', scaler),('pca', pca), ('svc', svm_gs)])\n",
        "estimator = GridSearchCV(pipe, dict(pca__n_components=n_components,  svc__C = c, svc__tol = tol, svc__loss = loss),\n",
        "                         cv=5, scoring='f1_micro', n_jobs=-1)\n",
        "start_time = time.time()\n",
        "estimator.fit(train, unbin_train_labels)\n",
        "preds = estimator.predict(test)\n",
        "print(\"Συνολικός χρόνος fit και predict: %s seconds\" % (time.time() - start_time))\n",
        "print(classification_report(unbin_test_labels, preds))\n",
        "print(estimator.best_estimator_)\n",
        "print(estimator.best_params_)"
      ],
      "execution_count": null,
      "outputs": [
        {
          "output_type": "stream",
          "text": [
            "Συνολικός χρόνος fit και predict: 108.15730023384094 seconds\n",
            "              precision    recall  f1-score   support\n",
            "\n",
            "           0       0.92      0.92      0.92        50\n",
            "           1       0.89      0.94      0.91        50\n",
            "           2       0.89      0.90      0.90        52\n",
            "           3       0.94      0.86      0.90        57\n",
            "           4       0.93      0.90      0.91        48\n",
            "           5       0.88      0.96      0.92        55\n",
            "           6       0.93      0.97      0.95        40\n",
            "           7       0.84      0.84      0.84        44\n",
            "           8       0.89      0.87      0.88        45\n",
            "           9       0.82      0.76      0.79        37\n",
            "\n",
            "    accuracy                           0.90       478\n",
            "   macro avg       0.89      0.89      0.89       478\n",
            "weighted avg       0.90      0.90      0.89       478\n",
            "\n",
            "Pipeline(memory=None,\n",
            "         steps=[('selector', VarianceThreshold(threshold=0.0)),\n",
            "                ('scaler',\n",
            "                 StandardScaler(copy=True, with_mean=True, with_std=True)),\n",
            "                ('pca',\n",
            "                 PCA(copy=True, iterated_power='auto', n_components=50,\n",
            "                     random_state=None, svd_solver='auto', tol=0.0,\n",
            "                     whiten=False)),\n",
            "                ('svc',\n",
            "                 LinearSVC(C=0.25, class_weight='balanced', dual=True,\n",
            "                           fit_intercept=True, intercept_scaling=1,\n",
            "                           loss='hinge', max_iter=1000, multi_class='ovr',\n",
            "                           penalty='l2', random_state=None, tol=1e-05,\n",
            "                           verbose=0))],\n",
            "         verbose=False)\n",
            "{'pca__n_components': 50, 'svc__C': 0.25, 'svc__loss': 'hinge', 'svc__tol': 1e-05}\n"
          ],
          "name": "stdout"
        },
        {
          "output_type": "stream",
          "text": [
            "/usr/local/lib/python3.6/dist-packages/sklearn/svm/_base.py:947: ConvergenceWarning: Liblinear failed to converge, increase the number of iterations.\n",
            "  \"the number of iterations.\", ConvergenceWarning)\n"
          ],
          "name": "stderr"
        }
      ]
    },
    {
      "cell_type": "code",
      "metadata": {
        "colab": {
          "base_uri": "https://localhost:8080/"
        },
        "id": "SiUBZKeLXVhk",
        "outputId": "7c243ff2-c333-4e81-e3e8-0f864826962e"
      },
      "source": [
        "n_components = [40, 45]\n",
        "c = [0.01, 0.05, 0.1]\n",
        "tol = [1e-5,1e-4]\n",
        "loss = ['hinge', 'squared_hinge']\n",
        "pipe = Pipeline(steps=[('selector', selector), ('scaler', scaler),('pca', pca), ('svc', svm_gs)])\n",
        "estimator = GridSearchCV(pipe, dict(pca__n_components=n_components,  svc__C = c, svc__tol = tol, svc__loss = loss),\n",
        "                         cv=5, scoring='f1_micro', n_jobs=-1)\n",
        "start_time = time.time()\n",
        "estimator.fit(train, unbin_train_labels)\n",
        "preds = estimator.predict(test)\n",
        "print(\"Συνολικός χρόνος fit και predict: %s seconds\" % (time.time() - start_time))\n",
        "print(classification_report(unbin_test_labels, preds))\n",
        "print(estimator.best_estimator_)\n",
        "print(estimator.best_params_)"
      ],
      "execution_count": null,
      "outputs": [
        {
          "output_type": "stream",
          "text": [
            "Συνολικός χρόνος fit και predict: 11.109430313110352 seconds\n",
            "              precision    recall  f1-score   support\n",
            "\n",
            "           0       0.96      0.96      0.96        50\n",
            "           1       0.86      0.88      0.87        50\n",
            "           2       0.89      0.94      0.92        52\n",
            "           3       0.91      0.86      0.88        57\n",
            "           4       0.92      0.92      0.92        48\n",
            "           5       0.90      0.95      0.92        55\n",
            "           6       0.95      0.97      0.96        40\n",
            "           7       0.81      0.86      0.84        44\n",
            "           8       0.93      0.82      0.87        45\n",
            "           9       0.85      0.78      0.82        37\n",
            "\n",
            "    accuracy                           0.90       478\n",
            "   macro avg       0.90      0.89      0.90       478\n",
            "weighted avg       0.90      0.90      0.90       478\n",
            "\n",
            "Pipeline(memory=None,\n",
            "         steps=[('selector', VarianceThreshold(threshold=0.0)),\n",
            "                ('scaler',\n",
            "                 StandardScaler(copy=True, with_mean=True, with_std=True)),\n",
            "                ('pca',\n",
            "                 PCA(copy=True, iterated_power='auto', n_components=45,\n",
            "                     random_state=None, svd_solver='auto', tol=0.0,\n",
            "                     whiten=False)),\n",
            "                ('svc',\n",
            "                 LinearSVC(C=0.1, class_weight='balanced', dual=True,\n",
            "                           fit_intercept=True, intercept_scaling=1,\n",
            "                           loss='hinge', max_iter=1000, multi_class='ovr',\n",
            "                           penalty='l2', random_state=None, tol=1e-05,\n",
            "                           verbose=0))],\n",
            "         verbose=False)\n",
            "{'pca__n_components': 45, 'svc__C': 0.1, 'svc__loss': 'hinge', 'svc__tol': 1e-05}\n"
          ],
          "name": "stdout"
        },
        {
          "output_type": "stream",
          "text": [
            "/usr/local/lib/python3.6/dist-packages/sklearn/svm/_base.py:947: ConvergenceWarning: Liblinear failed to converge, increase the number of iterations.\n",
            "  \"the number of iterations.\", ConvergenceWarning)\n"
          ],
          "name": "stderr"
        }
      ]
    },
    {
      "cell_type": "markdown",
      "metadata": {
        "id": "ByneLr3GXoBV"
      },
      "source": [
        "Παρατηρούμε, όπως είχαμε προβλέψει και από πριν πως δεν οδηγούμαστε σε ικανοποιητικά αποτελέσματα. Θα ελέγξουμε τώρα την υλοποίηση της SVC με kernel = 'linear'"
      ]
    },
    {
      "cell_type": "code",
      "metadata": {
        "colab": {
          "base_uri": "https://localhost:8080/"
        },
        "id": "eyh_0NTmX3fV",
        "outputId": "8ad68518-4c9a-4629-f132-be6db0d09ce0"
      },
      "source": [
        "selector = VarianceThreshold()\n",
        "scaler = StandardScaler()\n",
        "svm_gs = SVC(kernel='linear', class_weight='balanced')\n",
        "n_components = [25, 50, 90]\n",
        "c = [0.25, 0.5, 1,5,10]\n",
        "tol = [1e-5,1e-4,1e-3]\n",
        "pipe = Pipeline(steps=[('selector', selector), ('scaler', scaler),('pca', pca), ('svc', svm_gs)])\n",
        "estimator = GridSearchCV(pipe, dict(pca__n_components=n_components,  svc__C = c, svc__tol = tol),\n",
        "                         cv=5, scoring='f1_macro', n_jobs=-1)\n",
        "start_time = time.time()\n",
        "estimator.fit(train, unbin_train_labels)\n",
        "preds = estimator.predict(test)\n",
        "print(\"Συνολικός χρόνος fit και predict: %s seconds\" % (time.time() - start_time))\n",
        "print(classification_report(unbin_test_labels, preds))\n",
        "print(estimator.best_estimator_)\n",
        "print(estimator.best_params_)"
      ],
      "execution_count": null,
      "outputs": [
        {
          "output_type": "stream",
          "text": [
            "Συνολικός χρόνος fit και predict: 16.789246559143066 seconds\n",
            "              precision    recall  f1-score   support\n",
            "\n",
            "           0       0.98      0.98      0.98        50\n",
            "           1       0.84      0.94      0.89        50\n",
            "           2       0.96      0.94      0.95        52\n",
            "           3       0.94      0.89      0.92        57\n",
            "           4       0.96      0.96      0.96        48\n",
            "           5       0.96      0.93      0.94        55\n",
            "           6       0.95      1.00      0.98        40\n",
            "           7       0.93      0.89      0.91        44\n",
            "           8       0.95      0.93      0.94        45\n",
            "           9       0.84      0.86      0.85        37\n",
            "\n",
            "    accuracy                           0.93       478\n",
            "   macro avg       0.93      0.93      0.93       478\n",
            "weighted avg       0.93      0.93      0.93       478\n",
            "\n",
            "Pipeline(memory=None,\n",
            "         steps=[('selector', VarianceThreshold(threshold=0.0)),\n",
            "                ('scaler',\n",
            "                 StandardScaler(copy=True, with_mean=True, with_std=True)),\n",
            "                ('pca',\n",
            "                 PCA(copy=True, iterated_power='auto', n_components=90,\n",
            "                     random_state=None, svd_solver='auto', tol=0.0,\n",
            "                     whiten=False)),\n",
            "                ('svc',\n",
            "                 SVC(C=0.25, break_ties=False, cache_size=200,\n",
            "                     class_weight='balanced', coef0=0.0,\n",
            "                     decision_function_shape='ovr', degree=3, gamma='scale',\n",
            "                     kernel='linear', max_iter=-1, probability=False,\n",
            "                     random_state=None, shrinking=True, tol=0.001,\n",
            "                     verbose=False))],\n",
            "         verbose=False)\n",
            "{'pca__n_components': 90, 'svc__C': 0.25, 'svc__tol': 0.001}\n"
          ],
          "name": "stdout"
        }
      ]
    },
    {
      "cell_type": "markdown",
      "metadata": {
        "id": "_4OFYMNvYbS9"
      },
      "source": [
        "Ήδη παρατηρούμε πως από την πρώτη κιόλας GridSearch βρήκαμε καλύτερα αποτελέσματα."
      ]
    },
    {
      "cell_type": "code",
      "metadata": {
        "colab": {
          "base_uri": "https://localhost:8080/"
        },
        "id": "kGAwlEB3Yo_I",
        "outputId": "71a62e11-f113-44f7-ec14-2168f9ea23c6"
      },
      "source": [
        "n_components = [70,90,110]\n",
        "c = [0.05,0.1,0.25, 0.5]\n",
        "tol = [1e-5,1e-4,1e-3]\n",
        "pipe = Pipeline(steps=[('selector', selector), ('scaler', scaler),('pca', pca), ('svc', svm_gs)])\n",
        "estimator = GridSearchCV(pipe, dict(pca__n_components=n_components,  svc__C = c, svc__tol = tol),\n",
        "                         cv=5, scoring='f1_macro', n_jobs=-1)\n",
        "start_time = time.time()\n",
        "estimator.fit(train, unbin_train_labels)\n",
        "preds = estimator.predict(test)\n",
        "print(\"Συνολικός χρόνος fit και predict: %s seconds\" % (time.time() - start_time))\n",
        "print(classification_report(unbin_test_labels, preds))\n",
        "print(estimator.best_estimator_)\n",
        "print(estimator.best_params_)"
      ],
      "execution_count": null,
      "outputs": [
        {
          "output_type": "stream",
          "text": [
            "Συνολικός χρόνος fit και predict: 17.79005193710327 seconds\n",
            "              precision    recall  f1-score   support\n",
            "\n",
            "           0       0.98      0.98      0.98        50\n",
            "           1       0.82      0.94      0.88        50\n",
            "           2       0.98      0.94      0.96        52\n",
            "           3       0.96      0.89      0.93        57\n",
            "           4       0.96      0.98      0.97        48\n",
            "           5       0.95      0.95      0.95        55\n",
            "           6       0.95      0.97      0.96        40\n",
            "           7       0.89      0.89      0.89        44\n",
            "           8       0.98      0.96      0.97        45\n",
            "           9       0.86      0.81      0.83        37\n",
            "\n",
            "    accuracy                           0.93       478\n",
            "   macro avg       0.93      0.93      0.93       478\n",
            "weighted avg       0.93      0.93      0.93       478\n",
            "\n",
            "Pipeline(memory=None,\n",
            "         steps=[('selector', VarianceThreshold(threshold=0.0)),\n",
            "                ('scaler',\n",
            "                 StandardScaler(copy=True, with_mean=True, with_std=True)),\n",
            "                ('pca',\n",
            "                 PCA(copy=True, iterated_power='auto', n_components=70,\n",
            "                     random_state=None, svd_solver='auto', tol=0.0,\n",
            "                     whiten=False)),\n",
            "                ('svc',\n",
            "                 SVC(C=0.25, break_ties=False, cache_size=200,\n",
            "                     class_weight='balanced', coef0=0.0,\n",
            "                     decision_function_shape='ovr', degree=3, gamma='scale',\n",
            "                     kernel='linear', max_iter=-1, probability=False,\n",
            "                     random_state=None, shrinking=True, tol=1e-05,\n",
            "                     verbose=False))],\n",
            "         verbose=False)\n",
            "{'pca__n_components': 70, 'svc__C': 0.25, 'svc__tol': 1e-05}\n"
          ],
          "name": "stdout"
        }
      ]
    },
    {
      "cell_type": "code",
      "metadata": {
        "colab": {
          "base_uri": "https://localhost:8080/"
        },
        "id": "UZ9fawf1Y_nF",
        "outputId": "9441c791-3ae1-4250-e6de-b226a6737e59"
      },
      "source": [
        "n_components = range(55,80,5)\n",
        "c = [0.15,0.25,0.35]\n",
        "tol = [1e-5,1e-4,1e-3]\n",
        "pipe = Pipeline(steps=[('selector', selector), ('scaler', scaler),('pca', pca), ('svc', svm_gs)])\n",
        "estimator = GridSearchCV(pipe, dict(pca__n_components=n_components,  svc__C = c, svc__tol = tol),\n",
        "                         cv=5, scoring='f1_macro', n_jobs=-1)\n",
        "start_time = time.time()\n",
        "estimator.fit(train, unbin_train_labels)\n",
        "preds = estimator.predict(test)\n",
        "print(\"Συνολικός χρόνος fit και predict: %s seconds\" % (time.time() - start_time))\n",
        "print(classification_report(unbin_test_labels, preds))\n",
        "print(estimator.best_estimator_)\n",
        "print(estimator.best_params_)"
      ],
      "execution_count": null,
      "outputs": [
        {
          "output_type": "stream",
          "text": [
            "Συνολικός χρόνος fit και predict: 17.433032274246216 seconds\n",
            "              precision    recall  f1-score   support\n",
            "\n",
            "           0       0.98      0.98      0.98        50\n",
            "           1       0.85      0.94      0.90        50\n",
            "           2       0.98      0.96      0.97        52\n",
            "           3       0.94      0.89      0.92        57\n",
            "           4       0.96      0.98      0.97        48\n",
            "           5       0.95      0.95      0.95        55\n",
            "           6       0.95      0.97      0.96        40\n",
            "           7       0.91      0.89      0.90        44\n",
            "           8       0.98      0.98      0.98        45\n",
            "           9       0.86      0.81      0.83        37\n",
            "\n",
            "    accuracy                           0.94       478\n",
            "   macro avg       0.94      0.94      0.94       478\n",
            "weighted avg       0.94      0.94      0.94       478\n",
            "\n",
            "Pipeline(memory=None,\n",
            "         steps=[('selector', VarianceThreshold(threshold=0.0)),\n",
            "                ('scaler',\n",
            "                 StandardScaler(copy=True, with_mean=True, with_std=True)),\n",
            "                ('pca',\n",
            "                 PCA(copy=True, iterated_power='auto', n_components=65,\n",
            "                     random_state=None, svd_solver='auto', tol=0.0,\n",
            "                     whiten=False)),\n",
            "                ('svc',\n",
            "                 SVC(C=0.25, break_ties=False, cache_size=200,\n",
            "                     class_weight='balanced', coef0=0.0,\n",
            "                     decision_function_shape='ovr', degree=3, gamma='scale',\n",
            "                     kernel='linear', max_iter=-1, probability=False,\n",
            "                     random_state=None, shrinking=True, tol=1e-05,\n",
            "                     verbose=False))],\n",
            "         verbose=False)\n",
            "{'pca__n_components': 65, 'svc__C': 0.25, 'svc__tol': 1e-05}\n"
          ],
          "name": "stdout"
        }
      ]
    },
    {
      "cell_type": "markdown",
      "metadata": {
        "id": "hMTYELWPZaGh"
      },
      "source": [
        "Παρατηρούμε πως πετύχαμε ικανοποιητική αύξηση στο f1-macro αλλάζοντας από την υλοποίηση της LinearSVC() σε αυτή της SVC με linear kernel.\n",
        "\n",
        "Θα εξετάσουμε τώρα και για f1-micro με την ίδια υλοποίηση."
      ]
    },
    {
      "cell_type": "code",
      "metadata": {
        "colab": {
          "base_uri": "https://localhost:8080/"
        },
        "id": "UAXy3W2tZxk_",
        "outputId": "588bc6a9-fdd8-4dbb-8bfe-5d0ea967d3f5"
      },
      "source": [
        "n_components = [25, 50, 90]\n",
        "c = [0.25, 0.5, 1,5,10]\n",
        "tol = [1e-5,1e-4,1e-3]\n",
        "pipe = Pipeline(steps=[('selector', selector), ('scaler', scaler),('pca', pca), ('svc', svm_gs)])\n",
        "estimator = GridSearchCV(pipe, dict(pca__n_components=n_components,  svc__C = c, svc__tol = tol),\n",
        "                         cv=5, scoring='f1_micro', n_jobs=-1)\n",
        "start_time = time.time()\n",
        "estimator.fit(train, unbin_train_labels)\n",
        "preds = estimator.predict(test)\n",
        "print(\"Συνολικός χρόνος fit και predict: %s seconds\" % (time.time() - start_time))\n",
        "print(classification_report(unbin_test_labels, preds))\n",
        "print(estimator.best_estimator_)\n",
        "print(estimator.best_params_)"
      ],
      "execution_count": null,
      "outputs": [
        {
          "output_type": "stream",
          "text": [
            "Συνολικός χρόνος fit και predict: 16.417379140853882 seconds\n",
            "              precision    recall  f1-score   support\n",
            "\n",
            "           0       0.98      0.98      0.98        50\n",
            "           1       0.86      0.96      0.91        50\n",
            "           2       0.96      0.96      0.96        52\n",
            "           3       0.94      0.88      0.91        57\n",
            "           4       0.96      0.94      0.95        48\n",
            "           5       0.96      0.93      0.94        55\n",
            "           6       0.95      1.00      0.98        40\n",
            "           7       0.83      0.91      0.87        44\n",
            "           8       0.98      0.96      0.97        45\n",
            "           9       0.85      0.76      0.80        37\n",
            "\n",
            "    accuracy                           0.93       478\n",
            "   macro avg       0.93      0.93      0.93       478\n",
            "weighted avg       0.93      0.93      0.93       478\n",
            "\n",
            "Pipeline(memory=None,\n",
            "         steps=[('selector', VarianceThreshold(threshold=0.0)),\n",
            "                ('scaler',\n",
            "                 StandardScaler(copy=True, with_mean=True, with_std=True)),\n",
            "                ('pca',\n",
            "                 PCA(copy=True, iterated_power='auto', n_components=50,\n",
            "                     random_state=None, svd_solver='auto', tol=0.0,\n",
            "                     whiten=False)),\n",
            "                ('svc',\n",
            "                 SVC(C=1, break_ties=False, cache_size=200,\n",
            "                     class_weight='balanced', coef0=0.0,\n",
            "                     decision_function_shape='ovr', degree=3, gamma='scale',\n",
            "                     kernel='linear', max_iter=-1, probability=False,\n",
            "                     random_state=None, shrinking=True, tol=1e-05,\n",
            "                     verbose=False))],\n",
            "         verbose=False)\n",
            "{'pca__n_components': 50, 'svc__C': 1, 'svc__tol': 1e-05}\n"
          ],
          "name": "stdout"
        }
      ]
    },
    {
      "cell_type": "code",
      "metadata": {
        "colab": {
          "base_uri": "https://localhost:8080/"
        },
        "id": "dsQzxTBraLSq",
        "outputId": "1542fd06-376b-4cab-bb52-498a86007120"
      },
      "source": [
        "n_components = range(35,60,5)\n",
        "c = [0.75, 1,1.5]\n",
        "tol = [1e-5,1e-4,1e-3]\n",
        "pipe = Pipeline(steps=[('selector', selector), ('scaler', scaler),('pca', pca), ('svc', svm_gs)])\n",
        "estimator = GridSearchCV(pipe, dict(pca__n_components=n_components,  svc__C = c, svc__tol = tol),\n",
        "                         cv=5, scoring='f1_micro', n_jobs=-1)\n",
        "start_time = time.time()\n",
        "estimator.fit(train, unbin_train_labels)\n",
        "preds = estimator.predict(test)\n",
        "print(\"Συνολικός χρόνος fit και predict: %s seconds\" % (time.time() - start_time))\n",
        "print(classification_report(unbin_test_labels, preds))\n",
        "print(estimator.best_estimator_)\n",
        "print(estimator.best_params_)"
      ],
      "execution_count": null,
      "outputs": [
        {
          "output_type": "stream",
          "text": [
            "Συνολικός χρόνος fit και predict: 13.904611587524414 seconds\n",
            "              precision    recall  f1-score   support\n",
            "\n",
            "           0       0.98      0.98      0.98        50\n",
            "           1       0.90      0.94      0.92        50\n",
            "           2       0.98      0.96      0.97        52\n",
            "           3       0.94      0.89      0.92        57\n",
            "           4       0.96      0.98      0.97        48\n",
            "           5       0.96      0.96      0.96        55\n",
            "           6       0.98      1.00      0.99        40\n",
            "           7       0.87      0.93      0.90        44\n",
            "           8       1.00      0.98      0.99        45\n",
            "           9       0.89      0.84      0.86        37\n",
            "\n",
            "    accuracy                           0.95       478\n",
            "   macro avg       0.95      0.95      0.95       478\n",
            "weighted avg       0.95      0.95      0.95       478\n",
            "\n",
            "Pipeline(memory=None,\n",
            "         steps=[('selector', VarianceThreshold(threshold=0.0)),\n",
            "                ('scaler',\n",
            "                 StandardScaler(copy=True, with_mean=True, with_std=True)),\n",
            "                ('pca',\n",
            "                 PCA(copy=True, iterated_power='auto', n_components=50,\n",
            "                     random_state=None, svd_solver='auto', tol=0.0,\n",
            "                     whiten=False)),\n",
            "                ('svc',\n",
            "                 SVC(C=1, break_ties=False, cache_size=200,\n",
            "                     class_weight='balanced', coef0=0.0,\n",
            "                     decision_function_shape='ovr', degree=3, gamma='scale',\n",
            "                     kernel='linear', max_iter=-1, probability=False,\n",
            "                     random_state=None, shrinking=True, tol=0.001,\n",
            "                     verbose=False))],\n",
            "         verbose=False)\n",
            "{'pca__n_components': 50, 'svc__C': 1, 'svc__tol': 0.001}\n"
          ],
          "name": "stdout"
        }
      ]
    },
    {
      "cell_type": "markdown",
      "metadata": {
        "id": "l2BpbLR8afoe"
      },
      "source": [
        "Θεωρούμε, λοιπόν πως βρήκαμε και τη βέλτιστη υλοποίηση για f1-micro.\n",
        "\n",
        "Θα ελέγξουμε τώρα την υλοποίηση της SVC με πυρήνα 'rbf'."
      ]
    },
    {
      "cell_type": "code",
      "metadata": {
        "colab": {
          "base_uri": "https://localhost:8080/"
        },
        "id": "2PE0YPB7hTdT",
        "outputId": "4688c57f-79c7-4a16-a978-98a329c33523"
      },
      "source": [
        "selector = VarianceThreshold()\n",
        "scaler = StandardScaler()\n",
        "svm_gs = SVC(class_weight='balanced', kernel='rbf' )\n",
        "n_components = [ 25, 50, 90]\n",
        "c = [0.25, 0.5, 1,5,10]\n",
        "tol = [1e-5,1e-4,1e-3]\n",
        "gamma = ['scale', 'auto']\n",
        "pipe = Pipeline(steps=[('selector', selector), ('scaler', scaler),('pca', pca), ('svc', svm_gs)])\n",
        "estimator = GridSearchCV(pipe, dict(pca__n_components=n_components,  svc__C = c, svc__tol = tol, svc__gamma=gamma),\n",
        "                         cv=5, scoring='f1_macro', n_jobs=-1)\n",
        "start_time = time.time()\n",
        "estimator.fit(train, unbin_train_labels)\n",
        "preds = estimator.predict(test)\n",
        "print(\"Συνολικός χρόνος fit και predict: %s seconds\" % (time.time() - start_time))\n",
        "print(classification_report(unbin_test_labels, preds))\n",
        "print(estimator.best_estimator_)\n",
        "print(estimator.best_params_)"
      ],
      "execution_count": null,
      "outputs": [
        {
          "output_type": "stream",
          "text": [
            "Συνολικός χρόνος fit και predict: 65.09205460548401 seconds\n",
            "              precision    recall  f1-score   support\n",
            "\n",
            "           0       1.00      0.96      0.98        50\n",
            "           1       0.91      0.98      0.94        50\n",
            "           2       0.98      0.98      0.98        52\n",
            "           3       0.96      0.91      0.94        57\n",
            "           4       0.98      0.98      0.98        48\n",
            "           5       0.96      0.96      0.96        55\n",
            "           6       0.95      0.97      0.96        40\n",
            "           7       0.93      0.93      0.93        44\n",
            "           8       0.96      0.98      0.97        45\n",
            "           9       0.92      0.89      0.90        37\n",
            "\n",
            "    accuracy                           0.96       478\n",
            "   macro avg       0.96      0.96      0.95       478\n",
            "weighted avg       0.96      0.96      0.96       478\n",
            "\n",
            "Pipeline(memory=None,\n",
            "         steps=[('selector', VarianceThreshold(threshold=0.0)),\n",
            "                ('scaler',\n",
            "                 StandardScaler(copy=True, with_mean=True, with_std=True)),\n",
            "                ('pca',\n",
            "                 PCA(copy=True, iterated_power='auto', n_components=50,\n",
            "                     random_state=None, svd_solver='auto', tol=0.0,\n",
            "                     whiten=False)),\n",
            "                ('svc',\n",
            "                 SVC(C=5, break_ties=False, cache_size=200,\n",
            "                     class_weight='balanced', coef0=0.0,\n",
            "                     decision_function_shape='ovr', degree=3, gamma='scale',\n",
            "                     kernel='rbf', max_iter=-1, probability=False,\n",
            "                     random_state=None, shrinking=True, tol=0.001,\n",
            "                     verbose=False))],\n",
            "         verbose=False)\n",
            "{'pca__n_components': 50, 'svc__C': 5, 'svc__gamma': 'scale', 'svc__tol': 0.001}\n"
          ],
          "name": "stdout"
        }
      ]
    },
    {
      "cell_type": "code",
      "metadata": {
        "colab": {
          "base_uri": "https://localhost:8080/"
        },
        "id": "oOORP1gWbXCy",
        "outputId": "2548df62-858d-4000-cf19-479bbf45f0dc"
      },
      "source": [
        "selector = VarianceThreshold()\n",
        "scaler = StandardScaler()\n",
        "svm_gs = SVC(class_weight='balanced', kernel='rbf' )\n",
        "n_components = range(35,70,5)\n",
        "c = [ 2.5,5,7.5]\n",
        "tol = [1e-5,1e-4,1e-3]\n",
        "gamma = ['scale', 'auto']\n",
        "pipe = Pipeline(steps=[('selector', selector), ('scaler', scaler),('pca', pca), ('svc', svm_gs)])\n",
        "estimator = GridSearchCV(pipe, dict(pca__n_components=n_components,  svc__C = c, svc__tol = tol, svc__gamma=gamma),\n",
        "                         cv=5, scoring='f1_macro', n_jobs=-1)\n",
        "start_time = time.time()\n",
        "estimator.fit(train, unbin_train_labels)\n",
        "preds = estimator.predict(test)\n",
        "print(\"Συνολικός χρόνος fit και predict: %s seconds\" % (time.time() - start_time))\n",
        "print(classification_report(unbin_test_labels, preds))\n",
        "print(estimator.best_estimator_)\n",
        "print(estimator.best_params_)"
      ],
      "execution_count": null,
      "outputs": [
        {
          "output_type": "stream",
          "text": [
            "Συνολικός χρόνος fit και predict: 86.31903123855591 seconds\n",
            "              precision    recall  f1-score   support\n",
            "\n",
            "           0       1.00      0.96      0.98        50\n",
            "           1       0.94      0.98      0.96        50\n",
            "           2       0.98      1.00      0.99        52\n",
            "           3       0.96      0.91      0.94        57\n",
            "           4       0.98      0.98      0.98        48\n",
            "           5       0.96      0.96      0.96        55\n",
            "           6       0.95      0.97      0.96        40\n",
            "           7       0.93      0.95      0.94        44\n",
            "           8       0.96      0.98      0.97        45\n",
            "           9       0.92      0.89      0.90        37\n",
            "\n",
            "    accuracy                           0.96       478\n",
            "   macro avg       0.96      0.96      0.96       478\n",
            "weighted avg       0.96      0.96      0.96       478\n",
            "\n",
            "Pipeline(memory=None,\n",
            "         steps=[('selector', VarianceThreshold(threshold=0.0)),\n",
            "                ('scaler',\n",
            "                 StandardScaler(copy=True, with_mean=True, with_std=True)),\n",
            "                ('pca',\n",
            "                 PCA(copy=True, iterated_power='auto', n_components=40,\n",
            "                     random_state=None, svd_solver='auto', tol=0.0,\n",
            "                     whiten=False)),\n",
            "                ('svc',\n",
            "                 SVC(C=2.5, break_ties=False, cache_size=200,\n",
            "                     class_weight='balanced', coef0=0.0,\n",
            "                     decision_function_shape='ovr', degree=3, gamma='scale',\n",
            "                     kernel='rbf', max_iter=-1, probability=False,\n",
            "                     random_state=None, shrinking=True, tol=0.001,\n",
            "                     verbose=False))],\n",
            "         verbose=False)\n",
            "{'pca__n_components': 40, 'svc__C': 2.5, 'svc__gamma': 'scale', 'svc__tol': 0.001}\n"
          ],
          "name": "stdout"
        }
      ]
    },
    {
      "cell_type": "code",
      "metadata": {
        "colab": {
          "base_uri": "https://localhost:8080/"
        },
        "id": "rFoJJ1LfcCDF",
        "outputId": "3a402011-8088-41b1-cc97-ab20e14d5c5b"
      },
      "source": [
        "n_components = [40]\n",
        "c = [ 1.5,2.5,3.5]\n",
        "tol = [1e-5,1e-4,1e-3]\n",
        "gamma = ['scale', 'auto']\n",
        "pipe = Pipeline(steps=[('selector', selector), ('scaler', scaler),('pca', pca), ('svc', svm_gs)])\n",
        "estimator = GridSearchCV(pipe, dict(pca__n_components=n_components,  svc__C = c, svc__tol = tol, svc__gamma=gamma),\n",
        "                         cv=5, scoring='f1_macro', n_jobs=-1)\n",
        "start_time = time.time()\n",
        "estimator.fit(train, unbin_train_labels)\n",
        "preds = estimator.predict(test)\n",
        "print(\"Συνολικός χρόνος fit και predict: %s seconds\" % (time.time() - start_time))\n",
        "print(classification_report(unbin_test_labels, preds))\n",
        "print(estimator.best_estimator_)\n",
        "print(estimator.best_params_)"
      ],
      "execution_count": null,
      "outputs": [
        {
          "output_type": "stream",
          "text": [
            "Συνολικός χρόνος fit και predict: 11.258715391159058 seconds\n",
            "              precision    recall  f1-score   support\n",
            "\n",
            "           0       1.00      0.96      0.98        50\n",
            "           1       0.92      0.98      0.95        50\n",
            "           2       0.98      1.00      0.99        52\n",
            "           3       0.96      0.91      0.94        57\n",
            "           4       0.98      0.98      0.98        48\n",
            "           5       0.96      0.96      0.96        55\n",
            "           6       0.95      0.97      0.96        40\n",
            "           7       0.95      0.93      0.94        44\n",
            "           8       0.96      0.98      0.97        45\n",
            "           9       0.92      0.92      0.92        37\n",
            "\n",
            "    accuracy                           0.96       478\n",
            "   macro avg       0.96      0.96      0.96       478\n",
            "weighted avg       0.96      0.96      0.96       478\n",
            "\n",
            "Pipeline(memory=None,\n",
            "         steps=[('selector', VarianceThreshold(threshold=0.0)),\n",
            "                ('scaler',\n",
            "                 StandardScaler(copy=True, with_mean=True, with_std=True)),\n",
            "                ('pca',\n",
            "                 PCA(copy=True, iterated_power='auto', n_components=40,\n",
            "                     random_state=None, svd_solver='auto', tol=0.0,\n",
            "                     whiten=False)),\n",
            "                ('svc',\n",
            "                 SVC(C=1.5, break_ties=False, cache_size=200,\n",
            "                     class_weight='balanced', coef0=0.0,\n",
            "                     decision_function_shape='ovr', degree=3, gamma='scale',\n",
            "                     kernel='rbf', max_iter=-1, probability=False,\n",
            "                     random_state=None, shrinking=True, tol=1e-05,\n",
            "                     verbose=False))],\n",
            "         verbose=False)\n",
            "{'pca__n_components': 40, 'svc__C': 1.5, 'svc__gamma': 'scale', 'svc__tol': 1e-05}\n"
          ],
          "name": "stdout"
        }
      ]
    },
    {
      "cell_type": "markdown",
      "metadata": {
        "id": "bH2LhgmQcUpH"
      },
      "source": [
        "Θεωρούμε πάλι πως βρήκαμε τη βέλτιστη υλοποίηση SVC με πυρήνα rbf και θα κάνουμε το ίδιο για f1-micro"
      ]
    },
    {
      "cell_type": "code",
      "metadata": {
        "colab": {
          "base_uri": "https://localhost:8080/"
        },
        "id": "AqGFipGacqP3",
        "outputId": "f298744f-1335-4d15-9700-85892a925abb"
      },
      "source": [
        "selector = VarianceThreshold()\n",
        "scaler = StandardScaler()\n",
        "svm_gs = SVC(class_weight='balanced', kernel='rbf' )\n",
        "n_components = [ 25, 50, 90]\n",
        "c = [0.25, 0.5, 1,5,10]\n",
        "tol = [1e-5,1e-4,1e-3]\n",
        "gamma = ['scale', 'auto']\n",
        "pipe = Pipeline(steps=[('selector', selector), ('scaler', scaler),('pca', pca), ('svc', svm_gs)])\n",
        "estimator = GridSearchCV(pipe, dict(pca__n_components=n_components,  svc__C = c, svc__tol = tol, svc__gamma=gamma),\n",
        "                         cv=5, scoring='f1_micro', n_jobs=-1)\n",
        "start_time = time.time()\n",
        "estimator.fit(train, unbin_train_labels)\n",
        "preds = estimator.predict(test)\n",
        "print(\"Συνολικός χρόνος fit και predict: %s seconds\" % (time.time() - start_time))\n",
        "print(classification_report(unbin_test_labels, preds))\n",
        "print(estimator.best_estimator_)\n",
        "print(estimator.best_params_)"
      ],
      "execution_count": null,
      "outputs": [
        {
          "output_type": "stream",
          "text": [
            "Συνολικός χρόνος fit και predict: 65.12872791290283 seconds\n",
            "              precision    recall  f1-score   support\n",
            "\n",
            "           0       1.00      0.96      0.98        50\n",
            "           1       0.91      0.98      0.94        50\n",
            "           2       0.94      0.98      0.96        52\n",
            "           3       0.96      0.91      0.94        57\n",
            "           4       0.98      0.98      0.98        48\n",
            "           5       0.96      0.96      0.96        55\n",
            "           6       0.97      0.97      0.97        40\n",
            "           7       0.93      0.93      0.93        44\n",
            "           8       0.96      0.98      0.97        45\n",
            "           9       0.91      0.86      0.89        37\n",
            "\n",
            "    accuracy                           0.95       478\n",
            "   macro avg       0.95      0.95      0.95       478\n",
            "weighted avg       0.95      0.95      0.95       478\n",
            "\n",
            "Pipeline(memory=None,\n",
            "         steps=[('selector', VarianceThreshold(threshold=0.0)),\n",
            "                ('scaler',\n",
            "                 StandardScaler(copy=True, with_mean=True, with_std=True)),\n",
            "                ('pca',\n",
            "                 PCA(copy=True, iterated_power='auto', n_components=50,\n",
            "                     random_state=None, svd_solver='auto', tol=0.0,\n",
            "                     whiten=False)),\n",
            "                ('svc',\n",
            "                 SVC(C=1, break_ties=False, cache_size=200,\n",
            "                     class_weight='balanced', coef0=0.0,\n",
            "                     decision_function_shape='ovr', degree=3, gamma='scale',\n",
            "                     kernel='rbf', max_iter=-1, probability=False,\n",
            "                     random_state=None, shrinking=True, tol=0.0001,\n",
            "                     verbose=False))],\n",
            "         verbose=False)\n",
            "{'pca__n_components': 50, 'svc__C': 1, 'svc__gamma': 'scale', 'svc__tol': 0.0001}\n"
          ],
          "name": "stdout"
        }
      ]
    },
    {
      "cell_type": "code",
      "metadata": {
        "colab": {
          "base_uri": "https://localhost:8080/"
        },
        "id": "oOxmAd45dHQX",
        "outputId": "efd12d22-f07e-4f87-d5fd-1105e765fc22"
      },
      "source": [
        "n_components = range(35,70,5)\n",
        "c = [ 0.8, 1,1.5,2]\n",
        "tol = [1e-5,1e-4,1e-3]\n",
        "gamma = ['scale', 'auto']\n",
        "pipe = Pipeline(steps=[('selector', selector), ('scaler', scaler),('pca', pca), ('svc', svm_gs)])\n",
        "estimator = GridSearchCV(pipe, dict(pca__n_components=n_components,  svc__C = c, svc__tol = tol, svc__gamma=gamma),\n",
        "                         cv=5, scoring='f1_micro', n_jobs=-1)\n",
        "start_time = time.time()\n",
        "estimator.fit(train, unbin_train_labels)\n",
        "preds = estimator.predict(test)\n",
        "print(\"Συνολικός χρόνος fit και predict: %s seconds\" % (time.time() - start_time))\n",
        "print(classification_report(unbin_test_labels, preds))\n",
        "print(estimator.best_estimator_)\n",
        "print(estimator.best_params_)"
      ],
      "execution_count": null,
      "outputs": [
        {
          "output_type": "stream",
          "text": [
            "Συνολικός χρόνος fit και predict: 113.32220220565796 seconds\n",
            "              precision    recall  f1-score   support\n",
            "\n",
            "           0       1.00      0.96      0.98        50\n",
            "           1       0.94      0.98      0.96        50\n",
            "           2       0.98      1.00      0.99        52\n",
            "           3       0.96      0.91      0.94        57\n",
            "           4       0.98      0.98      0.98        48\n",
            "           5       0.96      0.96      0.96        55\n",
            "           6       0.95      0.97      0.96        40\n",
            "           7       0.93      0.95      0.94        44\n",
            "           8       0.96      0.98      0.97        45\n",
            "           9       0.92      0.89      0.90        37\n",
            "\n",
            "    accuracy                           0.96       478\n",
            "   macro avg       0.96      0.96      0.96       478\n",
            "weighted avg       0.96      0.96      0.96       478\n",
            "\n",
            "Pipeline(memory=None,\n",
            "         steps=[('selector', VarianceThreshold(threshold=0.0)),\n",
            "                ('scaler',\n",
            "                 StandardScaler(copy=True, with_mean=True, with_std=True)),\n",
            "                ('pca',\n",
            "                 PCA(copy=True, iterated_power='auto', n_components=40,\n",
            "                     random_state=None, svd_solver='auto', tol=0.0,\n",
            "                     whiten=False)),\n",
            "                ('svc',\n",
            "                 SVC(C=2, break_ties=False, cache_size=200,\n",
            "                     class_weight='balanced', coef0=0.0,\n",
            "                     decision_function_shape='ovr', degree=3, gamma='scale',\n",
            "                     kernel='rbf', max_iter=-1, probability=False,\n",
            "                     random_state=None, shrinking=True, tol=0.0001,\n",
            "                     verbose=False))],\n",
            "         verbose=False)\n",
            "{'pca__n_components': 40, 'svc__C': 2, 'svc__gamma': 'scale', 'svc__tol': 0.0001}\n"
          ],
          "name": "stdout"
        }
      ]
    },
    {
      "cell_type": "code",
      "metadata": {
        "colab": {
          "base_uri": "https://localhost:8080/"
        },
        "id": "0oowuHSfd8gJ",
        "outputId": "8d55b999-888f-478d-cedd-47fae1fca06d"
      },
      "source": [
        "n_components = range(37,45,2)\n",
        "c = [ 1.8,2,2.2,2.4]\n",
        "tol = [1e-5,1e-4,1e-3]\n",
        "gamma = ['scale']\n",
        "pipe = Pipeline(steps=[('selector', selector), ('scaler', scaler),('pca', pca), ('svc', svm_gs)])\n",
        "estimator = GridSearchCV(pipe, dict(pca__n_components=n_components,  svc__C = c, svc__tol = tol, svc__gamma=gamma),\n",
        "                         cv=5, scoring='f1_micro', n_jobs=-1)\n",
        "start_time = time.time()\n",
        "estimator.fit(train, unbin_train_labels)\n",
        "preds = estimator.predict(test)\n",
        "print(\"Συνολικός χρόνος fit και predict: %s seconds\" % (time.time() - start_time))\n",
        "print(classification_report(unbin_test_labels, preds))\n",
        "print(estimator.best_estimator_)\n",
        "print(estimator.best_params_)"
      ],
      "execution_count": null,
      "outputs": [
        {
          "output_type": "stream",
          "text": [
            "Συνολικός χρόνος fit και predict: 22.57211422920227 seconds\n",
            "              precision    recall  f1-score   support\n",
            "\n",
            "           0       1.00      0.96      0.98        50\n",
            "           1       0.94      0.98      0.96        50\n",
            "           2       0.98      1.00      0.99        52\n",
            "           3       0.96      0.91      0.94        57\n",
            "           4       0.98      0.98      0.98        48\n",
            "           5       0.96      0.96      0.96        55\n",
            "           6       0.95      0.97      0.96        40\n",
            "           7       0.93      0.95      0.94        44\n",
            "           8       0.96      0.98      0.97        45\n",
            "           9       0.92      0.89      0.90        37\n",
            "\n",
            "    accuracy                           0.96       478\n",
            "   macro avg       0.96      0.96      0.96       478\n",
            "weighted avg       0.96      0.96      0.96       478\n",
            "\n",
            "Pipeline(memory=None,\n",
            "         steps=[('selector', VarianceThreshold(threshold=0.0)),\n",
            "                ('scaler',\n",
            "                 StandardScaler(copy=True, with_mean=True, with_std=True)),\n",
            "                ('pca',\n",
            "                 PCA(copy=True, iterated_power='auto', n_components=39,\n",
            "                     random_state=None, svd_solver='auto', tol=0.0,\n",
            "                     whiten=False)),\n",
            "                ('svc',\n",
            "                 SVC(C=2.2, break_ties=False, cache_size=200,\n",
            "                     class_weight='balanced', coef0=0.0,\n",
            "                     decision_function_shape='ovr', degree=3, gamma='scale',\n",
            "                     kernel='rbf', max_iter=-1, probability=False,\n",
            "                     random_state=None, shrinking=True, tol=0.001,\n",
            "                     verbose=False))],\n",
            "         verbose=False)\n",
            "{'pca__n_components': 39, 'svc__C': 2.2, 'svc__gamma': 'scale', 'svc__tol': 0.001}\n"
          ],
          "name": "stdout"
        }
      ]
    },
    {
      "cell_type": "markdown",
      "metadata": {
        "id": "K0aCmo0eeTQe"
      },
      "source": [
        "Πρόκειται να ελέγξουμε την τελευταία δυνατή υλοποίηση του SVC, δηλαδή με πυρήνες 'poly'."
      ]
    },
    {
      "cell_type": "code",
      "metadata": {
        "colab": {
          "base_uri": "https://localhost:8080/"
        },
        "id": "D41oor40ikNT",
        "outputId": "de536c4a-9b1f-487b-bf87-e5424b95cd5f"
      },
      "source": [
        "selector = VarianceThreshold()\n",
        "scaler = StandardScaler()\n",
        "svm_gs = SVC(class_weight='balanced', kernel='poly' )\n",
        "n_components = [10, 25, 50, 90, 140, 200]\n",
        "c = [0.25, 0.5, 1,5,10,50]\n",
        "tol = [1e-5,1e-4,1e-3]\n",
        "gamma = ['scale', 'auto']\n",
        "degree = [2,3,4,5]\n",
        "pipe = Pipeline(steps=[('selector', selector), ('scaler', scaler),('pca', pca), ('svc', svm_gs)])\n",
        "estimator = GridSearchCV(pipe, dict(pca__n_components=n_components,  svc__C = c, svc__tol = tol, svc__gamma=gamma,svc__degree = degree),\n",
        "                         cv=5, scoring='f1_macro', n_jobs=-1)\n",
        "start_time = time.time()\n",
        "estimator.fit(train, unbin_train_labels)\n",
        "preds = estimator.predict(test)\n",
        "print(\"Συνολικός χρόνος fit και predict: %s seconds\" % (time.time() - start_time))\n",
        "print(classification_report(unbin_test_labels, preds))\n",
        "print(estimator.best_estimator_)\n",
        "print(estimator.best_params_)"
      ],
      "execution_count": null,
      "outputs": [
        {
          "output_type": "stream",
          "text": [
            "Συνολικός χρόνος fit και predict: 183.08668780326843 seconds\n",
            "              precision    recall  f1-score   support\n",
            "\n",
            "           0       1.00      0.90      0.95        50\n",
            "           1       0.94      0.98      0.96        50\n",
            "           2       0.93      0.98      0.95        52\n",
            "           3       0.95      0.91      0.93        57\n",
            "           4       0.96      0.98      0.97        48\n",
            "           5       0.87      0.98      0.92        55\n",
            "           6       0.95      0.97      0.96        40\n",
            "           7       0.93      0.91      0.92        44\n",
            "           8       0.89      0.91      0.90        45\n",
            "           9       0.90      0.73      0.81        37\n",
            "\n",
            "    accuracy                           0.93       478\n",
            "   macro avg       0.93      0.93      0.93       478\n",
            "weighted avg       0.93      0.93      0.93       478\n",
            "\n",
            "Pipeline(memory=None,\n",
            "         steps=[('selector', VarianceThreshold(threshold=0.0)),\n",
            "                ('scaler',\n",
            "                 StandardScaler(copy=True, with_mean=True, with_std=True)),\n",
            "                ('pca',\n",
            "                 PCA(copy=True, iterated_power='auto', n_components=90,\n",
            "                     random_state=None, svd_solver='auto', tol=0.0,\n",
            "                     whiten=False)),\n",
            "                ('svc',\n",
            "                 SVC(C=5, break_ties=False, cache_size=200,\n",
            "                     class_weight='balanced', coef0=0.0,\n",
            "                     decision_function_shape='ovr', degree=2, gamma='scale',\n",
            "                     kernel='poly', max_iter=-1, probability=False,\n",
            "                     random_state=None, shrinking=True, tol=0.001,\n",
            "                     verbose=False))],\n",
            "         verbose=False)\n",
            "{'pca__n_components': 90, 'svc__C': 5, 'svc__degree': 2, 'svc__gamma': 'scale', 'svc__tol': 0.001}\n"
          ],
          "name": "stdout"
        }
      ]
    },
    {
      "cell_type": "code",
      "metadata": {
        "colab": {
          "base_uri": "https://localhost:8080/"
        },
        "id": "2nUkid-9oTs-",
        "outputId": "65059929-9479-4444-cbc0-e058cb552867"
      },
      "source": [
        "selector = VarianceThreshold()\n",
        "scaler = StandardScaler()\n",
        "svm_gs = SVC(class_weight='balanced', kernel='poly' )\n",
        "n_components = [10, 25, 50, 90, 140, 200]\n",
        "c = [0.25, 0.5, 1,5,10,50]\n",
        "tol = [1e-5,1e-4,1e-3]\n",
        "gamma = ['scale', 'auto']\n",
        "degree = [3]\n",
        "pipe = Pipeline(steps=[('selector', selector), ('scaler', scaler),('pca', pca), ('svc', svm_gs)])\n",
        "estimator = GridSearchCV(pipe, dict(pca__n_components=n_components,  svc__C = c, svc__tol = tol, svc__gamma=gamma,svc__degree = degree),\n",
        "                         cv=5, scoring='f1_macro', n_jobs=-1)\n",
        "start_time = time.time()\n",
        "estimator.fit(train, unbin_train_labels)\n",
        "preds = estimator.predict(test)\n",
        "print(\"Συνολικός χρόνος fit και predict: %s seconds\" % (time.time() - start_time))\n",
        "print(classification_report(unbin_test_labels, preds))\n",
        "print(estimator.best_estimator_)\n",
        "print(estimator.best_params_)"
      ],
      "execution_count": null,
      "outputs": [
        {
          "output_type": "stream",
          "text": [
            "Συνολικός χρόνος fit και predict: 193.6637897491455 seconds\n",
            "              precision    recall  f1-score   support\n",
            "\n",
            "           0       1.00      0.88      0.94        50\n",
            "           1       0.94      0.96      0.95        50\n",
            "           2       0.98      1.00      0.99        52\n",
            "           3       0.95      0.91      0.93        57\n",
            "           4       0.98      0.98      0.98        48\n",
            "           5       0.89      1.00      0.94        55\n",
            "           6       0.97      0.97      0.97        40\n",
            "           7       0.93      0.93      0.93        44\n",
            "           8       0.90      0.98      0.94        45\n",
            "           9       0.94      0.81      0.87        37\n",
            "\n",
            "    accuracy                           0.95       478\n",
            "   macro avg       0.95      0.94      0.94       478\n",
            "weighted avg       0.95      0.95      0.95       478\n",
            "\n",
            "Pipeline(memory=None,\n",
            "         steps=[('selector', VarianceThreshold(threshold=0.0)),\n",
            "                ('scaler',\n",
            "                 StandardScaler(copy=True, with_mean=True, with_std=True)),\n",
            "                ('pca',\n",
            "                 PCA(copy=True, iterated_power='auto', n_components=50,\n",
            "                     random_state=None, svd_solver='auto', tol=0.0,\n",
            "                     whiten=False)),\n",
            "                ('svc',\n",
            "                 SVC(C=1, break_ties=False, cache_size=200,\n",
            "                     class_weight='balanced', coef0=0.0,\n",
            "                     decision_function_shape='ovr', degree=3, gamma='auto',\n",
            "                     kernel='poly', max_iter=-1, probability=False,\n",
            "                     random_state=None, shrinking=True, tol=0.0001,\n",
            "                     verbose=False))],\n",
            "         verbose=False)\n",
            "{'pca__n_components': 50, 'svc__C': 1, 'svc__degree': 3, 'svc__gamma': 'auto', 'svc__tol': 0.0001}\n"
          ],
          "name": "stdout"
        }
      ]
    },
    {
      "cell_type": "code",
      "metadata": {
        "colab": {
          "base_uri": "https://localhost:8080/"
        },
        "id": "FOW5Mv7RsjvG",
        "outputId": "1ddad004-9de7-44de-cb07-7d211c420954"
      },
      "source": [
        "selector = VarianceThreshold()\n",
        "scaler = StandardScaler()\n",
        "svm_gs = SVC(class_weight='balanced', kernel='poly' )\n",
        "n_components = [10, 25, 50, 90, 140, 200]\n",
        "c = [0.25, 0.5, 1,5,10,50]\n",
        "tol = [1e-5,1e-4,1e-3]\n",
        "gamma = ['scale', 'auto']\n",
        "degree = [4]\n",
        "pipe = Pipeline(steps=[('selector', selector), ('scaler', scaler),('pca', pca), ('svc', svm_gs)])\n",
        "estimator = GridSearchCV(pipe, dict(pca__n_components=n_components,  svc__C = c, svc__tol = tol, svc__gamma=gamma,svc__degree = degree),\n",
        "                         cv=5, scoring='f1_macro', n_jobs=-1)\n",
        "start_time = time.time()\n",
        "estimator.fit(train, unbin_train_labels)\n",
        "preds = estimator.predict(test)\n",
        "print(\"Συνολικός χρόνος fit και predict: %s seconds\" % (time.time() - start_time))\n",
        "print(classification_report(unbin_test_labels, preds))\n",
        "print(estimator.best_estimator_)\n",
        "print(estimator.best_params_)"
      ],
      "execution_count": null,
      "outputs": [
        {
          "output_type": "stream",
          "text": [
            "Συνολικός χρόνος fit και predict: 204.30538702011108 seconds\n",
            "              precision    recall  f1-score   support\n",
            "\n",
            "           0       1.00      0.84      0.91        50\n",
            "           1       0.96      0.96      0.96        50\n",
            "           2       0.94      0.94      0.94        52\n",
            "           3       0.93      0.93      0.93        57\n",
            "           4       1.00      0.98      0.99        48\n",
            "           5       0.71      1.00      0.83        55\n",
            "           6       0.97      0.97      0.97        40\n",
            "           7       0.95      0.91      0.93        44\n",
            "           8       0.93      0.91      0.92        45\n",
            "           9       0.96      0.70      0.81        37\n",
            "\n",
            "    accuracy                           0.92       478\n",
            "   macro avg       0.94      0.91      0.92       478\n",
            "weighted avg       0.93      0.92      0.92       478\n",
            "\n",
            "Pipeline(memory=None,\n",
            "         steps=[('selector', VarianceThreshold(threshold=0.0)),\n",
            "                ('scaler',\n",
            "                 StandardScaler(copy=True, with_mean=True, with_std=True)),\n",
            "                ('pca',\n",
            "                 PCA(copy=True, iterated_power='auto', n_components=50,\n",
            "                     random_state=None, svd_solver='auto', tol=0.0,\n",
            "                     whiten=False)),\n",
            "                ('svc',\n",
            "                 SVC(C=10, break_ties=False, cache_size=200,\n",
            "                     class_weight='balanced', coef0=0.0,\n",
            "                     decision_function_shape='ovr', degree=4, gamma='scale',\n",
            "                     kernel='poly', max_iter=-1, probability=False,\n",
            "                     random_state=None, shrinking=True, tol=1e-05,\n",
            "                     verbose=False))],\n",
            "         verbose=False)\n",
            "{'pca__n_components': 50, 'svc__C': 10, 'svc__degree': 4, 'svc__gamma': 'scale', 'svc__tol': 1e-05}\n"
          ],
          "name": "stdout"
        }
      ]
    },
    {
      "cell_type": "code",
      "metadata": {
        "colab": {
          "base_uri": "https://localhost:8080/"
        },
        "id": "M-x9IH7RuK64",
        "outputId": "a0040555-b52b-48ab-ab02-4c921b7f3f48"
      },
      "source": [
        "selector = VarianceThreshold()\n",
        "scaler = StandardScaler()\n",
        "svm_gs = SVC(class_weight='balanced', kernel='poly' )\n",
        "n_components = range(35,50,5)\n",
        "c = [ 1,2,3]\n",
        "tol = [1e-5,1e-4,1e-3]\n",
        "gamma = ['scale']\n",
        "degree = [3]\n",
        "pipe = Pipeline(steps=[('selector', selector), ('scaler', scaler),('pca', pca), ('svc', svm_gs)])\n",
        "estimator = GridSearchCV(pipe, dict(pca__n_components=n_components,  svc__C = c, svc__tol = tol, svc__gamma=gamma,svc__degree = degree),\n",
        "                         cv=5, scoring='f1_macro', n_jobs=-1)\n",
        "start_time = time.time()\n",
        "estimator.fit(train, unbin_train_labels)\n",
        "preds = estimator.predict(test)\n",
        "print(\"Συνολικός χρόνος fit και predict: %s seconds\" % (time.time() - start_time))\n",
        "print(classification_report(unbin_test_labels, preds))\n",
        "print(estimator.best_estimator_)\n",
        "print(estimator.best_params_)"
      ],
      "execution_count": null,
      "outputs": [
        {
          "output_type": "stream",
          "text": [
            "Συνολικός χρόνος fit και predict: 13.47858214378357 seconds\n",
            "              precision    recall  f1-score   support\n",
            "\n",
            "           0       1.00      0.90      0.95        50\n",
            "           1       0.94      0.96      0.95        50\n",
            "           2       0.98      1.00      0.99        52\n",
            "           3       0.95      0.91      0.93        57\n",
            "           4       0.98      0.98      0.98        48\n",
            "           5       0.90      1.00      0.95        55\n",
            "           6       0.97      0.97      0.97        40\n",
            "           7       0.93      0.93      0.93        44\n",
            "           8       0.92      0.98      0.95        45\n",
            "           9       0.91      0.81      0.86        37\n",
            "\n",
            "    accuracy                           0.95       478\n",
            "   macro avg       0.95      0.94      0.95       478\n",
            "weighted avg       0.95      0.95      0.95       478\n",
            "\n",
            "Pipeline(memory=None,\n",
            "         steps=[('selector', VarianceThreshold(threshold=0.0)),\n",
            "                ('scaler',\n",
            "                 StandardScaler(copy=True, with_mean=True, with_std=True)),\n",
            "                ('pca',\n",
            "                 PCA(copy=True, iterated_power='auto', n_components=40,\n",
            "                     random_state=None, svd_solver='auto', tol=0.0,\n",
            "                     whiten=False)),\n",
            "                ('svc',\n",
            "                 SVC(C=2, break_ties=False, cache_size=200,\n",
            "                     class_weight='balanced', coef0=0.0,\n",
            "                     decision_function_shape='ovr', degree=3, gamma='scale',\n",
            "                     kernel='poly', max_iter=-1, probability=False,\n",
            "                     random_state=None, shrinking=True, tol=0.0001,\n",
            "                     verbose=False))],\n",
            "         verbose=False)\n",
            "{'pca__n_components': 40, 'svc__C': 2, 'svc__degree': 3, 'svc__gamma': 'scale', 'svc__tol': 0.0001}\n"
          ],
          "name": "stdout"
        }
      ]
    },
    {
      "cell_type": "code",
      "metadata": {
        "colab": {
          "base_uri": "https://localhost:8080/"
        },
        "id": "msFDEw_Ee7jo",
        "outputId": "58847cff-d8fe-43c3-d283-22943cffeed1"
      },
      "source": [
        "n_components = range(35,55,5)\n",
        "c = [7.5,10,15]\n",
        "tol = [1e-5,1e-4,1e-3]\n",
        "gamma = ['scale']\n",
        "degree = [4]\n",
        "pipe = Pipeline(steps=[('selector', selector), ('scaler', scaler),('pca', pca), ('svc', svm_gs)])\n",
        "estimator = GridSearchCV(pipe, dict(pca__n_components=n_components,  svc__C = c, svc__tol = tol, svc__gamma=gamma,svc__degree = degree),\n",
        "                         cv=5, scoring='f1_macro', n_jobs=-1)\n",
        "start_time = time.time()\n",
        "estimator.fit(train, unbin_train_labels)\n",
        "preds = estimator.predict(test)\n",
        "print(\"Συνολικός χρόνος fit και predict: %s seconds\" % (time.time() - start_time))\n",
        "print(classification_report(unbin_test_labels, preds))\n",
        "print(estimator.best_estimator_)\n",
        "print(estimator.best_params_)"
      ],
      "execution_count": null,
      "outputs": [
        {
          "output_type": "stream",
          "text": [
            "Συνολικός χρόνος fit και predict: 21.21481227874756 seconds\n",
            "              precision    recall  f1-score   support\n",
            "\n",
            "           0       1.00      0.82      0.90        50\n",
            "           1       0.96      0.96      0.96        50\n",
            "           2       0.98      0.94      0.96        52\n",
            "           3       0.93      0.93      0.93        57\n",
            "           4       1.00      0.98      0.99        48\n",
            "           5       0.71      1.00      0.83        55\n",
            "           6       0.97      0.95      0.96        40\n",
            "           7       0.95      0.91      0.93        44\n",
            "           8       0.91      0.93      0.92        45\n",
            "           9       0.96      0.73      0.83        37\n",
            "\n",
            "    accuracy                           0.92       478\n",
            "   macro avg       0.94      0.92      0.92       478\n",
            "weighted avg       0.93      0.92      0.92       478\n",
            "\n",
            "Pipeline(memory=None,\n",
            "         steps=[('selector', VarianceThreshold(threshold=0.0)),\n",
            "                ('scaler',\n",
            "                 StandardScaler(copy=True, with_mean=True, with_std=True)),\n",
            "                ('pca',\n",
            "                 PCA(copy=True, iterated_power='auto', n_components=40,\n",
            "                     random_state=None, svd_solver='auto', tol=0.0,\n",
            "                     whiten=False)),\n",
            "                ('svc',\n",
            "                 SVC(C=15, break_ties=False, cache_size=200,\n",
            "                     class_weight='balanced', coef0=0.0,\n",
            "                     decision_function_shape='ovr', degree=4, gamma='scale',\n",
            "                     kernel='poly', max_iter=-1, probability=False,\n",
            "                     random_state=None, shrinking=True, tol=0.0001,\n",
            "                     verbose=False))],\n",
            "         verbose=False)\n",
            "{'pca__n_components': 40, 'svc__C': 15, 'svc__degree': 4, 'svc__gamma': 'scale', 'svc__tol': 0.0001}\n"
          ],
          "name": "stdout"
        }
      ]
    },
    {
      "cell_type": "markdown",
      "metadata": {
        "id": "WjLWmyVthb51"
      },
      "source": [
        "Θα αναζητήσουμε τώρα τη βέλτιστη λύση για f1-micro.\n"
      ]
    },
    {
      "cell_type": "code",
      "metadata": {
        "id": "akUAkuN6fUYM"
      },
      "source": [
        "selector = VarianceThreshold()\n",
        "scaler = StandardScaler()\n",
        "svm_gs = SVC(class_weight='balanced', kernel='poly' )\n",
        "n_components = [10, 25, 50, 90, 140, 200]\n",
        "c = [0.25, 0.5, 1,5,10,50]\n",
        "tol = [1e-5,1e-4,1e-3]\n",
        "gamma = ['scale', 'auto']\n",
        "degree = [2,3,4,5]\n",
        "pipe = Pipeline(steps=[('selector', selector), ('scaler', scaler),('pca', pca), ('svc', svm_gs)])\n",
        "estimator = GridSearchCV(pipe, dict(pca__n_components=n_components,  svc__C = c, svc__tol = tol, svc__gamma=gamma,svc__degree = degree),\n",
        "                         cv=5, scoring='f1_mιcro', n_jobs=-1)\n",
        "start_time = time.time()\n",
        "estimator.fit(train, unbin_train_labels)\n",
        "preds = estimator.predict(test)\n",
        "print(\"Συνολικός χρόνος fit και predict: %s seconds\" % (time.time() - start_time))\n",
        "print(classification_report(unbin_test_labels, preds))\n",
        "print(estimator.best_estimator_)\n",
        "print(estimator.best_params_)"
      ],
      "execution_count": null,
      "outputs": []
    },
    {
      "cell_type": "code",
      "metadata": {
        "colab": {
          "base_uri": "https://localhost:8080/"
        },
        "id": "MQhxLJQYUZ-4",
        "outputId": "81fc7aa6-6681-4aa0-8b87-0827d1d6ab34"
      },
      "source": [
        "selector = VarianceThreshold()\n",
        "scaler = StandardScaler()\n",
        "svm_gs = SVC(class_weight='balanced', kernel='poly' )\n",
        "n_components = [10, 25, 50, 90, 140, 200]\n",
        "c = [0.25, 0.5, 1,5,10,50]\n",
        "tol = [1e-5,1e-4,1e-3]\n",
        "gamma = ['scale', 'auto']\n",
        "degree = [2,3,4,5]\n",
        "pipe = Pipeline(steps=[('selector', selector), ('scaler', scaler),('pca', pca), ('svc', svm_gs)])\n",
        "estimator = GridSearchCV(pipe, dict(pca__n_components=n_components,  svc__C = c, svc__tol = tol, svc__gamma=gamma,svc__degree = degree),\n",
        "                         cv=5, scoring='f1_micro', n_jobs=-1)\n",
        "start_time = time.time()\n",
        "estimator.fit(train, unbin_train_labels)\n",
        "preds = estimator.predict(test)\n",
        "print(\"Συνολικός χρόνος fit και predict: %s seconds\" % (time.time() - start_time))\n",
        "print(classification_report(unbin_test_labels, preds))\n",
        "print(estimator.best_estimator_)\n",
        "print(estimator.best_params_)"
      ],
      "execution_count": null,
      "outputs": [
        {
          "output_type": "stream",
          "text": [
            "Συνολικός χρόνος fit και predict: 763.6425058841705 seconds\n",
            "              precision    recall  f1-score   support\n",
            "\n",
            "           0       1.00      0.88      0.94        50\n",
            "           1       0.94      0.96      0.95        50\n",
            "           2       0.98      1.00      0.99        52\n",
            "           3       0.95      0.91      0.93        57\n",
            "           4       0.98      0.98      0.98        48\n",
            "           5       0.89      1.00      0.94        55\n",
            "           6       0.97      0.97      0.97        40\n",
            "           7       0.93      0.93      0.93        44\n",
            "           8       0.90      0.98      0.94        45\n",
            "           9       0.94      0.81      0.87        37\n",
            "\n",
            "    accuracy                           0.95       478\n",
            "   macro avg       0.95      0.94      0.94       478\n",
            "weighted avg       0.95      0.95      0.95       478\n",
            "\n",
            "Pipeline(memory=None,\n",
            "         steps=[('selector', VarianceThreshold(threshold=0.0)),\n",
            "                ('scaler',\n",
            "                 StandardScaler(copy=True, with_mean=True, with_std=True)),\n",
            "                ('pca',\n",
            "                 PCA(copy=True, iterated_power='auto', n_components=50,\n",
            "                     random_state=None, svd_solver='auto', tol=0.0,\n",
            "                     whiten=False)),\n",
            "                ('svc',\n",
            "                 SVC(C=0.25, break_ties=False, cache_size=200,\n",
            "                     class_weight='balanced', coef0=0.0,\n",
            "                     decision_function_shape='ovr', degree=3, gamma='auto',\n",
            "                     kernel='poly', max_iter=-1, probability=False,\n",
            "                     random_state=None, shrinking=True, tol=1e-05,\n",
            "                     verbose=False))],\n",
            "         verbose=False)\n",
            "{'pca__n_components': 50, 'svc__C': 0.25, 'svc__degree': 3, 'svc__gamma': 'auto', 'svc__tol': 1e-05}\n"
          ],
          "name": "stdout"
        }
      ]
    },
    {
      "cell_type": "code",
      "metadata": {
        "colab": {
          "base_uri": "https://localhost:8080/"
        },
        "id": "8rJwrKWUIDVS",
        "outputId": "926e36a4-58b3-49ab-f545-391adc0c0b9e"
      },
      "source": [
        "selector = VarianceThreshold()\n",
        "scaler = StandardScaler()\n",
        "svm_gs = SVC(class_weight='balanced', kernel='poly' )\n",
        "n_components = [40,45, 50,55,60]\n",
        "c = [0.15,0.25, 0.35]\n",
        "tol = [1e-5,5e-5,1e-6]\n",
        "gamma = ['auto']\n",
        "degree = [3]\n",
        "pipe = Pipeline(steps=[('selector', selector), ('scaler', scaler),('pca', pca), ('svc', svm_gs)])\n",
        "estimator = GridSearchCV(pipe, dict(pca__n_components=n_components,  svc__C = c, svc__tol = tol, svc__gamma=gamma,svc__degree = degree),\n",
        "                         cv=5, scoring='f1_micro', n_jobs=-1)\n",
        "start_time = time.time()\n",
        "estimator.fit(train, unbin_train_labels)\n",
        "preds = estimator.predict(test)\n",
        "print(\"Συνολικός χρόνος fit και predict: %s seconds\" % (time.time() - start_time))\n",
        "print(classification_report(unbin_test_labels, preds))\n",
        "print(estimator.best_estimator_)\n",
        "print(estimator.best_params_)"
      ],
      "execution_count": null,
      "outputs": [
        {
          "output_type": "stream",
          "text": [
            "Συνολικός χρόνος fit και predict: 27.886974811553955 seconds\n",
            "              precision    recall  f1-score   support\n",
            "\n",
            "           0       1.00      0.88      0.94        50\n",
            "           1       0.94      0.96      0.95        50\n",
            "           2       0.98      1.00      0.99        52\n",
            "           3       0.95      0.91      0.93        57\n",
            "           4       0.98      0.98      0.98        48\n",
            "           5       0.89      1.00      0.94        55\n",
            "           6       0.97      0.97      0.97        40\n",
            "           7       0.93      0.93      0.93        44\n",
            "           8       0.92      0.98      0.95        45\n",
            "           9       0.94      0.84      0.89        37\n",
            "\n",
            "    accuracy                           0.95       478\n",
            "   macro avg       0.95      0.95      0.95       478\n",
            "weighted avg       0.95      0.95      0.95       478\n",
            "\n",
            "Pipeline(memory=None,\n",
            "         steps=[('selector', VarianceThreshold(threshold=0.0)),\n",
            "                ('scaler',\n",
            "                 StandardScaler(copy=True, with_mean=True, with_std=True)),\n",
            "                ('pca',\n",
            "                 PCA(copy=True, iterated_power='auto', n_components=60,\n",
            "                     random_state=None, svd_solver='auto', tol=0.0,\n",
            "                     whiten=False)),\n",
            "                ('svc',\n",
            "                 SVC(C=0.15, break_ties=False, cache_size=200,\n",
            "                     class_weight='balanced', coef0=0.0,\n",
            "                     decision_function_shape='ovr', degree=3, gamma='auto',\n",
            "                     kernel='poly', max_iter=-1, probability=False,\n",
            "                     random_state=None, shrinking=True, tol=1e-05,\n",
            "                     verbose=False))],\n",
            "         verbose=False)\n",
            "{'pca__n_components': 60, 'svc__C': 0.15, 'svc__degree': 3, 'svc__gamma': 'auto', 'svc__tol': 1e-05}\n"
          ],
          "name": "stdout"
        }
      ]
    },
    {
      "cell_type": "code",
      "metadata": {
        "colab": {
          "base_uri": "https://localhost:8080/"
        },
        "id": "3MJ6y5TYON71",
        "outputId": "4f826537-76eb-4c1d-9abc-2529b5e1f93e"
      },
      "source": [
        "selector = VarianceThreshold()\n",
        "scaler = StandardScaler()\n",
        "svm_gs = SVC(class_weight='balanced', kernel='poly' )\n",
        "n_components = [58,60,65,70]\n",
        "c = [0.1,0.15,0.2]\n",
        "tol = [1e-5]\n",
        "gamma = ['auto']\n",
        "degree = [3]\n",
        "pipe = Pipeline(steps=[('selector', selector), ('scaler', scaler),('pca', pca), ('svc', svm_gs)])\n",
        "estimator = GridSearchCV(pipe, dict(pca__n_components=n_components,  svc__C = c, svc__tol = tol, svc__gamma=gamma,svc__degree = degree),\n",
        "                         cv=5, scoring='f1_micro', n_jobs=-1)\n",
        "start_time = time.time()\n",
        "estimator.fit(train, unbin_train_labels)\n",
        "preds = estimator.predict(test)\n",
        "print(\"Συνολικός χρόνος fit και predict: %s seconds\" % (time.time() - start_time))\n",
        "print(classification_report(unbin_test_labels, preds))\n",
        "print(estimator.best_estimator_)\n",
        "print(estimator.best_params_)"
      ],
      "execution_count": null,
      "outputs": [
        {
          "output_type": "stream",
          "text": [
            "Συνολικός χρόνος fit και predict: 9.854636907577515 seconds\n",
            "              precision    recall  f1-score   support\n",
            "\n",
            "           0       1.00      0.88      0.94        50\n",
            "           1       0.94      0.96      0.95        50\n",
            "           2       0.98      1.00      0.99        52\n",
            "           3       0.95      0.93      0.94        57\n",
            "           4       0.98      0.98      0.98        48\n",
            "           5       0.90      1.00      0.95        55\n",
            "           6       0.97      0.97      0.97        40\n",
            "           7       0.93      0.93      0.93        44\n",
            "           8       0.92      0.98      0.95        45\n",
            "           9       0.94      0.84      0.89        37\n",
            "\n",
            "    accuracy                           0.95       478\n",
            "   macro avg       0.95      0.95      0.95       478\n",
            "weighted avg       0.95      0.95      0.95       478\n",
            "\n",
            "Pipeline(memory=None,\n",
            "         steps=[('selector', VarianceThreshold(threshold=0.0)),\n",
            "                ('scaler',\n",
            "                 StandardScaler(copy=True, with_mean=True, with_std=True)),\n",
            "                ('pca',\n",
            "                 PCA(copy=True, iterated_power='auto', n_components=58,\n",
            "                     random_state=None, svd_solver='auto', tol=0.0,\n",
            "                     whiten=False)),\n",
            "                ('svc',\n",
            "                 SVC(C=0.15, break_ties=False, cache_size=200,\n",
            "                     class_weight='balanced', coef0=0.0,\n",
            "                     decision_function_shape='ovr', degree=3, gamma='auto',\n",
            "                     kernel='poly', max_iter=-1, probability=False,\n",
            "                     random_state=None, shrinking=True, tol=1e-05,\n",
            "                     verbose=False))],\n",
            "         verbose=False)\n",
            "{'pca__n_components': 58, 'svc__C': 0.15, 'svc__degree': 3, 'svc__gamma': 'auto', 'svc__tol': 1e-05}\n"
          ],
          "name": "stdout"
        }
      ]
    },
    {
      "cell_type": "markdown",
      "metadata": {
        "id": "JuTDfcX_HXHg"
      },
      "source": [
        "## Γενικά συμπεράσματα για την GridSearch στον SVM"
      ]
    },
    {
      "cell_type": "markdown",
      "metadata": {
        "id": "i4vpe48xIoZA"
      },
      "source": [
        "Ένα από τα πρώτα ξεκάθαρα συμπεράσμα που σχηματίζουμε είναι πως η υλοποίηση της LinearSVC υστερεί κατά πολύ της SVC ως προς τα αποτελέσματα που μπορεί να πετύχει. Παρατηρούμε πως τα βέλτιστα αποτελέσματα συναντώνται για τύπο πυρήνα “rbf” με διαφορετικές μάλιστα υπερπαραμέτρους για την f1-macro και την f1-micro. Γενικά θεωρούμε πως καταφέραμε με την GridSearch να ερευνήσουμε ένα ικανοποιητικό ποσοστό των συνδυασμών για τη συγκεκριμένη υλοποίηση πράγμα που μας επιτρέπει να είμαστε αρκετά βέβαιοι πως τα αποτελέσματα που βρήκαμε προσεγγίζουν ικανοποιητικά τις βέλτιστες λύσεις."
      ]
    },
    {
      "cell_type": "markdown",
      "metadata": {
        "id": "tcN3mCyCPCGp"
      },
      "source": [
        "# Συγκεντρωτική Παρουσίαση Αποτελεσμάτων"
      ]
    },
    {
      "cell_type": "markdown",
      "metadata": {
        "id": "-JQRH1PsPHb1"
      },
      "source": [
        "Στο σημείο αυτό θα γίνει παρουσίαση των βέλτιστων ταξινομητών κάθε είδους και κάθε μετρικής, σύγκριση με τους απλούς ταξινομητές που είχαμε ως benchmarks αλλά και μεταξύ τους και τέλος σχολιασμός των αποτελεσμάτων τους."
      ]
    },
    {
      "cell_type": "markdown",
      "metadata": {
        "id": "b8m1j3Gayb_7"
      },
      "source": [
        "## Dummy Classifier"
      ]
    },
    {
      "cell_type": "code",
      "metadata": {
        "colab": {
          "base_uri": "https://localhost:8080/",
          "height": 596
        },
        "id": "X7tAvn_2ybDj",
        "outputId": "3945af5c-0020-40cd-deec-f1c77333a2bb"
      },
      "source": [
        "dc_stratified = DummyClassifier(strategy=\"stratified\")\n",
        "model = dc_stratified.fit(train, unbin_train_labels)\n",
        "preds = dc_stratified.predict(test)\n",
        "dummy_accuracy = dc_stratified.score(test, unbin_test_labels) \n",
        "print(dummy_accuracy)\n",
        "\n",
        "dm_bench = DummyClassifier(strategy=\"stratified\")\n",
        "start_time = time.time()\n",
        "dm_bench.fit(train,unbin_train_labels)\n",
        "dm_bench_preds = dm_bench.predict(test)\n",
        "end_time = time.time()\n",
        "dm_bench_accuracy = dm_bench.score(test, unbin_test_labels) \n",
        "dm_bench_f1_micro = f1_score(unbin_test_labels, dm_bench_preds, average='micro')\n",
        "dm_bench_f1_macro = f1_score(unbin_test_labels, dm_bench_preds, average='macro')\n",
        "dm_bench_cm = confusion_matrix(unbin_test_labels, dm_bench_preds)\n",
        "dm_bench_total_time = end_time - start_time\n",
        "print(\"Συνολικός χρόνος fit και predict: %s seconds\" % (dm_bench_total_time))\n",
        "print(classification_report(unbin_test_labels,dm_bench_preds))\n",
        "sns.heatmap(dm_bench_cm.T, square=True, annot=True, fmt='d', cbar=False)"
      ],
      "execution_count": null,
      "outputs": [
        {
          "output_type": "stream",
          "text": [
            "0.12133891213389121\n",
            "Συνολικός χρόνος fit και predict: 0.0028870105743408203 seconds\n",
            "              precision    recall  f1-score   support\n",
            "\n",
            "           0       0.12      0.14      0.13        50\n",
            "           1       0.12      0.10      0.11        50\n",
            "           2       0.02      0.02      0.02        52\n",
            "           3       0.04      0.04      0.04        57\n",
            "           4       0.12      0.12      0.12        48\n",
            "           5       0.14      0.13      0.13        55\n",
            "           6       0.04      0.05      0.04        40\n",
            "           7       0.08      0.09      0.09        44\n",
            "           8       0.13      0.13      0.13        45\n",
            "           9       0.07      0.08      0.08        37\n",
            "\n",
            "    accuracy                           0.09       478\n",
            "   macro avg       0.09      0.09      0.09       478\n",
            "weighted avg       0.09      0.09      0.09       478\n",
            "\n"
          ],
          "name": "stdout"
        },
        {
          "output_type": "execute_result",
          "data": {
            "text/plain": [
              "<matplotlib.axes._subplots.AxesSubplot at 0x7f6273d851d0>"
            ]
          },
          "metadata": {
            "tags": []
          },
          "execution_count": 27
        },
        {
          "output_type": "display_data",
          "data": {
            "image/png": "[encoded data removed]",
            "text/plain": [
              "<Figure size 432x288 with 1 Axes>"
            ]
          },
          "metadata": {
            "tags": []
          }
        }
      ]
    },
    {
      "cell_type": "markdown",
      "metadata": {
        "id": "Y8XvkjMaxry6"
      },
      "source": [
        "## Gaussian Naive Bayes"
      ]
    },
    {
      "cell_type": "markdown",
      "metadata": {
        "id": "VwxHyj1qx7Z1"
      },
      "source": [
        "Benchmark Gaussian Naive Bayes"
      ]
    },
    {
      "cell_type": "code",
      "metadata": {
        "colab": {
          "base_uri": "https://localhost:8080/",
          "height": 563
        },
        "id": "2E63p3qSx2YI",
        "outputId": "c78d63b2-d7d6-40d9-9727-38b057736abe"
      },
      "source": [
        "gnb_bench = GaussianNB()\n",
        "start_time = time.time()\n",
        "gnb_bench.fit(train,unbin_train_labels)\n",
        "gnb_bench_preds = gnb_bench.predict(test)\n",
        "end_time = time.time()\n",
        "gnb_bench_accuracy = gnb_bench.score(test, unbin_test_labels) \n",
        "gnb_bench_f1_micro = f1_score(unbin_test_labels, gnb_bench_preds, average='micro')\n",
        "gnb_bench_f1_macro = f1_score(unbin_test_labels, gnb_bench_preds, average='macro')\n",
        "gnb_bench_cm = confusion_matrix(unbin_test_labels, gnb_bench_preds)\n",
        "gnb_bench_total_time = end_time - start_time\n",
        "print(\"Συνολικός χρόνος fit και predict: %s seconds\" % (end_time - start_time))\n",
        "print(classification_report(unbin_test_labels,gnb_bench_preds))\n",
        "sns.heatmap(gnb_bench_cm.T, square=True, annot=True, fmt='d', cbar=False);"
      ],
      "execution_count": null,
      "outputs": [
        {
          "output_type": "stream",
          "text": [
            "Συνολικός χρόνος fit και predict: 0.019901514053344727 seconds\n",
            "              precision    recall  f1-score   support\n",
            "\n",
            "           0       1.00      0.86      0.92        50\n",
            "           1       0.48      0.86      0.62        50\n",
            "           2       1.00      0.48      0.65        52\n",
            "           3       0.96      0.75      0.84        57\n",
            "           4       0.77      0.50      0.61        48\n",
            "           5       0.81      0.78      0.80        55\n",
            "           6       0.58      0.88      0.70        40\n",
            "           7       0.72      0.89      0.80        44\n",
            "           8       0.71      0.78      0.74        45\n",
            "           9       0.79      0.62      0.70        37\n",
            "\n",
            "    accuracy                           0.74       478\n",
            "   macro avg       0.78      0.74      0.74       478\n",
            "weighted avg       0.79      0.74      0.74       478\n",
            "\n"
          ],
          "name": "stdout"
        },
        {
          "output_type": "display_data",
          "data": {
            "image/png": "[encoded data removed]",
            "text/plain": [
              "<Figure size 432x288 with 1 Axes>"
            ]
          },
          "metadata": {
            "tags": []
          }
        }
      ]
    },
    {
      "cell_type": "markdown",
      "metadata": {
        "id": "0QRESg4FJl5k"
      },
      "source": [
        "Συγκεκριμένα στο ψηφίο «1» το precision είναι 0.48 που σημαίνει πως πάνω από 1 στα 2 δείγματα που ο ταξινομητής ταξινομεί στην κλάση «1» ανήκουν πραγματικά σε μια άλλη κλάση. Κάτι ανάλογο συναντάται και στο ψηφίο «6», το οποίο έχει precision 0.58. \n",
        "\n",
        "Αντίστοιχα, τα ψηφία «2», «4» και «9» έχουν μικρό recall, το οποίο σημαίνει πως ο ταξινομητής αποτυγχάνει να κατατάξει σωστά πολλά από τα δείγματα που ανήκουν σε αυτές τις κατηγορίες.\n"
      ]
    },
    {
      "cell_type": "markdown",
      "metadata": {
        "id": "filE52og3_p6"
      },
      "source": [
        "**F1-macro and F1-Micro Optimized Gaussian Naive Bayes**\n",
        "\n",
        "* VarianceThreshold\n",
        "* StandardScaler\n",
        "* PCA: n_components = 70"
      ]
    },
    {
      "cell_type": "code",
      "metadata": {
        "colab": {
          "base_uri": "https://localhost:8080/",
          "height": 563
        },
        "id": "N7r9zsbb3T19",
        "outputId": "463df55c-e739-435f-90ed-b816ad364e0a"
      },
      "source": [
        "selector = VarianceThreshold()\n",
        "scaler = StandardScaler()\n",
        "pca = PCA(n_components=70)\n",
        "gnb = GaussianNB()\n",
        "pipe = Pipeline(steps=[('selector', selector), ('scaler', scaler), ('pca', pca), ('GNB', gnb)])\n",
        "start_time = time.time()\n",
        "pipe.fit(train,unbin_train_labels)\n",
        "gnb_macro_opt_preds = pipe.predict(test)\n",
        "end_time = time.time()\n",
        "gnb_macro_opt_accuracy = pipe.score(test, unbin_test_labels) \n",
        "gnb_macro_opt_f1_micro = f1_score(unbin_test_labels, gnb_macro_opt_preds, average='micro')\n",
        "gnb_macro_opt_f1_macro = f1_score(unbin_test_labels, gnb_macro_opt_preds, average='macro')\n",
        "gnb_macro_opt_cm = confusion_matrix(unbin_test_labels, gnb_macro_opt_preds)\n",
        "gnb_macro_opt_total_time = end_time - start_time\n",
        "print(\"Συνολικός χρόνος fit και predict: %s seconds\" % (end_time - start_time))\n",
        "print(classification_report(unbin_test_labels,gnb_macro_opt_preds))\n",
        "sns.heatmap(gnb_macro_opt_cm.T, square=True, annot=True, fmt='d', cbar=False);"
      ],
      "execution_count": null,
      "outputs": [
        {
          "output_type": "stream",
          "text": [
            "Συνολικός χρόνος fit και predict: 0.12144684791564941 seconds\n",
            "              precision    recall  f1-score   support\n",
            "\n",
            "           0       1.00      0.80      0.89        50\n",
            "           1       0.89      0.84      0.87        50\n",
            "           2       0.91      0.92      0.91        52\n",
            "           3       0.94      0.88      0.91        57\n",
            "           4       0.88      0.88      0.88        48\n",
            "           5       0.92      0.89      0.91        55\n",
            "           6       0.90      0.93      0.91        40\n",
            "           7       0.89      0.91      0.90        44\n",
            "           8       0.75      0.89      0.82        45\n",
            "           9       0.64      0.78      0.71        37\n",
            "\n",
            "    accuracy                           0.87       478\n",
            "   macro avg       0.87      0.87      0.87       478\n",
            "weighted avg       0.88      0.87      0.87       478\n",
            "\n"
          ],
          "name": "stdout"
        },
        {
          "output_type": "display_data",
          "data": {
            "image/png": "[encoded data removed]",
            "text/plain": [
              "<Figure size 432x288 with 1 Axes>"
            ]
          },
          "metadata": {
            "tags": []
          }
        }
      ]
    },
    {
      "cell_type": "markdown",
      "metadata": {
        "id": "E5c86TqmOCTe"
      },
      "source": [
        "Η βελτίωση μετά την προεπεξεργασία και την εύρεση βέλτιστων παραμέτρων είναι τρομερά αισθητή σε αυτόν τον ταξινομητή. \n",
        "\n",
        "Παύουμε πλέον να συναντάμε χαμηλά ποσοστά στο recall αφού όλα ξεπερνούν το 0.78 και το precision έχει ανέβει και αυτό αισθητά. Συγκεκριμένα τα δύο πιο «επικίνδυνα» ψηφία είναι το «8» και το «9» τα οποία έχουν το χαμηλότερο πλέον precision, 0.75 και 0.64 αντίστοιχα, και συνεπώς και τα χαμηλότερα f1-scores, 0.82 και 0.71 αντίστοιχα.\n",
        "\n",
        "Η άσχημη επίδοση στο \"9\" παρά το μεγάλο ποσοστό δειγμάτων του που υπήρχαν στο train dataset πιθανώς να οφείλεται στις πολλές ομοιότητες του ψηφίου με άλλα ψηφία που πιθανώς δημιουργούν σύγχυση, όπως τα «3», «5» και «8»."
      ]
    },
    {
      "cell_type": "markdown",
      "metadata": {
        "id": "3MVI7LnE7OQS"
      },
      "source": [
        "## KNN"
      ]
    },
    {
      "cell_type": "markdown",
      "metadata": {
        "id": "pzyJZVgd7rwT"
      },
      "source": [
        "Benchmark KNN"
      ]
    },
    {
      "cell_type": "code",
      "metadata": {
        "colab": {
          "base_uri": "https://localhost:8080/",
          "height": 563
        },
        "id": "6d_Z9WEp7AyY",
        "outputId": "ce773741-1f28-45c8-8dee-d3987be83781"
      },
      "source": [
        "knn_bench = KNeighborsClassifier()\n",
        "start_time = time.time()\n",
        "knn_bench.fit(train,unbin_train_labels)\n",
        "knn_bench_preds = knn_bench.predict(test)\n",
        "end_time = time.time()\n",
        "knn_bench_accuracy = knn_bench.score(test, unbin_test_labels) \n",
        "knn_bench_f1_micro = f1_score(unbin_test_labels, knn_bench_preds, average='micro')\n",
        "knn_bench_f1_macro = f1_score(unbin_test_labels, knn_bench_preds, average='macro')\n",
        "knn_bench_cm = confusion_matrix(unbin_test_labels, knn_bench_preds)\n",
        "knn_bench_total_time = end_time - start_time\n",
        "print(\"Συνολικός χρόνος fit και predict: %s seconds\" % (end_time - start_time))\n",
        "print(classification_report(unbin_test_labels,knn_bench_preds))\n",
        "sns.heatmap(knn_bench_cm.T, square=True, annot=True, fmt='d', cbar=False);"
      ],
      "execution_count": null,
      "outputs": [
        {
          "output_type": "stream",
          "text": [
            "Συνολικός χρόνος fit και predict: 0.34708356857299805 seconds\n",
            "              precision    recall  f1-score   support\n",
            "\n",
            "           0       0.96      0.96      0.96        50\n",
            "           1       0.82      0.92      0.87        50\n",
            "           2       0.86      0.96      0.91        52\n",
            "           3       0.93      0.93      0.93        57\n",
            "           4       0.92      0.96      0.94        48\n",
            "           5       0.87      0.96      0.91        55\n",
            "           6       0.95      0.95      0.95        40\n",
            "           7       0.87      0.89      0.88        44\n",
            "           8       0.95      0.80      0.87        45\n",
            "           9       1.00      0.62      0.77        37\n",
            "\n",
            "    accuracy                           0.90       478\n",
            "   macro avg       0.91      0.90      0.90       478\n",
            "weighted avg       0.91      0.90      0.90       478\n",
            "\n"
          ],
          "name": "stdout"
        },
        {
          "output_type": "display_data",
          "data": {
            "image/png": "[encoded data removed]",
            "text/plain": [
              "<Figure size 432x288 with 1 Axes>"
            ]
          },
          "metadata": {
            "tags": []
          }
        }
      ]
    },
    {
      "cell_type": "markdown",
      "metadata": {
        "id": "PlrKv0vmPTxQ"
      },
      "source": [
        "Παρόμοια όπως και στον GNB ταξινομητή, αλλά με πολύ υψηλότερα ποσοστά ως βάση και στον ΚΝΝ συναντάμε μεγάλο πρόβλημα με το recall του ψηφίου «9», το οποίο είναι 0.62.  "
      ]
    },
    {
      "cell_type": "markdown",
      "metadata": {
        "id": "oqMT9sIF8emj"
      },
      "source": [
        "**F1-Macro Optimized KNN**\n",
        "\n",
        "* VarianceThreshold\n",
        "* StandardScaler\n",
        "* PCA: n_components = 70\n",
        "* KNN: n_neighbors = 5 , metric = 'euclidean', weights = 'distance'\n"
      ]
    },
    {
      "cell_type": "code",
      "metadata": {
        "colab": {
          "base_uri": "https://localhost:8080/",
          "height": 580
        },
        "id": "V1KvWJ7K8Uqv",
        "outputId": "d1cd13cf-4706-4612-96ca-9248445332f8"
      },
      "source": [
        "selector = VarianceThreshold()\n",
        "scaler = StandardScaler()\n",
        "pca = PCA(n_components=36)\n",
        "knn = KNeighborsClassifier(n_neighbors=5,metric='euclidean',weights='distance')\n",
        "pipe = Pipeline(steps=[('selector', selector), ('scaler', scaler), ('pca', pca), ('KNN', knn)])\n",
        "start_time = time.time()\n",
        "pipe.fit(train,unbin_train_labels)\n",
        "knn_macro_opt_preds = pipe.predict(test)\n",
        "end_time = time.time()\n",
        "knn_macro_opt_accuracy = pipe.score(test, unbin_test_labels) \n",
        "knn_macro_opt_f1_micro = f1_score(unbin_test_labels, knn_macro_opt_preds, average='micro')\n",
        "knn_macro_opt_f1_macro = f1_score(unbin_test_labels, knn_macro_opt_preds, average='macro')\n",
        "knn_macro_opt_cm = confusion_matrix(unbin_test_labels, knn_macro_opt_preds)\n",
        "knn_macro_opt_total_time = end_time - start_time\n",
        "print(knn_macro_opt_f1_macro)\n",
        "print(\"Συνολικός χρόνος fit και predict: %s seconds\" % (end_time - start_time))\n",
        "print(classification_report(unbin_test_labels,knn_macro_opt_preds))\n",
        "sns.heatmap(knn_macro_opt_cm.T, square=True, annot=True, fmt='d', cbar=False);"
      ],
      "execution_count": null,
      "outputs": [
        {
          "output_type": "stream",
          "text": [
            "0.9270725260963207\n",
            "Συνολικός χρόνος fit και predict: 0.11293601989746094 seconds\n",
            "              precision    recall  f1-score   support\n",
            "\n",
            "           0       0.96      0.96      0.96        50\n",
            "           1       0.90      0.92      0.91        50\n",
            "           2       0.94      0.96      0.95        52\n",
            "           3       0.93      0.93      0.93        57\n",
            "           4       0.98      0.98      0.98        48\n",
            "           5       0.93      0.95      0.94        55\n",
            "           6       0.95      0.97      0.96        40\n",
            "           7       0.91      0.95      0.93        44\n",
            "           8       0.91      0.91      0.91        45\n",
            "           9       0.87      0.73      0.79        37\n",
            "\n",
            "    accuracy                           0.93       478\n",
            "   macro avg       0.93      0.93      0.93       478\n",
            "weighted avg       0.93      0.93      0.93       478\n",
            "\n"
          ],
          "name": "stdout"
        },
        {
          "output_type": "display_data",
          "data": {
            "image/png": "[encoded data removed]",
            "text/plain": [
              "<Figure size 432x288 with 1 Axes>"
            ]
          },
          "metadata": {
            "tags": []
          }
        }
      ]
    },
    {
      "cell_type": "markdown",
      "metadata": {
        "id": "-iTgc2-FQV5n"
      },
      "source": [
        "Η διαδικασία του optimization βελτιώνει συνολικά τα αποτελέσματα και συγκεκριμένα το recall του rate κατά 0.11 από 0.62 σε 0.73. "
      ]
    },
    {
      "cell_type": "markdown",
      "metadata": {
        "id": "GJQN7oQI_hRb"
      },
      "source": [
        "**KNN F1-Micro Optimized**\n",
        "\n",
        "* VarianceThreshold\n",
        "* StandardScaler\n",
        "* PCA: n_components = 38\n",
        "* KNN: n_neighbors = 4 , metric = 'euclidean', weights = 'distance'"
      ]
    },
    {
      "cell_type": "code",
      "metadata": {
        "colab": {
          "base_uri": "https://localhost:8080/",
          "height": 580
        },
        "id": "z4LODhVU_gbM",
        "outputId": "bc25c9e7-d7f0-410a-cd7b-71691428531e"
      },
      "source": [
        "selector = VarianceThreshold()\n",
        "scaler = StandardScaler()\n",
        "pca = PCA(n_components=38)\n",
        "knn = KNeighborsClassifier(n_neighbors=4,metric='euclidean',weights='distance')\n",
        "pipe = Pipeline(steps=[('selector', selector), ('scaler', scaler), ('pca', pca), ('KNN', knn)])\n",
        "start_time = time.time()\n",
        "pipe.fit(train,unbin_train_labels)\n",
        "knn_micro_opt_preds = pipe.predict(test)\n",
        "end_time = time.time()\n",
        "knn_micro_opt_accuracy = pipe.score(test, unbin_test_labels) \n",
        "knn_micro_opt_f1_micro = f1_score(unbin_test_labels, knn_micro_opt_preds, average='micro')\n",
        "knn_micro_opt_f1_macro = f1_score(unbin_test_labels, knn_micro_opt_preds, average='macro')\n",
        "knn_micro_opt_cm = confusion_matrix(unbin_test_labels, knn_micro_opt_preds)\n",
        "knn_micro_opt_total_time = end_time - start_time\n",
        "print(knn_micro_opt_f1_micro)\n",
        "print(\"Συνολικός χρόνος fit και predict: %s seconds\" % (end_time - start_time))\n",
        "print(classification_report(unbin_test_labels,knn_micro_opt_preds))\n",
        "sns.heatmap(knn_micro_opt_cm.T, square=True, annot=True, fmt='d', cbar=False);"
      ],
      "execution_count": null,
      "outputs": [
        {
          "output_type": "stream",
          "text": [
            "0.9372384937238494\n",
            "Συνολικός χρόνος fit και predict: 0.1295642852783203 seconds\n",
            "              precision    recall  f1-score   support\n",
            "\n",
            "           0       0.96      0.96      0.96        50\n",
            "           1       0.89      0.94      0.91        50\n",
            "           2       0.96      0.96      0.96        52\n",
            "           3       0.91      0.93      0.92        57\n",
            "           4       0.98      0.98      0.98        48\n",
            "           5       0.95      0.96      0.95        55\n",
            "           6       0.95      0.97      0.96        40\n",
            "           7       0.98      0.95      0.97        44\n",
            "           8       0.89      0.93      0.91        45\n",
            "           9       0.90      0.73      0.81        37\n",
            "\n",
            "    accuracy                           0.94       478\n",
            "   macro avg       0.94      0.93      0.93       478\n",
            "weighted avg       0.94      0.94      0.94       478\n",
            "\n"
          ],
          "name": "stdout"
        },
        {
          "output_type": "display_data",
          "data": {
            "image/png": "[encoded data removed]",
            "text/plain": [
              "<Figure size 432x288 with 1 Axes>"
            ]
          },
          "metadata": {
            "tags": []
          }
        }
      ]
    },
    {
      "cell_type": "markdown",
      "metadata": {
        "id": "viEAt3oUQ0Lp"
      },
      "source": [
        "Και στην περίπτωση του optimization ως προς F1-micro παρατηρείται η ίδια βελτίωση στο recall του ψηφίου «9» και πολύ μικρές βελτιώσεις σε όλα τα υπόλοιπα metrics συγκριτικά με το f1-macro optimization του KNN."
      ]
    },
    {
      "cell_type": "markdown",
      "metadata": {
        "id": "bObUhuyMDR1l"
      },
      "source": [
        "## SVM"
      ]
    },
    {
      "cell_type": "markdown",
      "metadata": {
        "id": "X4rwsm1YDkZl"
      },
      "source": [
        "### LinearSVC"
      ]
    },
    {
      "cell_type": "markdown",
      "metadata": {
        "id": "TN64EHTnLvnl"
      },
      "source": [
        "Benchmark LinearSVC"
      ]
    },
    {
      "cell_type": "code",
      "metadata": {
        "colab": {
          "base_uri": "https://localhost:8080/",
          "height": 596
        },
        "id": "KkpUYtxMDdsC",
        "outputId": "fe3c1b87-f4f3-4cd2-c560-fbc49912fc79"
      },
      "source": [
        "svc_lin_bench = LinearSVC()\n",
        "start_time = time.time()\n",
        "svc_lin_bench.fit(train,unbin_train_labels)\n",
        "svc_lin_bench_preds = svc_lin_bench.predict(test)\n",
        "end_time = time.time()\n",
        "svc_lin_bench_accuracy = svc_lin_bench.score(test, unbin_test_labels) \n",
        "svc_lin_bench_f1_micro = f1_score(unbin_test_labels, svc_lin_bench_preds, average='micro')\n",
        "svc_lin_bench_f1_macro = f1_score(unbin_test_labels, svc_lin_bench_preds, average='macro')\n",
        "svc_lin_bench_cm = confusion_matrix(unbin_test_labels, svc_lin_bench_preds)\n",
        "svc_lin_bench_total_time = end_time - start_time\n",
        "print(\"Συνολικός χρόνος fit και predict: %s seconds\" % (end_time - start_time))\n",
        "print(classification_report(unbin_test_labels,svc_lin_bench_preds))\n",
        "sns.heatmap(svc_lin_bench_cm.T, square=True, annot=True, fmt='d', cbar=False);"
      ],
      "execution_count": null,
      "outputs": [
        {
          "output_type": "stream",
          "text": [
            "/usr/local/lib/python3.6/dist-packages/sklearn/svm/_base.py:947: ConvergenceWarning: Liblinear failed to converge, increase the number of iterations.\n",
            "  \"the number of iterations.\", ConvergenceWarning)\n"
          ],
          "name": "stderr"
        },
        {
          "output_type": "stream",
          "text": [
            "Συνολικός χρόνος fit και predict: 0.18310832977294922 seconds\n",
            "              precision    recall  f1-score   support\n",
            "\n",
            "           0       1.00      0.96      0.98        50\n",
            "           1       0.83      0.90      0.87        50\n",
            "           2       0.90      0.83      0.86        52\n",
            "           3       0.94      0.84      0.89        57\n",
            "           4       0.90      0.90      0.90        48\n",
            "           5       0.88      0.89      0.88        55\n",
            "           6       0.86      0.95      0.90        40\n",
            "           7       0.78      0.82      0.80        44\n",
            "           8       0.71      0.71      0.71        45\n",
            "           9       0.76      0.78      0.77        37\n",
            "\n",
            "    accuracy                           0.86       478\n",
            "   macro avg       0.86      0.86      0.86       478\n",
            "weighted avg       0.86      0.86      0.86       478\n",
            "\n"
          ],
          "name": "stdout"
        },
        {
          "output_type": "display_data",
          "data": {
            "image/png": "[encoded data removed]",
            "text/plain": [
              "<Figure size 432x288 with 1 Axes>"
            ]
          },
          "metadata": {
            "tags": []
          }
        }
      ]
    },
    {
      "cell_type": "markdown",
      "metadata": {
        "id": "CJ280e_FRzF8"
      },
      "source": [
        "Ο LinearSVC φαίνεται να ανταποκρίνεται διαφορετικά σε δύο κατηγορίες ψηφίων. Στα ψηφία «8», «9» και «7» τα οποία αναφέρονται με αύξουσα σειρά f1-score έχει απόδοση από 0.7 έως 0.8. Αντίθετα στα υπόλοιπα ψηφία το f1-score ξεπερνά το 0.86."
      ]
    },
    {
      "cell_type": "markdown",
      "metadata": {
        "id": "-jZErYFWLz1x"
      },
      "source": [
        "**F1-Macro Optimized LinearSVC**\n",
        "\n",
        "* VarianceThreshold\n",
        "* StandardScaler\n",
        "* PCA: n_components = 70\n",
        "* LinearSVC: C=0.05 , loss='squared_hinge',tol=0.0001"
      ]
    },
    {
      "cell_type": "code",
      "metadata": {
        "colab": {
          "base_uri": "https://localhost:8080/",
          "height": 580
        },
        "id": "z0qNlKIYEdRl",
        "outputId": "691b27fd-495b-41b2-f865-803ef807d14a"
      },
      "source": [
        "selector = VarianceThreshold()\n",
        "scaler = StandardScaler()\n",
        "pca = PCA(n_components=45)\n",
        "svc = LinearSVC(class_weight='balanced', C=0.05, loss='squared_hinge',tol=0.0001)\n",
        "pipe = Pipeline(steps=[('selector', selector), ('scaler', scaler), ('pca', pca), ('SVC', svc)])\n",
        "start_time = time.time()\n",
        "pipe.fit(train,unbin_train_labels)\n",
        "svc_lin_macro_opt_preds = pipe.predict(test)\n",
        "end_time = time.time()\n",
        "svc_lin_macro_opt_accuracy = pipe.score(test, unbin_test_labels) \n",
        "svc_lin_macro_opt_f1_micro = f1_score(unbin_test_labels, svc_lin_macro_opt_preds, average='micro')\n",
        "svc_lin_macro_opt_f1_macro = f1_score(unbin_test_labels, svc_lin_macro_opt_preds, average='macro')\n",
        "svc_lin_macro_opt_cm = confusion_matrix(unbin_test_labels, svc_lin_macro_opt_preds)\n",
        "svc_lin_macro_opt_total_time = end_time - start_time\n",
        "print(svc_lin_macro_opt_f1_micro)\n",
        "print(\"Συνολικός χρόνος fit και predict: %s seconds\" % (end_time - start_time))\n",
        "print(classification_report(unbin_test_labels,svc_lin_macro_opt_preds))\n",
        "sns.heatmap(svc_lin_macro_opt_cm.T, square=True, annot=True, fmt='d', cbar=False);"
      ],
      "execution_count": null,
      "outputs": [
        {
          "output_type": "stream",
          "text": [
            "0.9163179916317992\n",
            "Συνολικός χρόνος fit και predict: 0.20388460159301758 seconds\n",
            "              precision    recall  f1-score   support\n",
            "\n",
            "           0       0.94      0.96      0.95        50\n",
            "           1       0.90      0.92      0.91        50\n",
            "           2       0.96      0.92      0.94        52\n",
            "           3       0.96      0.84      0.90        57\n",
            "           4       0.94      0.92      0.93        48\n",
            "           5       0.91      0.96      0.94        55\n",
            "           6       1.00      0.97      0.99        40\n",
            "           7       0.78      0.89      0.83        44\n",
            "           8       0.91      0.93      0.92        45\n",
            "           9       0.86      0.84      0.85        37\n",
            "\n",
            "    accuracy                           0.92       478\n",
            "   macro avg       0.92      0.92      0.92       478\n",
            "weighted avg       0.92      0.92      0.92       478\n",
            "\n"
          ],
          "name": "stdout"
        },
        {
          "output_type": "display_data",
          "data": {
            "image/png": "[encoded data removed]",
            "text/plain": [
              "<Figure size 432x288 with 1 Axes>"
            ]
          },
          "metadata": {
            "tags": []
          }
        }
      ]
    },
    {
      "cell_type": "markdown",
      "metadata": {
        "id": "Je55BZ6PSrFc"
      },
      "source": [
        "Μετά την βελτιστοποίηση των υπερπαραμέτρων ως προς f1-macro «προβληματικά» παραμένουν τα ψηφία «7» και «9» με 0.83 και 0.85 f1-score, το οποίο είναι αισθητά αυξημένο συγκριτικά με πριν. Το κατώφλι του f1-score για τα «καλά» ψηφία είναι πλέον 0.9 στο f1-score, ενώ το ψηφίο «8» έχει πάψει πλέον να συγκαταλέγεται στα προβληματικά. "
      ]
    },
    {
      "cell_type": "markdown",
      "metadata": {
        "id": "jr5aBxkgTcjQ"
      },
      "source": [
        "**F1-Micro Optimized LinearSVC**\n",
        "\n",
        "* VarianceThreshold\n",
        "* StandardScaler\n",
        "* PCA: n_components = 45\n",
        "* LinearSVC: C=0.1 , loss='hinge',tol=1e-5"
      ]
    },
    {
      "cell_type": "code",
      "metadata": {
        "colab": {
          "base_uri": "https://localhost:8080/",
          "height": 612
        },
        "id": "flyrHvMwLseZ",
        "outputId": "7162b249-d28b-4c2f-9f4f-7a5807f1cdb2"
      },
      "source": [
        "selector = VarianceThreshold()\n",
        "scaler = StandardScaler()\n",
        "pca = PCA(n_components=45)\n",
        "svc = LinearSVC(class_weight='balanced', C=0.1, loss='hinge',tol=1e-5)\n",
        "pipe = Pipeline(steps=[('selector', selector), ('scaler', scaler), ('pca', pca), ('SVC', svc)])\n",
        "start_time = time.time()\n",
        "pipe.fit(train,unbin_train_labels)\n",
        "svc_lin_micro_opt_preds = pipe.predict(test)\n",
        "end_time = time.time()\n",
        "svc_lin_micro_opt_accuracy = pipe.score(test, unbin_test_labels) \n",
        "svc_lin_micro_opt_f1_micro = f1_score(unbin_test_labels, svc_lin_micro_opt_preds, average='micro')\n",
        "svc_lin_micro_opt_f1_macro = f1_score(unbin_test_labels, svc_lin_micro_opt_preds, average='macro')\n",
        "svc_lin_micro_opt_cm = confusion_matrix(unbin_test_labels, svc_lin_micro_opt_preds)\n",
        "svc_lin_micro_opt_total_time = end_time - start_time\n",
        "print(svc_lin_micro_opt_f1_micro)\n",
        "print(\"Συνολικός χρόνος fit και predict: %s seconds\" % (end_time - start_time))\n",
        "print(classification_report(unbin_test_labels,svc_lin_micro_opt_preds))\n",
        "sns.heatmap(svc_lin_micro_opt_cm.T, square=True, annot=True, fmt='d', cbar=False);"
      ],
      "execution_count": null,
      "outputs": [
        {
          "output_type": "stream",
          "text": [
            "/usr/local/lib/python3.6/dist-packages/sklearn/svm/_base.py:947: ConvergenceWarning: Liblinear failed to converge, increase the number of iterations.\n",
            "  \"the number of iterations.\", ConvergenceWarning)\n"
          ],
          "name": "stderr"
        },
        {
          "output_type": "stream",
          "text": [
            "0.893305439330544\n",
            "Συνολικός χρόνος fit και predict: 0.18732810020446777 seconds\n",
            "              precision    recall  f1-score   support\n",
            "\n",
            "           0       0.96      0.96      0.96        50\n",
            "           1       0.88      0.90      0.89        50\n",
            "           2       0.90      0.90      0.90        52\n",
            "           3       0.94      0.86      0.90        57\n",
            "           4       0.92      0.92      0.92        48\n",
            "           5       0.93      0.93      0.93        55\n",
            "           6       0.93      0.97      0.95        40\n",
            "           7       0.78      0.86      0.82        44\n",
            "           8       0.88      0.82      0.85        45\n",
            "           9       0.78      0.78      0.78        37\n",
            "\n",
            "    accuracy                           0.89       478\n",
            "   macro avg       0.89      0.89      0.89       478\n",
            "weighted avg       0.89      0.89      0.89       478\n",
            "\n"
          ],
          "name": "stdout"
        },
        {
          "output_type": "display_data",
          "data": {
            "image/png": "[encoded data removed]",
            "text/plain": [
              "<Figure size 432x288 with 1 Axes>"
            ]
          },
          "metadata": {
            "tags": []
          }
        }
      ]
    },
    {
      "cell_type": "markdown",
      "metadata": {
        "id": "tlcVbMJkUhXF"
      },
      "source": [
        "H βελτιστοποίηση ως προς f1-micro δε λειτουργεί πολύ αποτελεσματικά σε αυτή την περίπτωση, καθώς αν και τα συνολικά ποσοστά αυξήθηκαν δεν βελτιώθηκαν τόσο όσο κατά την f1-macro και το ψηφίο «8» εξακολουθεί να συγκαταλέγεται μαζί με τα «7» και «9» στα προβληματικά."
      ]
    },
    {
      "cell_type": "markdown",
      "metadata": {
        "id": "Fn1AOKXJM8PT"
      },
      "source": [
        "### SVC"
      ]
    },
    {
      "cell_type": "code",
      "metadata": {
        "colab": {
          "base_uri": "https://localhost:8080/",
          "height": 596
        },
        "id": "kKVy2tSEM-XR",
        "outputId": "4211a680-fe08-4cad-ee6e-2e188b9f79a0"
      },
      "source": [
        "svc_bench = SVC()\n",
        "start_time = time.time()\n",
        "svc_bench.fit(train,unbin_train_labels)\n",
        "svc_bench_preds = svc_bench.predict(test)\n",
        "end_time = time.time()\n",
        "svc_bench_accuracy = svc_bench.score(test, unbin_test_labels) \n",
        "svc_bench_f1_micro = f1_score(unbin_test_labels, svc_bench_preds, average='micro')\n",
        "svc_bench_f1_macro = f1_score(unbin_test_labels, svc_bench_preds, average='macro')\n",
        "svc_bench_cm = confusion_matrix(unbin_test_labels, svc_bench_preds)\n",
        "svc_bench_total_time = end_time - start_time\n",
        "print(svc_bench_f1_macro)\n",
        "print(svc_bench_f1_micro)\n",
        "print(\"Συνολικός χρόνος fit και predict: %s seconds\" % (end_time - start_time))\n",
        "print(classification_report(unbin_test_labels,svc_bench_preds))\n",
        "sns.heatmap(svc_bench_cm.T, square=True, annot=True, fmt='d', cbar=False);"
      ],
      "execution_count": null,
      "outputs": [
        {
          "output_type": "stream",
          "text": [
            "0.9551566538545867\n",
            "0.9560669456066946\n",
            "Συνολικός χρόνος fit και predict: 0.8241519927978516 seconds\n",
            "              precision    recall  f1-score   support\n",
            "\n",
            "           0       1.00      0.96      0.98        50\n",
            "           1       0.94      0.94      0.94        50\n",
            "           2       0.98      1.00      0.99        52\n",
            "           3       0.96      0.89      0.93        57\n",
            "           4       0.96      0.98      0.97        48\n",
            "           5       0.96      0.96      0.96        55\n",
            "           6       0.98      1.00      0.99        40\n",
            "           7       0.91      0.93      0.92        44\n",
            "           8       0.98      0.98      0.98        45\n",
            "           9       0.87      0.92      0.89        37\n",
            "\n",
            "    accuracy                           0.96       478\n",
            "   macro avg       0.95      0.96      0.96       478\n",
            "weighted avg       0.96      0.96      0.96       478\n",
            "\n"
          ],
          "name": "stdout"
        },
        {
          "output_type": "display_data",
          "data": {
            "image/png": "[encoded data removed]",
            "text/plain": [
              "<Figure size 432x288 with 1 Axes>"
            ]
          },
          "metadata": {
            "tags": []
          }
        }
      ]
    },
    {
      "cell_type": "markdown",
      "metadata": {
        "id": "bEoTAJWZUwG_"
      },
      "source": [
        "Η υλοποίηση SVC φαίνεται εξαρχής να πετυχαίνει πολύ καλά αποτελέσματα με f1-macro και f1-micro score που φτάνει το 0.955. Και εδώ παρατηρούμε πως το προβληματικό ψηφίο είναι το «9» αλλά έχουμε φτάσει πλέον σε σημείο που οι διαφορές είναι ελάχιστες και τα χαμηλότερα ποσοστά εξαιρετικά υψηλά."
      ]
    },
    {
      "cell_type": "markdown",
      "metadata": {
        "id": "9pJyxqJSOxcj"
      },
      "source": [
        "**F1-Macro Optimized SVC**\n",
        "\n",
        "\n",
        "* VarianceThreshold\n",
        "* StandardScaler\n",
        "* PCA: n_components = 40\n",
        "* SVC: kernel='rbf',class_weight='balanced', C=1.5,tol=1e-5,gamma='scale'"
      ]
    },
    {
      "cell_type": "code",
      "metadata": {
        "colab": {
          "base_uri": "https://localhost:8080/",
          "height": 580
        },
        "id": "92xeFuYFNbku",
        "outputId": "bcb27147-ed23-451b-a872-284aac011d88"
      },
      "source": [
        "selector = VarianceThreshold()\n",
        "scaler = StandardScaler()\n",
        "pca = PCA(n_components=40)\n",
        "svc = SVC(kernel='rbf',class_weight='balanced', C=1.5,tol=1e-5,gamma='scale')\n",
        "pipe = Pipeline(steps=[('selector', selector), ('scaler', scaler), ('pca', pca), ('SVC', svc)])\n",
        "start_time = time.time()\n",
        "pipe.fit(train,unbin_train_labels)\n",
        "svc_macro_opt_preds = pipe.predict(test)\n",
        "end_time = time.time()\n",
        "svc_macro_opt_accuracy = pipe.score(test, unbin_test_labels) \n",
        "svc_macro_opt_f1_micro = f1_score(unbin_test_labels, svc_macro_opt_preds, average='micro')\n",
        "svc_macro_opt_f1_macro = f1_score(unbin_test_labels, svc_macro_opt_preds, average='macro')\n",
        "svc_macro_opt_cm = confusion_matrix(unbin_test_labels, svc_macro_opt_preds)\n",
        "svc_macro_opt_time = end_time - start_time\n",
        "print(svc_macro_opt_f1_micro)\n",
        "print(\"Συνολικός χρόνος fit και predict: %s seconds\" % (end_time - start_time))\n",
        "print(classification_report(unbin_test_labels,svc_macro_opt_preds))\n",
        "sns.heatmap(svc_macro_opt_cm.T, square=True, annot=True, fmt='d', cbar=False);"
      ],
      "execution_count": null,
      "outputs": [
        {
          "output_type": "stream",
          "text": [
            "0.9581589958158996\n",
            "Συνολικός χρόνος fit και predict: 0.23400664329528809 seconds\n",
            "              precision    recall  f1-score   support\n",
            "\n",
            "           0       1.00      0.94      0.97        50\n",
            "           1       0.92      0.98      0.95        50\n",
            "           2       0.96      1.00      0.98        52\n",
            "           3       0.96      0.91      0.94        57\n",
            "           4       0.98      0.98      0.98        48\n",
            "           5       0.96      0.96      0.96        55\n",
            "           6       0.95      0.97      0.96        40\n",
            "           7       0.95      0.93      0.94        44\n",
            "           8       0.96      0.98      0.97        45\n",
            "           9       0.92      0.92      0.92        37\n",
            "\n",
            "    accuracy                           0.96       478\n",
            "   macro avg       0.96      0.96      0.96       478\n",
            "weighted avg       0.96      0.96      0.96       478\n",
            "\n"
          ],
          "name": "stdout"
        },
        {
          "output_type": "display_data",
          "data": {
            "image/png": "[encoded data removed]",
            "text/plain": [
              "<Figure size 432x288 with 1 Axes>"
            ]
          },
          "metadata": {
            "tags": []
          }
        }
      ]
    },
    {
      "cell_type": "markdown",
      "metadata": {
        "id": "1c9gT1BIPMxo"
      },
      "source": [
        "**F1-Micro Optimized SVC**\n",
        "\n",
        "* VarianceThreshold\n",
        "* StandardScaler\n",
        "* PCA: n_components = 39\n",
        "* SVC: kernel='rbf',class_weight='balanced', C=2.2 ,tol=1e-4, gamma='scale'"
      ]
    },
    {
      "cell_type": "code",
      "metadata": {
        "colab": {
          "base_uri": "https://localhost:8080/",
          "height": 580
        },
        "id": "RgX8pOLwPQ3g",
        "outputId": "357b757c-77fa-462e-df94-b19c9caf4d4d"
      },
      "source": [
        "selector = VarianceThreshold()\n",
        "scaler = StandardScaler()\n",
        "pca = PCA(n_components=39)\n",
        "svc = SVC(kernel='rbf',class_weight='balanced', C=2.2,tol=0.001,gamma='scale')\n",
        "pipe = Pipeline(steps=[('selector', selector), ('scaler', scaler), ('pca', pca), ('SVC', svc)])\n",
        "start_time = time.time()\n",
        "pipe.fit(train,unbin_train_labels)\n",
        "svc_micro_opt_preds = pipe.predict(test)\n",
        "end_time = time.time()\n",
        "svc_micro_opt_accuracy = pipe.score(test, unbin_test_labels) \n",
        "svc_micro_opt_f1_micro = f1_score(unbin_test_labels, svc_micro_opt_preds, average='micro')\n",
        "svc_micro_opt_f1_macro = f1_score(unbin_test_labels, svc_micro_opt_preds, average='macro')\n",
        "svc_micro_opt_cm = confusion_matrix(unbin_test_labels, svc_micro_opt_preds)\n",
        "svc_micro_opt_time = end_time - start_time\n",
        "print(svc_micro_opt_f1_micro)\n",
        "print(\"Συνολικός χρόνος fit και predict: %s seconds\" % (end_time - start_time))\n",
        "print(classification_report(unbin_test_labels,svc_micro_opt_preds))\n",
        "sns.heatmap(svc_micro_opt_cm.T, square=True, annot=True, fmt='d', cbar=False);"
      ],
      "execution_count": null,
      "outputs": [
        {
          "output_type": "stream",
          "text": [
            "0.9602510460251046\n",
            "Συνολικός χρόνος fit και predict: 0.22371411323547363 seconds\n",
            "              precision    recall  f1-score   support\n",
            "\n",
            "           0       1.00      0.96      0.98        50\n",
            "           1       0.94      0.98      0.96        50\n",
            "           2       0.98      1.00      0.99        52\n",
            "           3       0.96      0.91      0.94        57\n",
            "           4       0.98      0.98      0.98        48\n",
            "           5       0.96      0.96      0.96        55\n",
            "           6       0.95      0.97      0.96        40\n",
            "           7       0.93      0.95      0.94        44\n",
            "           8       0.96      0.98      0.97        45\n",
            "           9       0.92      0.89      0.90        37\n",
            "\n",
            "    accuracy                           0.96       478\n",
            "   macro avg       0.96      0.96      0.96       478\n",
            "weighted avg       0.96      0.96      0.96       478\n",
            "\n"
          ],
          "name": "stdout"
        },
        {
          "output_type": "display_data",
          "data": {
            "image/png": "[encoded data removed]",
            "text/plain": [
              "<Figure size 432x288 with 1 Axes>"
            ]
          },
          "metadata": {
            "tags": []
          }
        }
      ]
    },
    {
      "cell_type": "markdown",
      "metadata": {
        "id": "j25nKe7fVyB7"
      },
      "source": [
        "Και για τα δύο optimizations του SVC αναφέρουμε πως οι βελτιώσεις είναι ελάχιστες, της τάξης του 0.005, πράγμα λογικό αν σκεφτεί κανείς την εξαιρετική απόδοση που έχει αρχικά ο ταξινομητής. Ανάμεσα στα δύο optimizations, αυτό ως προς f1-macro βελτιώνει περισσότερο το f1-score του ψηφίου «9»."
      ]
    },
    {
      "cell_type": "markdown",
      "metadata": {
        "id": "hBWy1rCB6b01"
      },
      "source": [
        "## MLP"
      ]
    },
    {
      "cell_type": "markdown",
      "metadata": {
        "id": "2NqJ2DQh6zM2"
      },
      "source": [
        "**MLP Benchmark**"
      ]
    },
    {
      "cell_type": "code",
      "metadata": {
        "colab": {
          "base_uri": "https://localhost:8080/",
          "height": 596
        },
        "id": "Uh0SoBvs6dxK",
        "outputId": "680b0660-debf-4cf7-995a-d8da28177e2e"
      },
      "source": [
        "mlp_bench = MLPClassifier()\n",
        "start_time = time.time()\n",
        "mlp_bench.fit(train,unbin_train_labels)\n",
        "mlp_bench_preds = mlp_bench.predict(test)\n",
        "end_time = time.time()\n",
        "mlp_bench_accuracy = mlp_bench.score(test, unbin_test_labels) \n",
        "mlp_bench_f1_micro = f1_score(unbin_test_labels, mlp_bench_preds, average='micro')\n",
        "mlp_bench_f1_macro = f1_score(unbin_test_labels, mlp_bench_preds, average='macro')\n",
        "mlp_bench_cm = confusion_matrix(unbin_test_labels, mlp_bench_preds)\n",
        "mlp_bench_time = end_time - start_time\n",
        "print(mlp_bench_f1_macro)\n",
        "print(mlp_bench_f1_micro)\n",
        "print(\"Συνολικός χρόνος fit και predict: %s seconds\" % (end_time - start_time))\n",
        "print(classification_report(unbin_test_labels,mlp_bench_preds))\n",
        "sns.heatmap(mlp_bench_cm.T, square=True, annot=True, fmt='d', cbar=False);"
      ],
      "execution_count": null,
      "outputs": [
        {
          "output_type": "stream",
          "text": [
            "0.9057611011745644\n",
            "0.9058577405857741\n",
            "Συνολικός χρόνος fit και predict: 2.102708101272583 seconds\n",
            "              precision    recall  f1-score   support\n",
            "\n",
            "           0       0.98      0.92      0.95        50\n",
            "           1       0.87      0.94      0.90        50\n",
            "           2       0.92      0.90      0.91        52\n",
            "           3       0.94      0.86      0.90        57\n",
            "           4       0.94      0.94      0.94        48\n",
            "           5       0.89      0.91      0.90        55\n",
            "           6       0.97      0.95      0.96        40\n",
            "           7       0.82      0.84      0.83        44\n",
            "           8       0.85      0.91      0.88        45\n",
            "           9       0.87      0.89      0.88        37\n",
            "\n",
            "    accuracy                           0.91       478\n",
            "   macro avg       0.91      0.91      0.91       478\n",
            "weighted avg       0.91      0.91      0.91       478\n",
            "\n"
          ],
          "name": "stdout"
        },
        {
          "output_type": "display_data",
          "data": {
            "image/png": "[encoded data removed]",
            "text/plain": [
              "<Figure size 432x288 with 1 Axes>"
            ]
          },
          "metadata": {
            "tags": []
          }
        }
      ]
    },
    {
      "cell_type": "markdown",
      "metadata": {
        "id": "WPNJdWvJYLpw"
      },
      "source": [
        "Ο βασικός MLP αποδίδει και αυτός καλά συναντώντας πρόβλημα κυρίως στο ψηφίο «7» με f1-score 0.83."
      ]
    },
    {
      "cell_type": "markdown",
      "metadata": {
        "id": "0zRr9SYg9Pqn"
      },
      "source": [
        "**MLP F1-Macro Optimized**\n",
        "\n",
        "\n",
        "* VarianceThreshold\n",
        "* StandardScaler\n",
        "* PCA: n_components = 40\n",
        "* MLP: activation='relu',solver='adam',alpha=1e-5,hidden_layer_sizes=(480,),max_iter=900"
      ]
    },
    {
      "cell_type": "code",
      "metadata": {
        "colab": {
          "base_uri": "https://localhost:8080/",
          "height": 580
        },
        "id": "dbAAbRl49O6X",
        "outputId": "2a749736-5830-46eb-adc9-e9ea86435680"
      },
      "source": [
        "selector = VarianceThreshold()\n",
        "scaler = StandardScaler()\n",
        "pca = PCA(n_components=40)\n",
        "mlp = MLPClassifier(activation='relu',solver='adam',alpha=1e-5,hidden_layer_sizes=(480,),max_iter=900)\n",
        "pipe = Pipeline(steps=[('selector', selector), ('scaler', scaler), ('pca', pca), ('MLP', mlp)])\n",
        "start_time = time.time()\n",
        "pipe.fit(train,unbin_train_labels)\n",
        "mlp_macro_opt_preds = pipe.predict(test)\n",
        "end_time = time.time()\n",
        "mlp_macro_opt_accuracy = pipe.score(test, unbin_test_labels) \n",
        "mlp_macro_opt_f1_micro = f1_score(unbin_test_labels, mlp_macro_opt_preds, average='micro')\n",
        "mlp_macro_opt_f1_macro = f1_score(unbin_test_labels, mlp_macro_opt_preds, average='macro')\n",
        "mlp_macro_opt_cm = confusion_matrix(unbin_test_labels, mlp_macro_opt_preds)\n",
        "mlp_macro_opt_time = end_time - start_time\n",
        "print(mlp_macro_opt_f1_macro)\n",
        "print(\"Συνολικός χρόνος fit και predict: %s seconds\" % (end_time - start_time))\n",
        "print(classification_report(unbin_test_labels,mlp_macro_opt_preds))\n",
        "sns.heatmap(mlp_macro_opt_cm.T, square=True, annot=True, fmt='d', cbar=False);"
      ],
      "execution_count": null,
      "outputs": [
        {
          "output_type": "stream",
          "text": [
            "0.9361355843860995\n",
            "Συνολικός χρόνος fit και predict: 2.9421825408935547 seconds\n",
            "              precision    recall  f1-score   support\n",
            "\n",
            "           0       0.98      0.94      0.96        50\n",
            "           1       0.91      0.96      0.93        50\n",
            "           2       0.96      0.92      0.94        52\n",
            "           3       0.96      0.88      0.92        57\n",
            "           4       0.92      0.98      0.95        48\n",
            "           5       0.93      0.98      0.96        55\n",
            "           6       1.00      0.95      0.97        40\n",
            "           7       0.93      0.89      0.91        44\n",
            "           8       0.94      0.98      0.96        45\n",
            "           9       0.85      0.89      0.87        37\n",
            "\n",
            "    accuracy                           0.94       478\n",
            "   macro avg       0.94      0.94      0.94       478\n",
            "weighted avg       0.94      0.94      0.94       478\n",
            "\n"
          ],
          "name": "stdout"
        },
        {
          "output_type": "display_data",
          "data": {
            "image/png": "[encoded data removed]",
            "text/plain": [
              "<Figure size 432x288 with 1 Axes>"
            ]
          },
          "metadata": {
            "tags": []
          }
        }
      ]
    },
    {
      "cell_type": "markdown",
      "metadata": {
        "id": "hp2cq_M82ATa"
      },
      "source": [
        "**F1-Micro Optimized MLP**\n",
        "\n",
        "* VarianceThreshold\n",
        "* StandardScaler\n",
        "* PCA: n_components = 44\n",
        "* MLP: activation='relu',solver='adam',alpha=1e-4,hidden_layer_sizes=(650,),max_iter=1000"
      ]
    },
    {
      "cell_type": "code",
      "metadata": {
        "colab": {
          "base_uri": "https://localhost:8080/",
          "height": 580
        },
        "id": "lmO5B7Pr_-Cr",
        "outputId": "f37b0870-718d-4452-8582-f3eadace7d67"
      },
      "source": [
        "selector = VarianceThreshold()\n",
        "scaler = StandardScaler()\n",
        "pca = PCA(n_components=44)\n",
        "mlp = MLPClassifier(activation='relu',solver='adam',alpha=1e-4,hidden_layer_sizes=(650,),max_iter=1000)\n",
        "pipe = Pipeline(steps=[('selector', selector), ('scaler', scaler), ('pca', pca), ('MLP', mlp)])\n",
        "start_time = time.time()\n",
        "pipe.fit(train,unbin_train_labels)\n",
        "mlp_micro_opt_preds = pipe.predict(test)\n",
        "end_time = time.time()\n",
        "mlp_micro_opt_accuracy = pipe.score(test, unbin_test_labels) \n",
        "mlp_micro_opt_f1_micro = f1_score(unbin_test_labels, mlp_micro_opt_preds, average='micro')\n",
        "mlp_micro_opt_f1_macro = f1_score(unbin_test_labels, mlp_micro_opt_preds, average='macro')\n",
        "mlp_micro_opt_cm = confusion_matrix(unbin_test_labels, mlp_micro_opt_preds)\n",
        "mlp_micro_opt_time = end_time - start_time\n",
        "print(mlp_micro_opt_f1_micro)\n",
        "print(\"Συνολικός χρόνος fit και predict: %s seconds\" % (end_time - start_time))\n",
        "print(classification_report(unbin_test_labels,mlp_micro_opt_preds))\n",
        "sns.heatmap(mlp_micro_opt_cm.T, square=True, annot=True, fmt='d', cbar=False);"
      ],
      "execution_count": null,
      "outputs": [
        {
          "output_type": "stream",
          "text": [
            "0.9309623430962343\n",
            "Συνολικός χρόνος fit και predict: 3.460418701171875 seconds\n",
            "              precision    recall  f1-score   support\n",
            "\n",
            "           0       0.98      0.94      0.96        50\n",
            "           1       0.89      0.96      0.92        50\n",
            "           2       0.96      0.96      0.96        52\n",
            "           3       0.96      0.86      0.91        57\n",
            "           4       0.92      0.98      0.95        48\n",
            "           5       0.90      0.96      0.93        55\n",
            "           6       1.00      0.95      0.97        40\n",
            "           7       0.88      0.86      0.87        44\n",
            "           8       0.96      0.96      0.96        45\n",
            "           9       0.86      0.86      0.86        37\n",
            "\n",
            "    accuracy                           0.93       478\n",
            "   macro avg       0.93      0.93      0.93       478\n",
            "weighted avg       0.93      0.93      0.93       478\n",
            "\n"
          ],
          "name": "stdout"
        },
        {
          "output_type": "display_data",
          "data": {
            "image/png": "[encoded data removed]",
            "text/plain": [
              "<Figure size 432x288 with 1 Axes>"
            ]
          },
          "metadata": {
            "tags": []
          }
        }
      ]
    },
    {
      "cell_type": "markdown",
      "metadata": {
        "id": "rfoqfr1TYs5l"
      },
      "source": [
        "Και τα δύο optimizations λειτουργούν πολύ καλά, με το f1-macro ιδιαίτερα να βελτιώνει τρομερά το f1-score του ψηφίου \"7\". Αξιοσημείωτο είναι το γεγονός πως το f1-score του ψηφίου «9» μειώθηκε και στα δύο optimizations."
      ]
    },
    {
      "cell_type": "markdown",
      "metadata": {
        "id": "quIPyGjah1iD"
      },
      "source": [
        "## Γενική παρατήρηση σχετικά με τις υπερπαραμέτρους\n",
        "\n",
        "Σε αυτό το σημείο θα θέλαμε να αναφέρουμε αν και πιθανώς να έχει γίνει ήδη εμφανές από τα παραπάνω πως οι βέλτιστοι συνδυασμοί υπερπαραμέτρων για optimizations ως προς f1-micro και f1-macro μπορεί να διαφέρουν **πολύ** μεταξύ τους."
      ]
    },
    {
      "cell_type": "markdown",
      "metadata": {
        "id": "PheB2rf4A7be"
      },
      "source": [
        "## F1 Comparison Bar Plots"
      ]
    },
    {
      "cell_type": "code",
      "metadata": {
        "id": "uAovpPsiA_Sh"
      },
      "source": [
        "x_labels = ['Dummy','GNB','KNN','LinearSVC','SVC','MLP']\n",
        "y_labels_macro = [dm_bench_f1_macro,gnb_macro_opt_f1_macro,knn_macro_opt_f1_macro,svc_lin_macro_opt_f1_macro,svc_macro_opt_f1_macro,mlp_macro_opt_f1_macro]\n",
        "y_labels_micro = [dm_bench_f1_micro ,gnb_macro_opt_f1_micro,knn_micro_opt_f1_micro,svc_lin_micro_opt_f1_micro,svc_micro_opt_f1_micro,mlp_micro_opt_f1_micro]"
      ],
      "execution_count": null,
      "outputs": []
    },
    {
      "cell_type": "code",
      "metadata": {
        "colab": {
          "base_uri": "https://localhost:8080/"
        },
        "id": "yetXlz_52N05",
        "outputId": "eb0b9687-903c-42b7-cb07-7bf483b20ea1"
      },
      "source": [
        "print('\\033[1m' + \"Χρόνοι εκτέλεσης: \" + '\\033[0m', '\\n')\n",
        "print(\"GNB:\")\n",
        "print(\"     'f1_micro': \", gnb_macro_opt_total_time, \"sec\")\n",
        "print(\"     'f1_macro': \", gnb_macro_opt_total_time, 'sec\\n')\n",
        "\n",
        "print(\"kNN:\")\n",
        "print(\"     'f1_micro': \", knn_micro_opt_total_time, \"sec\")\n",
        "print(\"     'f1_macro': \", knn_macro_opt_total_time, 'sec\\n')\n",
        "\n",
        "print(\"MLP:\")\n",
        "print(\"     'f1_micro': \", mlp_micro_opt_time, \"sec\")\n",
        "print(\"     'f1_macro': \", mlp_macro_opt_time, 'sec\\n')\n",
        "\n",
        "print(\"LinearSVC:\")\n",
        "print(\"     'f1_micro': \", svc_lin_micro_opt_total_time, \"sec\")\n",
        "print(\"     'f1_macro': \", svc_lin_macro_opt_total_time, 'sec\\n')\n",
        "\n",
        "print(\"SVC:\")\n",
        "print(\"     'f1_micro': \", svc_micro_opt_time, \"sec\")\n",
        "print(\"     'f1_macro': \", svc_macro_opt_time, 'sec\\n\\n\\n')\n",
        "\n",
        "\n"
      ],
      "execution_count": null,
      "outputs": [
        {
          "output_type": "stream",
          "text": [
            "\u001b[1mΧρόνοι εκτέλεσης: \u001b[0m \n",
            "\n",
            "GNB:\n",
            "     'f1_micro':  0.12144684791564941 sec\n",
            "     'f1_macro':  0.12144684791564941 sec\n",
            "\n",
            "kNN:\n",
            "     'f1_micro':  0.1295642852783203 sec\n",
            "     'f1_macro':  0.11293601989746094 sec\n",
            "\n",
            "MLP:\n",
            "     'f1_micro':  3.460418701171875 sec\n",
            "     'f1_macro':  2.9421825408935547 sec\n",
            "\n",
            "LinearSVC:\n",
            "     'f1_micro':  0.18732810020446777 sec\n",
            "     'f1_macro':  0.20388460159301758 sec\n",
            "\n",
            "SVC:\n",
            "     'f1_micro':  0.22371411323547363 sec\n",
            "     'f1_macro':  0.23400664329528809 sec\n",
            "\n",
            "\n",
            "\n"
          ],
          "name": "stdout"
        }
      ]
    },
    {
      "cell_type": "markdown",
      "metadata": {
        "id": "L3XcxD837RuC"
      },
      "source": [
        "Παρατηρούμε όπως αναφέραμε και νωρίτερα πως οι ταξινομητές **GΝΒ και KNN** απαιτούν σχεδόν 0.1 sec και για το λόγο αυτό είναι και δυνατή η εξαντλητική αναζήτηση με τη GridSearch, αφού και οι παράμετροι προς βελτιστοποίηση είναι λίγες.\n",
        "\n",
        "Οι **LinearSVC και SVC** απαιτούν περίπου το διπλάσιο χρόνο, σε συγκεκριμένες περιπτώσεις πυρήνα και αρκετά παραπάνω. Αυτό σε συνδυασμό με το μεγαλύτερο αριθμό παραμέτρων που έχουν προς βελτιστοποίηση καθιστά τη διαδικασία αναζήτησης με GridSearch εφικτή μεν αλλά απαιτητική δε.\n",
        "\n",
        "Τέλος, ο **MLP** απαιτεί περίπου 3 sec ή αλλιώς 30 περίπου φορές το χρόνο των πιο γρήγορων ταξινομητών. Αν λάβει κανείς υπόψιν του το μεγάλο αριθμ’ο υπερπαραμέτρων προς βελτίωση καταλαβαίνει πως η εξαντλητική αναζήτηση με GridSearch είναι μια διαδικασία χρονοβόρα και υπολογιστικά απαιτητική που καλό είναι να αποφύγει. Αντίθετα με αναζητήσεις σε πιο αραιά διαστήματα και ακολουθώντας τις τάσεις στις παραμέτρους είναι δυνατό να βρεθούν αρκετά ικανοποιητικά αποτελέσματα.\n",
        "\n"
      ]
    },
    {
      "cell_type": "code",
      "metadata": {
        "colab": {
          "base_uri": "https://localhost:8080/"
        },
        "id": "Mf8CYlDb7Er7",
        "outputId": "bf76b176-0752-4b3c-dcab-dae0d31b5929"
      },
      "source": [
        "\n",
        "print('\\033[1m' + \"Μεταβολή επίδοσης: \" + '\\033[0m','\\n')\n",
        "print(\"gnb:\")\n",
        "print(\"     F1-Micro πριν τη βελτιστοποίηση: \", round(gnb_bench_f1_micro*100,1),\"%\")\n",
        "print(\"     F1-Macro πριν τη βελτιστοποίηση: \", round(gnb_bench_f1_macro*100,1),\"%\")\n",
        "print(\"     F1-Micro μετά τη βελτιστοποίηση με 'f1_micro': \", round(gnb_macro_opt_f1_micro*100,1),\"%\")\n",
        "print(\"     F1-Macro μετά τη βελτιστοποίηση με 'f1_macro': \", round(gnb_macro_opt_f1_macro*100,1),'%\\n')\n",
        "print(\"     Βελτίωση με χρήση της 'f1_micro': \", round((gnb_macro_opt_f1_micro-gnb_bench_f1_micro)*100,1),\"%\")\n",
        "print(\"     Βελτίωση με χρήση της 'f1_macro': \", round((gnb_macro_opt_f1_macro-gnb_bench_f1_macro)*100,1),\"%\\n\")\n",
        "\n",
        "print(\"ΚΝΝ:\")\n",
        "print(\"     F1-Micro πριν τη βελτιστοποίηση: \", round(knn_bench_f1_micro*100,1),\"%\")\n",
        "print(\"     F1-Macro πριν τη βελτιστοποίηση: \", round(knn_bench_f1_macro*100,1),\"%\")\n",
        "print(\"     F1-Micro μετά τη βελτιστοποίηση με 'f1_micro': \", round(knn_micro_opt_f1_micro*100,1),\"%\")\n",
        "print(\"     F1-Macro μετά τη βελτιστοποίηση με 'f1_macro': \", round(knn_macro_opt_f1_macro*100,1),'%\\n')\n",
        "print(\"     Βελτίωση με χρήση της 'f1_micro': \", round((knn_micro_opt_f1_micro-knn_bench_f1_micro)*100,1),\"%\")\n",
        "print(\"     Βελτίωση με χρήση της 'f1_macro': \", round((knn_macro_opt_f1_macro-knn_bench_f1_macro)*100,1),\"%\\n\")\n",
        "\n",
        "\n",
        "print(\"MLP:\")\n",
        "print(\"     F1-Micro πριν τη βελτιστοποίηση: \", round(mlp_bench_f1_micro*100,1),\"%\")\n",
        "print(\"     F1-Macro πριν τη βελτιστοποίηση: \", round(mlp_bench_f1_macro*100,1),\"%\")\n",
        "print(\"     F1-Micro μετά τη βελτιστοποίηση με 'f1_micro': \", round(mlp_micro_opt_f1_micro*100,1),\"%\")\n",
        "print(\"     F1-Macro μετά τη βελτιστοποίηση με 'f1_macro': \", round(mlp_macro_opt_f1_macro*100,1),'%\\n')\n",
        "print(\"     Βελτίωση με χρήση της 'f1_micro': \", round((mlp_micro_opt_f1_micro-mlp_bench_f1_micro)*100,1),\"%\")\n",
        "print(\"     Βελτίωση με χρήση της 'f1_macro': \", round((mlp_macro_opt_f1_macro-mlp_bench_f1_macro)*100,1),\"%\\n\")\n",
        "\n",
        "print(\"LinearSVC:\")\n",
        "print(\"     F1-Micro πριν τη βελτιστοποίηση: \", round(svc_lin_bench_f1_micro*100,1),\"%\")\n",
        "print(\"     F1-Macro πριν τη βελτιστοποίηση: \", round(svc_lin_bench_f1_macro*100,1),\"%\")\n",
        "print(\"     F1-Micro μετά τη βελτιστοποίηση με 'f1_micro': \", round(svc_lin_micro_opt_f1_micro*100,1),\"%\")\n",
        "print(\"     F1-Macro μετά τη βελτιστοποίηση με 'f1_macro': \", round(svc_lin_macro_opt_f1_macro*100,1),'%\\n')\n",
        "print(\"     Βελτίωση με χρήση της 'f1_micro': \", round((svc_lin_micro_opt_f1_micro-svc_lin_bench_f1_micro)*100,1),\"%\")\n",
        "print(\"     Βελτίωση με χρήση της 'f1_macro': \", round((svc_lin_macro_opt_f1_macro-svc_lin_bench_f1_macro)*100,1),\"%\\n\")\n",
        "\n",
        "print(\"SVC:\")\n",
        "print(\"     F1-Micro πριν τη βελτιστοποίηση: \", round(svc_bench_f1_micro*100,1),\"%\")\n",
        "print(\"     F1-Macro πριν τη βελτιστοποίηση: \", round(svc_bench_f1_macro*100,1),\"%\")\n",
        "print(\"     F1-Micro μετά τη βελτιστοποίηση με 'f1_micro': \", round(svc_micro_opt_f1_micro*100,1),\"%\")\n",
        "print(\"     F1-Macro μετά τη βελτιστοποίηση με 'f1_macro': \", round(svc_macro_opt_f1_macro*100,1),'%\\n')\n",
        "print(\"     Βελτίωση με χρήση της 'f1_micro': \", round((svc_micro_opt_f1_micro-svc_bench_f1_micro)*100,1),\"%\")\n",
        "print(\"     Βελτίωση με χρήση της 'f1_macro': \", round((svc_macro_opt_f1_macro-svc_bench_f1_macro)*100,1),\"%\\n\")\n",
        "\n",
        "\n"
      ],
      "execution_count": null,
      "outputs": [
        {
          "output_type": "stream",
          "text": [
            "\u001b[1mΜεταβολή επίδοσης: \u001b[0m \n",
            "\n",
            "gnb:\n",
            "     F1-Micro πριν τη βελτιστοποίηση:  73.8 %\n",
            "     F1-Macro πριν τη βελτιστοποίηση:  73.8 %\n",
            "     F1-Micro μετά τη βελτιστοποίηση με 'f1_micro':  87.2 %\n",
            "     F1-Macro μετά τη βελτιστοποίηση με 'f1_macro':  87.0 %\n",
            "\n",
            "     Βελτίωση με χρήση της 'f1_micro':  13.4 %\n",
            "     Βελτίωση με χρήση της 'f1_macro':  13.2 %\n",
            "\n",
            "ΚΝΝ:\n",
            "     F1-Micro πριν τη βελτιστοποίηση:  90.4 %\n",
            "     F1-Macro πριν τη βελτιστοποίηση:  89.8 %\n",
            "     F1-Micro μετά τη βελτιστοποίηση με 'f1_micro':  93.7 %\n",
            "     F1-Macro μετά τη βελτιστοποίηση με 'f1_macro':  92.7 %\n",
            "\n",
            "     Βελτίωση με χρήση της 'f1_micro':  3.3 %\n",
            "     Βελτίωση με χρήση της 'f1_macro':  2.9 %\n",
            "\n",
            "MLP:\n",
            "     F1-Micro πριν τη βελτιστοποίηση:  90.6 %\n",
            "     F1-Macro πριν τη βελτιστοποίηση:  90.6 %\n",
            "     F1-Micro μετά τη βελτιστοποίηση με 'f1_micro':  93.1 %\n",
            "     F1-Macro μετά τη βελτιστοποίηση με 'f1_macro':  93.6 %\n",
            "\n",
            "     Βελτίωση με χρήση της 'f1_micro':  2.5 %\n",
            "     Βελτίωση με χρήση της 'f1_macro':  3.0 %\n",
            "\n",
            "LinearSVC:\n",
            "     F1-Micro πριν τη βελτιστοποίηση:  86.0 %\n",
            "     F1-Macro πριν τη βελτιστοποίηση:  85.6 %\n",
            "     F1-Micro μετά τη βελτιστοποίηση με 'f1_micro':  89.3 %\n",
            "     F1-Macro μετά τη βελτιστοποίηση με 'f1_macro':  91.5 %\n",
            "\n",
            "     Βελτίωση με χρήση της 'f1_micro':  3.3 %\n",
            "     Βελτίωση με χρήση της 'f1_macro':  5.9 %\n",
            "\n",
            "SVC:\n",
            "     F1-Micro πριν τη βελτιστοποίηση:  95.6 %\n",
            "     F1-Macro πριν τη βελτιστοποίηση:  95.5 %\n",
            "     F1-Micro μετά τη βελτιστοποίηση με 'f1_micro':  96.0 %\n",
            "     F1-Macro μετά τη βελτιστοποίηση με 'f1_macro':  95.7 %\n",
            "\n",
            "     Βελτίωση με χρήση της 'f1_micro':  0.4 %\n",
            "     Βελτίωση με χρήση της 'f1_macro':  0.2 %\n",
            "\n"
          ],
          "name": "stdout"
        }
      ]
    },
    {
      "cell_type": "markdown",
      "metadata": {
        "id": "nDEDwusIZTlv"
      },
      "source": [
        "Παραπάνω παρατηρούμε τα εξής:\n",
        "\n",
        "* Ο **SVC**, ο οποίος είναι και ο καλύτερος ταξινομητής και ως προς τις 2 (f1-micro,f1-macro)  μετρικές καταφέρνει χωρίς καμία προεπεξεργασία και παραμετροποίηση να ανταπεξέλθει εξαιρετικά στα δεδομένα. Η προεπεξεργασία και η παραμετροποίηση βελτιώνουν μεν τον ταξινομητή, προκαλούν δε ελάχιστες διαφορές.\n",
        "\n",
        "*\tΟι **KNN και MLP** έχουν αρκετά καλά αρχικά αποτελέσματα αλλά η εισαγωγή προεπεξεργασίας και παραμετροποίησης τους βελτιώνει αισθητά κατά περίπου 3% στις μετρικές που εξετάζουμε.\n",
        "*\tΟ **Linear SVC** μπορεί να μην φτάνει ακριβώς στα ίδια επίπεδα με τους προηγούμενους ταξινομητές αλλά η προεπξεργασία και η παραμετροποίηση φαίνεται να τον βοηθά πολύ, καθώς πετυχαίνουμε αρκετά μεγάλες αυξήσεις και στις δύο μετρικές.\n",
        "*\tΤέλος, ο **GNB** βελτιώνεται τρομερά με τη μείωση της διαστατικότητας, πράγμα που δείχνει πως η μέθοδος αυτή μπορεί να αποδώσει καλύτερα όταν υπάρχουν λιγότερα χαρακτηριστικά με μεγαλύτερη σημασία.\n"
      ]
    },
    {
      "cell_type": "code",
      "metadata": {
        "colab": {
          "base_uri": "https://localhost:8080/",
          "height": 428
        },
        "id": "8Lr795hBBkXB",
        "outputId": "4bc6fe68-40cc-487b-fa75-e075b535d97b"
      },
      "source": [
        "print('\\033[1m' + \"Σύγκριση ταξινομητών ανά μετρική: \" + '\\033[0m','\\n')\n",
        "data = {'dummy': [dm_bench_f1_micro, dm_bench_f1_macro],\n",
        "        'gnb': [gnb_macro_opt_f1_micro, gnb_macro_opt_f1_macro],\n",
        "        'kNN': [knn_micro_opt_f1_micro,knn_macro_opt_f1_macro],\n",
        "        'MLP': [mlp_micro_opt_f1_micro,mlp_macro_opt_f1_macro],\n",
        "        'LinearSVC': [svc_lin_micro_opt_f1_micro, svc_lin_macro_opt_f1_macro],\n",
        "        'SVC': [svc_micro_opt_f1_micro, svc_macro_opt_f1_macro],\n",
        "        'metric': ['f1_micro','f1_macro']}\n",
        "dataframe = pd.DataFrame(data, columns = ['dummy','gnb','kNN','MLP','LinearSVC','SVC','metric'])\n",
        "df = pd.melt(dataframe, id_vars=\"metric\", var_name=\"Classifier\", value_name=\"score\")\n",
        "fig_dims = (16, 6)\n",
        "fig, ax = plt.subplots(figsize=fig_dims)\n",
        "sns.barplot(x='metric', y='score', hue='Classifier', data=df);\n"
      ],
      "execution_count": null,
      "outputs": [
        {
          "output_type": "stream",
          "text": [
            "\u001b[1mΣύγκριση ταξινομητών ανά μετρική: \u001b[0m \n",
            "\n"
          ],
          "name": "stdout"
        },
        {
          "output_type": "display_data",
          "data": {
            "image/png": "[encoded data removed]",
            "text/plain": [
              "<Figure size 1152x432 with 1 Axes>"
            ]
          },
          "metadata": {
            "tags": []
          }
        }
      ]
    },
    {
      "cell_type": "code",
      "metadata": {
        "id": "i_jUzl3DFBmt"
      },
      "source": [
        ""
      ],
      "execution_count": null,
      "outputs": []
    }
  ]
}